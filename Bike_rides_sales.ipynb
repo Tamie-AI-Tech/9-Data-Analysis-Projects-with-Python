{
 "cells": [
  {
   "cell_type": "markdown",
   "id": "41ecf99b",
   "metadata": {},
   "source": [
    "### Title: Bike_rides Real world Project with python\n",
    "\n",
    "\n",
    "\n",
    "\n",
    "* #### LinkedIn profile Link: [My LinkedIn Profile](https://www.linkedin.com/in/tamiriraishe-nyevera-2b51671b5/)\n",
    "\n",
    "\n",
    "* #### Github Link: [Github profile](https://github.com/Tamie-AI-Tech)\n",
    "\n",
    "* #### Kaggle Link: [Kaggle Profile](https://www.kaggle.com/tamiriraishenyevera)\n",
    "\n",
    "* #### PowerBI visualisation imbedded code:[Power data Viz link](https://app.powerbi.com/view?r=eyJrIjoiMzgzOGY4OTQtOWM0NS00YTM2LWI1ZDYtZWVjZTc0YzRhNGFhIiwidCI6IjQ0ZGJiOWQ3LTM3N2QtNDBkZS1hZGI4LTYzNTlkYWQ4MTBiZiJ9)"
   ]
  },
  {
   "cell_type": "markdown",
   "id": "59d0c767",
   "metadata": {},
   "source": [
    "#### Introduction"
   ]
  },
  {
   "cell_type": "markdown",
   "id": "bd0ebf9b",
   "metadata": {},
   "source": [
    "* The bike rides sales dataset shows different people who have bought the bikes, taking into consideration the number of kids, they have, weather have cars or not, income their location, travelliing miles all those factors determine, if a person buys, the bike or not. This helps the understand its target markets\n",
    "\n",
    "\n",
    "* The data is a csv file and analysis is done using pandas \n",
    "\n",
    "* The data will be saved and exported to power bi for good visualisations\n",
    "\n",
    "* matplotlib will be used for some data visualisations to get the inisghts of the data"
   ]
  },
  {
   "cell_type": "markdown",
   "id": "7df07a93",
   "metadata": {},
   "source": [
    "#### Questions to answer"
   ]
  },
  {
   "cell_type": "markdown",
   "id": "91059c58",
   "metadata": {},
   "source": [
    "These Questions will be answered under phase3: of the data analysis \n",
    "\n",
    "* How many people are married and single\n",
    "* Number of females and Males\n",
    "* How many males and females that are married and single\n",
    "* number of female who are single that have bought the bike and not bought the bike\n",
    "* number of males married having bought bikes yet owning cars\n",
    "* Which age is married and has bought a lot of bicycles\n",
    "* Which Region has people with highest number of bicycles bought by married female\n",
    "* How many Females with children and cars and have bought the bicycles\n",
    "* How many Females with children and no cars and have bought the bicycles\n",
    "\n",
    "* Does commuting distance affect people buying bicycles\n",
    "* which age group has bought more biclycles\n",
    "* Does education help in buying of biclycles\n",
    "* Which region has more parents with children buying bicyles\n",
    "* Does owning cars have any effect on buying of bicycles\n",
    "\n",
    "These questions ave been developed by the aurthor to help tell the story"
   ]
  },
  {
   "cell_type": "code",
   "execution_count": null,
   "id": "87357339",
   "metadata": {},
   "outputs": [],
   "source": []
  },
  {
   "cell_type": "markdown",
   "id": "7d9cae2a",
   "metadata": {},
   "source": [
    "# Phase 1: Data Preparation"
   ]
  },
  {
   "cell_type": "markdown",
   "id": "1a6fcbe8",
   "metadata": {},
   "source": [
    "This step involves data importation from different sources, libraries import and also the general over view of data to be used is given\n",
    "\n",
    "\n"
   ]
  },
  {
   "cell_type": "code",
   "execution_count": 1,
   "id": "6e78a06e",
   "metadata": {},
   "outputs": [],
   "source": [
    "import pandas as pd               #for data loading and manipulation\n",
    "\n",
    "import numpy as np                #for stastical analysis\n",
    "\n",
    "import matplotlib.pyplot as plt        #for data visualisation\n",
    "\n",
    "import seaborn as sns\n",
    "\n",
    "import matplotlib\n",
    "%matplotlib inline "
   ]
  },
  {
   "cell_type": "markdown",
   "id": "1c17f21a",
   "metadata": {},
   "source": [
    "import the data from the local machine"
   ]
  },
  {
   "cell_type": "code",
   "execution_count": 2,
   "id": "8b041639",
   "metadata": {},
   "outputs": [],
   "source": [
    "na_vals = ['nan', 'NaN', ' ', ' missing', 'Missing', 'naN']     # a list containing all the values to be deemed as null values\n",
    "df = pd.read_excel(r\"C:\\Users\\Tamie\\Downloads\\Excel Project Dataset.xlsx\", na_values= na_vals)\n",
    "\n",
    "\n",
    "#take note of the dataset directory, click on the dataset that needs to be imported and copy path or\n",
    "#go to properties >> right click on the dataset >> security >> copy the path that shows beneath\n",
    "#take note, on both cases insert r before the path directory.\n",
    "\n",
    "#on this following method inputting r doesnt matter\n",
    "#import the in the jupyter notebook folder you wroking on and copy the name of the dataset hence insert it in the parentheses"
   ]
  },
  {
   "cell_type": "code",
   "execution_count": 3,
   "id": "f43b2733",
   "metadata": {},
   "outputs": [
    {
     "data": {
      "text/html": [
       "<div>\n",
       "<style scoped>\n",
       "    .dataframe tbody tr th:only-of-type {\n",
       "        vertical-align: middle;\n",
       "    }\n",
       "\n",
       "    .dataframe tbody tr th {\n",
       "        vertical-align: top;\n",
       "    }\n",
       "\n",
       "    .dataframe thead th {\n",
       "        text-align: right;\n",
       "    }\n",
       "</style>\n",
       "<table border=\"1\" class=\"dataframe\">\n",
       "  <thead>\n",
       "    <tr style=\"text-align: right;\">\n",
       "      <th></th>\n",
       "      <th>ID</th>\n",
       "      <th>Marital Status</th>\n",
       "      <th>Gender</th>\n",
       "      <th>Income</th>\n",
       "      <th>Children</th>\n",
       "      <th>Education</th>\n",
       "      <th>Occupation</th>\n",
       "      <th>Home Owner</th>\n",
       "      <th>Cars</th>\n",
       "      <th>Commute Distance</th>\n",
       "      <th>Region</th>\n",
       "      <th>Age</th>\n",
       "      <th>Purchased Bike</th>\n",
       "    </tr>\n",
       "  </thead>\n",
       "  <tbody>\n",
       "    <tr>\n",
       "      <th>0</th>\n",
       "      <td>12496</td>\n",
       "      <td>M</td>\n",
       "      <td>F</td>\n",
       "      <td>40000</td>\n",
       "      <td>1</td>\n",
       "      <td>Bachelors</td>\n",
       "      <td>Skilled Manual</td>\n",
       "      <td>Yes</td>\n",
       "      <td>0</td>\n",
       "      <td>0-1 Miles</td>\n",
       "      <td>Europe</td>\n",
       "      <td>42</td>\n",
       "      <td>No</td>\n",
       "    </tr>\n",
       "    <tr>\n",
       "      <th>1</th>\n",
       "      <td>24107</td>\n",
       "      <td>M</td>\n",
       "      <td>M</td>\n",
       "      <td>30000</td>\n",
       "      <td>3</td>\n",
       "      <td>Partial College</td>\n",
       "      <td>Clerical</td>\n",
       "      <td>Yes</td>\n",
       "      <td>1</td>\n",
       "      <td>0-1 Miles</td>\n",
       "      <td>Europe</td>\n",
       "      <td>43</td>\n",
       "      <td>No</td>\n",
       "    </tr>\n",
       "    <tr>\n",
       "      <th>2</th>\n",
       "      <td>14177</td>\n",
       "      <td>M</td>\n",
       "      <td>M</td>\n",
       "      <td>80000</td>\n",
       "      <td>5</td>\n",
       "      <td>Partial College</td>\n",
       "      <td>Professional</td>\n",
       "      <td>No</td>\n",
       "      <td>2</td>\n",
       "      <td>2-5 Miles</td>\n",
       "      <td>Europe</td>\n",
       "      <td>60</td>\n",
       "      <td>No</td>\n",
       "    </tr>\n",
       "    <tr>\n",
       "      <th>3</th>\n",
       "      <td>24381</td>\n",
       "      <td>S</td>\n",
       "      <td>M</td>\n",
       "      <td>70000</td>\n",
       "      <td>0</td>\n",
       "      <td>Bachelors</td>\n",
       "      <td>Professional</td>\n",
       "      <td>Yes</td>\n",
       "      <td>1</td>\n",
       "      <td>5-10 Miles</td>\n",
       "      <td>Pacific</td>\n",
       "      <td>41</td>\n",
       "      <td>Yes</td>\n",
       "    </tr>\n",
       "    <tr>\n",
       "      <th>4</th>\n",
       "      <td>25597</td>\n",
       "      <td>S</td>\n",
       "      <td>M</td>\n",
       "      <td>30000</td>\n",
       "      <td>0</td>\n",
       "      <td>Bachelors</td>\n",
       "      <td>Clerical</td>\n",
       "      <td>No</td>\n",
       "      <td>0</td>\n",
       "      <td>0-1 Miles</td>\n",
       "      <td>Europe</td>\n",
       "      <td>36</td>\n",
       "      <td>Yes</td>\n",
       "    </tr>\n",
       "  </tbody>\n",
       "</table>\n",
       "</div>"
      ],
      "text/plain": [
       "      ID Marital Status Gender  Income  Children        Education  \\\n",
       "0  12496              M      F   40000         1        Bachelors   \n",
       "1  24107              M      M   30000         3  Partial College   \n",
       "2  14177              M      M   80000         5  Partial College   \n",
       "3  24381              S      M   70000         0        Bachelors   \n",
       "4  25597              S      M   30000         0        Bachelors   \n",
       "\n",
       "       Occupation Home Owner  Cars Commute Distance   Region  Age  \\\n",
       "0  Skilled Manual        Yes     0        0-1 Miles   Europe   42   \n",
       "1        Clerical        Yes     1        0-1 Miles   Europe   43   \n",
       "2    Professional         No     2        2-5 Miles   Europe   60   \n",
       "3    Professional        Yes     1       5-10 Miles  Pacific   41   \n",
       "4        Clerical         No     0        0-1 Miles   Europe   36   \n",
       "\n",
       "  Purchased Bike  \n",
       "0             No  \n",
       "1             No  \n",
       "2             No  \n",
       "3            Yes  \n",
       "4            Yes  "
      ]
     },
     "execution_count": 3,
     "metadata": {},
     "output_type": "execute_result"
    }
   ],
   "source": [
    "#view the first 5 rows of the dataset\n",
    "df.head(5)"
   ]
  },
  {
   "cell_type": "code",
   "execution_count": 4,
   "id": "6f367f21",
   "metadata": {},
   "outputs": [
    {
     "data": {
      "text/plain": [
       "(1026, 13)"
      ]
     },
     "execution_count": 4,
     "metadata": {},
     "output_type": "execute_result"
    }
   ],
   "source": [
    "# check the number size of the dataset\n",
    "df.shape"
   ]
  },
  {
   "cell_type": "markdown",
   "id": "5d2cda03",
   "metadata": {},
   "source": [
    "The dataset contains 1026 rows and 13 columns"
   ]
  },
  {
   "cell_type": "code",
   "execution_count": 5,
   "id": "7901abea",
   "metadata": {},
   "outputs": [
    {
     "data": {
      "text/html": [
       "<div>\n",
       "<style scoped>\n",
       "    .dataframe tbody tr th:only-of-type {\n",
       "        vertical-align: middle;\n",
       "    }\n",
       "\n",
       "    .dataframe tbody tr th {\n",
       "        vertical-align: top;\n",
       "    }\n",
       "\n",
       "    .dataframe thead th {\n",
       "        text-align: right;\n",
       "    }\n",
       "</style>\n",
       "<table border=\"1\" class=\"dataframe\">\n",
       "  <thead>\n",
       "    <tr style=\"text-align: right;\">\n",
       "      <th></th>\n",
       "      <th>0</th>\n",
       "    </tr>\n",
       "  </thead>\n",
       "  <tbody>\n",
       "    <tr>\n",
       "      <th>ID</th>\n",
       "      <td>ID</td>\n",
       "    </tr>\n",
       "    <tr>\n",
       "      <th>Marital Status</th>\n",
       "      <td>Marital Status</td>\n",
       "    </tr>\n",
       "    <tr>\n",
       "      <th>Gender</th>\n",
       "      <td>Gender</td>\n",
       "    </tr>\n",
       "    <tr>\n",
       "      <th>Income</th>\n",
       "      <td>Income</td>\n",
       "    </tr>\n",
       "    <tr>\n",
       "      <th>Children</th>\n",
       "      <td>Children</td>\n",
       "    </tr>\n",
       "    <tr>\n",
       "      <th>Education</th>\n",
       "      <td>Education</td>\n",
       "    </tr>\n",
       "    <tr>\n",
       "      <th>Occupation</th>\n",
       "      <td>Occupation</td>\n",
       "    </tr>\n",
       "    <tr>\n",
       "      <th>Home Owner</th>\n",
       "      <td>Home Owner</td>\n",
       "    </tr>\n",
       "    <tr>\n",
       "      <th>Cars</th>\n",
       "      <td>Cars</td>\n",
       "    </tr>\n",
       "    <tr>\n",
       "      <th>Commute Distance</th>\n",
       "      <td>Commute Distance</td>\n",
       "    </tr>\n",
       "    <tr>\n",
       "      <th>Region</th>\n",
       "      <td>Region</td>\n",
       "    </tr>\n",
       "    <tr>\n",
       "      <th>Age</th>\n",
       "      <td>Age</td>\n",
       "    </tr>\n",
       "    <tr>\n",
       "      <th>Purchased Bike</th>\n",
       "      <td>Purchased Bike</td>\n",
       "    </tr>\n",
       "  </tbody>\n",
       "</table>\n",
       "</div>"
      ],
      "text/plain": [
       "                                 0\n",
       "ID                              ID\n",
       "Marital Status      Marital Status\n",
       "Gender                      Gender\n",
       "Income                      Income\n",
       "Children                  Children\n",
       "Education                Education\n",
       "Occupation              Occupation\n",
       "Home Owner              Home Owner\n",
       "Cars                          Cars\n",
       "Commute Distance  Commute Distance\n",
       "Region                      Region\n",
       "Age                            Age\n",
       "Purchased Bike      Purchased Bike"
      ]
     },
     "execution_count": 5,
     "metadata": {},
     "output_type": "execute_result"
    }
   ],
   "source": [
    "#check the number \n",
    "df.columns.to_frame()"
   ]
  },
  {
   "cell_type": "code",
   "execution_count": 10,
   "id": "f0096048",
   "metadata": {},
   "outputs": [
    {
     "data": {
      "text/plain": [
       "ID                   int64\n",
       "Marital Status      object\n",
       "Gender              object\n",
       "Income               int64\n",
       "Children             int64\n",
       "Education           object\n",
       "Occupation          object\n",
       "Home Owner          object\n",
       "Cars                 int64\n",
       "Commute Distance    object\n",
       "Region              object\n",
       "Age                  int64\n",
       "Purchased Bike      object\n",
       "dtype: object"
      ]
     },
     "execution_count": 10,
     "metadata": {},
     "output_type": "execute_result"
    }
   ],
   "source": [
    "#the data types of the columns\n",
    "df.dtypes"
   ]
  },
  {
   "cell_type": "markdown",
   "id": "b23c771a",
   "metadata": {},
   "source": [
    "# Phase 2: Data Processing "
   ]
  },
  {
   "cell_type": "markdown",
   "id": "7d2acfd6",
   "metadata": {},
   "source": [
    "This step involves all the cleaning, transforming and processing of data"
   ]
  },
  {
   "cell_type": "markdown",
   "id": "3ff896aa",
   "metadata": {},
   "source": [
    "### Step 1: Check for data duplicates"
   ]
  },
  {
   "cell_type": "code",
   "execution_count": 11,
   "id": "a8accfc5",
   "metadata": {},
   "outputs": [
    {
     "data": {
      "text/plain": [
       "0       False\n",
       "1       False\n",
       "2       False\n",
       "3       False\n",
       "4       False\n",
       "        ...  \n",
       "1021     True\n",
       "1022     True\n",
       "1023     True\n",
       "1024     True\n",
       "1025     True\n",
       "Length: 1026, dtype: bool"
      ]
     },
     "execution_count": 11,
     "metadata": {},
     "output_type": "execute_result"
    }
   ],
   "source": [
    "df.duplicated()    #showing all the duplicates however some may not be shown since tey are contained within "
   ]
  },
  {
   "cell_type": "markdown",
   "id": "13372244",
   "metadata": {},
   "source": [
    "The true values retained shows the rows that are duplicated"
   ]
  },
  {
   "cell_type": "code",
   "execution_count": 12,
   "id": "a5c54b47",
   "metadata": {},
   "outputs": [
    {
     "data": {
      "text/plain": [
       "26"
      ]
     },
     "execution_count": 12,
     "metadata": {},
     "output_type": "execute_result"
    }
   ],
   "source": [
    "df.duplicated().sum()       #summng up all duplicated values, the rows retainign true actually shows the \n",
    "                                                  # the duplicated values"
   ]
  },
  {
   "cell_type": "markdown",
   "id": "3f9c6c5b",
   "metadata": {},
   "source": [
    "There are 26 rows that are duplicated"
   ]
  },
  {
   "cell_type": "markdown",
   "id": "a792efd8",
   "metadata": {},
   "source": [
    "#### Drop the duplicates"
   ]
  },
  {
   "cell_type": "code",
   "execution_count": 13,
   "id": "8edc2eee",
   "metadata": {},
   "outputs": [],
   "source": [
    "df.drop_duplicates(inplace=True)    #inplace = True make changes to the entire dataset"
   ]
  },
  {
   "cell_type": "code",
   "execution_count": 14,
   "id": "9c9b4460",
   "metadata": {},
   "outputs": [
    {
     "data": {
      "text/plain": [
       "(1000, 13)"
      ]
     },
     "execution_count": 14,
     "metadata": {},
     "output_type": "execute_result"
    }
   ],
   "source": [
    "df.shape"
   ]
  },
  {
   "cell_type": "markdown",
   "id": "1cd6003b",
   "metadata": {},
   "source": [
    "The number of rows have been reduced from 1026 to 1000, after droping the duplicated values"
   ]
  },
  {
   "cell_type": "markdown",
   "id": "d459d3e3",
   "metadata": {},
   "source": [
    "### Step 2: Make the Data more understandable for columns in gender and marital statues"
   ]
  },
  {
   "cell_type": "code",
   "execution_count": 15,
   "id": "35b4e2be",
   "metadata": {},
   "outputs": [
    {
     "data": {
      "text/html": [
       "<div>\n",
       "<style scoped>\n",
       "    .dataframe tbody tr th:only-of-type {\n",
       "        vertical-align: middle;\n",
       "    }\n",
       "\n",
       "    .dataframe tbody tr th {\n",
       "        vertical-align: top;\n",
       "    }\n",
       "\n",
       "    .dataframe thead th {\n",
       "        text-align: right;\n",
       "    }\n",
       "</style>\n",
       "<table border=\"1\" class=\"dataframe\">\n",
       "  <thead>\n",
       "    <tr style=\"text-align: right;\">\n",
       "      <th></th>\n",
       "      <th>ID</th>\n",
       "      <th>Marital Status</th>\n",
       "      <th>Gender</th>\n",
       "      <th>Income</th>\n",
       "      <th>Children</th>\n",
       "      <th>Education</th>\n",
       "      <th>Occupation</th>\n",
       "      <th>Home Owner</th>\n",
       "      <th>Cars</th>\n",
       "      <th>Commute Distance</th>\n",
       "      <th>Region</th>\n",
       "      <th>Age</th>\n",
       "      <th>Purchased Bike</th>\n",
       "    </tr>\n",
       "  </thead>\n",
       "  <tbody>\n",
       "    <tr>\n",
       "      <th>0</th>\n",
       "      <td>12496</td>\n",
       "      <td>M</td>\n",
       "      <td>F</td>\n",
       "      <td>40000</td>\n",
       "      <td>1</td>\n",
       "      <td>Bachelors</td>\n",
       "      <td>Skilled Manual</td>\n",
       "      <td>Yes</td>\n",
       "      <td>0</td>\n",
       "      <td>0-1 Miles</td>\n",
       "      <td>Europe</td>\n",
       "      <td>42</td>\n",
       "      <td>No</td>\n",
       "    </tr>\n",
       "    <tr>\n",
       "      <th>1</th>\n",
       "      <td>24107</td>\n",
       "      <td>M</td>\n",
       "      <td>M</td>\n",
       "      <td>30000</td>\n",
       "      <td>3</td>\n",
       "      <td>Partial College</td>\n",
       "      <td>Clerical</td>\n",
       "      <td>Yes</td>\n",
       "      <td>1</td>\n",
       "      <td>0-1 Miles</td>\n",
       "      <td>Europe</td>\n",
       "      <td>43</td>\n",
       "      <td>No</td>\n",
       "    </tr>\n",
       "  </tbody>\n",
       "</table>\n",
       "</div>"
      ],
      "text/plain": [
       "      ID Marital Status Gender  Income  Children        Education  \\\n",
       "0  12496              M      F   40000         1        Bachelors   \n",
       "1  24107              M      M   30000         3  Partial College   \n",
       "\n",
       "       Occupation Home Owner  Cars Commute Distance  Region  Age  \\\n",
       "0  Skilled Manual        Yes     0        0-1 Miles  Europe   42   \n",
       "1        Clerical        Yes     1        0-1 Miles  Europe   43   \n",
       "\n",
       "  Purchased Bike  \n",
       "0             No  \n",
       "1             No  "
      ]
     },
     "execution_count": 15,
     "metadata": {},
     "output_type": "execute_result"
    }
   ],
   "source": [
    "#view the dataset first 2 rows\n",
    "df.head(2)"
   ]
  },
  {
   "cell_type": "markdown",
   "id": "b5e31525",
   "metadata": {},
   "source": [
    "The data entered in the marital Status and Gender need to give out more meaning that is what does M, s, F mean"
   ]
  },
  {
   "cell_type": "markdown",
   "id": "562aedc5",
   "metadata": {},
   "source": [
    "#### Replace the values"
   ]
  },
  {
   "cell_type": "code",
   "execution_count": 16,
   "id": "41fd029b",
   "metadata": {},
   "outputs": [
    {
     "data": {
      "text/plain": [
       "array(['M', 'S'], dtype=object)"
      ]
     },
     "execution_count": 16,
     "metadata": {},
     "output_type": "execute_result"
    }
   ],
   "source": [
    "# check all the unique values that can be replaced for marital status\n",
    "df['Marital Status'].unique()"
   ]
  },
  {
   "cell_type": "markdown",
   "id": "b915b4b4",
   "metadata": {},
   "source": [
    "M is for married and S is for single"
   ]
  },
  {
   "cell_type": "code",
   "execution_count": 17,
   "id": "0f6c0959",
   "metadata": {},
   "outputs": [
    {
     "data": {
      "text/plain": [
       "array(['F', 'M'], dtype=object)"
      ]
     },
     "execution_count": 17,
     "metadata": {},
     "output_type": "execute_result"
    }
   ],
   "source": [
    "# check all the unique values that can be replaced for Gender\n",
    "df['Gender'].unique()"
   ]
  },
  {
   "cell_type": "markdown",
   "id": "2a8ef058",
   "metadata": {},
   "source": [
    "F is for female and M is for Male"
   ]
  },
  {
   "cell_type": "code",
   "execution_count": 18,
   "id": "eae4c9a6",
   "metadata": {},
   "outputs": [],
   "source": [
    "df['Marital Status'].replace({'M': 'Married', 'S': 'Single'},inplace=True)\n"
   ]
  },
  {
   "cell_type": "code",
   "execution_count": 19,
   "id": "c3120e5f",
   "metadata": {},
   "outputs": [],
   "source": [
    "df['Gender'].replace({'M': 'Male', 'F': 'Female'},inplace=True)"
   ]
  },
  {
   "cell_type": "code",
   "execution_count": 20,
   "id": "332bfd2f",
   "metadata": {},
   "outputs": [
    {
     "data": {
      "text/html": [
       "<div>\n",
       "<style scoped>\n",
       "    .dataframe tbody tr th:only-of-type {\n",
       "        vertical-align: middle;\n",
       "    }\n",
       "\n",
       "    .dataframe tbody tr th {\n",
       "        vertical-align: top;\n",
       "    }\n",
       "\n",
       "    .dataframe thead th {\n",
       "        text-align: right;\n",
       "    }\n",
       "</style>\n",
       "<table border=\"1\" class=\"dataframe\">\n",
       "  <thead>\n",
       "    <tr style=\"text-align: right;\">\n",
       "      <th></th>\n",
       "      <th>ID</th>\n",
       "      <th>Marital Status</th>\n",
       "      <th>Gender</th>\n",
       "      <th>Income</th>\n",
       "      <th>Children</th>\n",
       "      <th>Education</th>\n",
       "      <th>Occupation</th>\n",
       "      <th>Home Owner</th>\n",
       "      <th>Cars</th>\n",
       "      <th>Commute Distance</th>\n",
       "      <th>Region</th>\n",
       "      <th>Age</th>\n",
       "      <th>Purchased Bike</th>\n",
       "    </tr>\n",
       "  </thead>\n",
       "  <tbody>\n",
       "    <tr>\n",
       "      <th>0</th>\n",
       "      <td>12496</td>\n",
       "      <td>Married</td>\n",
       "      <td>Female</td>\n",
       "      <td>40000</td>\n",
       "      <td>1</td>\n",
       "      <td>Bachelors</td>\n",
       "      <td>Skilled Manual</td>\n",
       "      <td>Yes</td>\n",
       "      <td>0</td>\n",
       "      <td>0-1 Miles</td>\n",
       "      <td>Europe</td>\n",
       "      <td>42</td>\n",
       "      <td>No</td>\n",
       "    </tr>\n",
       "    <tr>\n",
       "      <th>1</th>\n",
       "      <td>24107</td>\n",
       "      <td>Married</td>\n",
       "      <td>Male</td>\n",
       "      <td>30000</td>\n",
       "      <td>3</td>\n",
       "      <td>Partial College</td>\n",
       "      <td>Clerical</td>\n",
       "      <td>Yes</td>\n",
       "      <td>1</td>\n",
       "      <td>0-1 Miles</td>\n",
       "      <td>Europe</td>\n",
       "      <td>43</td>\n",
       "      <td>No</td>\n",
       "    </tr>\n",
       "    <tr>\n",
       "      <th>2</th>\n",
       "      <td>14177</td>\n",
       "      <td>Married</td>\n",
       "      <td>Male</td>\n",
       "      <td>80000</td>\n",
       "      <td>5</td>\n",
       "      <td>Partial College</td>\n",
       "      <td>Professional</td>\n",
       "      <td>No</td>\n",
       "      <td>2</td>\n",
       "      <td>2-5 Miles</td>\n",
       "      <td>Europe</td>\n",
       "      <td>60</td>\n",
       "      <td>No</td>\n",
       "    </tr>\n",
       "    <tr>\n",
       "      <th>3</th>\n",
       "      <td>24381</td>\n",
       "      <td>Single</td>\n",
       "      <td>Male</td>\n",
       "      <td>70000</td>\n",
       "      <td>0</td>\n",
       "      <td>Bachelors</td>\n",
       "      <td>Professional</td>\n",
       "      <td>Yes</td>\n",
       "      <td>1</td>\n",
       "      <td>5-10 Miles</td>\n",
       "      <td>Pacific</td>\n",
       "      <td>41</td>\n",
       "      <td>Yes</td>\n",
       "    </tr>\n",
       "    <tr>\n",
       "      <th>4</th>\n",
       "      <td>25597</td>\n",
       "      <td>Single</td>\n",
       "      <td>Male</td>\n",
       "      <td>30000</td>\n",
       "      <td>0</td>\n",
       "      <td>Bachelors</td>\n",
       "      <td>Clerical</td>\n",
       "      <td>No</td>\n",
       "      <td>0</td>\n",
       "      <td>0-1 Miles</td>\n",
       "      <td>Europe</td>\n",
       "      <td>36</td>\n",
       "      <td>Yes</td>\n",
       "    </tr>\n",
       "  </tbody>\n",
       "</table>\n",
       "</div>"
      ],
      "text/plain": [
       "      ID Marital Status  Gender  Income  Children        Education  \\\n",
       "0  12496        Married  Female   40000         1        Bachelors   \n",
       "1  24107        Married    Male   30000         3  Partial College   \n",
       "2  14177        Married    Male   80000         5  Partial College   \n",
       "3  24381         Single    Male   70000         0        Bachelors   \n",
       "4  25597         Single    Male   30000         0        Bachelors   \n",
       "\n",
       "       Occupation Home Owner  Cars Commute Distance   Region  Age  \\\n",
       "0  Skilled Manual        Yes     0        0-1 Miles   Europe   42   \n",
       "1        Clerical        Yes     1        0-1 Miles   Europe   43   \n",
       "2    Professional         No     2        2-5 Miles   Europe   60   \n",
       "3    Professional        Yes     1       5-10 Miles  Pacific   41   \n",
       "4        Clerical         No     0        0-1 Miles   Europe   36   \n",
       "\n",
       "  Purchased Bike  \n",
       "0             No  \n",
       "1             No  \n",
       "2             No  \n",
       "3            Yes  \n",
       "4            Yes  "
      ]
     },
     "execution_count": 20,
     "metadata": {},
     "output_type": "execute_result"
    }
   ],
   "source": [
    "df.head()"
   ]
  },
  {
   "cell_type": "code",
   "execution_count": 21,
   "id": "f809f73e",
   "metadata": {},
   "outputs": [
    {
     "data": {
      "text/plain": [
       "dtype('int64')"
      ]
     },
     "execution_count": 21,
     "metadata": {},
     "output_type": "execute_result"
    }
   ],
   "source": [
    "df.Income.dtypes"
   ]
  },
  {
   "cell_type": "markdown",
   "id": "780c0e64",
   "metadata": {},
   "source": [
    "### Step 3: Check for null values, or missing values"
   ]
  },
  {
   "cell_type": "code",
   "execution_count": 22,
   "id": "d440bd7b",
   "metadata": {},
   "outputs": [
    {
     "data": {
      "text/plain": [
       "ID                  0\n",
       "Marital Status      0\n",
       "Gender              0\n",
       "Income              0\n",
       "Children            0\n",
       "Education           0\n",
       "Occupation          0\n",
       "Home Owner          0\n",
       "Cars                0\n",
       "Commute Distance    0\n",
       "Region              0\n",
       "Age                 0\n",
       "Purchased Bike      0\n",
       "dtype: int64"
      ]
     },
     "execution_count": 22,
     "metadata": {},
     "output_type": "execute_result"
    }
   ],
   "source": [
    "df.isnull().sum()"
   ]
  },
  {
   "cell_type": "markdown",
   "id": "f1c85e0d",
   "metadata": {},
   "source": [
    "There are no missing values"
   ]
  },
  {
   "cell_type": "markdown",
   "id": "2c5ff9fc",
   "metadata": {},
   "source": [
    "### Step 4: Convert the data types to suitable data types"
   ]
  },
  {
   "cell_type": "code",
   "execution_count": 23,
   "id": "1adcc41c",
   "metadata": {},
   "outputs": [
    {
     "data": {
      "text/plain": [
       "ID                   int64\n",
       "Marital Status      object\n",
       "Gender              object\n",
       "Income               int64\n",
       "Children             int64\n",
       "Education           object\n",
       "Occupation          object\n",
       "Home Owner          object\n",
       "Cars                 int64\n",
       "Commute Distance    object\n",
       "Region              object\n",
       "Age                  int64\n",
       "Purchased Bike      object\n",
       "dtype: object"
      ]
     },
     "execution_count": 23,
     "metadata": {},
     "output_type": "execute_result"
    }
   ],
   "source": [
    "#check the datatypes of the dataset\n",
    "df.dtypes"
   ]
  },
  {
   "cell_type": "markdown",
   "id": "d61ebbd5",
   "metadata": {},
   "source": [
    "Commute distance has to be converted to float"
   ]
  },
  {
   "cell_type": "code",
   "execution_count": 24,
   "id": "82e3f94b",
   "metadata": {},
   "outputs": [
    {
     "data": {
      "text/plain": [
       "0     0-1 Miles\n",
       "1     0-1 Miles\n",
       "2     2-5 Miles\n",
       "3    5-10 Miles\n",
       "4     0-1 Miles\n",
       "Name: Commute Distance, dtype: object"
      ]
     },
     "execution_count": 24,
     "metadata": {},
     "output_type": "execute_result"
    }
   ],
   "source": [
    "#view the Commute distance column\n",
    "df['Commute Distance'].head()"
   ]
  },
  {
   "cell_type": "markdown",
   "id": "853d70c0",
   "metadata": {},
   "source": [
    "There are 2  types of values that might restrict our changes\n",
    "* 10+ values\n",
    "* range value e.g 2-4"
   ]
  },
  {
   "cell_type": "markdown",
   "id": "f8ef3f99",
   "metadata": {},
   "source": [
    "The first step to convert this to float dataype is to:\n",
    "  * split the column at the occurance of each step to remove the miles\n",
    "  * implement the function that calculates the average of the ranges give"
   ]
  },
  {
   "cell_type": "markdown",
   "id": "ab8fa91b",
   "metadata": {},
   "source": [
    "lets deal with the 10+ like values first"
   ]
  },
  {
   "cell_type": "code",
   "execution_count": 27,
   "id": "d7c31587",
   "metadata": {},
   "outputs": [
    {
     "data": {
      "text/plain": [
       "0       0-1 Miles\n",
       "1       0-1 Miles\n",
       "2       2-5 Miles\n",
       "3      5-10 Miles\n",
       "4       0-1 Miles\n",
       "          ...    \n",
       "995     2-5 Miles\n",
       "996     2-5 Miles\n",
       "997     0-1 Miles\n",
       "998     1-2 Miles\n",
       "999      10 Miles\n",
       "Name: Commute Distance, Length: 1000, dtype: object"
      ]
     },
     "execution_count": 27,
     "metadata": {},
     "output_type": "execute_result"
    }
   ],
   "source": [
    "#this can be done by replacing the values + with nothing\n",
    "Split_data = df['Commute Distance'].apply(lambda x: x.replace('+', ''))\n",
    "Split_data"
   ]
  },
  {
   "cell_type": "markdown",
   "id": "f162617e",
   "metadata": {},
   "source": [
    "The pluses have been removed\n"
   ]
  },
  {
   "cell_type": "markdown",
   "id": "547c5515",
   "metadata": {},
   "source": [
    "lets deal with the ranges values"
   ]
  },
  {
   "cell_type": "code",
   "execution_count": 29,
   "id": "4f3f1303",
   "metadata": {},
   "outputs": [
    {
     "data": {
      "text/plain": [
       "<bound method NDFrame.head of 0       0-1\n",
       "1       0-1\n",
       "2       2-5\n",
       "3      5-10\n",
       "4       0-1\n",
       "       ... \n",
       "995     2-5\n",
       "996     2-5\n",
       "997     0-1\n",
       "998     1-2\n",
       "999      10\n",
       "Name: Commute Distance, Length: 1000, dtype: object>"
      ]
     },
     "execution_count": 29,
     "metadata": {},
     "output_type": "execute_result"
    }
   ],
   "source": [
    "#splliting the dataset \n",
    "Split_data = Split_data.apply(lambda x: x.split(' ')[0])        #[0] takes the first column of the splitted column\n",
    "\n",
    "Split_data.head"
   ]
  },
  {
   "cell_type": "markdown",
   "id": "64fd065f",
   "metadata": {},
   "source": [
    "Miles units have been removed also"
   ]
  },
  {
   "cell_type": "code",
   "execution_count": 30,
   "id": "079b0b91",
   "metadata": {},
   "outputs": [],
   "source": [
    "#implement a function that calculates the mean of the given values\n",
    "\n",
    "def mean_range(x):                         #the function name is mean_range taking in one parameter\n",
    "     \n",
    "    values = x.split('-')                   # setting a variable that contains the splitted columns at the occurance of '-'\n",
    "    if len(values) == 2:                         #a condition that checks if the splitted value has 2 figures\n",
    "        return(float(values[0]) + float(values[1]) / 2)                    # returning a mean value\n",
    "    try:\n",
    "        return(float(x))                               #converts the values that areint in range to float\n",
    "    except:\n",
    "        return None                                  # return nothing if the values in the column do not meet all the mentioned conditions above"
   ]
  },
  {
   "cell_type": "code",
   "execution_count": 31,
   "id": "fd3660ad",
   "metadata": {},
   "outputs": [],
   "source": [
    "Split_data = Split_data.apply(mean_range)"
   ]
  },
  {
   "cell_type": "code",
   "execution_count": 32,
   "id": "735a7e80",
   "metadata": {},
   "outputs": [
    {
     "data": {
      "text/plain": [
       "dtype('float64')"
      ]
     },
     "execution_count": 32,
     "metadata": {},
     "output_type": "execute_result"
    }
   ],
   "source": [
    "#check the datatype\n",
    "Split_data.dtypes"
   ]
  },
  {
   "cell_type": "markdown",
   "id": "ab95455a",
   "metadata": {},
   "source": [
    "Yes. There we go the datatype has been changed from object to float 64"
   ]
  },
  {
   "cell_type": "code",
   "execution_count": 34,
   "id": "ae790c54",
   "metadata": {},
   "outputs": [],
   "source": [
    "Split_data['Calculated mean distance'] = Split_data"
   ]
  },
  {
   "cell_type": "code",
   "execution_count": 35,
   "id": "e3937454",
   "metadata": {},
   "outputs": [
    {
     "data": {
      "text/plain": [
       "0     0.5\n",
       "1     0.5\n",
       "2     4.5\n",
       "3    10.0\n",
       "4     0.5\n",
       "Name: Commute Distance, dtype: object"
      ]
     },
     "execution_count": 35,
     "metadata": {},
     "output_type": "execute_result"
    }
   ],
   "source": [
    "Split_data['Calculated mean distance'].head()"
   ]
  },
  {
   "cell_type": "code",
   "execution_count": 36,
   "id": "400e0a8d",
   "metadata": {},
   "outputs": [],
   "source": [
    "#last step lets concat it to the main data frame\n",
    "df = pd.concat([df, Split_data['Calculated mean distance']], axis=1)"
   ]
  },
  {
   "cell_type": "code",
   "execution_count": 37,
   "id": "c0fd3153",
   "metadata": {},
   "outputs": [
    {
     "data": {
      "text/html": [
       "<div>\n",
       "<style scoped>\n",
       "    .dataframe tbody tr th:only-of-type {\n",
       "        vertical-align: middle;\n",
       "    }\n",
       "\n",
       "    .dataframe tbody tr th {\n",
       "        vertical-align: top;\n",
       "    }\n",
       "\n",
       "    .dataframe thead th {\n",
       "        text-align: right;\n",
       "    }\n",
       "</style>\n",
       "<table border=\"1\" class=\"dataframe\">\n",
       "  <thead>\n",
       "    <tr style=\"text-align: right;\">\n",
       "      <th></th>\n",
       "      <th>ID</th>\n",
       "      <th>Marital Status</th>\n",
       "      <th>Gender</th>\n",
       "      <th>Income</th>\n",
       "      <th>Children</th>\n",
       "      <th>Education</th>\n",
       "      <th>Occupation</th>\n",
       "      <th>Home Owner</th>\n",
       "      <th>Cars</th>\n",
       "      <th>Commute Distance</th>\n",
       "      <th>Region</th>\n",
       "      <th>Age</th>\n",
       "      <th>Purchased Bike</th>\n",
       "      <th>Commute Distance</th>\n",
       "    </tr>\n",
       "  </thead>\n",
       "  <tbody>\n",
       "    <tr>\n",
       "      <th>0</th>\n",
       "      <td>12496.0</td>\n",
       "      <td>Married</td>\n",
       "      <td>Female</td>\n",
       "      <td>40000.0</td>\n",
       "      <td>1.0</td>\n",
       "      <td>Bachelors</td>\n",
       "      <td>Skilled Manual</td>\n",
       "      <td>Yes</td>\n",
       "      <td>0.0</td>\n",
       "      <td>0-1 Miles</td>\n",
       "      <td>Europe</td>\n",
       "      <td>42.0</td>\n",
       "      <td>No</td>\n",
       "      <td>0.5</td>\n",
       "    </tr>\n",
       "    <tr>\n",
       "      <th>1</th>\n",
       "      <td>24107.0</td>\n",
       "      <td>Married</td>\n",
       "      <td>Male</td>\n",
       "      <td>30000.0</td>\n",
       "      <td>3.0</td>\n",
       "      <td>Partial College</td>\n",
       "      <td>Clerical</td>\n",
       "      <td>Yes</td>\n",
       "      <td>1.0</td>\n",
       "      <td>0-1 Miles</td>\n",
       "      <td>Europe</td>\n",
       "      <td>43.0</td>\n",
       "      <td>No</td>\n",
       "      <td>0.5</td>\n",
       "    </tr>\n",
       "    <tr>\n",
       "      <th>2</th>\n",
       "      <td>14177.0</td>\n",
       "      <td>Married</td>\n",
       "      <td>Male</td>\n",
       "      <td>80000.0</td>\n",
       "      <td>5.0</td>\n",
       "      <td>Partial College</td>\n",
       "      <td>Professional</td>\n",
       "      <td>No</td>\n",
       "      <td>2.0</td>\n",
       "      <td>2-5 Miles</td>\n",
       "      <td>Europe</td>\n",
       "      <td>60.0</td>\n",
       "      <td>No</td>\n",
       "      <td>4.5</td>\n",
       "    </tr>\n",
       "  </tbody>\n",
       "</table>\n",
       "</div>"
      ],
      "text/plain": [
       "        ID Marital Status  Gender   Income  Children        Education  \\\n",
       "0  12496.0        Married  Female  40000.0       1.0        Bachelors   \n",
       "1  24107.0        Married    Male  30000.0       3.0  Partial College   \n",
       "2  14177.0        Married    Male  80000.0       5.0  Partial College   \n",
       "\n",
       "       Occupation Home Owner  Cars Commute Distance  Region   Age  \\\n",
       "0  Skilled Manual        Yes   0.0        0-1 Miles  Europe  42.0   \n",
       "1        Clerical        Yes   1.0        0-1 Miles  Europe  43.0   \n",
       "2    Professional         No   2.0        2-5 Miles  Europe  60.0   \n",
       "\n",
       "  Purchased Bike Commute Distance  \n",
       "0             No              0.5  \n",
       "1             No              0.5  \n",
       "2             No              4.5  "
      ]
     },
     "execution_count": 37,
     "metadata": {},
     "output_type": "execute_result"
    }
   ],
   "source": [
    "#view the dataset\n",
    "df.head(3)"
   ]
  },
  {
   "cell_type": "code",
   "execution_count": null,
   "id": "17bf4936",
   "metadata": {},
   "outputs": [],
   "source": []
  },
  {
   "cell_type": "markdown",
   "id": "ffae5c22",
   "metadata": {},
   "source": [
    "### step 4: Binning"
   ]
  },
  {
   "cell_type": "markdown",
   "id": "441fd8aa",
   "metadata": {},
   "source": [
    "* This is a step to convert the numerical continous variables into discrete categorial variables\n",
    "* in this exercise there is need to changed the age into middle, young and old age"
   ]
  },
  {
   "cell_type": "code",
   "execution_count": 39,
   "id": "29ad6eb9",
   "metadata": {},
   "outputs": [
    {
     "data": {
      "text/plain": [
       "count    1000.000000\n",
       "mean       44.163000\n",
       "std        11.364488\n",
       "min        25.000000\n",
       "25%        35.000000\n",
       "50%        43.000000\n",
       "75%        52.000000\n",
       "max        89.000000\n",
       "Name: Age, dtype: float64"
      ]
     },
     "execution_count": 39,
     "metadata": {},
     "output_type": "execute_result"
    }
   ],
   "source": [
    "#check the stats on the column age of the datasset\n",
    "\n",
    "df['Age'].describe()"
   ]
  },
  {
   "cell_type": "code",
   "execution_count": 40,
   "id": "fb2ca1f2",
   "metadata": {},
   "outputs": [
    {
     "data": {
      "text/plain": [
       "Text(0, 0.5, 'count')"
      ]
     },
     "execution_count": 40,
     "metadata": {},
     "output_type": "execute_result"
    },
    {
     "data": {
      "image/png": "[encoded data removed]",
      "text/plain": [
       "<Figure size 640x480 with 1 Axes>"
      ]
     },
     "metadata": {},
     "output_type": "display_data"
    }
   ],
   "source": [
    "#visualise the distrubution of the Age variables\n",
    "import matplotlib as plt\n",
    "from matplotlib import pyplot\n",
    "plt.pyplot.hist(df['Age'])\n",
    "\n",
    "plt.pyplot.title('Age distribution')\n",
    "plt.pyplot.xlabel('Age')\n",
    "plt.pyplot.ylabel('count')"
   ]
  },
  {
   "cell_type": "code",
   "execution_count": 41,
   "id": "f7e52dad",
   "metadata": {},
   "outputs": [
    {
     "data": {
      "text/plain": [
       "array([25.        , 46.33333333, 67.66666667, 89.        ])"
      ]
     },
     "execution_count": 41,
     "metadata": {},
     "output_type": "execute_result"
    }
   ],
   "source": [
    "bins = np.linspace(df['Age'].min(), df['Age'].max(), 4)    #equal division of age into age groups\n",
    "bins"
   ]
  },
  {
   "cell_type": "code",
   "execution_count": 42,
   "id": "46af221c",
   "metadata": {},
   "outputs": [],
   "source": [
    "group_names = ['Young','Middle', 'Old']          #group the age into different categories"
   ]
  },
  {
   "cell_type": "code",
   "execution_count": 43,
   "id": "8f7a0fc4",
   "metadata": {},
   "outputs": [
    {
     "data": {
      "text/html": [
       "<div>\n",
       "<style scoped>\n",
       "    .dataframe tbody tr th:only-of-type {\n",
       "        vertical-align: middle;\n",
       "    }\n",
       "\n",
       "    .dataframe tbody tr th {\n",
       "        vertical-align: top;\n",
       "    }\n",
       "\n",
       "    .dataframe thead th {\n",
       "        text-align: right;\n",
       "    }\n",
       "</style>\n",
       "<table border=\"1\" class=\"dataframe\">\n",
       "  <thead>\n",
       "    <tr style=\"text-align: right;\">\n",
       "      <th></th>\n",
       "      <th>Age</th>\n",
       "      <th>Ageing</th>\n",
       "    </tr>\n",
       "  </thead>\n",
       "  <tbody>\n",
       "    <tr>\n",
       "      <th>0</th>\n",
       "      <td>42.0</td>\n",
       "      <td>Young</td>\n",
       "    </tr>\n",
       "    <tr>\n",
       "      <th>1</th>\n",
       "      <td>43.0</td>\n",
       "      <td>Young</td>\n",
       "    </tr>\n",
       "    <tr>\n",
       "      <th>2</th>\n",
       "      <td>60.0</td>\n",
       "      <td>Middle</td>\n",
       "    </tr>\n",
       "    <tr>\n",
       "      <th>3</th>\n",
       "      <td>41.0</td>\n",
       "      <td>Young</td>\n",
       "    </tr>\n",
       "    <tr>\n",
       "      <th>4</th>\n",
       "      <td>36.0</td>\n",
       "      <td>Young</td>\n",
       "    </tr>\n",
       "  </tbody>\n",
       "</table>\n",
       "</div>"
      ],
      "text/plain": [
       "    Age  Ageing\n",
       "0  42.0   Young\n",
       "1  43.0   Young\n",
       "2  60.0  Middle\n",
       "3  41.0   Young\n",
       "4  36.0   Young"
      ]
     },
     "execution_count": 43,
     "metadata": {},
     "output_type": "execute_result"
    }
   ],
   "source": [
    "df['Ageing'] = pd.cut(df['Age'], bins, labels=group_names, include_lowest=True)    #implement the pd.cut to group the ages into age groups\n",
    "\n",
    "\n",
    "df[['Age', 'Ageing']].head()    #view these 2 columns only"
   ]
  },
  {
   "cell_type": "code",
   "execution_count": 44,
   "id": "8528c443",
   "metadata": {},
   "outputs": [
    {
     "data": {
      "text/plain": [
       "<BarContainer object of 3 artists>"
      ]
     },
     "execution_count": 44,
     "metadata": {},
     "output_type": "execute_result"
    },
    {
     "data": {
      "image/png": "[encoded data removed]",
      "text/plain": [
       "<Figure size 640x480 with 1 Axes>"
      ]
     },
     "metadata": {},
     "output_type": "display_data"
    }
   ],
   "source": [
    "# visualise the new column and distribution\n",
    "\n",
    "plt.pyplot.bar(group_names, df['Ageing'].value_counts())"
   ]
  },
  {
   "cell_type": "markdown",
   "id": "fb7e0a87",
   "metadata": {},
   "source": [
    "### Step 5: Create the indicator variable or dummy variable"
   ]
  },
  {
   "cell_type": "markdown",
   "id": "ffc85076",
   "metadata": {},
   "source": [
    "* An indicator variable (or dummy variable) is a numerical variable used to label categories\n",
    "* In this dataset the purchased bike column. Lets create the dummy variables inorder to be able to use it for regression estimation in machine learning. However Machine learning learning part is not covered in this notebook"
   ]
  },
  {
   "cell_type": "code",
   "execution_count": 45,
   "id": "7b1a300d",
   "metadata": {},
   "outputs": [
    {
     "data": {
      "text/html": [
       "<div>\n",
       "<style scoped>\n",
       "    .dataframe tbody tr th:only-of-type {\n",
       "        vertical-align: middle;\n",
       "    }\n",
       "\n",
       "    .dataframe tbody tr th {\n",
       "        vertical-align: top;\n",
       "    }\n",
       "\n",
       "    .dataframe thead th {\n",
       "        text-align: right;\n",
       "    }\n",
       "</style>\n",
       "<table border=\"1\" class=\"dataframe\">\n",
       "  <thead>\n",
       "    <tr style=\"text-align: right;\">\n",
       "      <th></th>\n",
       "      <th>ID</th>\n",
       "      <th>Marital Status</th>\n",
       "      <th>Gender</th>\n",
       "      <th>Income</th>\n",
       "      <th>Children</th>\n",
       "      <th>Education</th>\n",
       "      <th>Occupation</th>\n",
       "      <th>Home Owner</th>\n",
       "      <th>Cars</th>\n",
       "      <th>Commute Distance</th>\n",
       "      <th>Region</th>\n",
       "      <th>Age</th>\n",
       "      <th>Purchased Bike</th>\n",
       "      <th>Commute Distance</th>\n",
       "      <th>Ageing</th>\n",
       "    </tr>\n",
       "  </thead>\n",
       "  <tbody>\n",
       "    <tr>\n",
       "      <th>0</th>\n",
       "      <td>12496.0</td>\n",
       "      <td>Married</td>\n",
       "      <td>Female</td>\n",
       "      <td>40000.0</td>\n",
       "      <td>1.0</td>\n",
       "      <td>Bachelors</td>\n",
       "      <td>Skilled Manual</td>\n",
       "      <td>Yes</td>\n",
       "      <td>0.0</td>\n",
       "      <td>0-1 Miles</td>\n",
       "      <td>Europe</td>\n",
       "      <td>42.0</td>\n",
       "      <td>No</td>\n",
       "      <td>0.5</td>\n",
       "      <td>Young</td>\n",
       "    </tr>\n",
       "    <tr>\n",
       "      <th>1</th>\n",
       "      <td>24107.0</td>\n",
       "      <td>Married</td>\n",
       "      <td>Male</td>\n",
       "      <td>30000.0</td>\n",
       "      <td>3.0</td>\n",
       "      <td>Partial College</td>\n",
       "      <td>Clerical</td>\n",
       "      <td>Yes</td>\n",
       "      <td>1.0</td>\n",
       "      <td>0-1 Miles</td>\n",
       "      <td>Europe</td>\n",
       "      <td>43.0</td>\n",
       "      <td>No</td>\n",
       "      <td>0.5</td>\n",
       "      <td>Young</td>\n",
       "    </tr>\n",
       "  </tbody>\n",
       "</table>\n",
       "</div>"
      ],
      "text/plain": [
       "        ID Marital Status  Gender   Income  Children        Education  \\\n",
       "0  12496.0        Married  Female  40000.0       1.0        Bachelors   \n",
       "1  24107.0        Married    Male  30000.0       3.0  Partial College   \n",
       "\n",
       "       Occupation Home Owner  Cars Commute Distance  Region   Age  \\\n",
       "0  Skilled Manual        Yes   0.0        0-1 Miles  Europe  42.0   \n",
       "1        Clerical        Yes   1.0        0-1 Miles  Europe  43.0   \n",
       "\n",
       "  Purchased Bike Commute Distance Ageing  \n",
       "0             No              0.5  Young  \n",
       "1             No              0.5  Young  "
      ]
     },
     "execution_count": 45,
     "metadata": {},
     "output_type": "execute_result"
    }
   ],
   "source": [
    "#view the dataset\n",
    "df.head(2)"
   ]
  },
  {
   "cell_type": "code",
   "execution_count": 46,
   "id": "44e2a85d",
   "metadata": {},
   "outputs": [
    {
     "data": {
      "text/html": [
       "<div>\n",
       "<style scoped>\n",
       "    .dataframe tbody tr th:only-of-type {\n",
       "        vertical-align: middle;\n",
       "    }\n",
       "\n",
       "    .dataframe tbody tr th {\n",
       "        vertical-align: top;\n",
       "    }\n",
       "\n",
       "    .dataframe thead th {\n",
       "        text-align: right;\n",
       "    }\n",
       "</style>\n",
       "<table border=\"1\" class=\"dataframe\">\n",
       "  <thead>\n",
       "    <tr style=\"text-align: right;\">\n",
       "      <th></th>\n",
       "      <th>No</th>\n",
       "      <th>Yes</th>\n",
       "    </tr>\n",
       "  </thead>\n",
       "  <tbody>\n",
       "    <tr>\n",
       "      <th>0</th>\n",
       "      <td>1</td>\n",
       "      <td>0</td>\n",
       "    </tr>\n",
       "    <tr>\n",
       "      <th>1</th>\n",
       "      <td>1</td>\n",
       "      <td>0</td>\n",
       "    </tr>\n",
       "    <tr>\n",
       "      <th>2</th>\n",
       "      <td>1</td>\n",
       "      <td>0</td>\n",
       "    </tr>\n",
       "    <tr>\n",
       "      <th>3</th>\n",
       "      <td>0</td>\n",
       "      <td>1</td>\n",
       "    </tr>\n",
       "    <tr>\n",
       "      <th>4</th>\n",
       "      <td>0</td>\n",
       "      <td>1</td>\n",
       "    </tr>\n",
       "  </tbody>\n",
       "</table>\n",
       "</div>"
      ],
      "text/plain": [
       "   No  Yes\n",
       "0   1    0\n",
       "1   1    0\n",
       "2   1    0\n",
       "3   0    1\n",
       "4   0    1"
      ]
     },
     "execution_count": 46,
     "metadata": {},
     "output_type": "execute_result"
    }
   ],
   "source": [
    "#lets get the dummy variables in purchased Bike\n",
    "get_dummy = pd.get_dummies(df['Purchased Bike'])\n",
    "get_dummy.head()"
   ]
  },
  {
   "cell_type": "code",
   "execution_count": 47,
   "id": "bad6070b",
   "metadata": {},
   "outputs": [
    {
     "data": {
      "text/html": [
       "<div>\n",
       "<style scoped>\n",
       "    .dataframe tbody tr th:only-of-type {\n",
       "        vertical-align: middle;\n",
       "    }\n",
       "\n",
       "    .dataframe tbody tr th {\n",
       "        vertical-align: top;\n",
       "    }\n",
       "\n",
       "    .dataframe thead th {\n",
       "        text-align: right;\n",
       "    }\n",
       "</style>\n",
       "<table border=\"1\" class=\"dataframe\">\n",
       "  <thead>\n",
       "    <tr style=\"text-align: right;\">\n",
       "      <th></th>\n",
       "      <th>did not buy bicycles</th>\n",
       "      <th>Bought bicyles</th>\n",
       "    </tr>\n",
       "  </thead>\n",
       "  <tbody>\n",
       "    <tr>\n",
       "      <th>0</th>\n",
       "      <td>1</td>\n",
       "      <td>0</td>\n",
       "    </tr>\n",
       "    <tr>\n",
       "      <th>1</th>\n",
       "      <td>1</td>\n",
       "      <td>0</td>\n",
       "    </tr>\n",
       "    <tr>\n",
       "      <th>2</th>\n",
       "      <td>1</td>\n",
       "      <td>0</td>\n",
       "    </tr>\n",
       "    <tr>\n",
       "      <th>3</th>\n",
       "      <td>0</td>\n",
       "      <td>1</td>\n",
       "    </tr>\n",
       "    <tr>\n",
       "      <th>4</th>\n",
       "      <td>0</td>\n",
       "      <td>1</td>\n",
       "    </tr>\n",
       "    <tr>\n",
       "      <th>...</th>\n",
       "      <td>...</td>\n",
       "      <td>...</td>\n",
       "    </tr>\n",
       "    <tr>\n",
       "      <th>996</th>\n",
       "      <td>0</td>\n",
       "      <td>1</td>\n",
       "    </tr>\n",
       "    <tr>\n",
       "      <th>997</th>\n",
       "      <td>0</td>\n",
       "      <td>1</td>\n",
       "    </tr>\n",
       "    <tr>\n",
       "      <th>998</th>\n",
       "      <td>1</td>\n",
       "      <td>0</td>\n",
       "    </tr>\n",
       "    <tr>\n",
       "      <th>999</th>\n",
       "      <td>0</td>\n",
       "      <td>1</td>\n",
       "    </tr>\n",
       "    <tr>\n",
       "      <th>Calculated mean distance</th>\n",
       "      <td>0</td>\n",
       "      <td>0</td>\n",
       "    </tr>\n",
       "  </tbody>\n",
       "</table>\n",
       "<p>1001 rows × 2 columns</p>\n",
       "</div>"
      ],
      "text/plain": [
       "                          did not buy bicycles  Bought bicyles\n",
       "0                                            1               0\n",
       "1                                            1               0\n",
       "2                                            1               0\n",
       "3                                            0               1\n",
       "4                                            0               1\n",
       "...                                        ...             ...\n",
       "996                                          0               1\n",
       "997                                          0               1\n",
       "998                                          1               0\n",
       "999                                          0               1\n",
       "Calculated mean distance                     0               0\n",
       "\n",
       "[1001 rows x 2 columns]"
      ]
     },
     "execution_count": 47,
     "metadata": {},
     "output_type": "execute_result"
    }
   ],
   "source": [
    "#lets rename the columns to purchased bike and did not purchase bike\n",
    "get_dummy.rename(columns={'No': 'did not buy bicycles', 'Yes':'Bought bicyles'}, inplace=True)\n",
    "get_dummy"
   ]
  },
  {
   "cell_type": "markdown",
   "id": "9e3b572f",
   "metadata": {},
   "source": [
    "this can be concated to the main data frame\n",
    "however its not part of the scope of this project hence it will be commented out\n",
    "\n"
   ]
  },
  {
   "cell_type": "code",
   "execution_count": 48,
   "id": "d43311c3",
   "metadata": {},
   "outputs": [],
   "source": [
    "#df = pd.concat([df, get_dummy], axis=1)\n",
    "\n",
    "#this jjoins the get dummy dataframe to the initial dataframe"
   ]
  },
  {
   "cell_type": "markdown",
   "id": "bc287562",
   "metadata": {},
   "source": [
    "# Phase 3: Data Analysis"
   ]
  },
  {
   "cell_type": "markdown",
   "id": "190b6ec9",
   "metadata": {},
   "source": [
    "This phase Analyzes the cleaned data to get more insights of the data, to answer some questions"
   ]
  },
  {
   "cell_type": "code",
   "execution_count": 49,
   "id": "35268b94",
   "metadata": {},
   "outputs": [
    {
     "data": {
      "text/html": [
       "<div>\n",
       "<style scoped>\n",
       "    .dataframe tbody tr th:only-of-type {\n",
       "        vertical-align: middle;\n",
       "    }\n",
       "\n",
       "    .dataframe tbody tr th {\n",
       "        vertical-align: top;\n",
       "    }\n",
       "\n",
       "    .dataframe thead th {\n",
       "        text-align: right;\n",
       "    }\n",
       "</style>\n",
       "<table border=\"1\" class=\"dataframe\">\n",
       "  <thead>\n",
       "    <tr style=\"text-align: right;\">\n",
       "      <th></th>\n",
       "      <th>ID</th>\n",
       "      <th>Marital Status</th>\n",
       "      <th>Gender</th>\n",
       "      <th>Income</th>\n",
       "      <th>Children</th>\n",
       "      <th>Education</th>\n",
       "      <th>Occupation</th>\n",
       "      <th>Home Owner</th>\n",
       "      <th>Cars</th>\n",
       "      <th>Commute Distance</th>\n",
       "      <th>Region</th>\n",
       "      <th>Age</th>\n",
       "      <th>Purchased Bike</th>\n",
       "      <th>Commute Distance</th>\n",
       "      <th>Ageing</th>\n",
       "    </tr>\n",
       "  </thead>\n",
       "  <tbody>\n",
       "    <tr>\n",
       "      <th>0</th>\n",
       "      <td>12496.0</td>\n",
       "      <td>Married</td>\n",
       "      <td>Female</td>\n",
       "      <td>40000.0</td>\n",
       "      <td>1.0</td>\n",
       "      <td>Bachelors</td>\n",
       "      <td>Skilled Manual</td>\n",
       "      <td>Yes</td>\n",
       "      <td>0.0</td>\n",
       "      <td>0-1 Miles</td>\n",
       "      <td>Europe</td>\n",
       "      <td>42.0</td>\n",
       "      <td>No</td>\n",
       "      <td>0.5</td>\n",
       "      <td>Young</td>\n",
       "    </tr>\n",
       "  </tbody>\n",
       "</table>\n",
       "</div>"
      ],
      "text/plain": [
       "        ID Marital Status  Gender   Income  Children  Education  \\\n",
       "0  12496.0        Married  Female  40000.0       1.0  Bachelors   \n",
       "\n",
       "       Occupation Home Owner  Cars Commute Distance  Region   Age  \\\n",
       "0  Skilled Manual        Yes   0.0        0-1 Miles  Europe  42.0   \n",
       "\n",
       "  Purchased Bike Commute Distance Ageing  \n",
       "0             No              0.5  Young  "
      ]
     },
     "execution_count": 49,
     "metadata": {},
     "output_type": "execute_result"
    }
   ],
   "source": [
    "df.head(1)"
   ]
  },
  {
   "cell_type": "markdown",
   "id": "02494492",
   "metadata": {},
   "source": [
    "#### Q1: How many people are married and single\n"
   ]
  },
  {
   "cell_type": "code",
   "execution_count": 50,
   "id": "939e95ec",
   "metadata": {},
   "outputs": [
    {
     "data": {
      "text/html": [
       "<div>\n",
       "<style scoped>\n",
       "    .dataframe tbody tr th:only-of-type {\n",
       "        vertical-align: middle;\n",
       "    }\n",
       "\n",
       "    .dataframe tbody tr th {\n",
       "        vertical-align: top;\n",
       "    }\n",
       "\n",
       "    .dataframe thead th {\n",
       "        text-align: right;\n",
       "    }\n",
       "</style>\n",
       "<table border=\"1\" class=\"dataframe\">\n",
       "  <thead>\n",
       "    <tr style=\"text-align: right;\">\n",
       "      <th></th>\n",
       "      <th>Marital Status</th>\n",
       "    </tr>\n",
       "  </thead>\n",
       "  <tbody>\n",
       "    <tr>\n",
       "      <th>Married</th>\n",
       "      <td>538</td>\n",
       "    </tr>\n",
       "    <tr>\n",
       "      <th>Single</th>\n",
       "      <td>462</td>\n",
       "    </tr>\n",
       "  </tbody>\n",
       "</table>\n",
       "</div>"
      ],
      "text/plain": [
       "         Marital Status\n",
       "Married             538\n",
       "Single              462"
      ]
     },
     "execution_count": 50,
     "metadata": {},
     "output_type": "execute_result"
    }
   ],
   "source": [
    "df['Marital Status'].value_counts().to_frame()"
   ]
  },
  {
   "cell_type": "markdown",
   "id": "679aa7a0",
   "metadata": {},
   "source": [
    "More people are married 538 and 462 are single"
   ]
  },
  {
   "cell_type": "markdown",
   "id": "b65fc484",
   "metadata": {},
   "source": [
    "#### Q2: Number of females and Males"
   ]
  },
  {
   "cell_type": "code",
   "execution_count": 51,
   "id": "d116b070",
   "metadata": {},
   "outputs": [
    {
     "data": {
      "text/html": [
       "<div>\n",
       "<style scoped>\n",
       "    .dataframe tbody tr th:only-of-type {\n",
       "        vertical-align: middle;\n",
       "    }\n",
       "\n",
       "    .dataframe tbody tr th {\n",
       "        vertical-align: top;\n",
       "    }\n",
       "\n",
       "    .dataframe thead th {\n",
       "        text-align: right;\n",
       "    }\n",
       "</style>\n",
       "<table border=\"1\" class=\"dataframe\">\n",
       "  <thead>\n",
       "    <tr style=\"text-align: right;\">\n",
       "      <th></th>\n",
       "      <th>Gender</th>\n",
       "    </tr>\n",
       "  </thead>\n",
       "  <tbody>\n",
       "    <tr>\n",
       "      <th>Male</th>\n",
       "      <td>511</td>\n",
       "    </tr>\n",
       "    <tr>\n",
       "      <th>Female</th>\n",
       "      <td>489</td>\n",
       "    </tr>\n",
       "  </tbody>\n",
       "</table>\n",
       "</div>"
      ],
      "text/plain": [
       "        Gender\n",
       "Male       511\n",
       "Female     489"
      ]
     },
     "execution_count": 51,
     "metadata": {},
     "output_type": "execute_result"
    }
   ],
   "source": [
    "df['Gender'].value_counts().to_frame()"
   ]
  },
  {
   "cell_type": "markdown",
   "id": "18d58938",
   "metadata": {},
   "source": [
    "There are more males 511 and female are 489"
   ]
  },
  {
   "cell_type": "markdown",
   "id": "1b0a16eb",
   "metadata": {},
   "source": [
    "#### Q3: How many males and females that are married and single"
   ]
  },
  {
   "cell_type": "code",
   "execution_count": 52,
   "id": "3f4294f3",
   "metadata": {},
   "outputs": [
    {
     "data": {
      "text/plain": [
       "Marital Status  Gender\n",
       "Married         Male      299\n",
       "                Female    239\n",
       "Single          Female    250\n",
       "                Male      212\n",
       "Name: Gender, dtype: int64"
      ]
     },
     "execution_count": 52,
     "metadata": {},
     "output_type": "execute_result"
    }
   ],
   "source": [
    "df.groupby('Marital Status')['Gender'].value_counts()          #grouping the marital statues to gender"
   ]
  },
  {
   "cell_type": "markdown",
   "id": "311d3764",
   "metadata": {},
   "source": [
    "the break down of gender according to their marital status"
   ]
  },
  {
   "cell_type": "markdown",
   "id": "6ea592c5",
   "metadata": {},
   "source": [
    "#### Q4: number of female who are single that have bought the bike and not bought the bike"
   ]
  },
  {
   "cell_type": "code",
   "execution_count": 53,
   "id": "0abdcfaa",
   "metadata": {},
   "outputs": [
    {
     "data": {
      "text/plain": [
       "Yes    131\n",
       "No     119\n",
       "Name: Purchased Bike, dtype: int64"
      ]
     },
     "execution_count": 53,
     "metadata": {},
     "output_type": "execute_result"
    }
   ],
   "source": [
    "filt = (df['Gender'] == 'Female') & (df['Marital Status'] == 'Single')      #setting the filtering variable\n",
    "df[filt]['Purchased Bike'].value_counts()"
   ]
  },
  {
   "cell_type": "markdown",
   "id": "12fbe012",
   "metadata": {},
   "source": [
    "single females have bought bike about 131 against 119"
   ]
  },
  {
   "cell_type": "markdown",
   "id": "5eb6c773",
   "metadata": {},
   "source": [
    "#### Q5: number of males married having bought bikes yet owning cars"
   ]
  },
  {
   "cell_type": "code",
   "execution_count": 54,
   "id": "3c0d0870",
   "metadata": {},
   "outputs": [
    {
     "data": {
      "text/html": [
       "<div>\n",
       "<style scoped>\n",
       "    .dataframe tbody tr th:only-of-type {\n",
       "        vertical-align: middle;\n",
       "    }\n",
       "\n",
       "    .dataframe tbody tr th {\n",
       "        vertical-align: top;\n",
       "    }\n",
       "\n",
       "    .dataframe thead th {\n",
       "        text-align: right;\n",
       "    }\n",
       "</style>\n",
       "<table border=\"1\" class=\"dataframe\">\n",
       "  <thead>\n",
       "    <tr style=\"text-align: right;\">\n",
       "      <th></th>\n",
       "      <th>ID</th>\n",
       "      <th>Marital Status</th>\n",
       "      <th>Gender</th>\n",
       "      <th>Income</th>\n",
       "      <th>Children</th>\n",
       "      <th>Education</th>\n",
       "      <th>Occupation</th>\n",
       "      <th>Home Owner</th>\n",
       "      <th>Cars</th>\n",
       "      <th>Commute Distance</th>\n",
       "      <th>Region</th>\n",
       "      <th>Age</th>\n",
       "      <th>Purchased Bike</th>\n",
       "      <th>Commute Distance</th>\n",
       "      <th>Ageing</th>\n",
       "    </tr>\n",
       "  </thead>\n",
       "  <tbody>\n",
       "    <tr>\n",
       "      <th>0</th>\n",
       "      <td>12496.0</td>\n",
       "      <td>Married</td>\n",
       "      <td>Female</td>\n",
       "      <td>40000.0</td>\n",
       "      <td>1.0</td>\n",
       "      <td>Bachelors</td>\n",
       "      <td>Skilled Manual</td>\n",
       "      <td>Yes</td>\n",
       "      <td>0.0</td>\n",
       "      <td>0-1 Miles</td>\n",
       "      <td>Europe</td>\n",
       "      <td>42.0</td>\n",
       "      <td>No</td>\n",
       "      <td>0.5</td>\n",
       "      <td>Young</td>\n",
       "    </tr>\n",
       "  </tbody>\n",
       "</table>\n",
       "</div>"
      ],
      "text/plain": [
       "        ID Marital Status  Gender   Income  Children  Education  \\\n",
       "0  12496.0        Married  Female  40000.0       1.0  Bachelors   \n",
       "\n",
       "       Occupation Home Owner  Cars Commute Distance  Region   Age  \\\n",
       "0  Skilled Manual        Yes   0.0        0-1 Miles  Europe  42.0   \n",
       "\n",
       "  Purchased Bike Commute Distance Ageing  \n",
       "0             No              0.5  Young  "
      ]
     },
     "execution_count": 54,
     "metadata": {},
     "output_type": "execute_result"
    }
   ],
   "source": [
    "# view the dataset\n",
    "\n",
    "df.head(1)"
   ]
  },
  {
   "cell_type": "code",
   "execution_count": 55,
   "id": "815e9fb4",
   "metadata": {},
   "outputs": [
    {
     "data": {
      "text/html": [
       "<div>\n",
       "<style scoped>\n",
       "    .dataframe tbody tr th:only-of-type {\n",
       "        vertical-align: middle;\n",
       "    }\n",
       "\n",
       "    .dataframe tbody tr th {\n",
       "        vertical-align: top;\n",
       "    }\n",
       "\n",
       "    .dataframe thead th {\n",
       "        text-align: right;\n",
       "    }\n",
       "</style>\n",
       "<table border=\"1\" class=\"dataframe\">\n",
       "  <thead>\n",
       "    <tr style=\"text-align: right;\">\n",
       "      <th></th>\n",
       "      <th>Purchased Bike</th>\n",
       "    </tr>\n",
       "  </thead>\n",
       "  <tbody>\n",
       "    <tr>\n",
       "      <th>No</th>\n",
       "      <td>145</td>\n",
       "    </tr>\n",
       "    <tr>\n",
       "      <th>Yes</th>\n",
       "      <td>82</td>\n",
       "    </tr>\n",
       "  </tbody>\n",
       "</table>\n",
       "</div>"
      ],
      "text/plain": [
       "     Purchased Bike\n",
       "No              145\n",
       "Yes              82"
      ]
     },
     "execution_count": 55,
     "metadata": {},
     "output_type": "execute_result"
    }
   ],
   "source": [
    "filt = (df['Gender'] == 'Male') & (df['Cars'] > 0) & (df['Marital Status'] == 'Married')\n",
    "df[filt]['Purchased Bike'].value_counts().to_frame()"
   ]
  },
  {
   "cell_type": "markdown",
   "id": "5eda30df",
   "metadata": {},
   "source": [
    "Few married man owning cars have bought the cars"
   ]
  },
  {
   "cell_type": "markdown",
   "id": "c4909c6e",
   "metadata": {},
   "source": [
    "#### Q6: Which age is married and has bought a lot of bicycles"
   ]
  },
  {
   "cell_type": "code",
   "execution_count": 56,
   "id": "3219458e",
   "metadata": {},
   "outputs": [
    {
     "data": {
      "text/plain": [
       "Age   Gender\n",
       "34.0  Female    9\n",
       "35.0  Male      8\n",
       "38.0  Male      7\n",
       "48.0  Male      7\n",
       "37.0  Female    7\n",
       "               ..\n",
       "39.0  Male      1\n",
       "56.0  Male      1\n",
       "41.0  Male      1\n",
       "53.0  Male      1\n",
       "78.0  Male      1\n",
       "Length: 73, dtype: int64"
      ]
     },
     "execution_count": 56,
     "metadata": {},
     "output_type": "execute_result"
    }
   ],
   "source": [
    "filt = (df['Marital Status'] == 'Married') & (df['Purchased Bike'] == 'Yes')                        #setting the filtering variable\n",
    "df[filt][['Age', 'Gender']].value_counts()"
   ]
  },
  {
   "cell_type": "markdown",
   "id": "52619d16",
   "metadata": {},
   "source": [
    "#### Q7 Which Region has people with highest number of bicycles bought by married female"
   ]
  },
  {
   "cell_type": "code",
   "execution_count": 57,
   "id": "c05b1582",
   "metadata": {},
   "outputs": [
    {
     "data": {
      "text/html": [
       "<div>\n",
       "<style scoped>\n",
       "    .dataframe tbody tr th:only-of-type {\n",
       "        vertical-align: middle;\n",
       "    }\n",
       "\n",
       "    .dataframe tbody tr th {\n",
       "        vertical-align: top;\n",
       "    }\n",
       "\n",
       "    .dataframe thead th {\n",
       "        text-align: right;\n",
       "    }\n",
       "</style>\n",
       "<table border=\"1\" class=\"dataframe\">\n",
       "  <thead>\n",
       "    <tr style=\"text-align: right;\">\n",
       "      <th></th>\n",
       "      <th>ID</th>\n",
       "      <th>Marital Status</th>\n",
       "      <th>Gender</th>\n",
       "      <th>Income</th>\n",
       "      <th>Children</th>\n",
       "      <th>Education</th>\n",
       "      <th>Occupation</th>\n",
       "      <th>Home Owner</th>\n",
       "      <th>Cars</th>\n",
       "      <th>Commute Distance</th>\n",
       "      <th>Region</th>\n",
       "      <th>Age</th>\n",
       "      <th>Purchased Bike</th>\n",
       "      <th>Commute Distance</th>\n",
       "      <th>Ageing</th>\n",
       "    </tr>\n",
       "  </thead>\n",
       "  <tbody>\n",
       "    <tr>\n",
       "      <th>0</th>\n",
       "      <td>12496.0</td>\n",
       "      <td>Married</td>\n",
       "      <td>Female</td>\n",
       "      <td>40000.0</td>\n",
       "      <td>1.0</td>\n",
       "      <td>Bachelors</td>\n",
       "      <td>Skilled Manual</td>\n",
       "      <td>Yes</td>\n",
       "      <td>0.0</td>\n",
       "      <td>0-1 Miles</td>\n",
       "      <td>Europe</td>\n",
       "      <td>42.0</td>\n",
       "      <td>No</td>\n",
       "      <td>0.5</td>\n",
       "      <td>Young</td>\n",
       "    </tr>\n",
       "  </tbody>\n",
       "</table>\n",
       "</div>"
      ],
      "text/plain": [
       "        ID Marital Status  Gender   Income  Children  Education  \\\n",
       "0  12496.0        Married  Female  40000.0       1.0  Bachelors   \n",
       "\n",
       "       Occupation Home Owner  Cars Commute Distance  Region   Age  \\\n",
       "0  Skilled Manual        Yes   0.0        0-1 Miles  Europe  42.0   \n",
       "\n",
       "  Purchased Bike Commute Distance Ageing  \n",
       "0             No              0.5  Young  "
      ]
     },
     "execution_count": 57,
     "metadata": {},
     "output_type": "execute_result"
    }
   ],
   "source": [
    "df.head(1)"
   ]
  },
  {
   "cell_type": "code",
   "execution_count": 58,
   "id": "ebc8f828",
   "metadata": {},
   "outputs": [
    {
     "data": {
      "text/plain": [
       "North America    51\n",
       "Europe           38\n",
       "Pacific          19\n",
       "Name: Region, dtype: int64"
      ]
     },
     "execution_count": 58,
     "metadata": {},
     "output_type": "execute_result"
    }
   ],
   "source": [
    "filt = (df['Gender'] == 'Female') & (df['Marital Status'] == 'Married') & (df['Purchased Bike'] == 'Yes') \n",
    "df[filt]['Region'].value_counts()"
   ]
  },
  {
   "cell_type": "markdown",
   "id": "b9955751",
   "metadata": {},
   "source": [
    "#### Q8 How many Females with children and cars and have bought the bicycles"
   ]
  },
  {
   "cell_type": "markdown",
   "id": "6197d6ad",
   "metadata": {},
   "source": [
    "view the dataset again "
   ]
  },
  {
   "cell_type": "code",
   "execution_count": 59,
   "id": "ea8ca091",
   "metadata": {},
   "outputs": [
    {
     "data": {
      "text/html": [
       "<div>\n",
       "<style scoped>\n",
       "    .dataframe tbody tr th:only-of-type {\n",
       "        vertical-align: middle;\n",
       "    }\n",
       "\n",
       "    .dataframe tbody tr th {\n",
       "        vertical-align: top;\n",
       "    }\n",
       "\n",
       "    .dataframe thead th {\n",
       "        text-align: right;\n",
       "    }\n",
       "</style>\n",
       "<table border=\"1\" class=\"dataframe\">\n",
       "  <thead>\n",
       "    <tr style=\"text-align: right;\">\n",
       "      <th></th>\n",
       "      <th>ID</th>\n",
       "      <th>Marital Status</th>\n",
       "      <th>Gender</th>\n",
       "      <th>Income</th>\n",
       "      <th>Children</th>\n",
       "      <th>Education</th>\n",
       "      <th>Occupation</th>\n",
       "      <th>Home Owner</th>\n",
       "      <th>Cars</th>\n",
       "      <th>Commute Distance</th>\n",
       "      <th>Region</th>\n",
       "      <th>Age</th>\n",
       "      <th>Purchased Bike</th>\n",
       "      <th>Commute Distance</th>\n",
       "      <th>Ageing</th>\n",
       "    </tr>\n",
       "  </thead>\n",
       "  <tbody>\n",
       "    <tr>\n",
       "      <th>0</th>\n",
       "      <td>12496.0</td>\n",
       "      <td>Married</td>\n",
       "      <td>Female</td>\n",
       "      <td>40000.0</td>\n",
       "      <td>1.0</td>\n",
       "      <td>Bachelors</td>\n",
       "      <td>Skilled Manual</td>\n",
       "      <td>Yes</td>\n",
       "      <td>0.0</td>\n",
       "      <td>0-1 Miles</td>\n",
       "      <td>Europe</td>\n",
       "      <td>42.0</td>\n",
       "      <td>No</td>\n",
       "      <td>0.5</td>\n",
       "      <td>Young</td>\n",
       "    </tr>\n",
       "  </tbody>\n",
       "</table>\n",
       "</div>"
      ],
      "text/plain": [
       "        ID Marital Status  Gender   Income  Children  Education  \\\n",
       "0  12496.0        Married  Female  40000.0       1.0  Bachelors   \n",
       "\n",
       "       Occupation Home Owner  Cars Commute Distance  Region   Age  \\\n",
       "0  Skilled Manual        Yes   0.0        0-1 Miles  Europe  42.0   \n",
       "\n",
       "  Purchased Bike Commute Distance Ageing  \n",
       "0             No              0.5  Young  "
      ]
     },
     "execution_count": 59,
     "metadata": {},
     "output_type": "execute_result"
    }
   ],
   "source": [
    "df.head(1)"
   ]
  },
  {
   "cell_type": "code",
   "execution_count": 60,
   "id": "98f6027c",
   "metadata": {},
   "outputs": [
    {
     "data": {
      "text/html": [
       "<div>\n",
       "<style scoped>\n",
       "    .dataframe tbody tr th:only-of-type {\n",
       "        vertical-align: middle;\n",
       "    }\n",
       "\n",
       "    .dataframe tbody tr th {\n",
       "        vertical-align: top;\n",
       "    }\n",
       "\n",
       "    .dataframe thead th {\n",
       "        text-align: right;\n",
       "    }\n",
       "</style>\n",
       "<table border=\"1\" class=\"dataframe\">\n",
       "  <thead>\n",
       "    <tr style=\"text-align: right;\">\n",
       "      <th></th>\n",
       "      <th>Purchased Bike</th>\n",
       "    </tr>\n",
       "  </thead>\n",
       "  <tbody>\n",
       "    <tr>\n",
       "      <th>No</th>\n",
       "      <td>143</td>\n",
       "    </tr>\n",
       "    <tr>\n",
       "      <th>Yes</th>\n",
       "      <td>116</td>\n",
       "    </tr>\n",
       "  </tbody>\n",
       "</table>\n",
       "</div>"
      ],
      "text/plain": [
       "     Purchased Bike\n",
       "No              143\n",
       "Yes             116"
      ]
     },
     "execution_count": 60,
     "metadata": {},
     "output_type": "execute_result"
    }
   ],
   "source": [
    "filt = (df['Gender'] =='Female') & (df['Children'] > 0) & (df['Cars'] > 0)\n",
    "df[filt]['Purchased Bike'].value_counts().to_frame()"
   ]
  },
  {
   "cell_type": "markdown",
   "id": "5ad3940d",
   "metadata": {},
   "source": [
    "Females that have cars and more than 1 child bought less bicycles "
   ]
  },
  {
   "cell_type": "markdown",
   "id": "f1d77cc1",
   "metadata": {},
   "source": [
    "#### Q8b How many Females with children and no cars and have bought the bicycles"
   ]
  },
  {
   "cell_type": "code",
   "execution_count": 61,
   "id": "a266e0f1",
   "metadata": {},
   "outputs": [
    {
     "data": {
      "text/html": [
       "<div>\n",
       "<style scoped>\n",
       "    .dataframe tbody tr th:only-of-type {\n",
       "        vertical-align: middle;\n",
       "    }\n",
       "\n",
       "    .dataframe tbody tr th {\n",
       "        vertical-align: top;\n",
       "    }\n",
       "\n",
       "    .dataframe thead th {\n",
       "        text-align: right;\n",
       "    }\n",
       "</style>\n",
       "<table border=\"1\" class=\"dataframe\">\n",
       "  <thead>\n",
       "    <tr style=\"text-align: right;\">\n",
       "      <th></th>\n",
       "      <th>Purchased Bike</th>\n",
       "    </tr>\n",
       "  </thead>\n",
       "  <tbody>\n",
       "    <tr>\n",
       "      <th>Yes</th>\n",
       "      <td>32</td>\n",
       "    </tr>\n",
       "    <tr>\n",
       "      <th>No</th>\n",
       "      <td>23</td>\n",
       "    </tr>\n",
       "  </tbody>\n",
       "</table>\n",
       "</div>"
      ],
      "text/plain": [
       "     Purchased Bike\n",
       "Yes              32\n",
       "No               23"
      ]
     },
     "execution_count": 61,
     "metadata": {},
     "output_type": "execute_result"
    }
   ],
   "source": [
    "filt = (df['Gender'] =='Female') & (df['Children'] > 1) & (df['Cars'] == 0)\n",
    "df[filt]['Purchased Bike'].value_counts().to_frame()"
   ]
  },
  {
   "cell_type": "markdown",
   "id": "459ca7b7",
   "metadata": {},
   "source": [
    "more females without cars and with children have bought more bicyles than those without"
   ]
  },
  {
   "cell_type": "markdown",
   "id": "e63e6695",
   "metadata": {},
   "source": [
    "#### Q9: 9 which income has more people buying the bicycles"
   ]
  },
  {
   "cell_type": "code",
   "execution_count": 62,
   "id": "39b9f2e3",
   "metadata": {},
   "outputs": [
    {
     "data": {
      "text/html": [
       "<div>\n",
       "<style scoped>\n",
       "    .dataframe tbody tr th:only-of-type {\n",
       "        vertical-align: middle;\n",
       "    }\n",
       "\n",
       "    .dataframe tbody tr th {\n",
       "        vertical-align: top;\n",
       "    }\n",
       "\n",
       "    .dataframe thead th {\n",
       "        text-align: right;\n",
       "    }\n",
       "</style>\n",
       "<table border=\"1\" class=\"dataframe\">\n",
       "  <thead>\n",
       "    <tr style=\"text-align: right;\">\n",
       "      <th></th>\n",
       "      <th>ID</th>\n",
       "      <th>Marital Status</th>\n",
       "      <th>Gender</th>\n",
       "      <th>Income</th>\n",
       "      <th>Children</th>\n",
       "      <th>Education</th>\n",
       "      <th>Occupation</th>\n",
       "      <th>Home Owner</th>\n",
       "      <th>Cars</th>\n",
       "      <th>Commute Distance</th>\n",
       "      <th>Region</th>\n",
       "      <th>Age</th>\n",
       "      <th>Purchased Bike</th>\n",
       "      <th>Commute Distance</th>\n",
       "      <th>Ageing</th>\n",
       "    </tr>\n",
       "  </thead>\n",
       "  <tbody>\n",
       "    <tr>\n",
       "      <th>0</th>\n",
       "      <td>12496.0</td>\n",
       "      <td>Married</td>\n",
       "      <td>Female</td>\n",
       "      <td>40000.0</td>\n",
       "      <td>1.0</td>\n",
       "      <td>Bachelors</td>\n",
       "      <td>Skilled Manual</td>\n",
       "      <td>Yes</td>\n",
       "      <td>0.0</td>\n",
       "      <td>0-1 Miles</td>\n",
       "      <td>Europe</td>\n",
       "      <td>42.0</td>\n",
       "      <td>No</td>\n",
       "      <td>0.5</td>\n",
       "      <td>Young</td>\n",
       "    </tr>\n",
       "  </tbody>\n",
       "</table>\n",
       "</div>"
      ],
      "text/plain": [
       "        ID Marital Status  Gender   Income  Children  Education  \\\n",
       "0  12496.0        Married  Female  40000.0       1.0  Bachelors   \n",
       "\n",
       "       Occupation Home Owner  Cars Commute Distance  Region   Age  \\\n",
       "0  Skilled Manual        Yes   0.0        0-1 Miles  Europe  42.0   \n",
       "\n",
       "  Purchased Bike Commute Distance Ageing  \n",
       "0             No              0.5  Young  "
      ]
     },
     "execution_count": 62,
     "metadata": {},
     "output_type": "execute_result"
    }
   ],
   "source": [
    "df.head(1)"
   ]
  },
  {
   "cell_type": "code",
   "execution_count": 63,
   "id": "ac6639ff",
   "metadata": {},
   "outputs": [
    {
     "data": {
      "text/html": [
       "<div>\n",
       "<style scoped>\n",
       "    .dataframe tbody tr th:only-of-type {\n",
       "        vertical-align: middle;\n",
       "    }\n",
       "\n",
       "    .dataframe tbody tr th {\n",
       "        vertical-align: top;\n",
       "    }\n",
       "\n",
       "    .dataframe thead th {\n",
       "        text-align: right;\n",
       "    }\n",
       "</style>\n",
       "<table border=\"1\" class=\"dataframe\">\n",
       "  <thead>\n",
       "    <tr style=\"text-align: right;\">\n",
       "      <th></th>\n",
       "      <th>Income</th>\n",
       "      <th>Purchased Bike</th>\n",
       "    </tr>\n",
       "  </thead>\n",
       "  <tbody>\n",
       "    <tr>\n",
       "      <th>43</th>\n",
       "      <td>170000.0</td>\n",
       "      <td>Yes</td>\n",
       "    </tr>\n",
       "    <tr>\n",
       "      <th>6</th>\n",
       "      <td>160000.0</td>\n",
       "      <td>Yes</td>\n",
       "    </tr>\n",
       "    <tr>\n",
       "      <th>178</th>\n",
       "      <td>160000.0</td>\n",
       "      <td>Yes</td>\n",
       "    </tr>\n",
       "    <tr>\n",
       "      <th>321</th>\n",
       "      <td>160000.0</td>\n",
       "      <td>Yes</td>\n",
       "    </tr>\n",
       "    <tr>\n",
       "      <th>356</th>\n",
       "      <td>150000.0</td>\n",
       "      <td>Yes</td>\n",
       "    </tr>\n",
       "    <tr>\n",
       "      <th>...</th>\n",
       "      <td>...</td>\n",
       "      <td>...</td>\n",
       "    </tr>\n",
       "    <tr>\n",
       "      <th>115</th>\n",
       "      <td>10000.0</td>\n",
       "      <td>Yes</td>\n",
       "    </tr>\n",
       "    <tr>\n",
       "      <th>235</th>\n",
       "      <td>10000.0</td>\n",
       "      <td>Yes</td>\n",
       "    </tr>\n",
       "    <tr>\n",
       "      <th>322</th>\n",
       "      <td>10000.0</td>\n",
       "      <td>Yes</td>\n",
       "    </tr>\n",
       "    <tr>\n",
       "      <th>129</th>\n",
       "      <td>10000.0</td>\n",
       "      <td>Yes</td>\n",
       "    </tr>\n",
       "    <tr>\n",
       "      <th>450</th>\n",
       "      <td>10000.0</td>\n",
       "      <td>Yes</td>\n",
       "    </tr>\n",
       "  </tbody>\n",
       "</table>\n",
       "<p>481 rows × 2 columns</p>\n",
       "</div>"
      ],
      "text/plain": [
       "       Income Purchased Bike\n",
       "43   170000.0            Yes\n",
       "6    160000.0            Yes\n",
       "178  160000.0            Yes\n",
       "321  160000.0            Yes\n",
       "356  150000.0            Yes\n",
       "..        ...            ...\n",
       "115   10000.0            Yes\n",
       "235   10000.0            Yes\n",
       "322   10000.0            Yes\n",
       "129   10000.0            Yes\n",
       "450   10000.0            Yes\n",
       "\n",
       "[481 rows x 2 columns]"
      ]
     },
     "execution_count": 63,
     "metadata": {},
     "output_type": "execute_result"
    }
   ],
   "source": [
    "filt = (df['Purchased Bike'] == 'Yes')\n",
    "df[filt][['Income', 'Purchased Bike']].sort_values(by = 'Income', ascending=False)"
   ]
  },
  {
   "cell_type": "markdown",
   "id": "d72a48eb",
   "metadata": {},
   "source": [
    "more people with more income have purchased the bikes"
   ]
  },
  {
   "cell_type": "code",
   "execution_count": 64,
   "id": "9c592752",
   "metadata": {},
   "outputs": [
    {
     "data": {
      "text/html": [
       "<div>\n",
       "<style scoped>\n",
       "    .dataframe tbody tr th:only-of-type {\n",
       "        vertical-align: middle;\n",
       "    }\n",
       "\n",
       "    .dataframe tbody tr th {\n",
       "        vertical-align: top;\n",
       "    }\n",
       "\n",
       "    .dataframe thead th {\n",
       "        text-align: right;\n",
       "    }\n",
       "</style>\n",
       "<table border=\"1\" class=\"dataframe\">\n",
       "  <thead>\n",
       "    <tr style=\"text-align: right;\">\n",
       "      <th></th>\n",
       "      <th>ID</th>\n",
       "      <th>Marital Status</th>\n",
       "      <th>Gender</th>\n",
       "      <th>Income</th>\n",
       "      <th>Children</th>\n",
       "      <th>Education</th>\n",
       "      <th>Occupation</th>\n",
       "      <th>Home Owner</th>\n",
       "      <th>Cars</th>\n",
       "      <th>Commute Distance</th>\n",
       "      <th>Region</th>\n",
       "      <th>Age</th>\n",
       "      <th>Purchased Bike</th>\n",
       "      <th>Commute Distance</th>\n",
       "      <th>Ageing</th>\n",
       "    </tr>\n",
       "  </thead>\n",
       "  <tbody>\n",
       "    <tr>\n",
       "      <th>0</th>\n",
       "      <td>12496.0</td>\n",
       "      <td>Married</td>\n",
       "      <td>Female</td>\n",
       "      <td>40000.0</td>\n",
       "      <td>1.0</td>\n",
       "      <td>Bachelors</td>\n",
       "      <td>Skilled Manual</td>\n",
       "      <td>Yes</td>\n",
       "      <td>0.0</td>\n",
       "      <td>0-1 Miles</td>\n",
       "      <td>Europe</td>\n",
       "      <td>42.0</td>\n",
       "      <td>No</td>\n",
       "      <td>0.5</td>\n",
       "      <td>Young</td>\n",
       "    </tr>\n",
       "    <tr>\n",
       "      <th>1</th>\n",
       "      <td>24107.0</td>\n",
       "      <td>Married</td>\n",
       "      <td>Male</td>\n",
       "      <td>30000.0</td>\n",
       "      <td>3.0</td>\n",
       "      <td>Partial College</td>\n",
       "      <td>Clerical</td>\n",
       "      <td>Yes</td>\n",
       "      <td>1.0</td>\n",
       "      <td>0-1 Miles</td>\n",
       "      <td>Europe</td>\n",
       "      <td>43.0</td>\n",
       "      <td>No</td>\n",
       "      <td>0.5</td>\n",
       "      <td>Young</td>\n",
       "    </tr>\n",
       "  </tbody>\n",
       "</table>\n",
       "</div>"
      ],
      "text/plain": [
       "        ID Marital Status  Gender   Income  Children        Education  \\\n",
       "0  12496.0        Married  Female  40000.0       1.0        Bachelors   \n",
       "1  24107.0        Married    Male  30000.0       3.0  Partial College   \n",
       "\n",
       "       Occupation Home Owner  Cars Commute Distance  Region   Age  \\\n",
       "0  Skilled Manual        Yes   0.0        0-1 Miles  Europe  42.0   \n",
       "1        Clerical        Yes   1.0        0-1 Miles  Europe  43.0   \n",
       "\n",
       "  Purchased Bike Commute Distance Ageing  \n",
       "0             No              0.5  Young  \n",
       "1             No              0.5  Young  "
      ]
     },
     "execution_count": 64,
     "metadata": {},
     "output_type": "execute_result"
    }
   ],
   "source": [
    "#view the dataframe again\n",
    "df.head(2)"
   ]
  },
  {
   "cell_type": "markdown",
   "id": "284acff5",
   "metadata": {},
   "source": [
    "### Q11 which age group has bought more biclycles\n"
   ]
  },
  {
   "cell_type": "code",
   "execution_count": 66,
   "id": "a727f6ce",
   "metadata": {},
   "outputs": [
    {
     "data": {
      "text/plain": [
       "Age   Purchased Bike\n",
       "36.0  Yes               30\n",
       "38.0  Yes               29\n",
       "37.0  Yes               28\n",
       "35.0  Yes               22\n",
       "47.0  Yes               20\n",
       "43.0  Yes               19\n",
       "34.0  Yes               19\n",
       "40.0  Yes               18\n",
       "46.0  Yes               15\n",
       "52.0  Yes               15\n",
       "41.0  Yes               15\n",
       "32.0  Yes               14\n",
       "45.0  Yes               13\n",
       "48.0  Yes               13\n",
       "33.0  Yes               13\n",
       "53.0  Yes               13\n",
       "39.0  Yes               12\n",
       "50.0  Yes               12\n",
       "51.0  Yes               12\n",
       "44.0  Yes               12\n",
       "42.0  Yes               12\n",
       "54.0  Yes               11\n",
       "28.0  Yes               10\n",
       "26.0  Yes                8\n",
       "49.0  Yes                8\n",
       "31.0  Yes                8\n",
       "27.0  Yes                8\n",
       "60.0  Yes                7\n",
       "59.0  Yes                6\n",
       "66.0  Yes                6\n",
       "29.0  Yes                5\n",
       "55.0  Yes                5\n",
       "62.0  Yes                4\n",
       "61.0  Yes                4\n",
       "25.0  Yes                4\n",
       "58.0  Yes                4\n",
       "57.0  Yes                4\n",
       "30.0  Yes                4\n",
       "56.0  Yes                3\n",
       "64.0  Yes                3\n",
       "65.0  Yes                3\n",
       "63.0  Yes                2\n",
       "67.0  Yes                2\n",
       "73.0  Yes                2\n",
       "70.0  Yes                1\n",
       "72.0  Yes                1\n",
       "74.0  Yes                1\n",
       "78.0  Yes                1\n",
       "dtype: int64"
      ]
     },
     "execution_count": 66,
     "metadata": {},
     "output_type": "execute_result"
    }
   ],
   "source": [
    "filt = (df['Purchased Bike'] == 'Yes')\n",
    "df[filt][['Age', 'Purchased Bike']].value_counts()"
   ]
  },
  {
   "cell_type": "code",
   "execution_count": 67,
   "id": "06b89072",
   "metadata": {},
   "outputs": [
    {
     "data": {
      "text/plain": [
       "count    1000.000000\n",
       "mean       44.163000\n",
       "std        11.364488\n",
       "min        25.000000\n",
       "25%        35.000000\n",
       "50%        43.000000\n",
       "75%        52.000000\n",
       "max        89.000000\n",
       "Name: Age, dtype: float64"
      ]
     },
     "execution_count": 67,
     "metadata": {},
     "output_type": "execute_result"
    }
   ],
   "source": [
    "df['Age'].describe()"
   ]
  },
  {
   "cell_type": "code",
   "execution_count": 68,
   "id": "1897e2ab",
   "metadata": {},
   "outputs": [],
   "source": [
    "#12 Does occupation affect the buying of bicyles"
   ]
  },
  {
   "cell_type": "code",
   "execution_count": 69,
   "id": "3e45b1b7",
   "metadata": {},
   "outputs": [
    {
     "data": {
      "text/plain": [
       "Occupation      Purchased Bike\n",
       "Professional    Yes               150\n",
       "Skilled Manual  Yes               115\n",
       "Clerical        Yes                88\n",
       "Management      Yes                73\n",
       "Manual          Yes                55\n",
       "dtype: int64"
      ]
     },
     "execution_count": 69,
     "metadata": {},
     "output_type": "execute_result"
    }
   ],
   "source": [
    "filt = (df['Purchased Bike'] == 'Yes')\n",
    "df[filt][['Occupation', 'Purchased Bike']].value_counts()"
   ]
  },
  {
   "cell_type": "markdown",
   "id": "817ecc9c",
   "metadata": {},
   "source": [
    "More professional have bought more and many bics and the manual workers have bought a few this is because of their incomes"
   ]
  },
  {
   "cell_type": "code",
   "execution_count": 70,
   "id": "80efee37",
   "metadata": {},
   "outputs": [],
   "source": [
    "#checking their incomes"
   ]
  },
  {
   "cell_type": "code",
   "execution_count": 71,
   "id": "b744afdb",
   "metadata": {},
   "outputs": [
    {
     "data": {
      "text/plain": [
       "Occupation\n",
       "Professional      20720000.0\n",
       "Management        14990000.0\n",
       "Skilled Manual    13160000.0\n",
       "Clerical           5500000.0\n",
       "Manual             1990000.0\n",
       "Name: Income, dtype: float64"
      ]
     },
     "execution_count": 71,
     "metadata": {},
     "output_type": "execute_result"
    }
   ],
   "source": [
    "df.groupby('Occupation').Income.sum().sort_values(ascending=False)"
   ]
  },
  {
   "cell_type": "markdown",
   "id": "d11d8d3f",
   "metadata": {},
   "source": [
    "Manual workers might be restricted to buy in because of their financial status which is a bit low"
   ]
  },
  {
   "cell_type": "markdown",
   "id": "874ae8b4",
   "metadata": {},
   "source": [
    "#### Q13 Does education help in buying of biclycles\n"
   ]
  },
  {
   "cell_type": "code",
   "execution_count": 72,
   "id": "ed1cf2ef",
   "metadata": {},
   "outputs": [
    {
     "data": {
      "text/html": [
       "<div>\n",
       "<style scoped>\n",
       "    .dataframe tbody tr th:only-of-type {\n",
       "        vertical-align: middle;\n",
       "    }\n",
       "\n",
       "    .dataframe tbody tr th {\n",
       "        vertical-align: top;\n",
       "    }\n",
       "\n",
       "    .dataframe thead th {\n",
       "        text-align: right;\n",
       "    }\n",
       "</style>\n",
       "<table border=\"1\" class=\"dataframe\">\n",
       "  <thead>\n",
       "    <tr style=\"text-align: right;\">\n",
       "      <th></th>\n",
       "      <th>ID</th>\n",
       "      <th>Marital Status</th>\n",
       "      <th>Gender</th>\n",
       "      <th>Income</th>\n",
       "      <th>Children</th>\n",
       "      <th>Education</th>\n",
       "      <th>Occupation</th>\n",
       "      <th>Home Owner</th>\n",
       "      <th>Cars</th>\n",
       "      <th>Commute Distance</th>\n",
       "      <th>Region</th>\n",
       "      <th>Age</th>\n",
       "      <th>Purchased Bike</th>\n",
       "      <th>Commute Distance</th>\n",
       "      <th>Ageing</th>\n",
       "    </tr>\n",
       "  </thead>\n",
       "  <tbody>\n",
       "    <tr>\n",
       "      <th>0</th>\n",
       "      <td>12496.0</td>\n",
       "      <td>Married</td>\n",
       "      <td>Female</td>\n",
       "      <td>40000.0</td>\n",
       "      <td>1.0</td>\n",
       "      <td>Bachelors</td>\n",
       "      <td>Skilled Manual</td>\n",
       "      <td>Yes</td>\n",
       "      <td>0.0</td>\n",
       "      <td>0-1 Miles</td>\n",
       "      <td>Europe</td>\n",
       "      <td>42.0</td>\n",
       "      <td>No</td>\n",
       "      <td>0.5</td>\n",
       "      <td>Young</td>\n",
       "    </tr>\n",
       "  </tbody>\n",
       "</table>\n",
       "</div>"
      ],
      "text/plain": [
       "        ID Marital Status  Gender   Income  Children  Education  \\\n",
       "0  12496.0        Married  Female  40000.0       1.0  Bachelors   \n",
       "\n",
       "       Occupation Home Owner  Cars Commute Distance  Region   Age  \\\n",
       "0  Skilled Manual        Yes   0.0        0-1 Miles  Europe  42.0   \n",
       "\n",
       "  Purchased Bike Commute Distance Ageing  \n",
       "0             No              0.5  Young  "
      ]
     },
     "execution_count": 72,
     "metadata": {},
     "output_type": "execute_result"
    }
   ],
   "source": [
    "df.head(1)"
   ]
  },
  {
   "cell_type": "code",
   "execution_count": 73,
   "id": "7518eb56",
   "metadata": {},
   "outputs": [
    {
     "data": {
      "text/plain": [
       "Education          \n",
       "Bachelors              169\n",
       "Partial College        119\n",
       "Graduate Degree         94\n",
       "High School             79\n",
       "Partial High School     20\n",
       "dtype: int64"
      ]
     },
     "execution_count": 73,
     "metadata": {},
     "output_type": "execute_result"
    }
   ],
   "source": [
    "filt = (df['Purchased Bike'] == 'Yes')\n",
    "df[filt][['Education']].value_counts()"
   ]
  },
  {
   "cell_type": "markdown",
   "id": "95dfebfb",
   "metadata": {},
   "source": [
    "Bachelors have the highest buying of bicycles, this could be due to their population, hence its essential to check the size number of the group"
   ]
  },
  {
   "cell_type": "code",
   "execution_count": 74,
   "id": "042c747a",
   "metadata": {},
   "outputs": [
    {
     "data": {
      "text/plain": [
       "Education            Purchased Bike\n",
       "Bachelors            Yes               169\n",
       "                     No                137\n",
       "Graduate Degree      Yes                94\n",
       "                     No                 80\n",
       "High School          No                100\n",
       "                     Yes                79\n",
       "Partial College      No                146\n",
       "                     Yes               119\n",
       "Partial High School  No                 56\n",
       "                     Yes                20\n",
       "Name: Purchased Bike, dtype: int64"
      ]
     },
     "execution_count": 74,
     "metadata": {},
     "output_type": "execute_result"
    }
   ],
   "source": [
    "df.groupby('Education')['Purchased Bike'].value_counts()     "
   ]
  },
  {
   "cell_type": "markdown",
   "id": "6155d6de",
   "metadata": {},
   "source": [
    "from this the buying rate seems to level up due to population present"
   ]
  },
  {
   "cell_type": "markdown",
   "id": "fa68363b",
   "metadata": {},
   "source": [
    "#### Q14 Does owning cars have any effect on buying of bicycles"
   ]
  },
  {
   "cell_type": "code",
   "execution_count": 76,
   "id": "c4888d2d",
   "metadata": {},
   "outputs": [
    {
     "data": {
      "text/plain": [
       "Cars  Purchased Bike\n",
       "0.0   Yes               151\n",
       "      No                 96\n",
       "1.0   Yes               152\n",
       "      No                115\n",
       "2.0   No                218\n",
       "      Yes               124\n",
       "3.0   No                 52\n",
       "      Yes                33\n",
       "4.0   No                 38\n",
       "      Yes                21\n",
       "Name: Purchased Bike, dtype: int64"
      ]
     },
     "execution_count": 76,
     "metadata": {},
     "output_type": "execute_result"
    }
   ],
   "source": [
    "df.groupby('Cars')['Purchased Bike'].value_counts()"
   ]
  },
  {
   "cell_type": "markdown",
   "id": "bdea1f71",
   "metadata": {},
   "source": [
    "more people with no cars have bought bicycles"
   ]
  },
  {
   "cell_type": "markdown",
   "id": "4f674ea4",
   "metadata": {},
   "source": [
    "# Phase 4: Data Visualisation"
   ]
  },
  {
   "cell_type": "markdown",
   "id": "39b876a1",
   "metadata": {},
   "source": [
    "* The purpose of data visualization is to visually represent data in a way that allows people to quickly and easily understand patterns, relationships, and trends in the data. By creating visual representations of data, we can make complex information more accessible and understandable, which can lead to insights and actionable outcomes."
   ]
  },
  {
   "cell_type": "markdown",
   "id": "dcc1a08a",
   "metadata": {},
   "source": [
    "### 4.1: number of married and singles"
   ]
  },
  {
   "cell_type": "code",
   "execution_count": 90,
   "id": "81e29290",
   "metadata": {},
   "outputs": [
    {
     "data": {
      "image/png": "[encoded data removed]",
      "text/plain": [
       "<Figure size 640x480 with 1 Axes>"
      ]
     },
     "metadata": {},
     "output_type": "display_data"
    }
   ],
   "source": [
    "import matplotlib.pyplot as plt\n",
    "\n",
    "marital_status_counts = df['Marital Status'].value_counts().to_frame()\n",
    "\n",
    "plt.bar(marital_status_counts.index, marital_status_counts['Marital Status'])\n",
    "plt.xlabel('Marital Status')\n",
    "plt.ylabel('Count')\n",
    "plt.show()\n"
   ]
  },
  {
   "cell_type": "markdown",
   "id": "3f498642",
   "metadata": {},
   "source": [
    "##### * **key takeaway:**  there are more married than single people"
   ]
  },
  {
   "cell_type": "markdown",
   "id": "f3eb5b08",
   "metadata": {},
   "source": [
    "### 4.2: total number of males and females"
   ]
  },
  {
   "cell_type": "code",
   "execution_count": 89,
   "id": "00af5880",
   "metadata": {},
   "outputs": [
    {
     "data": {
      "image/png": "[encoded data removed]",
      "text/plain": [
       "<Figure size 640x480 with 1 Axes>"
      ]
     },
     "metadata": {},
     "output_type": "display_data"
    }
   ],
   "source": [
    "import matplotlib.pyplot as plt\n",
    "\n",
    "gender_counts = df['Gender'].value_counts()\n",
    "plt.bar(gender_counts.index, gender_counts.values)\n",
    "plt.xlabel('Gender')\n",
    "plt.ylabel('Count')\n",
    "plt.show()\n"
   ]
  },
  {
   "cell_type": "markdown",
   "id": "08089728",
   "metadata": {},
   "source": [
    "##### * **key takeaway:**  there are more males than females"
   ]
  },
  {
   "cell_type": "markdown",
   "id": "1bd01be4",
   "metadata": {},
   "source": [
    "### 4.3: age of people who purchased bikes"
   ]
  },
  {
   "cell_type": "code",
   "execution_count": 82,
   "id": "4ae7bf04",
   "metadata": {},
   "outputs": [
    {
     "data": {
      "image/png": "[encoded data removed]",
      "text/plain": [
       "<Figure size 1000x600 with 1 Axes>"
      ]
     },
     "metadata": {},
     "output_type": "display_data"
    }
   ],
   "source": [
    "\n",
    "\n",
    "filt = (df['Purchased Bike'] == 'Yes')\n",
    "values = df[filt][['Age', 'Purchased Bike']].value_counts()\n",
    "\n",
    "fig, ax = plt.subplots(figsize=(10,6))\n",
    "\n",
    "ax.hist(values.index.get_level_values('Age'), bins=20, edgecolor='black', alpha=0.5)\n",
    "\n",
    "ax.set_xlabel('Age')\n",
    "ax.set_ylabel('Count')\n",
    "ax.set_title('Histogram of Ages for Purchased Bike = Yes')\n",
    "\n",
    "ax.spines['top'].set_visible(False)\n",
    "ax.spines['right'].set_visible(False)\n",
    "\n",
    "plt.show()\n"
   ]
  },
  {
   "cell_type": "markdown",
   "id": "e79700a2",
   "metadata": {},
   "source": [
    "##### * **key takeaway:**  less old people bought bicycles"
   ]
  },
  {
   "cell_type": "markdown",
   "id": "a7392736",
   "metadata": {},
   "source": [
    "### 4.4: Total Income by Occupation"
   ]
  },
  {
   "cell_type": "code",
   "execution_count": 83,
   "id": "300179bc",
   "metadata": {},
   "outputs": [
    {
     "data": {
      "image/png": "[encoded data removed]",
      "text/plain": [
       "<Figure size 640x480 with 1 Axes>"
      ]
     },
     "metadata": {},
     "output_type": "display_data"
    }
   ],
   "source": [
    "\n",
    "\n",
    "income_by_occupation = df.groupby('Occupation').Income.sum().sort_values(ascending=False)\n",
    "\n",
    "plt.barh(income_by_occupation.index, income_by_occupation.values)\n",
    "plt.xlabel('Income')\n",
    "plt.ylabel('Occupation')\n",
    "plt.title('Total Income by Occupation')\n",
    "plt.show()\n"
   ]
  },
  {
   "cell_type": "markdown",
   "id": "78389551",
   "metadata": {},
   "source": [
    "##### * **key takeaway:**  professionals have more income than the rest, the least being manual"
   ]
  },
  {
   "cell_type": "markdown",
   "id": "c8038e09",
   "metadata": {},
   "source": [
    "### 4.5: Bike Purchase by Females with >1 Children and No Cars"
   ]
  },
  {
   "cell_type": "code",
   "execution_count": 91,
   "id": "766682dc",
   "metadata": {},
   "outputs": [
    {
     "data": {
      "image/png": "[encoded data removed]",
      "text/plain": [
       "<Figure size 640x480 with 1 Axes>"
      ]
     },
     "metadata": {},
     "output_type": "display_data"
    }
   ],
   "source": [
    "filt = (df['Gender'] =='Female') & (df['Children'] > 1) & (df['Cars'] == 0)\n",
    "df[filt]['Purchased Bike'].value_counts().to_frame().plot(kind='bar')\n",
    "plt.xlabel('Purchased Bike')\n",
    "plt.ylabel('Count')\n",
    "plt.title('Bike Purchase by Females with >1 Children and No Cars')\n",
    "plt.show()\n"
   ]
  },
  {
   "cell_type": "markdown",
   "id": "ba4e897a",
   "metadata": {},
   "source": [
    "##### * **key takeaway:**  more females with more than one kid bought more bics"
   ]
  },
  {
   "cell_type": "markdown",
   "id": "5081fa12",
   "metadata": {},
   "source": [
    "### 4.6: Bike Purchases by Females with Children and Cars"
   ]
  },
  {
   "cell_type": "code",
   "execution_count": 93,
   "id": "8ce0c2a5",
   "metadata": {},
   "outputs": [
    {
     "data": {
      "image/png": "[encoded data removed]",
      "text/plain": [
       "<Figure size 640x480 with 1 Axes>"
      ]
     },
     "metadata": {},
     "output_type": "display_data"
    }
   ],
   "source": [
    "import matplotlib.pyplot as plt\n",
    "\n",
    "filt = (df['Gender'] =='Female') & (df['Children'] > 0) & (df['Cars'] > 0)\n",
    "purchased_counts = df[filt]['Purchased Bike'].value_counts().to_frame()\n",
    "\n",
    "plt.barh(purchased_counts.index, purchased_counts['Purchased Bike'])\n",
    "plt.xlabel('Count')\n",
    "plt.ylabel('Purchased Bike')\n",
    "plt.title('Bike Purchases by Females with Children and Cars')\n",
    "plt.show()\n"
   ]
  },
  {
   "cell_type": "markdown",
   "id": "99da4ab6",
   "metadata": {},
   "source": [
    "##### * **key takeaway:**  parents with cars brought less bics compared to the ones without"
   ]
  },
  {
   "cell_type": "markdown",
   "id": "60b45d73",
   "metadata": {},
   "source": [
    "### 4.7:Region Counts for Female Married Customers Who Purchased a Bike"
   ]
  },
  {
   "cell_type": "code",
   "execution_count": 94,
   "id": "867710e0",
   "metadata": {},
   "outputs": [
    {
     "data": {
      "image/png": "[encoded data removed]",
      "text/plain": [
       "<Figure size 640x480 with 1 Axes>"
      ]
     },
     "metadata": {},
     "output_type": "display_data"
    }
   ],
   "source": [
    "import matplotlib.pyplot as plt\n",
    "\n",
    "filt = (df['Gender'] == 'Female') & (df['Marital Status'] == 'Married') & (df['Purchased Bike'] == 'Yes')\n",
    "region_counts = df[filt]['Region'].value_counts()\n",
    "\n",
    "region_counts.plot(kind='bar')\n",
    "plt.title(\"Region Counts for Female Married Customers Who Purchased a Bike\")\n",
    "plt.xlabel(\"Region\")\n",
    "plt.ylabel(\"Count\")\n",
    "plt.show()\n"
   ]
  },
  {
   "cell_type": "markdown",
   "id": "df740057",
   "metadata": {},
   "source": [
    "##### * **key takeaway:**  north american ladies have bought more bics than women from europe and pacific"
   ]
  },
  {
   "cell_type": "markdown",
   "id": "1d38e60b",
   "metadata": {},
   "source": [
    "### 4.8: Gender Count by Marital Status"
   ]
  },
  {
   "cell_type": "code",
   "execution_count": 7,
   "id": "b12a1101",
   "metadata": {},
   "outputs": [
    {
     "data": {
      "image/png": "[encoded data removed]",
      "text/plain": [
       "<Figure size 640x480 with 1 Axes>"
      ]
     },
     "metadata": {},
     "output_type": "display_data"
    }
   ],
   "source": [
    "import matplotlib.pyplot as plt\n",
    "\n",
    "grouped = df.groupby('Marital Status')['Gender'].value_counts().unstack()\n",
    "grouped.plot(kind='bar', stacked=True)\n",
    "\n",
    "plt.title('Gender Count by Marital Status')\n",
    "plt.xlabel('Marital Status')\n",
    "plt.ylabel('Count')\n",
    "plt.legend(title='Gender', loc='upper right')\n",
    "plt.show()\n"
   ]
  },
  {
   "cell_type": "markdown",
   "id": "32731f29",
   "metadata": {},
   "source": [
    "##### * **key takeaway:**  there are more females who are single in the dataset"
   ]
  },
  {
   "cell_type": "code",
   "execution_count": 6,
   "id": "aafb85b7",
   "metadata": {},
   "outputs": [],
   "source": [
    "#saving the dataset for more vizualisation\n",
    "df.to_csv(r\"C:\\Users\\Tamie\\Downloads\\python data science projects\\datasets\\cleaned bike_rides\")"
   ]
  },
  {
   "cell_type": "markdown",
   "id": "64d58b8b",
   "metadata": {},
   "source": [
    "#### Further data Visualization was done in powerbi: [Power data Viz link](https://app.powerbi.com/view?r=eyJrIjoiMzgzOGY4OTQtOWM0NS00YTM2LWI1ZDYtZWVjZTc0YzRhNGFhIiwidCI6IjQ0ZGJiOWQ3LTM3N2QtNDBkZS1hZGI4LTYzNTlkYWQ4MTBiZiJ9)"
   ]
  },
  {
   "cell_type": "markdown",
   "id": "1c8eb0f2",
   "metadata": {},
   "source": [
    "## Author: TamiriraIshe Nyevera\n",
    "\n",
    "## Date: 3 January 2023\n",
    "\n",
    "* #### LinkedIn profile Link: [My LinkedIn Profile](https://www.linkedin.com/in/tamiriraishe-nyevera-2b51671b5/)\n",
    "\n",
    "* #### Github link:[Github profile](https://github.com/Tamie-AI-Tech)\n",
    "\n",
    "* #### Kaggle Link: [Kaggle Profile](https://www.kaggle.com/tamiriraishenyevera)\n",
    "\n",
    "* #### PowerBI visualisation imbedded code:[Power data Viz link](https://app.powerbi.com/view?r=eyJrIjoiMzgzOGY4OTQtOWM0NS00YTM2LWI1ZDYtZWVjZTc0YzRhNGFhIiwidCI6IjQ0ZGJiOWQ3LTM3N2QtNDBkZS1hZGI4LTYzNTlkYWQ4MTBiZiJ9)"
   ]
  },
  {
   "cell_type": "code",
   "execution_count": null,
   "id": "8e81571e",
   "metadata": {},
   "outputs": [],
   "source": []
  }
 ],
 "metadata": {
  "kernelspec": {
   "display_name": "Python 3 (ipykernel)",
   "language": "python",
   "name": "python3"
  },
  "language_info": {
   "codemirror_mode": {
    "name": "ipython",
    "version": 3
   },
   "file_extension": ".py",
   "mimetype": "text/x-python",
   "name": "python",
   "nbconvert_exporter": "python",
   "pygments_lexer": "ipython3",
   "version": "3.9.13"
  },
  "toc": {
   "base_numbering": 1,
   "nav_menu": {},
   "number_sections": true,
   "sideBar": true,
   "skip_h1_title": false,
   "title_cell": "Table of Contents",
   "title_sidebar": "Contents",
   "toc_cell": false,
   "toc_position": {},
   "toc_section_display": true,
   "toc_window_display": true
  }
 },
 "nbformat": 4,
 "nbformat_minor": 5
}
