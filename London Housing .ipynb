{
 "cells": [
  {
   "cell_type": "markdown",
   "id": "62ca22e1",
   "metadata": {},
   "source": [
    "### Title: London Real estate data analysis Real world Project with python\n",
    "\n",
    "\n",
    "\n",
    "\n",
    "* #### LinkedIn profile Link: [My LinkedIn Profile](https://www.linkedin.com/in/tamiriraishe-nyevera-2b51671b5/)\n",
    "\n",
    "* #### Github link:[Github profile](https://github.com/Tamie-AI-Tech)\n",
    "\n",
    "* #### Kaggle Link: [Kaggle Profile](https://www.kaggle.com/tamiriraishenyevera)\n"
   ]
  },
  {
   "cell_type": "markdown",
   "id": "f8c0a7ec",
   "metadata": {},
   "source": [
    "#### Introduction"
   ]
  },
  {
   "cell_type": "markdown",
   "id": "a3952569",
   "metadata": {},
   "source": [
    "* Real Estate helps to determine and evaluate the the prices of the houses. This dataset contains the london houses and their prices as well, number of crimes that would have taken place in a certain area also the number of houses sold in a certain area as well. This since 1995\n",
    "\n",
    "\n",
    "\n",
    "\n",
    "* The data is a csv file and analysis is done using pandas \n",
    "* The data will be saved and exported to power bi for good visualisations\n",
    "* matplotlib will be used for some data visualisations to get the inisghts of the data "
   ]
  },
  {
   "cell_type": "markdown",
   "id": "3b2ae0c2",
   "metadata": {},
   "source": [
    "#### Questions to answer"
   ]
  },
  {
   "cell_type": "markdown",
   "id": "79dcf385",
   "metadata": {},
   "source": [
    "These Questions will be answered under phase3: of the data analysis \n",
    "\n",
    "* Show all the record where nummber 0f crimes = 0\n",
    "* Which year had highest number of houses sold\n",
    "* does the number of crimes affect the average price of house show the visuals\n",
    "* how many houses were sold where number of crimes is greater than 1000\n",
    "* how many houses were sold in 2001 compared to 1995\n",
    "* Which area has expensive houses\n",
    "* which area has highest number of houses sold\n",
    "* what is the average number of houses sold in 2019\n",
    "* does the number of years contribute the average price of the house\n",
    "* What is the max and min number of crimes recorded per area\n",
    "* show all the record where the everage prices of the houses were less than 10000\n",
    "* on which day were highest number of houses sold\n",
    "* how many houses were sold between 2015 to 2019\n",
    "* Normalise the average price columns and the houses sold columns and create new columns for that\n",
    "\n",
    "The questions were brought up by the arthor as a way of story telling"
   ]
  },
  {
   "cell_type": "markdown",
   "id": "b7570802",
   "metadata": {},
   "source": [
    "# Phase 1: Data Preparation"
   ]
  },
  {
   "cell_type": "markdown",
   "id": "0da521a2",
   "metadata": {},
   "source": [
    "This step involves data import,it includes import of libraries that facilitate data import, analysis and visualisation."
   ]
  },
  {
   "cell_type": "code",
   "execution_count": 1,
   "id": "c66ed534",
   "metadata": {},
   "outputs": [],
   "source": [
    "import pandas as pd               #for data loading and manipulation\n",
    "\n",
    "import numpy as np                #for stastical analysis\n",
    "\n",
    "import matplotlib.pyplot as plt        #for data visualisation\n",
    "import seaborn as sns\n",
    "\n",
    "import matplotlib\n",
    "%matplotlib inline "
   ]
  },
  {
   "cell_type": "code",
   "execution_count": 2,
   "id": "3b7d5b53",
   "metadata": {},
   "outputs": [],
   "source": [
    "na_vals = [' ', 'nan', 'Nan', '?', 'missing', 'Missing']      #the list containing all the values that are to be deemed as null values\n",
    "\n",
    "df = pd.read_csv(r\"C:\\Users\\Tamie\\Downloads\\python data science projects\\datasets\\5. London Housing Data.csv\")\n",
    "\n",
    "#take note of the dataset directory, click on the dataset that needs to be imported and copy path or\n",
    "#go to properties >> right click on the dataset >> security >> copy the path that shows beneath\n",
    "#take note, on both cases insert r before the path directory.\n",
    "\n",
    "#The other method inputting r doesnt matter\n",
    "#import the dataset into the jupyter notebook folder you working on and copy the name of the dataset hence insert it in the parentheses"
   ]
  },
  {
   "cell_type": "code",
   "execution_count": 3,
   "id": "831bb66f",
   "metadata": {},
   "outputs": [
    {
     "data": {
      "text/plain": [
       "(13549, 6)"
      ]
     },
     "execution_count": 3,
     "metadata": {},
     "output_type": "execute_result"
    }
   ],
   "source": [
    "#view the shape of the dataset\n",
    "df.shape"
   ]
  },
  {
   "cell_type": "markdown",
   "id": "1f1f1aec",
   "metadata": {},
   "source": [
    "The dataset has 13549 rows and 6 columns"
   ]
  },
  {
   "cell_type": "code",
   "execution_count": 4,
   "id": "b4beac68",
   "metadata": {},
   "outputs": [
    {
     "data": {
      "text/html": [
       "<div>\n",
       "<style scoped>\n",
       "    .dataframe tbody tr th:only-of-type {\n",
       "        vertical-align: middle;\n",
       "    }\n",
       "\n",
       "    .dataframe tbody tr th {\n",
       "        vertical-align: top;\n",
       "    }\n",
       "\n",
       "    .dataframe thead th {\n",
       "        text-align: right;\n",
       "    }\n",
       "</style>\n",
       "<table border=\"1\" class=\"dataframe\">\n",
       "  <thead>\n",
       "    <tr style=\"text-align: right;\">\n",
       "      <th></th>\n",
       "      <th>0</th>\n",
       "    </tr>\n",
       "  </thead>\n",
       "  <tbody>\n",
       "    <tr>\n",
       "      <th>date</th>\n",
       "      <td>date</td>\n",
       "    </tr>\n",
       "    <tr>\n",
       "      <th>area</th>\n",
       "      <td>area</td>\n",
       "    </tr>\n",
       "    <tr>\n",
       "      <th>average_price</th>\n",
       "      <td>average_price</td>\n",
       "    </tr>\n",
       "    <tr>\n",
       "      <th>code</th>\n",
       "      <td>code</td>\n",
       "    </tr>\n",
       "    <tr>\n",
       "      <th>houses_sold</th>\n",
       "      <td>houses_sold</td>\n",
       "    </tr>\n",
       "    <tr>\n",
       "      <th>no_of_crimes</th>\n",
       "      <td>no_of_crimes</td>\n",
       "    </tr>\n",
       "  </tbody>\n",
       "</table>\n",
       "</div>"
      ],
      "text/plain": [
       "                           0\n",
       "date                    date\n",
       "area                    area\n",
       "average_price  average_price\n",
       "code                    code\n",
       "houses_sold      houses_sold\n",
       "no_of_crimes    no_of_crimes"
      ]
     },
     "execution_count": 4,
     "metadata": {},
     "output_type": "execute_result"
    }
   ],
   "source": [
    "#view the rows of the data\n",
    "df.columns.to_frame()"
   ]
  },
  {
   "cell_type": "code",
   "execution_count": 5,
   "id": "04df34bc",
   "metadata": {},
   "outputs": [
    {
     "data": {
      "text/plain": [
       "date              object\n",
       "area              object\n",
       "average_price      int64\n",
       "code              object\n",
       "houses_sold      float64\n",
       "no_of_crimes     float64\n",
       "dtype: object"
      ]
     },
     "execution_count": 5,
     "metadata": {},
     "output_type": "execute_result"
    }
   ],
   "source": [
    "#view the datatypes of the dataset\n",
    "df.dtypes"
   ]
  },
  {
   "cell_type": "markdown",
   "id": "1c426cdb",
   "metadata": {},
   "source": [
    "the date has to be converted to datetime in the phase 2 of the analysis"
   ]
  },
  {
   "cell_type": "code",
   "execution_count": 6,
   "id": "c72fa7a5",
   "metadata": {},
   "outputs": [
    {
     "data": {
      "text/plain": [
       "date             13549\n",
       "area             13549\n",
       "average_price    13549\n",
       "code             13549\n",
       "houses_sold      13455\n",
       "no_of_crimes      7439\n",
       "dtype: int64"
      ]
     },
     "execution_count": 6,
     "metadata": {},
     "output_type": "execute_result"
    }
   ],
   "source": [
    "#view the non null values\n",
    "df.count()"
   ]
  },
  {
   "cell_type": "markdown",
   "id": "1ec2ee84",
   "metadata": {},
   "source": [
    "no_crimes columns and houses sold seem to have the null values"
   ]
  },
  {
   "cell_type": "markdown",
   "id": "0347be80",
   "metadata": {},
   "source": [
    "# Phase 2: Data Preparation\n"
   ]
  },
  {
   "cell_type": "markdown",
   "id": "bddc8bbd",
   "metadata": {},
   "source": [
    "This phase includes all the cleaning, transforming and processing of data"
   ]
  },
  {
   "cell_type": "code",
   "execution_count": 7,
   "id": "21fc2f91",
   "metadata": {},
   "outputs": [
    {
     "data": {
      "text/html": [
       "<div>\n",
       "<style scoped>\n",
       "    .dataframe tbody tr th:only-of-type {\n",
       "        vertical-align: middle;\n",
       "    }\n",
       "\n",
       "    .dataframe tbody tr th {\n",
       "        vertical-align: top;\n",
       "    }\n",
       "\n",
       "    .dataframe thead th {\n",
       "        text-align: right;\n",
       "    }\n",
       "</style>\n",
       "<table border=\"1\" class=\"dataframe\">\n",
       "  <thead>\n",
       "    <tr style=\"text-align: right;\">\n",
       "      <th></th>\n",
       "      <th>date</th>\n",
       "      <th>area</th>\n",
       "      <th>average_price</th>\n",
       "      <th>code</th>\n",
       "      <th>houses_sold</th>\n",
       "      <th>no_of_crimes</th>\n",
       "    </tr>\n",
       "  </thead>\n",
       "  <tbody>\n",
       "    <tr>\n",
       "      <th>0</th>\n",
       "      <td>1/1/1995</td>\n",
       "      <td>city of london</td>\n",
       "      <td>91449</td>\n",
       "      <td>E09000001</td>\n",
       "      <td>17.0</td>\n",
       "      <td>NaN</td>\n",
       "    </tr>\n",
       "    <tr>\n",
       "      <th>1</th>\n",
       "      <td>2/1/1995</td>\n",
       "      <td>city of london</td>\n",
       "      <td>82203</td>\n",
       "      <td>E09000001</td>\n",
       "      <td>7.0</td>\n",
       "      <td>NaN</td>\n",
       "    </tr>\n",
       "  </tbody>\n",
       "</table>\n",
       "</div>"
      ],
      "text/plain": [
       "       date            area  average_price       code  houses_sold  \\\n",
       "0  1/1/1995  city of london          91449  E09000001         17.0   \n",
       "1  2/1/1995  city of london          82203  E09000001          7.0   \n",
       "\n",
       "   no_of_crimes  \n",
       "0           NaN  \n",
       "1           NaN  "
      ]
     },
     "execution_count": 7,
     "metadata": {},
     "output_type": "execute_result"
    }
   ],
   "source": [
    "#view few rows of the dataset\n",
    "df.head(2)"
   ]
  },
  {
   "cell_type": "markdown",
   "id": "ff30acba",
   "metadata": {},
   "source": [
    "### Step 1: Check for all the the missing or na values in the dataset"
   ]
  },
  {
   "cell_type": "code",
   "execution_count": 8,
   "id": "061036d2",
   "metadata": {},
   "outputs": [
    {
     "data": {
      "text/plain": [
       "date                0\n",
       "area                0\n",
       "average_price       0\n",
       "code                0\n",
       "houses_sold        94\n",
       "no_of_crimes     6110\n",
       "dtype: int64"
      ]
     },
     "execution_count": 8,
     "metadata": {},
     "output_type": "execute_result"
    }
   ],
   "source": [
    "df.isnull().sum()"
   ]
  },
  {
   "cell_type": "markdown",
   "id": "e0d27736",
   "metadata": {},
   "source": [
    "dropping the na_values heavily affects the dataset, the author made the decision to drop the missing values in houses_sold, no_of_crimes will be replaced by 0"
   ]
  },
  {
   "cell_type": "code",
   "execution_count": 9,
   "id": "8a163b49",
   "metadata": {},
   "outputs": [],
   "source": [
    "#drop the houses_sold na_values\n",
    "\n",
    "df.dropna(axis='index', how='all', subset='houses_sold', inplace=True)"
   ]
  },
  {
   "cell_type": "code",
   "execution_count": 10,
   "id": "273c64da",
   "metadata": {},
   "outputs": [],
   "source": [
    "ave_crimes = df['no_of_crimes'].mean(axis=0)\n",
    "df['no_of_crimes'].fillna(ave_crimes, inplace=True)"
   ]
  },
  {
   "cell_type": "code",
   "execution_count": 11,
   "id": "f3720ab6",
   "metadata": {},
   "outputs": [
    {
     "data": {
      "text/plain": [
       "date             0\n",
       "area             0\n",
       "average_price    0\n",
       "code             0\n",
       "houses_sold      0\n",
       "no_of_crimes     0\n",
       "dtype: int64"
      ]
     },
     "execution_count": 11,
     "metadata": {},
     "output_type": "execute_result"
    }
   ],
   "source": [
    "#check again the missing values\n",
    "df.isnull().sum()"
   ]
  },
  {
   "cell_type": "markdown",
   "id": "9d173f75",
   "metadata": {},
   "source": [
    "### Step 2: Check for Duplicates"
   ]
  },
  {
   "cell_type": "code",
   "execution_count": 12,
   "id": "f9eb7005",
   "metadata": {},
   "outputs": [
    {
     "data": {
      "text/plain": [
       "0"
      ]
     },
     "execution_count": 12,
     "metadata": {},
     "output_type": "execute_result"
    }
   ],
   "source": [
    "df.duplicated().sum()"
   ]
  },
  {
   "cell_type": "markdown",
   "id": "ad4a33b6",
   "metadata": {},
   "source": [
    "there are no duplicates in the data"
   ]
  },
  {
   "cell_type": "markdown",
   "id": "a0f54216",
   "metadata": {},
   "source": [
    "### Step 3: check for the datatypes in the dataset to see if there is need to change the datatypes of some columns"
   ]
  },
  {
   "cell_type": "code",
   "execution_count": 13,
   "id": "7324ade4",
   "metadata": {},
   "outputs": [
    {
     "data": {
      "text/plain": [
       "date              object\n",
       "area              object\n",
       "average_price      int64\n",
       "code              object\n",
       "houses_sold      float64\n",
       "no_of_crimes     float64\n",
       "dtype: object"
      ]
     },
     "execution_count": 13,
     "metadata": {},
     "output_type": "execute_result"
    }
   ],
   "source": [
    "#check for the datatype\n",
    "df.dtypes"
   ]
  },
  {
   "cell_type": "code",
   "execution_count": 14,
   "id": "6604e993",
   "metadata": {},
   "outputs": [
    {
     "data": {
      "text/plain": [
       "date             datetime64[ns]\n",
       "area                     object\n",
       "average_price             int64\n",
       "code                     object\n",
       "houses_sold             float64\n",
       "no_of_crimes            float64\n",
       "dtype: object"
      ]
     },
     "execution_count": 14,
     "metadata": {},
     "output_type": "execute_result"
    }
   ],
   "source": [
    "#chnage the date datatype column to datetime\n",
    "df['date'] = pd.to_datetime(df['date'])\n",
    "\n",
    "#check the datatype again\n",
    "df.dtypes"
   ]
  },
  {
   "cell_type": "code",
   "execution_count": 15,
   "id": "6780dad2",
   "metadata": {},
   "outputs": [],
   "source": [
    "#the date datatype has successfully changed"
   ]
  },
  {
   "cell_type": "markdown",
   "id": "007a197f",
   "metadata": {},
   "source": [
    "### Step 3: Create the month date and year columns"
   ]
  },
  {
   "cell_type": "code",
   "execution_count": 16,
   "id": "18e833cc",
   "metadata": {},
   "outputs": [],
   "source": [
    "df['day_name'] = df['date'].dt.day_name()\n",
    "df['month'] = df['date'].dt.month\n",
    "df['year'] = df['date'].dt.year"
   ]
  },
  {
   "cell_type": "code",
   "execution_count": 17,
   "id": "2570cc0e",
   "metadata": {},
   "outputs": [
    {
     "data": {
      "text/html": [
       "<div>\n",
       "<style scoped>\n",
       "    .dataframe tbody tr th:only-of-type {\n",
       "        vertical-align: middle;\n",
       "    }\n",
       "\n",
       "    .dataframe tbody tr th {\n",
       "        vertical-align: top;\n",
       "    }\n",
       "\n",
       "    .dataframe thead th {\n",
       "        text-align: right;\n",
       "    }\n",
       "</style>\n",
       "<table border=\"1\" class=\"dataframe\">\n",
       "  <thead>\n",
       "    <tr style=\"text-align: right;\">\n",
       "      <th></th>\n",
       "      <th>date</th>\n",
       "      <th>area</th>\n",
       "      <th>average_price</th>\n",
       "      <th>code</th>\n",
       "      <th>houses_sold</th>\n",
       "      <th>no_of_crimes</th>\n",
       "      <th>day_name</th>\n",
       "      <th>month</th>\n",
       "      <th>year</th>\n",
       "    </tr>\n",
       "  </thead>\n",
       "  <tbody>\n",
       "    <tr>\n",
       "      <th>0</th>\n",
       "      <td>1995-01-01</td>\n",
       "      <td>city of london</td>\n",
       "      <td>91449</td>\n",
       "      <td>E09000001</td>\n",
       "      <td>17.0</td>\n",
       "      <td>2156.729627</td>\n",
       "      <td>Sunday</td>\n",
       "      <td>1</td>\n",
       "      <td>1995</td>\n",
       "    </tr>\n",
       "    <tr>\n",
       "      <th>1</th>\n",
       "      <td>1995-02-01</td>\n",
       "      <td>city of london</td>\n",
       "      <td>82203</td>\n",
       "      <td>E09000001</td>\n",
       "      <td>7.0</td>\n",
       "      <td>2156.729627</td>\n",
       "      <td>Wednesday</td>\n",
       "      <td>2</td>\n",
       "      <td>1995</td>\n",
       "    </tr>\n",
       "    <tr>\n",
       "      <th>2</th>\n",
       "      <td>1995-03-01</td>\n",
       "      <td>city of london</td>\n",
       "      <td>79121</td>\n",
       "      <td>E09000001</td>\n",
       "      <td>14.0</td>\n",
       "      <td>2156.729627</td>\n",
       "      <td>Wednesday</td>\n",
       "      <td>3</td>\n",
       "      <td>1995</td>\n",
       "    </tr>\n",
       "    <tr>\n",
       "      <th>3</th>\n",
       "      <td>1995-04-01</td>\n",
       "      <td>city of london</td>\n",
       "      <td>77101</td>\n",
       "      <td>E09000001</td>\n",
       "      <td>7.0</td>\n",
       "      <td>2156.729627</td>\n",
       "      <td>Saturday</td>\n",
       "      <td>4</td>\n",
       "      <td>1995</td>\n",
       "    </tr>\n",
       "    <tr>\n",
       "      <th>4</th>\n",
       "      <td>1995-05-01</td>\n",
       "      <td>city of london</td>\n",
       "      <td>84409</td>\n",
       "      <td>E09000001</td>\n",
       "      <td>10.0</td>\n",
       "      <td>2156.729627</td>\n",
       "      <td>Monday</td>\n",
       "      <td>5</td>\n",
       "      <td>1995</td>\n",
       "    </tr>\n",
       "  </tbody>\n",
       "</table>\n",
       "</div>"
      ],
      "text/plain": [
       "        date            area  average_price       code  houses_sold  \\\n",
       "0 1995-01-01  city of london          91449  E09000001         17.0   \n",
       "1 1995-02-01  city of london          82203  E09000001          7.0   \n",
       "2 1995-03-01  city of london          79121  E09000001         14.0   \n",
       "3 1995-04-01  city of london          77101  E09000001          7.0   \n",
       "4 1995-05-01  city of london          84409  E09000001         10.0   \n",
       "\n",
       "   no_of_crimes   day_name  month  year  \n",
       "0   2156.729627     Sunday      1  1995  \n",
       "1   2156.729627  Wednesday      2  1995  \n",
       "2   2156.729627  Wednesday      3  1995  \n",
       "3   2156.729627   Saturday      4  1995  \n",
       "4   2156.729627     Monday      5  1995  "
      ]
     },
     "execution_count": 17,
     "metadata": {},
     "output_type": "execute_result"
    }
   ],
   "source": [
    "#view the dataset\n",
    "df.head()"
   ]
  },
  {
   "cell_type": "markdown",
   "id": "cb58512b",
   "metadata": {},
   "source": [
    "the columns have been added"
   ]
  },
  {
   "cell_type": "markdown",
   "id": "fc9cf33d",
   "metadata": {},
   "source": [
    "#### step 3.2: change the value names of months into actual month names"
   ]
  },
  {
   "cell_type": "code",
   "execution_count": 18,
   "id": "1df2f756",
   "metadata": {},
   "outputs": [],
   "source": [
    "\n",
    "df['month'] = df['month'].replace({1:'Jan', 2:'Feb', 3:'Mar', 4:'Apr', 5:'May', 6:'Jun', 7:'Jul', 8:'Aug', 9:'Sep', 10:'Oct',\n",
    "                                  11:'Nov', 12:'Dec'})"
   ]
  },
  {
   "cell_type": "code",
   "execution_count": 19,
   "id": "a8367567",
   "metadata": {},
   "outputs": [
    {
     "data": {
      "text/html": [
       "<div>\n",
       "<style scoped>\n",
       "    .dataframe tbody tr th:only-of-type {\n",
       "        vertical-align: middle;\n",
       "    }\n",
       "\n",
       "    .dataframe tbody tr th {\n",
       "        vertical-align: top;\n",
       "    }\n",
       "\n",
       "    .dataframe thead th {\n",
       "        text-align: right;\n",
       "    }\n",
       "</style>\n",
       "<table border=\"1\" class=\"dataframe\">\n",
       "  <thead>\n",
       "    <tr style=\"text-align: right;\">\n",
       "      <th></th>\n",
       "      <th>date</th>\n",
       "      <th>area</th>\n",
       "      <th>average_price</th>\n",
       "      <th>code</th>\n",
       "      <th>houses_sold</th>\n",
       "      <th>no_of_crimes</th>\n",
       "      <th>day_name</th>\n",
       "      <th>month</th>\n",
       "      <th>year</th>\n",
       "    </tr>\n",
       "  </thead>\n",
       "  <tbody>\n",
       "    <tr>\n",
       "      <th>0</th>\n",
       "      <td>1995-01-01</td>\n",
       "      <td>city of london</td>\n",
       "      <td>91449</td>\n",
       "      <td>E09000001</td>\n",
       "      <td>17.0</td>\n",
       "      <td>2156.729627</td>\n",
       "      <td>Sunday</td>\n",
       "      <td>Jan</td>\n",
       "      <td>1995</td>\n",
       "    </tr>\n",
       "    <tr>\n",
       "      <th>1</th>\n",
       "      <td>1995-02-01</td>\n",
       "      <td>city of london</td>\n",
       "      <td>82203</td>\n",
       "      <td>E09000001</td>\n",
       "      <td>7.0</td>\n",
       "      <td>2156.729627</td>\n",
       "      <td>Wednesday</td>\n",
       "      <td>Feb</td>\n",
       "      <td>1995</td>\n",
       "    </tr>\n",
       "    <tr>\n",
       "      <th>2</th>\n",
       "      <td>1995-03-01</td>\n",
       "      <td>city of london</td>\n",
       "      <td>79121</td>\n",
       "      <td>E09000001</td>\n",
       "      <td>14.0</td>\n",
       "      <td>2156.729627</td>\n",
       "      <td>Wednesday</td>\n",
       "      <td>Mar</td>\n",
       "      <td>1995</td>\n",
       "    </tr>\n",
       "    <tr>\n",
       "      <th>3</th>\n",
       "      <td>1995-04-01</td>\n",
       "      <td>city of london</td>\n",
       "      <td>77101</td>\n",
       "      <td>E09000001</td>\n",
       "      <td>7.0</td>\n",
       "      <td>2156.729627</td>\n",
       "      <td>Saturday</td>\n",
       "      <td>Apr</td>\n",
       "      <td>1995</td>\n",
       "    </tr>\n",
       "    <tr>\n",
       "      <th>4</th>\n",
       "      <td>1995-05-01</td>\n",
       "      <td>city of london</td>\n",
       "      <td>84409</td>\n",
       "      <td>E09000001</td>\n",
       "      <td>10.0</td>\n",
       "      <td>2156.729627</td>\n",
       "      <td>Monday</td>\n",
       "      <td>May</td>\n",
       "      <td>1995</td>\n",
       "    </tr>\n",
       "  </tbody>\n",
       "</table>\n",
       "</div>"
      ],
      "text/plain": [
       "        date            area  average_price       code  houses_sold  \\\n",
       "0 1995-01-01  city of london          91449  E09000001         17.0   \n",
       "1 1995-02-01  city of london          82203  E09000001          7.0   \n",
       "2 1995-03-01  city of london          79121  E09000001         14.0   \n",
       "3 1995-04-01  city of london          77101  E09000001          7.0   \n",
       "4 1995-05-01  city of london          84409  E09000001         10.0   \n",
       "\n",
       "   no_of_crimes   day_name month  year  \n",
       "0   2156.729627     Sunday   Jan  1995  \n",
       "1   2156.729627  Wednesday   Feb  1995  \n",
       "2   2156.729627  Wednesday   Mar  1995  \n",
       "3   2156.729627   Saturday   Apr  1995  \n",
       "4   2156.729627     Monday   May  1995  "
      ]
     },
     "execution_count": 19,
     "metadata": {},
     "output_type": "execute_result"
    }
   ],
   "source": [
    "df.head()"
   ]
  },
  {
   "cell_type": "markdown",
   "id": "87633d4c",
   "metadata": {},
   "source": [
    "# Phase 3: Exploratory Data Anlysis"
   ]
  },
  {
   "cell_type": "markdown",
   "id": "21f93db6",
   "metadata": {},
   "source": [
    "* EDA is an approach to anaylse data inorder to summarize main characteristics of the data\n",
    "* It also helps to gain better understanding of the dataset\n",
    "* helps uncover relationships between different variables \n",
    "* extract the important variables for the problem being solved"
   ]
  },
  {
   "cell_type": "markdown",
   "id": "a319b01a",
   "metadata": {},
   "source": [
    "#### Q1: Show all the record where nummber 0f crimes = 0"
   ]
  },
  {
   "cell_type": "code",
   "execution_count": 20,
   "id": "4b388336",
   "metadata": {},
   "outputs": [
    {
     "data": {
      "text/html": [
       "<div>\n",
       "<style scoped>\n",
       "    .dataframe tbody tr th:only-of-type {\n",
       "        vertical-align: middle;\n",
       "    }\n",
       "\n",
       "    .dataframe tbody tr th {\n",
       "        vertical-align: top;\n",
       "    }\n",
       "\n",
       "    .dataframe thead th {\n",
       "        text-align: right;\n",
       "    }\n",
       "</style>\n",
       "<table border=\"1\" class=\"dataframe\">\n",
       "  <thead>\n",
       "    <tr style=\"text-align: right;\">\n",
       "      <th></th>\n",
       "      <th>date</th>\n",
       "      <th>area</th>\n",
       "      <th>average_price</th>\n",
       "      <th>code</th>\n",
       "      <th>houses_sold</th>\n",
       "      <th>no_of_crimes</th>\n",
       "      <th>day_name</th>\n",
       "      <th>month</th>\n",
       "      <th>year</th>\n",
       "    </tr>\n",
       "  </thead>\n",
       "  <tbody>\n",
       "    <tr>\n",
       "      <th>0</th>\n",
       "      <td>1995-01-01</td>\n",
       "      <td>city of london</td>\n",
       "      <td>91449</td>\n",
       "      <td>E09000001</td>\n",
       "      <td>17.0</td>\n",
       "      <td>2156.729627</td>\n",
       "      <td>Sunday</td>\n",
       "      <td>Jan</td>\n",
       "      <td>1995</td>\n",
       "    </tr>\n",
       "    <tr>\n",
       "      <th>1</th>\n",
       "      <td>1995-02-01</td>\n",
       "      <td>city of london</td>\n",
       "      <td>82203</td>\n",
       "      <td>E09000001</td>\n",
       "      <td>7.0</td>\n",
       "      <td>2156.729627</td>\n",
       "      <td>Wednesday</td>\n",
       "      <td>Feb</td>\n",
       "      <td>1995</td>\n",
       "    </tr>\n",
       "  </tbody>\n",
       "</table>\n",
       "</div>"
      ],
      "text/plain": [
       "        date            area  average_price       code  houses_sold  \\\n",
       "0 1995-01-01  city of london          91449  E09000001         17.0   \n",
       "1 1995-02-01  city of london          82203  E09000001          7.0   \n",
       "\n",
       "   no_of_crimes   day_name month  year  \n",
       "0   2156.729627     Sunday   Jan  1995  \n",
       "1   2156.729627  Wednesday   Feb  1995  "
      ]
     },
     "execution_count": 20,
     "metadata": {},
     "output_type": "execute_result"
    }
   ],
   "source": [
    "#view the dataset first\n",
    "df.head(2)"
   ]
  },
  {
   "cell_type": "code",
   "execution_count": 21,
   "id": "bc820e34",
   "metadata": {},
   "outputs": [
    {
     "data": {
      "text/html": [
       "<div>\n",
       "<style scoped>\n",
       "    .dataframe tbody tr th:only-of-type {\n",
       "        vertical-align: middle;\n",
       "    }\n",
       "\n",
       "    .dataframe tbody tr th {\n",
       "        vertical-align: top;\n",
       "    }\n",
       "\n",
       "    .dataframe thead th {\n",
       "        text-align: right;\n",
       "    }\n",
       "</style>\n",
       "<table border=\"1\" class=\"dataframe\">\n",
       "  <thead>\n",
       "    <tr style=\"text-align: right;\">\n",
       "      <th></th>\n",
       "      <th>date</th>\n",
       "      <th>area</th>\n",
       "      <th>average_price</th>\n",
       "      <th>code</th>\n",
       "      <th>houses_sold</th>\n",
       "      <th>no_of_crimes</th>\n",
       "      <th>day_name</th>\n",
       "      <th>month</th>\n",
       "      <th>year</th>\n",
       "    </tr>\n",
       "  </thead>\n",
       "  <tbody>\n",
       "    <tr>\n",
       "      <th>72</th>\n",
       "      <td>2001-01-01</td>\n",
       "      <td>city of london</td>\n",
       "      <td>284262</td>\n",
       "      <td>E09000001</td>\n",
       "      <td>24.0</td>\n",
       "      <td>0.0</td>\n",
       "      <td>Monday</td>\n",
       "      <td>Jan</td>\n",
       "      <td>2001</td>\n",
       "    </tr>\n",
       "    <tr>\n",
       "      <th>73</th>\n",
       "      <td>2001-02-01</td>\n",
       "      <td>city of london</td>\n",
       "      <td>198137</td>\n",
       "      <td>E09000001</td>\n",
       "      <td>37.0</td>\n",
       "      <td>0.0</td>\n",
       "      <td>Thursday</td>\n",
       "      <td>Feb</td>\n",
       "      <td>2001</td>\n",
       "    </tr>\n",
       "    <tr>\n",
       "      <th>74</th>\n",
       "      <td>2001-03-01</td>\n",
       "      <td>city of london</td>\n",
       "      <td>189033</td>\n",
       "      <td>E09000001</td>\n",
       "      <td>44.0</td>\n",
       "      <td>0.0</td>\n",
       "      <td>Thursday</td>\n",
       "      <td>Mar</td>\n",
       "      <td>2001</td>\n",
       "    </tr>\n",
       "    <tr>\n",
       "      <th>75</th>\n",
       "      <td>2001-04-01</td>\n",
       "      <td>city of london</td>\n",
       "      <td>205494</td>\n",
       "      <td>E09000001</td>\n",
       "      <td>38.0</td>\n",
       "      <td>0.0</td>\n",
       "      <td>Sunday</td>\n",
       "      <td>Apr</td>\n",
       "      <td>2001</td>\n",
       "    </tr>\n",
       "    <tr>\n",
       "      <th>76</th>\n",
       "      <td>2001-05-01</td>\n",
       "      <td>city of london</td>\n",
       "      <td>223459</td>\n",
       "      <td>E09000001</td>\n",
       "      <td>30.0</td>\n",
       "      <td>0.0</td>\n",
       "      <td>Tuesday</td>\n",
       "      <td>May</td>\n",
       "      <td>2001</td>\n",
       "    </tr>\n",
       "    <tr>\n",
       "      <th>...</th>\n",
       "      <td>...</td>\n",
       "      <td>...</td>\n",
       "      <td>...</td>\n",
       "      <td>...</td>\n",
       "      <td>...</td>\n",
       "      <td>...</td>\n",
       "      <td>...</td>\n",
       "      <td>...</td>\n",
       "      <td>...</td>\n",
       "    </tr>\n",
       "    <tr>\n",
       "      <th>178</th>\n",
       "      <td>2009-11-01</td>\n",
       "      <td>city of london</td>\n",
       "      <td>397909</td>\n",
       "      <td>E09000001</td>\n",
       "      <td>11.0</td>\n",
       "      <td>0.0</td>\n",
       "      <td>Sunday</td>\n",
       "      <td>Nov</td>\n",
       "      <td>2009</td>\n",
       "    </tr>\n",
       "    <tr>\n",
       "      <th>179</th>\n",
       "      <td>2009-12-01</td>\n",
       "      <td>city of london</td>\n",
       "      <td>411955</td>\n",
       "      <td>E09000001</td>\n",
       "      <td>16.0</td>\n",
       "      <td>0.0</td>\n",
       "      <td>Tuesday</td>\n",
       "      <td>Dec</td>\n",
       "      <td>2009</td>\n",
       "    </tr>\n",
       "    <tr>\n",
       "      <th>180</th>\n",
       "      <td>2010-01-01</td>\n",
       "      <td>city of london</td>\n",
       "      <td>464436</td>\n",
       "      <td>E09000001</td>\n",
       "      <td>20.0</td>\n",
       "      <td>0.0</td>\n",
       "      <td>Friday</td>\n",
       "      <td>Jan</td>\n",
       "      <td>2010</td>\n",
       "    </tr>\n",
       "    <tr>\n",
       "      <th>181</th>\n",
       "      <td>2010-02-01</td>\n",
       "      <td>city of london</td>\n",
       "      <td>490525</td>\n",
       "      <td>E09000001</td>\n",
       "      <td>9.0</td>\n",
       "      <td>0.0</td>\n",
       "      <td>Monday</td>\n",
       "      <td>Feb</td>\n",
       "      <td>2010</td>\n",
       "    </tr>\n",
       "    <tr>\n",
       "      <th>182</th>\n",
       "      <td>2010-03-01</td>\n",
       "      <td>city of london</td>\n",
       "      <td>498241</td>\n",
       "      <td>E09000001</td>\n",
       "      <td>15.0</td>\n",
       "      <td>0.0</td>\n",
       "      <td>Monday</td>\n",
       "      <td>Mar</td>\n",
       "      <td>2010</td>\n",
       "    </tr>\n",
       "  </tbody>\n",
       "</table>\n",
       "<p>104 rows × 9 columns</p>\n",
       "</div>"
      ],
      "text/plain": [
       "          date            area  average_price       code  houses_sold  \\\n",
       "72  2001-01-01  city of london         284262  E09000001         24.0   \n",
       "73  2001-02-01  city of london         198137  E09000001         37.0   \n",
       "74  2001-03-01  city of london         189033  E09000001         44.0   \n",
       "75  2001-04-01  city of london         205494  E09000001         38.0   \n",
       "76  2001-05-01  city of london         223459  E09000001         30.0   \n",
       "..         ...             ...            ...        ...          ...   \n",
       "178 2009-11-01  city of london         397909  E09000001         11.0   \n",
       "179 2009-12-01  city of london         411955  E09000001         16.0   \n",
       "180 2010-01-01  city of london         464436  E09000001         20.0   \n",
       "181 2010-02-01  city of london         490525  E09000001          9.0   \n",
       "182 2010-03-01  city of london         498241  E09000001         15.0   \n",
       "\n",
       "     no_of_crimes  day_name month  year  \n",
       "72            0.0    Monday   Jan  2001  \n",
       "73            0.0  Thursday   Feb  2001  \n",
       "74            0.0  Thursday   Mar  2001  \n",
       "75            0.0    Sunday   Apr  2001  \n",
       "76            0.0   Tuesday   May  2001  \n",
       "..            ...       ...   ...   ...  \n",
       "178           0.0    Sunday   Nov  2009  \n",
       "179           0.0   Tuesday   Dec  2009  \n",
       "180           0.0    Friday   Jan  2010  \n",
       "181           0.0    Monday   Feb  2010  \n",
       "182           0.0    Monday   Mar  2010  \n",
       "\n",
       "[104 rows x 9 columns]"
      ]
     },
     "execution_count": 21,
     "metadata": {},
     "output_type": "execute_result"
    }
   ],
   "source": [
    "df[df['no_of_crimes']==0]"
   ]
  },
  {
   "cell_type": "markdown",
   "id": "be1eccd3",
   "metadata": {},
   "source": [
    "104 record have the number of crimes being zero"
   ]
  },
  {
   "cell_type": "markdown",
   "id": "0a8ba086",
   "metadata": {},
   "source": [
    "#### Q2: Which year had highest number of houses sold"
   ]
  },
  {
   "cell_type": "code",
   "execution_count": 22,
   "id": "b18d72f2",
   "metadata": {},
   "outputs": [
    {
     "data": {
      "text/plain": [
       "year\n",
       "2002    132163.0\n",
       "2004    126778.0\n",
       "2001    124849.0\n",
       "2007    121246.0\n",
       "2006    120679.0\n",
       "2003    119798.0\n",
       "1999    119652.0\n",
       "2016    119302.0\n",
       "2000    105431.0\n",
       "1998    103581.0\n",
       "1997    102709.0\n",
       "2005    102289.0\n",
       "1996     93515.0\n",
       "2015     89783.0\n",
       "2014     86320.0\n",
       "2018     84466.0\n",
       "2017     84327.0\n",
       "2013     81041.0\n",
       "2009     75376.0\n",
       "2019     75079.0\n",
       "1995     72640.0\n",
       "2010     64635.0\n",
       "2008     62969.0\n",
       "2012     62396.0\n",
       "2011     61631.0\n",
       "Name: houses_sold, dtype: float64"
      ]
     },
     "execution_count": 22,
     "metadata": {},
     "output_type": "execute_result"
    }
   ],
   "source": [
    "df.groupby('year').houses_sold.max().sort_values(ascending=False)"
   ]
  },
  {
   "cell_type": "markdown",
   "id": "f4af1ff6",
   "metadata": {},
   "source": [
    "more houses were sold in 2002"
   ]
  },
  {
   "cell_type": "markdown",
   "id": "738f755a",
   "metadata": {},
   "source": [
    "#### Q3: does the number of crimes affect the average price of house show the visuals"
   ]
  },
  {
   "cell_type": "code",
   "execution_count": 23,
   "id": "675bb96d",
   "metadata": {},
   "outputs": [
    {
     "data": {
      "text/html": [
       "<div>\n",
       "<style scoped>\n",
       "    .dataframe tbody tr th:only-of-type {\n",
       "        vertical-align: middle;\n",
       "    }\n",
       "\n",
       "    .dataframe tbody tr th {\n",
       "        vertical-align: top;\n",
       "    }\n",
       "\n",
       "    .dataframe thead th {\n",
       "        text-align: right;\n",
       "    }\n",
       "</style>\n",
       "<table border=\"1\" class=\"dataframe\">\n",
       "  <thead>\n",
       "    <tr style=\"text-align: right;\">\n",
       "      <th></th>\n",
       "      <th>average_price</th>\n",
       "      <th>no_of_crimes</th>\n",
       "    </tr>\n",
       "  </thead>\n",
       "  <tbody>\n",
       "    <tr>\n",
       "      <th>average_price</th>\n",
       "      <td>1.000000</td>\n",
       "      <td>0.081882</td>\n",
       "    </tr>\n",
       "    <tr>\n",
       "      <th>no_of_crimes</th>\n",
       "      <td>0.081882</td>\n",
       "      <td>1.000000</td>\n",
       "    </tr>\n",
       "  </tbody>\n",
       "</table>\n",
       "</div>"
      ],
      "text/plain": [
       "               average_price  no_of_crimes\n",
       "average_price       1.000000      0.081882\n",
       "no_of_crimes        0.081882      1.000000"
      ]
     },
     "execution_count": 23,
     "metadata": {},
     "output_type": "execute_result"
    }
   ],
   "source": [
    "df[['average_price', 'no_of_crimes']].corr()"
   ]
  },
  {
   "cell_type": "markdown",
   "id": "c1da9b13",
   "metadata": {},
   "source": [
    "there is week correlation there hence number of crimes have little eeect on the cost of the house"
   ]
  },
  {
   "cell_type": "markdown",
   "id": "d2a7343e",
   "metadata": {},
   "source": [
    "#### Q4: how many houses were sold where number of crimes is greater than 1000"
   ]
  },
  {
   "cell_type": "code",
   "execution_count": 24,
   "id": "504af5d5",
   "metadata": {},
   "outputs": [
    {
     "data": {
      "text/plain": [
       "12976"
      ]
     },
     "execution_count": 24,
     "metadata": {},
     "output_type": "execute_result"
    }
   ],
   "source": [
    "filt = df['no_of_crimes'] > 1000\n",
    "df.loc[filt, 'no_of_crimes'].count()"
   ]
  },
  {
   "cell_type": "markdown",
   "id": "74df89c8",
   "metadata": {},
   "source": [
    "12976 houses were sold"
   ]
  },
  {
   "cell_type": "markdown",
   "id": "df19dfac",
   "metadata": {},
   "source": [
    "#### Q5: how many houses were sold in 2001 compared to 1995"
   ]
  },
  {
   "cell_type": "code",
   "execution_count": 25,
   "id": "643f3ae8",
   "metadata": {},
   "outputs": [
    {
     "data": {
      "text/html": [
       "<div>\n",
       "<style scoped>\n",
       "    .dataframe tbody tr th:only-of-type {\n",
       "        vertical-align: middle;\n",
       "    }\n",
       "\n",
       "    .dataframe tbody tr th {\n",
       "        vertical-align: top;\n",
       "    }\n",
       "\n",
       "    .dataframe thead th {\n",
       "        text-align: right;\n",
       "    }\n",
       "</style>\n",
       "<table border=\"1\" class=\"dataframe\">\n",
       "  <thead>\n",
       "    <tr style=\"text-align: right;\">\n",
       "      <th></th>\n",
       "      <th>date</th>\n",
       "      <th>area</th>\n",
       "      <th>average_price</th>\n",
       "      <th>code</th>\n",
       "      <th>houses_sold</th>\n",
       "      <th>no_of_crimes</th>\n",
       "      <th>day_name</th>\n",
       "      <th>month</th>\n",
       "      <th>year</th>\n",
       "    </tr>\n",
       "  </thead>\n",
       "  <tbody>\n",
       "    <tr>\n",
       "      <th>0</th>\n",
       "      <td>1995-01-01</td>\n",
       "      <td>city of london</td>\n",
       "      <td>91449</td>\n",
       "      <td>E09000001</td>\n",
       "      <td>17.0</td>\n",
       "      <td>2156.729627</td>\n",
       "      <td>Sunday</td>\n",
       "      <td>Jan</td>\n",
       "      <td>1995</td>\n",
       "    </tr>\n",
       "  </tbody>\n",
       "</table>\n",
       "</div>"
      ],
      "text/plain": [
       "        date            area  average_price       code  houses_sold  \\\n",
       "0 1995-01-01  city of london          91449  E09000001         17.0   \n",
       "\n",
       "   no_of_crimes day_name month  year  \n",
       "0   2156.729627   Sunday   Jan  1995  "
      ]
     },
     "execution_count": 25,
     "metadata": {},
     "output_type": "execute_result"
    }
   ],
   "source": [
    "df.head(1)"
   ]
  },
  {
   "cell_type": "code",
   "execution_count": 26,
   "id": "835cbc73",
   "metadata": {},
   "outputs": [
    {
     "data": {
      "text/plain": [
       "2661822.0"
      ]
     },
     "execution_count": 26,
     "metadata": {},
     "output_type": "execute_result"
    }
   ],
   "source": [
    "#start by houses sold in 2001\n",
    "filt = (df['year'] == 2001)\n",
    "df[filt].houses_sold.sum()"
   ]
  },
  {
   "cell_type": "markdown",
   "id": "bb85f1aa",
   "metadata": {},
   "source": [
    "houses sold in 2001"
   ]
  },
  {
   "cell_type": "code",
   "execution_count": 27,
   "id": "78546ac8",
   "metadata": {},
   "outputs": [
    {
     "data": {
      "text/plain": [
       "2086378.0"
      ]
     },
     "execution_count": 27,
     "metadata": {},
     "output_type": "execute_result"
    }
   ],
   "source": [
    "df[df['year'] == 1996].houses_sold.sum()"
   ]
  },
  {
   "cell_type": "markdown",
   "id": "af975e4d",
   "metadata": {},
   "source": [
    "vs the houses sold in 1996"
   ]
  },
  {
   "cell_type": "markdown",
   "id": "b96738a4",
   "metadata": {},
   "source": [
    "#### Q6: Which area has expensive houses"
   ]
  },
  {
   "cell_type": "code",
   "execution_count": 28,
   "id": "14f0880f",
   "metadata": {},
   "outputs": [
    {
     "data": {
      "text/plain": [
       "area\n",
       "kensington and chelsea    1463378\n",
       "westminster               1117408\n",
       "city of london             939912\n",
       "camden                     881212\n",
       "hammersmith and fulham     781175\n",
       "Name: average_price, dtype: int64"
      ]
     },
     "execution_count": 28,
     "metadata": {},
     "output_type": "execute_result"
    }
   ],
   "source": [
    "df.groupby('area').average_price.max().sort_values(ascending=False).head()"
   ]
  },
  {
   "cell_type": "markdown",
   "id": "3e756751",
   "metadata": {},
   "source": [
    "top 5 areas with expensive houses"
   ]
  },
  {
   "cell_type": "markdown",
   "id": "cd22a20a",
   "metadata": {},
   "source": [
    "#### Q7: which area has highest number of houses sold"
   ]
  },
  {
   "cell_type": "code",
   "execution_count": 29,
   "id": "f2df5cfe",
   "metadata": {},
   "outputs": [
    {
     "data": {
      "text/plain": [
       "area\n",
       "kensington and chelsea    220960397\n",
       "westminster               161716215\n",
       "camden                    139100010\n",
       "hammersmith and fulham    132106022\n",
       "city of london            126096537\n",
       "Name: average_price, dtype: int64"
      ]
     },
     "execution_count": 29,
     "metadata": {},
     "output_type": "execute_result"
    }
   ],
   "source": [
    "df.groupby('area').average_price.sum().sort_values(ascending=False).head()"
   ]
  },
  {
   "cell_type": "markdown",
   "id": "c610a754",
   "metadata": {},
   "source": [
    "quantities of houses soldm"
   ]
  },
  {
   "cell_type": "markdown",
   "id": "591ece39",
   "metadata": {},
   "source": [
    "#### Q8: does the number of years contribute the average price of the house"
   ]
  },
  {
   "cell_type": "code",
   "execution_count": 30,
   "id": "eae1d431",
   "metadata": {},
   "outputs": [
    {
     "data": {
      "text/plain": [
       "year\n",
       "2017    469978.938889\n",
       "2018    467240.674074\n",
       "2019    459934.468687\n",
       "2016    454884.461111\n",
       "2015    421356.100000\n",
       "2014    388208.392593\n",
       "2013    334589.564815\n",
       "2012    309409.501852\n",
       "2011    294819.138889\n",
       "2010    287559.164815\n",
       "2008    287478.972222\n",
       "2007    285944.279630\n",
       "2009    259296.896296\n",
       "2006    249303.109259\n",
       "2005    233314.512963\n",
       "2004    224604.720370\n",
       "2003    205099.553704\n",
       "2002    182190.731481\n",
       "2001    156932.355556\n",
       "2000    139979.442593\n",
       "1999    114256.172222\n",
       "1998    101815.855556\n",
       "1997     89618.350000\n",
       "1996     78904.183333\n",
       "1995     75880.235185\n",
       "Name: average_price, dtype: float64"
      ]
     },
     "execution_count": 30,
     "metadata": {},
     "output_type": "execute_result"
    }
   ],
   "source": [
    "df.groupby('year').average_price.mean().sort_values(ascending=False)"
   ]
  },
  {
   "cell_type": "markdown",
   "id": "965a3b8e",
   "metadata": {},
   "source": [
    "This shows houses were increasing their values as the years were added"
   ]
  },
  {
   "cell_type": "markdown",
   "id": "846f4c7d",
   "metadata": {},
   "source": [
    "#### Q9: What is the max and min number of crimes recorded per area"
   ]
  },
  {
   "cell_type": "code",
   "execution_count": 31,
   "id": "e7a13f52",
   "metadata": {},
   "outputs": [
    {
     "data": {
      "text/plain": [
       "area\n",
       "westminster               7227.000000\n",
       "lambeth                   4701.000000\n",
       "camden                    4558.000000\n",
       "southwark                 3821.000000\n",
       "newham                    3668.000000\n",
       "hackney                   3466.000000\n",
       "ealing                    3401.000000\n",
       "islington                 3384.000000\n",
       "tower hamlets             3316.000000\n",
       "croydon                   3263.000000\n",
       "haringey                  3199.000000\n",
       "wandsworth                3051.000000\n",
       "waltham forest            2941.000000\n",
       "brent                     2937.000000\n",
       "barnet                    2893.000000\n",
       "greenwich                 2853.000000\n",
       "hillingdon                2819.000000\n",
       "hounslow                  2817.000000\n",
       "lewisham                  2813.000000\n",
       "enfield                   2798.000000\n",
       "kensington and chelsea    2778.000000\n",
       "hammersmith and fulham    2645.000000\n",
       "bromley                   2637.000000\n",
       "redbridge                 2560.000000\n",
       "south west                2156.729627\n",
       "sutton                    2156.729627\n",
       "south east                2156.729627\n",
       "north west                2156.729627\n",
       "west midlands             2156.729627\n",
       "richmond upon thames      2156.729627\n",
       "outer london              2156.729627\n",
       "barking and dagenham      2156.729627\n",
       "north east                2156.729627\n",
       "merton                    2156.729627\n",
       "london                    2156.729627\n",
       "kingston upon thames      2156.729627\n",
       "inner london              2156.729627\n",
       "havering                  2156.729627\n",
       "harrow                    2156.729627\n",
       "england                   2156.729627\n",
       "east of england           2156.729627\n",
       "east midlands             2156.729627\n",
       "city of london            2156.729627\n",
       "bexley                    2156.729627\n",
       "yorks and the humber      2156.729627\n",
       "Name: no_of_crimes, dtype: float64"
      ]
     },
     "execution_count": 31,
     "metadata": {},
     "output_type": "execute_result"
    }
   ],
   "source": [
    "df.groupby('area').no_of_crimes.max().sort_values(ascending=False)"
   ]
  },
  {
   "cell_type": "markdown",
   "id": "6db2b446",
   "metadata": {},
   "source": [
    "westminster was the highest"
   ]
  },
  {
   "cell_type": "code",
   "execution_count": 32,
   "id": "4ea09fc1",
   "metadata": {},
   "outputs": [
    {
     "data": {
      "text/plain": [
       "area\n",
       "yorks and the humber      2156.729627\n",
       "inner london              2156.729627\n",
       "london                    2156.729627\n",
       "north east                2156.729627\n",
       "north west                2156.729627\n",
       "england                   2156.729627\n",
       "outer london              2156.729627\n",
       "east of england           2156.729627\n",
       "east midlands             2156.729627\n",
       "south east                2156.729627\n",
       "south west                2156.729627\n",
       "southwark                 2156.729627\n",
       "west midlands             2156.729627\n",
       "westminster               2156.729627\n",
       "lambeth                   2156.729627\n",
       "newham                    2130.000000\n",
       "camden                    2079.000000\n",
       "croydon                   2031.000000\n",
       "islington                 1871.000000\n",
       "ealing                    1871.000000\n",
       "hackney                   1870.000000\n",
       "brent                     1850.000000\n",
       "barnet                    1703.000000\n",
       "lewisham                  1675.000000\n",
       "tower hamlets             1646.000000\n",
       "enfield                   1635.000000\n",
       "wandsworth                1582.000000\n",
       "waltham forest            1575.000000\n",
       "haringey                  1536.000000\n",
       "hounslow                  1529.000000\n",
       "greenwich                 1513.000000\n",
       "redbridge                 1487.000000\n",
       "hillingdon                1445.000000\n",
       "bromley                   1441.000000\n",
       "kensington and chelsea    1347.000000\n",
       "hammersmith and fulham    1323.000000\n",
       "barking and dagenham      1217.000000\n",
       "havering                  1130.000000\n",
       "harrow                     937.000000\n",
       "bexley                     860.000000\n",
       "merton                     819.000000\n",
       "sutton                     787.000000\n",
       "richmond upon thames       700.000000\n",
       "kingston upon thames       692.000000\n",
       "city of london               0.000000\n",
       "Name: no_of_crimes, dtype: float64"
      ]
     },
     "execution_count": 32,
     "metadata": {},
     "output_type": "execute_result"
    }
   ],
   "source": [
    "df.groupby('area').no_of_crimes.min().sort_values(ascending=False)"
   ]
  },
  {
   "cell_type": "markdown",
   "id": "7aabd4e2",
   "metadata": {},
   "source": [
    "city of london had zero being the only area"
   ]
  },
  {
   "cell_type": "markdown",
   "id": "ec32368d",
   "metadata": {},
   "source": [
    "#### Q10: show all the record where the everage prices of the houses were less than 100000"
   ]
  },
  {
   "cell_type": "code",
   "execution_count": 33,
   "id": "2518692c",
   "metadata": {},
   "outputs": [
    {
     "data": {
      "text/html": [
       "<div>\n",
       "<style scoped>\n",
       "    .dataframe tbody tr th:only-of-type {\n",
       "        vertical-align: middle;\n",
       "    }\n",
       "\n",
       "    .dataframe tbody tr th {\n",
       "        vertical-align: top;\n",
       "    }\n",
       "\n",
       "    .dataframe thead th {\n",
       "        text-align: right;\n",
       "    }\n",
       "</style>\n",
       "<table border=\"1\" class=\"dataframe\">\n",
       "  <thead>\n",
       "    <tr style=\"text-align: right;\">\n",
       "      <th></th>\n",
       "      <th>date</th>\n",
       "      <th>area</th>\n",
       "      <th>average_price</th>\n",
       "      <th>code</th>\n",
       "      <th>houses_sold</th>\n",
       "      <th>no_of_crimes</th>\n",
       "      <th>day_name</th>\n",
       "      <th>month</th>\n",
       "      <th>year</th>\n",
       "    </tr>\n",
       "  </thead>\n",
       "  <tbody>\n",
       "    <tr>\n",
       "      <th>0</th>\n",
       "      <td>1995-01-01</td>\n",
       "      <td>city of london</td>\n",
       "      <td>91449</td>\n",
       "      <td>E09000001</td>\n",
       "      <td>17.0</td>\n",
       "      <td>2156.729627</td>\n",
       "      <td>Sunday</td>\n",
       "      <td>Jan</td>\n",
       "      <td>1995</td>\n",
       "    </tr>\n",
       "  </tbody>\n",
       "</table>\n",
       "</div>"
      ],
      "text/plain": [
       "        date            area  average_price       code  houses_sold  \\\n",
       "0 1995-01-01  city of london          91449  E09000001         17.0   \n",
       "\n",
       "   no_of_crimes day_name month  year  \n",
       "0   2156.729627   Sunday   Jan  1995  "
      ]
     },
     "execution_count": 33,
     "metadata": {},
     "output_type": "execute_result"
    }
   ],
   "source": [
    "df.head(1)"
   ]
  },
  {
   "cell_type": "code",
   "execution_count": 34,
   "id": "fa694e9e",
   "metadata": {},
   "outputs": [
    {
     "data": {
      "text/html": [
       "<div>\n",
       "<style scoped>\n",
       "    .dataframe tbody tr th:only-of-type {\n",
       "        vertical-align: middle;\n",
       "    }\n",
       "\n",
       "    .dataframe tbody tr th {\n",
       "        vertical-align: top;\n",
       "    }\n",
       "\n",
       "    .dataframe thead th {\n",
       "        text-align: right;\n",
       "    }\n",
       "</style>\n",
       "<table border=\"1\" class=\"dataframe\">\n",
       "  <thead>\n",
       "    <tr style=\"text-align: right;\">\n",
       "      <th></th>\n",
       "      <th>date</th>\n",
       "      <th>area</th>\n",
       "      <th>average_price</th>\n",
       "      <th>code</th>\n",
       "      <th>houses_sold</th>\n",
       "      <th>no_of_crimes</th>\n",
       "      <th>day_name</th>\n",
       "      <th>month</th>\n",
       "      <th>year</th>\n",
       "    </tr>\n",
       "  </thead>\n",
       "  <tbody>\n",
       "    <tr>\n",
       "      <th>0</th>\n",
       "      <td>1995-01-01</td>\n",
       "      <td>city of london</td>\n",
       "      <td>91449</td>\n",
       "      <td>E09000001</td>\n",
       "      <td>17.0</td>\n",
       "      <td>2156.729627</td>\n",
       "      <td>Sunday</td>\n",
       "      <td>Jan</td>\n",
       "      <td>1995</td>\n",
       "    </tr>\n",
       "    <tr>\n",
       "      <th>1</th>\n",
       "      <td>1995-02-01</td>\n",
       "      <td>city of london</td>\n",
       "      <td>82203</td>\n",
       "      <td>E09000001</td>\n",
       "      <td>7.0</td>\n",
       "      <td>2156.729627</td>\n",
       "      <td>Wednesday</td>\n",
       "      <td>Feb</td>\n",
       "      <td>1995</td>\n",
       "    </tr>\n",
       "    <tr>\n",
       "      <th>2</th>\n",
       "      <td>1995-03-01</td>\n",
       "      <td>city of london</td>\n",
       "      <td>79121</td>\n",
       "      <td>E09000001</td>\n",
       "      <td>14.0</td>\n",
       "      <td>2156.729627</td>\n",
       "      <td>Wednesday</td>\n",
       "      <td>Mar</td>\n",
       "      <td>1995</td>\n",
       "    </tr>\n",
       "    <tr>\n",
       "      <th>3</th>\n",
       "      <td>1995-04-01</td>\n",
       "      <td>city of london</td>\n",
       "      <td>77101</td>\n",
       "      <td>E09000001</td>\n",
       "      <td>7.0</td>\n",
       "      <td>2156.729627</td>\n",
       "      <td>Saturday</td>\n",
       "      <td>Apr</td>\n",
       "      <td>1995</td>\n",
       "    </tr>\n",
       "    <tr>\n",
       "      <th>4</th>\n",
       "      <td>1995-05-01</td>\n",
       "      <td>city of london</td>\n",
       "      <td>84409</td>\n",
       "      <td>E09000001</td>\n",
       "      <td>10.0</td>\n",
       "      <td>2156.729627</td>\n",
       "      <td>Monday</td>\n",
       "      <td>May</td>\n",
       "      <td>1995</td>\n",
       "    </tr>\n",
       "    <tr>\n",
       "      <th>...</th>\n",
       "      <td>...</td>\n",
       "      <td>...</td>\n",
       "      <td>...</td>\n",
       "      <td>...</td>\n",
       "      <td>...</td>\n",
       "      <td>...</td>\n",
       "      <td>...</td>\n",
       "      <td>...</td>\n",
       "      <td>...</td>\n",
       "    </tr>\n",
       "    <tr>\n",
       "      <th>13330</th>\n",
       "      <td>2001-11-01</td>\n",
       "      <td>england</td>\n",
       "      <td>95083</td>\n",
       "      <td>E92000001</td>\n",
       "      <td>109149.0</td>\n",
       "      <td>2156.729627</td>\n",
       "      <td>Thursday</td>\n",
       "      <td>Nov</td>\n",
       "      <td>2001</td>\n",
       "    </tr>\n",
       "    <tr>\n",
       "      <th>13331</th>\n",
       "      <td>2001-12-01</td>\n",
       "      <td>england</td>\n",
       "      <td>95992</td>\n",
       "      <td>E92000001</td>\n",
       "      <td>93329.0</td>\n",
       "      <td>2156.729627</td>\n",
       "      <td>Saturday</td>\n",
       "      <td>Dec</td>\n",
       "      <td>2001</td>\n",
       "    </tr>\n",
       "    <tr>\n",
       "      <th>13332</th>\n",
       "      <td>2002-01-01</td>\n",
       "      <td>england</td>\n",
       "      <td>96215</td>\n",
       "      <td>E92000001</td>\n",
       "      <td>71678.0</td>\n",
       "      <td>2156.729627</td>\n",
       "      <td>Tuesday</td>\n",
       "      <td>Jan</td>\n",
       "      <td>2002</td>\n",
       "    </tr>\n",
       "    <tr>\n",
       "      <th>13333</th>\n",
       "      <td>2002-02-01</td>\n",
       "      <td>england</td>\n",
       "      <td>96676</td>\n",
       "      <td>E92000001</td>\n",
       "      <td>77131.0</td>\n",
       "      <td>2156.729627</td>\n",
       "      <td>Friday</td>\n",
       "      <td>Feb</td>\n",
       "      <td>2002</td>\n",
       "    </tr>\n",
       "    <tr>\n",
       "      <th>13334</th>\n",
       "      <td>2002-03-01</td>\n",
       "      <td>england</td>\n",
       "      <td>98962</td>\n",
       "      <td>E92000001</td>\n",
       "      <td>102828.0</td>\n",
       "      <td>2156.729627</td>\n",
       "      <td>Friday</td>\n",
       "      <td>Mar</td>\n",
       "      <td>2002</td>\n",
       "    </tr>\n",
       "  </tbody>\n",
       "</table>\n",
       "<p>2205 rows × 9 columns</p>\n",
       "</div>"
      ],
      "text/plain": [
       "            date            area  average_price       code  houses_sold  \\\n",
       "0     1995-01-01  city of london          91449  E09000001         17.0   \n",
       "1     1995-02-01  city of london          82203  E09000001          7.0   \n",
       "2     1995-03-01  city of london          79121  E09000001         14.0   \n",
       "3     1995-04-01  city of london          77101  E09000001          7.0   \n",
       "4     1995-05-01  city of london          84409  E09000001         10.0   \n",
       "...          ...             ...            ...        ...          ...   \n",
       "13330 2001-11-01         england          95083  E92000001     109149.0   \n",
       "13331 2001-12-01         england          95992  E92000001      93329.0   \n",
       "13332 2002-01-01         england          96215  E92000001      71678.0   \n",
       "13333 2002-02-01         england          96676  E92000001      77131.0   \n",
       "13334 2002-03-01         england          98962  E92000001     102828.0   \n",
       "\n",
       "       no_of_crimes   day_name month  year  \n",
       "0       2156.729627     Sunday   Jan  1995  \n",
       "1       2156.729627  Wednesday   Feb  1995  \n",
       "2       2156.729627  Wednesday   Mar  1995  \n",
       "3       2156.729627   Saturday   Apr  1995  \n",
       "4       2156.729627     Monday   May  1995  \n",
       "...             ...        ...   ...   ...  \n",
       "13330   2156.729627   Thursday   Nov  2001  \n",
       "13331   2156.729627   Saturday   Dec  2001  \n",
       "13332   2156.729627    Tuesday   Jan  2002  \n",
       "13333   2156.729627     Friday   Feb  2002  \n",
       "13334   2156.729627     Friday   Mar  2002  \n",
       "\n",
       "[2205 rows x 9 columns]"
      ]
     },
     "execution_count": 34,
     "metadata": {},
     "output_type": "execute_result"
    }
   ],
   "source": [
    "df[df['average_price'] < 100000]"
   ]
  },
  {
   "cell_type": "markdown",
   "id": "dd157f40",
   "metadata": {},
   "source": [
    "#### Q11: on which day were highest number of houses sold"
   ]
  },
  {
   "cell_type": "code",
   "execution_count": 35,
   "id": "85b7c0af",
   "metadata": {},
   "outputs": [
    {
     "data": {
      "text/plain": [
       "day_name\n",
       "Thursday     7970531.0\n",
       "Wednesday    7570749.0\n",
       "Friday       7512736.0\n",
       "Monday       7452363.0\n",
       "Tuesday      7373678.0\n",
       "Sunday       7258970.0\n",
       "Saturday     7254664.0\n",
       "Name: houses_sold, dtype: float64"
      ]
     },
     "execution_count": 35,
     "metadata": {},
     "output_type": "execute_result"
    }
   ],
   "source": [
    "df.groupby('day_name').houses_sold.sum().sort_values(ascending=False)"
   ]
  },
  {
   "cell_type": "markdown",
   "id": "8fea269a",
   "metadata": {},
   "source": [
    "most houses were sold Thursday"
   ]
  },
  {
   "cell_type": "markdown",
   "id": "069f3771",
   "metadata": {},
   "source": [
    "#### Q12: how many houses were sold between 2015 to 2019"
   ]
  },
  {
   "cell_type": "code",
   "execution_count": 36,
   "id": "bea277da",
   "metadata": {},
   "outputs": [
    {
     "data": {
      "text/plain": [
       "5778043.0"
      ]
     },
     "execution_count": 36,
     "metadata": {},
     "output_type": "execute_result"
    }
   ],
   "source": [
    "filt = (df['year'] > 2015) & (df['year']<2019)\n",
    "df[filt].houses_sold.sum()"
   ]
  },
  {
   "cell_type": "markdown",
   "id": "05163ff4",
   "metadata": {},
   "source": [
    "the houses sold between the given interval"
   ]
  },
  {
   "cell_type": "markdown",
   "id": "94cccabc",
   "metadata": {},
   "source": [
    "#### Q13: Normalise the average price columns and the houses sold columns and create new columns for that "
   ]
  },
  {
   "cell_type": "code",
   "execution_count": 37,
   "id": "155a1d11",
   "metadata": {},
   "outputs": [],
   "source": [
    "df['average_price_norma'] = df['average_price']/df['average_price'].max()\n",
    "df['houses_sold_norma'] = df['houses_sold']/df['houses_sold'].max()"
   ]
  },
  {
   "cell_type": "code",
   "execution_count": 38,
   "id": "259375bc",
   "metadata": {},
   "outputs": [
    {
     "data": {
      "text/html": [
       "<div>\n",
       "<style scoped>\n",
       "    .dataframe tbody tr th:only-of-type {\n",
       "        vertical-align: middle;\n",
       "    }\n",
       "\n",
       "    .dataframe tbody tr th {\n",
       "        vertical-align: top;\n",
       "    }\n",
       "\n",
       "    .dataframe thead th {\n",
       "        text-align: right;\n",
       "    }\n",
       "</style>\n",
       "<table border=\"1\" class=\"dataframe\">\n",
       "  <thead>\n",
       "    <tr style=\"text-align: right;\">\n",
       "      <th></th>\n",
       "      <th>date</th>\n",
       "      <th>area</th>\n",
       "      <th>average_price</th>\n",
       "      <th>code</th>\n",
       "      <th>houses_sold</th>\n",
       "      <th>no_of_crimes</th>\n",
       "      <th>day_name</th>\n",
       "      <th>month</th>\n",
       "      <th>year</th>\n",
       "      <th>average_price_norma</th>\n",
       "      <th>houses_sold_norma</th>\n",
       "    </tr>\n",
       "  </thead>\n",
       "  <tbody>\n",
       "    <tr>\n",
       "      <th>0</th>\n",
       "      <td>1995-01-01</td>\n",
       "      <td>city of london</td>\n",
       "      <td>91449</td>\n",
       "      <td>E09000001</td>\n",
       "      <td>17.0</td>\n",
       "      <td>2156.729627</td>\n",
       "      <td>Sunday</td>\n",
       "      <td>Jan</td>\n",
       "      <td>1995</td>\n",
       "      <td>0.062492</td>\n",
       "      <td>0.000129</td>\n",
       "    </tr>\n",
       "    <tr>\n",
       "      <th>1</th>\n",
       "      <td>1995-02-01</td>\n",
       "      <td>city of london</td>\n",
       "      <td>82203</td>\n",
       "      <td>E09000001</td>\n",
       "      <td>7.0</td>\n",
       "      <td>2156.729627</td>\n",
       "      <td>Wednesday</td>\n",
       "      <td>Feb</td>\n",
       "      <td>1995</td>\n",
       "      <td>0.056173</td>\n",
       "      <td>0.000053</td>\n",
       "    </tr>\n",
       "  </tbody>\n",
       "</table>\n",
       "</div>"
      ],
      "text/plain": [
       "        date            area  average_price       code  houses_sold  \\\n",
       "0 1995-01-01  city of london          91449  E09000001         17.0   \n",
       "1 1995-02-01  city of london          82203  E09000001          7.0   \n",
       "\n",
       "   no_of_crimes   day_name month  year  average_price_norma  houses_sold_norma  \n",
       "0   2156.729627     Sunday   Jan  1995             0.062492           0.000129  \n",
       "1   2156.729627  Wednesday   Feb  1995             0.056173           0.000053  "
      ]
     },
     "execution_count": 38,
     "metadata": {},
     "output_type": "execute_result"
    }
   ],
   "source": [
    "df.head(2)"
   ]
  },
  {
   "cell_type": "markdown",
   "id": "9ca28211",
   "metadata": {},
   "source": [
    "the data above has been normalised looking at the columns"
   ]
  },
  {
   "cell_type": "markdown",
   "id": "31b5a766",
   "metadata": {},
   "source": [
    "# Phase 4: Data Visualisation"
   ]
  },
  {
   "cell_type": "markdown",
   "id": "4e22d529",
   "metadata": {},
   "source": [
    "* The purpose of data visualization is to visually represent data in a way that allows people to quickly and easily understand patterns, relationships, and trends in the data. By creating visual representations of data, we can make complex information more accessible and understandable, which can lead to insights and actionable outcomes."
   ]
  },
  {
   "cell_type": "markdown",
   "id": "37e9404b",
   "metadata": {},
   "source": [
    "### 4.1: Max Houses Sold per Year"
   ]
  },
  {
   "cell_type": "code",
   "execution_count": 39,
   "id": "60ab32ce",
   "metadata": {},
   "outputs": [
    {
     "data": {
      "image/png": "[encoded data removed]",
      "text/plain": [
       "<Figure size 640x480 with 1 Axes>"
      ]
     },
     "metadata": {},
     "output_type": "display_data"
    }
   ],
   "source": [
    "\n",
    "\n",
    "# perform the groupby operation and sort the result in descending order\n",
    "max_houses_sold = df.groupby('year').houses_sold.max().sort_values(ascending=False)\n",
    "\n",
    "# plot the result as a bar chart\n",
    "plt.bar(max_houses_sold.index, max_houses_sold.values)\n",
    "plt.xlabel('year')\n",
    "plt.ylabel('Max Houses Sold')\n",
    "plt.title('Max Houses Sold per Year')\n",
    "plt.show()\n"
   ]
  },
  {
   "cell_type": "markdown",
   "id": "217a42de",
   "metadata": {},
   "source": [
    "##### * **key takeaway:** 2002 had more number of houses sold, and more houses were sold in the early years"
   ]
  },
  {
   "cell_type": "markdown",
   "id": "67abc84e",
   "metadata": {},
   "source": [
    "### 4.2: Correlation Matrix: Average Price vs. Number of Crimes"
   ]
  },
  {
   "cell_type": "code",
   "execution_count": 40,
   "id": "626e6591",
   "metadata": {},
   "outputs": [
    {
     "data": {
      "image/png": "[encoded data removed]",
      "text/plain": [
       "<Figure size 640x480 with 2 Axes>"
      ]
     },
     "metadata": {},
     "output_type": "display_data"
    }
   ],
   "source": [
    "import seaborn as sns\n",
    "\n",
    "# assuming `df` is the pandas dataframe you are working with\n",
    "\n",
    "# calculate the correlation matrix\n",
    "corr_matrix = df[['average_price', 'no_of_crimes']].corr()\n",
    "\n",
    "# plot the correlation matrix as a heatmap\n",
    "sns.heatmap(corr_matrix, annot=True, cmap='coolwarm')\n",
    "plt.title('Correlation Matrix: Average Price vs. Number of Crimes')\n",
    "plt.show()\n"
   ]
  },
  {
   "cell_type": "markdown",
   "id": "36cdc75a",
   "metadata": {},
   "source": [
    "##### * **key takeaway:** number of crimes barely aafect the average price"
   ]
  },
  {
   "cell_type": "markdown",
   "id": "2f88fff2",
   "metadata": {},
   "source": [
    "### 4.3: Total Average Price by Area"
   ]
  },
  {
   "cell_type": "code",
   "execution_count": 41,
   "id": "d59d98a5",
   "metadata": {},
   "outputs": [
    {
     "data": {
      "image/png": "[encoded data removed]",
      "text/plain": [
       "<Figure size 1000x600 with 1 Axes>"
      ]
     },
     "metadata": {},
     "output_type": "display_data"
    }
   ],
   "source": [
    "\n",
    "\n",
    "# perform the groupby operation and sort the result in descending order\n",
    "total_price_by_area = df.groupby('area').average_price.sum().sort_values(ascending=False).head()\n",
    "\n",
    "# plot the result as a bar chart\n",
    "fig, ax = plt.subplots(figsize=(10, 6))\n",
    "plt.bar(total_price_by_area.index, total_price_by_area.values)\n",
    "plt.xlabel('Area')\n",
    "plt.ylabel('Total Average Price')\n",
    "plt.title('Total Average Price by Area')\n",
    "plt.show()\n"
   ]
  },
  {
   "cell_type": "markdown",
   "id": "a6f522b5",
   "metadata": {},
   "source": [
    "##### * **key takeaway:** kensington and chelsea have more prices or more expensive in the top 5 list"
   ]
  },
  {
   "cell_type": "markdown",
   "id": "4d9c2a1f",
   "metadata": {},
   "source": [
    "### 4.4: Max Average Price by Area"
   ]
  },
  {
   "cell_type": "code",
   "execution_count": 92,
   "id": "320f636c",
   "metadata": {},
   "outputs": [
    {
     "data": {
      "image/png": "[encoded data removed]",
      "text/plain": [
       "<Figure size 1000x600 with 1 Axes>"
      ]
     },
     "metadata": {},
     "output_type": "display_data"
    }
   ],
   "source": [
    "import matplotlib.pyplot as plt\n",
    "\n",
    "# assuming `df` is the pandas dataframe you are working with\n",
    "\n",
    "# perform the groupby operation and sort the result in descending order\n",
    "fig, ax = plt.subplots(figsize=(10, 6))\n",
    "max_price_by_area = df.groupby('area').average_price.max().sort_values(ascending=False).head()\n",
    "\n",
    "# plot the result as a bar chart\n",
    "plt.bar(max_price_by_area.index, max_price_by_area.values)\n",
    "\n",
    "plt.xlabel('Area')\n",
    "plt.ylabel('Max Average Price')\n",
    "plt.title('Max Average Price by Area')\n",
    "plt.show()\n"
   ]
  },
  {
   "cell_type": "markdown",
   "id": "88f77b62",
   "metadata": {},
   "source": [
    "### 4.5: Max Number of Crimes by Area"
   ]
  },
  {
   "cell_type": "code",
   "execution_count": 47,
   "id": "19ae67f2",
   "metadata": {},
   "outputs": [
    {
     "data": {
      "image/png": "[encoded data removed]",
      "text/plain": [
       "<Figure size 1200x600 with 1 Axes>"
      ]
     },
     "metadata": {},
     "output_type": "display_data"
    }
   ],
   "source": [
    "\n",
    "\n",
    "# perform the groupby operation and sort the result in descending order\n",
    "fig, ax = plt.subplots(figsize=(12, 6))\n",
    "max_crimes_by_area = df.groupby('area').no_of_crimes.max().sort_values(ascending=False).head(10)\n",
    "\n",
    "# plot the result as a bar chart\n",
    "plt.bar(max_crimes_by_area.index, max_crimes_by_area.values)\n",
    "plt.xlabel('Area')\n",
    "plt.ylabel('Max Number of Crimes')\n",
    "plt.title('Max Number of Crimes by Area')\n",
    "plt.show()\n"
   ]
  },
  {
   "cell_type": "markdown",
   "id": "efc5320e",
   "metadata": {},
   "source": [
    "##### * **key takeaway:** more crimes have occured inwestminster"
   ]
  },
  {
   "cell_type": "markdown",
   "id": "8b1e3fb9",
   "metadata": {},
   "source": [
    "### 4.6: Mean average price by year"
   ]
  },
  {
   "cell_type": "code",
   "execution_count": 44,
   "id": "e1c8887b",
   "metadata": {},
   "outputs": [
    {
     "data": {
      "image/png": "[encoded data removed]",
      "text/plain": [
       "<Figure size 640x480 with 1 Axes>"
      ]
     },
     "metadata": {},
     "output_type": "display_data"
    }
   ],
   "source": [
    "\n",
    "\n",
    "grouped_df = df.groupby('year').average_price.mean().sort_values(ascending=False)\n",
    "plt.bar(grouped_df.index, grouped_df.values)\n",
    "plt.xlabel('Year')\n",
    "plt.ylabel('Average price')\n",
    "plt.title('Mean average price by year')\n",
    "plt.show()\n"
   ]
  },
  {
   "cell_type": "markdown",
   "id": "85586590",
   "metadata": {},
   "source": [
    "##### * **key takeaway:** price of houses increase as years increase"
   ]
  },
  {
   "cell_type": "markdown",
   "id": "7fd08c7e",
   "metadata": {},
   "source": [
    "#### Further data Visualization was done in powerbi:"
   ]
  },
  {
   "cell_type": "markdown",
   "id": "266d4c3c",
   "metadata": {},
   "source": [
    "## Author: TamiriraIshe Nyevera\n",
    "\n",
    "## Date: 8 January 2023\n",
    "\n",
    "\n",
    "\n",
    "* #### LinkedIn profile Link: [My LinkedIn Profile](https://www.linkedin.com/in/tamiriraishe-nyevera-2b51671b5/)\n",
    "\n",
    "* #### Github link:[Github profile](https://github.com/Tamie-AI-Tech)\n",
    "\n",
    "* #### Kaggle Link: [Kaggle Profile](https://www.kaggle.com/tamiriraishenyevera)"
   ]
  },
  {
   "cell_type": "code",
   "execution_count": null,
   "id": "b56a2c7f",
   "metadata": {},
   "outputs": [],
   "source": []
  }
 ],
 "metadata": {
  "kernelspec": {
   "display_name": "Python 3 (ipykernel)",
   "language": "python",
   "name": "python3"
  },
  "language_info": {
   "codemirror_mode": {
    "name": "ipython",
    "version": 3
   },
   "file_extension": ".py",
   "mimetype": "text/x-python",
   "name": "python",
   "nbconvert_exporter": "python",
   "pygments_lexer": "ipython3",
   "version": "3.9.13"
  },
  "toc": {
   "base_numbering": 1,
   "nav_menu": {},
   "number_sections": true,
   "sideBar": true,
   "skip_h1_title": false,
   "title_cell": "Table of Contents",
   "title_sidebar": "Contents",
   "toc_cell": false,
   "toc_position": {},
   "toc_section_display": true,
   "toc_window_display": true
  }
 },
 "nbformat": 4,
 "nbformat_minor": 5
}
