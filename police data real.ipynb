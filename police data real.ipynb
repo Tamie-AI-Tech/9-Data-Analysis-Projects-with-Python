{
 "cells": [
  {
   "cell_type": "markdown",
   "id": "eb8c8a7c",
   "metadata": {},
   "source": [
    "### Title: Real world Project with python- Police data analysis"
   ]
  },
  {
   "cell_type": "markdown",
   "id": "a97f7ade",
   "metadata": {},
   "source": [
    "![](police.jpg)"
   ]
  },
  {
   "cell_type": "markdown",
   "id": "99657299",
   "metadata": {},
   "source": [
    "\n",
    "\n",
    "\n",
    "\n",
    "\n",
    "* #### LinkedIn profile Link: [My LinkedIn Profile](https://www.linkedin.com/in/tamiriraishe-nyevera-2b51671b5/)\n",
    "\n",
    "\n",
    "* #### Github Link:[Github profile](https://github.com/Tamie-AI-Tech)\n",
    "\n",
    "* #### Kaggle Link: [Kaggle Profile](https://www.kaggle.com/tamiriraishenyevera)\n",
    "\n",
    "* #### PowerBI visualisation imbedded code:[Power data Viz link](https://app.powerbi.com/view?r=eyJrIjoiZmVlZDUwMzQtNmVmNS00MjEzLThjMDktOWY2YzgwYzNhZDlhIiwidCI6IjQ0ZGJiOWQ3LTM3N2QtNDBkZS1hZGI4LTYzNTlkYWQ4MTBiZiJ9)"
   ]
  },
  {
   "cell_type": "markdown",
   "id": "7ba6582a",
   "metadata": {},
   "source": [
    "#### Introduction"
   ]
  },
  {
   "cell_type": "markdown",
   "id": "13e2d7ea",
   "metadata": {},
   "source": [
    "* The following police dataset contains the infomation about different drivers, with different races that were arrested, almost arrested after having commited certain crimes such as speeding and so forth\n",
    "\n",
    "\n",
    "* The data is a csv file and analysis is done using pandas \n",
    "\n",
    "* The data will be saved and exported to power bi for good visualisations\n",
    "\n",
    "* matplotlib will be used for some data visualisations to get the inisghts of the data"
   ]
  },
  {
   "cell_type": "markdown",
   "id": "d07f8a7b",
   "metadata": {},
   "source": [
    "#### Questions to answer"
   ]
  },
  {
   "cell_type": "markdown",
   "id": "84045fd3",
   "metadata": {},
   "source": [
    "These Questions will be answered under phase3: of the data analysis \n",
    "    \n",
    "\n",
    "\n",
    "* Group the gender race\n",
    "* how many male and females were arrested\n",
    "* how many male and females were arrested for speeding\n",
    "* Does gender affects who gets searched during a stop\n",
    "* Compare age distrubution for each violation\n",
    "* Which month had more females arrested for speeding\n",
    "* How many males were arrested on sunday\n",
    "* which race had more people arrested for drugs\n",
    "* which driver age was arrested the most\n",
    "* Which violation raw had more arrests\n",
    "* how many people were stopped and  not arrested in each day\n",
    "\n",
    "\n",
    "They will help in the story telling of in this data"
   ]
  },
  {
   "cell_type": "markdown",
   "id": "0d42451b",
   "metadata": {},
   "source": [
    "# Phase 1: Data Preparation"
   ]
  },
  {
   "cell_type": "markdown",
   "id": "5a6da2ad",
   "metadata": {},
   "source": [
    "This step involves data importation from different sources, libraries import and also the general over view of data to be used is given"
   ]
  },
  {
   "cell_type": "code",
   "execution_count": 5,
   "id": "aba84304",
   "metadata": {},
   "outputs": [],
   "source": [
    "import pandas as pd               #for data loading and manipulation\n",
    "\n",
    "import numpy as np                #for stastical analysis\n",
    "\n",
    "import matplotlib.pyplot as plt        #for data visualisation\n",
    "import seaborn as sns\n",
    "\n",
    "import matplotlib\n",
    "%matplotlib inline"
   ]
  },
  {
   "cell_type": "code",
   "execution_count": 6,
   "id": "cfdc7e64",
   "metadata": {},
   "outputs": [],
   "source": [
    "na_vals = ['nan', 'NaN', ' ', ' missing', 'Missing', 'naN', None]     # a list containing all the values to be deemed as null values\n",
    "\n",
    "df = pd.read_csv('3. Police Data.csv', na_values=na_vals)"
   ]
  },
  {
   "cell_type": "code",
   "execution_count": 7,
   "id": "e974f6e1",
   "metadata": {},
   "outputs": [
    {
     "data": {
      "text/html": [
       "<div>\n",
       "<style scoped>\n",
       "    .dataframe tbody tr th:only-of-type {\n",
       "        vertical-align: middle;\n",
       "    }\n",
       "\n",
       "    .dataframe tbody tr th {\n",
       "        vertical-align: top;\n",
       "    }\n",
       "\n",
       "    .dataframe thead th {\n",
       "        text-align: right;\n",
       "    }\n",
       "</style>\n",
       "<table border=\"1\" class=\"dataframe\">\n",
       "  <thead>\n",
       "    <tr style=\"text-align: right;\">\n",
       "      <th></th>\n",
       "      <th>stop_date</th>\n",
       "      <th>stop_time</th>\n",
       "      <th>country_name</th>\n",
       "      <th>driver_gender</th>\n",
       "      <th>driver_age_raw</th>\n",
       "      <th>driver_age</th>\n",
       "      <th>driver_race</th>\n",
       "      <th>violation_raw</th>\n",
       "      <th>violation</th>\n",
       "      <th>search_conducted</th>\n",
       "      <th>search_type</th>\n",
       "      <th>stop_outcome</th>\n",
       "      <th>is_arrested</th>\n",
       "      <th>stop_duration</th>\n",
       "      <th>drugs_related_stop</th>\n",
       "    </tr>\n",
       "  </thead>\n",
       "  <tbody>\n",
       "    <tr>\n",
       "      <th>0</th>\n",
       "      <td>1/2/2005</td>\n",
       "      <td>1:55</td>\n",
       "      <td>NaN</td>\n",
       "      <td>M</td>\n",
       "      <td>1985.0</td>\n",
       "      <td>20.0</td>\n",
       "      <td>White</td>\n",
       "      <td>Speeding</td>\n",
       "      <td>Speeding</td>\n",
       "      <td>False</td>\n",
       "      <td>NaN</td>\n",
       "      <td>Citation</td>\n",
       "      <td>False</td>\n",
       "      <td>0-15 Min</td>\n",
       "      <td>False</td>\n",
       "    </tr>\n",
       "    <tr>\n",
       "      <th>1</th>\n",
       "      <td>1/18/2005</td>\n",
       "      <td>8:15</td>\n",
       "      <td>NaN</td>\n",
       "      <td>M</td>\n",
       "      <td>1965.0</td>\n",
       "      <td>40.0</td>\n",
       "      <td>White</td>\n",
       "      <td>Speeding</td>\n",
       "      <td>Speeding</td>\n",
       "      <td>False</td>\n",
       "      <td>NaN</td>\n",
       "      <td>Citation</td>\n",
       "      <td>False</td>\n",
       "      <td>0-15 Min</td>\n",
       "      <td>False</td>\n",
       "    </tr>\n",
       "    <tr>\n",
       "      <th>2</th>\n",
       "      <td>1/23/2005</td>\n",
       "      <td>23:15</td>\n",
       "      <td>NaN</td>\n",
       "      <td>M</td>\n",
       "      <td>1972.0</td>\n",
       "      <td>33.0</td>\n",
       "      <td>White</td>\n",
       "      <td>Speeding</td>\n",
       "      <td>Speeding</td>\n",
       "      <td>False</td>\n",
       "      <td>NaN</td>\n",
       "      <td>Citation</td>\n",
       "      <td>False</td>\n",
       "      <td>0-15 Min</td>\n",
       "      <td>False</td>\n",
       "    </tr>\n",
       "    <tr>\n",
       "      <th>3</th>\n",
       "      <td>2/20/2005</td>\n",
       "      <td>17:15</td>\n",
       "      <td>NaN</td>\n",
       "      <td>M</td>\n",
       "      <td>1986.0</td>\n",
       "      <td>19.0</td>\n",
       "      <td>White</td>\n",
       "      <td>Call for Service</td>\n",
       "      <td>Other</td>\n",
       "      <td>False</td>\n",
       "      <td>NaN</td>\n",
       "      <td>Arrest Driver</td>\n",
       "      <td>True</td>\n",
       "      <td>16-30 Min</td>\n",
       "      <td>False</td>\n",
       "    </tr>\n",
       "    <tr>\n",
       "      <th>4</th>\n",
       "      <td>3/14/2005</td>\n",
       "      <td>10:00</td>\n",
       "      <td>NaN</td>\n",
       "      <td>F</td>\n",
       "      <td>1984.0</td>\n",
       "      <td>21.0</td>\n",
       "      <td>White</td>\n",
       "      <td>Speeding</td>\n",
       "      <td>Speeding</td>\n",
       "      <td>False</td>\n",
       "      <td>NaN</td>\n",
       "      <td>Citation</td>\n",
       "      <td>False</td>\n",
       "      <td>0-15 Min</td>\n",
       "      <td>False</td>\n",
       "    </tr>\n",
       "  </tbody>\n",
       "</table>\n",
       "</div>"
      ],
      "text/plain": [
       "   stop_date stop_time  country_name driver_gender  driver_age_raw  \\\n",
       "0   1/2/2005      1:55           NaN             M          1985.0   \n",
       "1  1/18/2005      8:15           NaN             M          1965.0   \n",
       "2  1/23/2005     23:15           NaN             M          1972.0   \n",
       "3  2/20/2005     17:15           NaN             M          1986.0   \n",
       "4  3/14/2005     10:00           NaN             F          1984.0   \n",
       "\n",
       "   driver_age driver_race     violation_raw violation  search_conducted  \\\n",
       "0        20.0       White          Speeding  Speeding             False   \n",
       "1        40.0       White          Speeding  Speeding             False   \n",
       "2        33.0       White          Speeding  Speeding             False   \n",
       "3        19.0       White  Call for Service     Other             False   \n",
       "4        21.0       White          Speeding  Speeding             False   \n",
       "\n",
       "  search_type   stop_outcome is_arrested stop_duration  drugs_related_stop  \n",
       "0         NaN       Citation       False      0-15 Min               False  \n",
       "1         NaN       Citation       False      0-15 Min               False  \n",
       "2         NaN       Citation       False      0-15 Min               False  \n",
       "3         NaN  Arrest Driver        True     16-30 Min               False  \n",
       "4         NaN       Citation       False      0-15 Min               False  "
      ]
     },
     "execution_count": 7,
     "metadata": {},
     "output_type": "execute_result"
    }
   ],
   "source": [
    "#view the dataset\n",
    "df.head()"
   ]
  },
  {
   "cell_type": "code",
   "execution_count": 8,
   "id": "24cc203d",
   "metadata": {},
   "outputs": [
    {
     "data": {
      "text/plain": [
       "stop_date             65535\n",
       "stop_time             65535\n",
       "country_name              0\n",
       "driver_gender         61474\n",
       "driver_age_raw        61481\n",
       "driver_age            61228\n",
       "driver_race           61475\n",
       "violation_raw         61475\n",
       "violation             61475\n",
       "search_conducted      65535\n",
       "search_type            2479\n",
       "stop_outcome          61475\n",
       "is_arrested           61475\n",
       "stop_duration         61475\n",
       "drugs_related_stop    65535\n",
       "dtype: int64"
      ]
     },
     "execution_count": 8,
     "metadata": {},
     "output_type": "execute_result"
    }
   ],
   "source": [
    "#view the non null values\n",
    "df.count()"
   ]
  },
  {
   "cell_type": "markdown",
   "id": "b0448a17",
   "metadata": {},
   "source": [
    "lots of null values, they shall be dealt with in the phase 2 of the data analysis"
   ]
  },
  {
   "cell_type": "code",
   "execution_count": 9,
   "id": "abaae6b2",
   "metadata": {},
   "outputs": [
    {
     "data": {
      "text/plain": [
       "(65535, 15)"
      ]
     },
     "execution_count": 9,
     "metadata": {},
     "output_type": "execute_result"
    }
   ],
   "source": [
    "# view the shape of the dataset\n",
    "df.shape"
   ]
  },
  {
   "cell_type": "markdown",
   "id": "0cc8f487",
   "metadata": {},
   "source": [
    "The dataset has 65535 and 15 columns"
   ]
  },
  {
   "cell_type": "code",
   "execution_count": 6,
   "id": "d66167b4",
   "metadata": {},
   "outputs": [
    {
     "data": {
      "text/plain": [
       "Index(['stop_date', 'stop_time', 'country_name', 'driver_gender',\n",
       "       'driver_age_raw', 'driver_age', 'driver_race', 'violation_raw',\n",
       "       'violation', 'search_conducted', 'search_type', 'stop_outcome',\n",
       "       'is_arrested', 'stop_duration', 'drugs_related_stop'],\n",
       "      dtype='object')"
      ]
     },
     "execution_count": 6,
     "metadata": {},
     "output_type": "execute_result"
    }
   ],
   "source": [
    "#check all the column names of the dataset\n",
    "\n",
    "df.columns"
   ]
  },
  {
   "cell_type": "markdown",
   "id": "3883cda7",
   "metadata": {},
   "source": [
    "# Phase 2: Data Processing\n"
   ]
  },
  {
   "cell_type": "markdown",
   "id": "e6a2901f",
   "metadata": {},
   "source": [
    "### Step 1: Check for all the the missing or na values in the dataset"
   ]
  },
  {
   "cell_type": "code",
   "execution_count": 7,
   "id": "005efbd4",
   "metadata": {},
   "outputs": [
    {
     "data": {
      "text/plain": [
       "stop_date                 0\n",
       "stop_time                 0\n",
       "country_name          65535\n",
       "driver_gender          4061\n",
       "driver_age_raw         4054\n",
       "driver_age             4307\n",
       "driver_race            4060\n",
       "violation_raw          4060\n",
       "violation              4060\n",
       "search_conducted          0\n",
       "search_type           63056\n",
       "stop_outcome           4060\n",
       "is_arrested            4060\n",
       "stop_duration          4060\n",
       "drugs_related_stop        0\n",
       "dtype: int64"
      ]
     },
     "execution_count": 7,
     "metadata": {},
     "output_type": "execute_result"
    }
   ],
   "source": [
    "df.isnull().sum()"
   ]
  },
  {
   "cell_type": "markdown",
   "id": "f23340e6",
   "metadata": {},
   "source": [
    "* There is need to drop the column country_name, also drop the column search type because the entire column seem to have only null values\n",
    "* other rows might be havin same na values in the same rows hence drop the values"
   ]
  },
  {
   "cell_type": "code",
   "execution_count": 8,
   "id": "de235b88",
   "metadata": {},
   "outputs": [],
   "source": [
    "#drop the columns with na_values\n",
    "\n",
    "df.drop(columns = ['country_name', 'search_type'], inplace=True)"
   ]
  },
  {
   "cell_type": "code",
   "execution_count": 9,
   "id": "0a24a9a2",
   "metadata": {},
   "outputs": [],
   "source": [
    "#drop all the rows with na_values\n",
    "df.dropna(axis='index', how='all', subset=['driver_gender', 'violation', 'is_arrested'], inplace= True)"
   ]
  },
  {
   "cell_type": "code",
   "execution_count": 10,
   "id": "980bcd84",
   "metadata": {},
   "outputs": [
    {
     "data": {
      "text/plain": [
       "stop_date               0\n",
       "stop_time               0\n",
       "driver_gender           1\n",
       "driver_age_raw          1\n",
       "driver_age            252\n",
       "driver_race             0\n",
       "violation_raw           0\n",
       "violation               0\n",
       "search_conducted        0\n",
       "stop_outcome            0\n",
       "is_arrested             0\n",
       "stop_duration           0\n",
       "drugs_related_stop      0\n",
       "dtype: int64"
      ]
     },
     "execution_count": 10,
     "metadata": {},
     "output_type": "execute_result"
    }
   ],
   "source": [
    "#check the missing columns again\n",
    "df.isnull().sum()"
   ]
  },
  {
   "cell_type": "code",
   "execution_count": 11,
   "id": "9eea57e8",
   "metadata": {},
   "outputs": [],
   "source": [
    "#fill the driver age with mean values\n",
    "ave_age = df['driver_age'].mean(axis=0)\n",
    "df['driver_age'].fillna(ave_age, inplace=True)"
   ]
  },
  {
   "cell_type": "code",
   "execution_count": 12,
   "id": "ecfd57f1",
   "metadata": {},
   "outputs": [
    {
     "data": {
      "text/plain": [
       "M    45164\n",
       "F    16310\n",
       "Name: driver_gender, dtype: int64"
      ]
     },
     "execution_count": 12,
     "metadata": {},
     "output_type": "execute_result"
    }
   ],
   "source": [
    "#fill the driver gender with the mode value, that is the most appearing value\n",
    "#check the gender with the most value\n",
    "df['driver_gender'].value_counts()"
   ]
  },
  {
   "cell_type": "markdown",
   "id": "10d5c312",
   "metadata": {},
   "source": [
    "Male has that hence fill the na with the male values"
   ]
  },
  {
   "cell_type": "code",
   "execution_count": 13,
   "id": "2226a07d",
   "metadata": {},
   "outputs": [],
   "source": [
    "df['driver_gender'].fillna('M', inplace = True)"
   ]
  },
  {
   "cell_type": "code",
   "execution_count": 14,
   "id": "983e7f18",
   "metadata": {},
   "outputs": [
    {
     "data": {
      "text/plain": [
       "1986.0    2702\n",
       "1987.0    2645\n",
       "1985.0    2629\n",
       "1988.0    2587\n",
       "1983.0    2339\n",
       "          ... \n",
       "2000.0       1\n",
       "8801.0       1\n",
       "2002.0       1\n",
       "2011.0       1\n",
       "1918.0       1\n",
       "Name: driver_age_raw, Length: 93, dtype: int64"
      ]
     },
     "execution_count": 14,
     "metadata": {},
     "output_type": "execute_result"
    }
   ],
   "source": [
    "#check for the mode in the column\n",
    "df['driver_age_raw'].value_counts()"
   ]
  },
  {
   "cell_type": "code",
   "execution_count": 15,
   "id": "7f5571fb",
   "metadata": {},
   "outputs": [],
   "source": [
    "#fill the driver age raw with the mode value, that is the most appearing value\n",
    "#check the age raw with the most value\n",
    "\n",
    "df['driver_age_raw'].fillna(1986, inplace = True)"
   ]
  },
  {
   "cell_type": "code",
   "execution_count": 16,
   "id": "89ae4db3",
   "metadata": {},
   "outputs": [
    {
     "data": {
      "text/plain": [
       "stop_date             0\n",
       "stop_time             0\n",
       "driver_gender         0\n",
       "driver_age_raw        0\n",
       "driver_age            0\n",
       "driver_race           0\n",
       "violation_raw         0\n",
       "violation             0\n",
       "search_conducted      0\n",
       "stop_outcome          0\n",
       "is_arrested           0\n",
       "stop_duration         0\n",
       "drugs_related_stop    0\n",
       "dtype: int64"
      ]
     },
     "execution_count": 16,
     "metadata": {},
     "output_type": "execute_result"
    }
   ],
   "source": [
    "#check again the missing values\n",
    "df.isnull().sum()"
   ]
  },
  {
   "cell_type": "markdown",
   "id": "3d8b4e71",
   "metadata": {},
   "source": [
    "now the data is clean from missing values"
   ]
  },
  {
   "cell_type": "markdown",
   "id": "aacf33c4",
   "metadata": {},
   "source": [
    "### Step2: check for duplicates in the dataset"
   ]
  },
  {
   "cell_type": "code",
   "execution_count": 17,
   "id": "3fac4c7d",
   "metadata": {},
   "outputs": [
    {
     "data": {
      "text/plain": [
       "183"
      ]
     },
     "execution_count": 17,
     "metadata": {},
     "output_type": "execute_result"
    }
   ],
   "source": [
    "df.duplicated().sum()"
   ]
  },
  {
   "cell_type": "markdown",
   "id": "a875f2aa",
   "metadata": {},
   "source": [
    "183 rows of data have duplicates"
   ]
  },
  {
   "cell_type": "code",
   "execution_count": 18,
   "id": "f89f312d",
   "metadata": {},
   "outputs": [
    {
     "data": {
      "text/plain": [
       "0"
      ]
     },
     "execution_count": 18,
     "metadata": {},
     "output_type": "execute_result"
    }
   ],
   "source": [
    "#drop duplicates\n",
    "\n",
    "df.drop_duplicates(inplace=True)\n",
    "df.duplicated().sum()"
   ]
  },
  {
   "cell_type": "markdown",
   "id": "85f5041b",
   "metadata": {},
   "source": [
    "the number of rows have been reduced by 183 rows"
   ]
  },
  {
   "cell_type": "markdown",
   "id": "ef873692",
   "metadata": {},
   "source": [
    "### Step 3: Check for the datatypes in the dataset to see if there is need to change the datatypes of some columns"
   ]
  },
  {
   "cell_type": "code",
   "execution_count": 19,
   "id": "adc422eb",
   "metadata": {},
   "outputs": [
    {
     "data": {
      "text/html": [
       "<div>\n",
       "<style scoped>\n",
       "    .dataframe tbody tr th:only-of-type {\n",
       "        vertical-align: middle;\n",
       "    }\n",
       "\n",
       "    .dataframe tbody tr th {\n",
       "        vertical-align: top;\n",
       "    }\n",
       "\n",
       "    .dataframe thead th {\n",
       "        text-align: right;\n",
       "    }\n",
       "</style>\n",
       "<table border=\"1\" class=\"dataframe\">\n",
       "  <thead>\n",
       "    <tr style=\"text-align: right;\">\n",
       "      <th></th>\n",
       "      <th>stop_date</th>\n",
       "      <th>stop_time</th>\n",
       "      <th>driver_gender</th>\n",
       "      <th>driver_age_raw</th>\n",
       "      <th>driver_age</th>\n",
       "      <th>driver_race</th>\n",
       "      <th>violation_raw</th>\n",
       "      <th>violation</th>\n",
       "      <th>search_conducted</th>\n",
       "      <th>stop_outcome</th>\n",
       "      <th>is_arrested</th>\n",
       "      <th>stop_duration</th>\n",
       "      <th>drugs_related_stop</th>\n",
       "    </tr>\n",
       "  </thead>\n",
       "  <tbody>\n",
       "    <tr>\n",
       "      <th>0</th>\n",
       "      <td>1/2/2005</td>\n",
       "      <td>1:55</td>\n",
       "      <td>M</td>\n",
       "      <td>1985.0</td>\n",
       "      <td>20.0</td>\n",
       "      <td>White</td>\n",
       "      <td>Speeding</td>\n",
       "      <td>Speeding</td>\n",
       "      <td>False</td>\n",
       "      <td>Citation</td>\n",
       "      <td>False</td>\n",
       "      <td>0-15 Min</td>\n",
       "      <td>False</td>\n",
       "    </tr>\n",
       "    <tr>\n",
       "      <th>1</th>\n",
       "      <td>1/18/2005</td>\n",
       "      <td>8:15</td>\n",
       "      <td>M</td>\n",
       "      <td>1965.0</td>\n",
       "      <td>40.0</td>\n",
       "      <td>White</td>\n",
       "      <td>Speeding</td>\n",
       "      <td>Speeding</td>\n",
       "      <td>False</td>\n",
       "      <td>Citation</td>\n",
       "      <td>False</td>\n",
       "      <td>0-15 Min</td>\n",
       "      <td>False</td>\n",
       "    </tr>\n",
       "    <tr>\n",
       "      <th>2</th>\n",
       "      <td>1/23/2005</td>\n",
       "      <td>23:15</td>\n",
       "      <td>M</td>\n",
       "      <td>1972.0</td>\n",
       "      <td>33.0</td>\n",
       "      <td>White</td>\n",
       "      <td>Speeding</td>\n",
       "      <td>Speeding</td>\n",
       "      <td>False</td>\n",
       "      <td>Citation</td>\n",
       "      <td>False</td>\n",
       "      <td>0-15 Min</td>\n",
       "      <td>False</td>\n",
       "    </tr>\n",
       "    <tr>\n",
       "      <th>3</th>\n",
       "      <td>2/20/2005</td>\n",
       "      <td>17:15</td>\n",
       "      <td>M</td>\n",
       "      <td>1986.0</td>\n",
       "      <td>19.0</td>\n",
       "      <td>White</td>\n",
       "      <td>Call for Service</td>\n",
       "      <td>Other</td>\n",
       "      <td>False</td>\n",
       "      <td>Arrest Driver</td>\n",
       "      <td>True</td>\n",
       "      <td>16-30 Min</td>\n",
       "      <td>False</td>\n",
       "    </tr>\n",
       "    <tr>\n",
       "      <th>4</th>\n",
       "      <td>3/14/2005</td>\n",
       "      <td>10:00</td>\n",
       "      <td>F</td>\n",
       "      <td>1984.0</td>\n",
       "      <td>21.0</td>\n",
       "      <td>White</td>\n",
       "      <td>Speeding</td>\n",
       "      <td>Speeding</td>\n",
       "      <td>False</td>\n",
       "      <td>Citation</td>\n",
       "      <td>False</td>\n",
       "      <td>0-15 Min</td>\n",
       "      <td>False</td>\n",
       "    </tr>\n",
       "  </tbody>\n",
       "</table>\n",
       "</div>"
      ],
      "text/plain": [
       "   stop_date stop_time driver_gender  driver_age_raw  driver_age driver_race  \\\n",
       "0   1/2/2005      1:55             M          1985.0        20.0       White   \n",
       "1  1/18/2005      8:15             M          1965.0        40.0       White   \n",
       "2  1/23/2005     23:15             M          1972.0        33.0       White   \n",
       "3  2/20/2005     17:15             M          1986.0        19.0       White   \n",
       "4  3/14/2005     10:00             F          1984.0        21.0       White   \n",
       "\n",
       "      violation_raw violation  search_conducted   stop_outcome is_arrested  \\\n",
       "0          Speeding  Speeding             False       Citation       False   \n",
       "1          Speeding  Speeding             False       Citation       False   \n",
       "2          Speeding  Speeding             False       Citation       False   \n",
       "3  Call for Service     Other             False  Arrest Driver        True   \n",
       "4          Speeding  Speeding             False       Citation       False   \n",
       "\n",
       "  stop_duration  drugs_related_stop  \n",
       "0      0-15 Min               False  \n",
       "1      0-15 Min               False  \n",
       "2      0-15 Min               False  \n",
       "3     16-30 Min               False  \n",
       "4      0-15 Min               False  "
      ]
     },
     "execution_count": 19,
     "metadata": {},
     "output_type": "execute_result"
    }
   ],
   "source": [
    "#view the dataset\n",
    "df.head()"
   ]
  },
  {
   "cell_type": "code",
   "execution_count": 20,
   "id": "da346196",
   "metadata": {},
   "outputs": [
    {
     "data": {
      "text/plain": [
       "stop_date              object\n",
       "stop_time              object\n",
       "driver_gender          object\n",
       "driver_age_raw        float64\n",
       "driver_age            float64\n",
       "driver_race            object\n",
       "violation_raw          object\n",
       "violation              object\n",
       "search_conducted         bool\n",
       "stop_outcome           object\n",
       "is_arrested            object\n",
       "stop_duration          object\n",
       "drugs_related_stop       bool\n",
       "dtype: object"
      ]
     },
     "execution_count": 20,
     "metadata": {},
     "output_type": "execute_result"
    }
   ],
   "source": [
    "df.dtypes"
   ]
  },
  {
   "cell_type": "code",
   "execution_count": 21,
   "id": "1c61c803",
   "metadata": {},
   "outputs": [
    {
     "data": {
      "text/html": [
       "<div>\n",
       "<style scoped>\n",
       "    .dataframe tbody tr th:only-of-type {\n",
       "        vertical-align: middle;\n",
       "    }\n",
       "\n",
       "    .dataframe tbody tr th {\n",
       "        vertical-align: top;\n",
       "    }\n",
       "\n",
       "    .dataframe thead th {\n",
       "        text-align: right;\n",
       "    }\n",
       "</style>\n",
       "<table border=\"1\" class=\"dataframe\">\n",
       "  <thead>\n",
       "    <tr style=\"text-align: right;\">\n",
       "      <th></th>\n",
       "      <th>stop_date</th>\n",
       "      <th>stop_time</th>\n",
       "      <th>driver_gender</th>\n",
       "      <th>driver_age_raw</th>\n",
       "      <th>driver_age</th>\n",
       "      <th>driver_race</th>\n",
       "      <th>violation_raw</th>\n",
       "      <th>violation</th>\n",
       "      <th>search_conducted</th>\n",
       "      <th>stop_outcome</th>\n",
       "      <th>is_arrested</th>\n",
       "      <th>stop_duration</th>\n",
       "      <th>drugs_related_stop</th>\n",
       "      <th>arrested_day</th>\n",
       "    </tr>\n",
       "  </thead>\n",
       "  <tbody>\n",
       "    <tr>\n",
       "      <th>0</th>\n",
       "      <td>1/2/2005</td>\n",
       "      <td>1:55</td>\n",
       "      <td>M</td>\n",
       "      <td>1985.0</td>\n",
       "      <td>20.0</td>\n",
       "      <td>White</td>\n",
       "      <td>Speeding</td>\n",
       "      <td>Speeding</td>\n",
       "      <td>False</td>\n",
       "      <td>Citation</td>\n",
       "      <td>False</td>\n",
       "      <td>0-15 Min</td>\n",
       "      <td>False</td>\n",
       "      <td>1/2/2005 1:55</td>\n",
       "    </tr>\n",
       "    <tr>\n",
       "      <th>1</th>\n",
       "      <td>1/18/2005</td>\n",
       "      <td>8:15</td>\n",
       "      <td>M</td>\n",
       "      <td>1965.0</td>\n",
       "      <td>40.0</td>\n",
       "      <td>White</td>\n",
       "      <td>Speeding</td>\n",
       "      <td>Speeding</td>\n",
       "      <td>False</td>\n",
       "      <td>Citation</td>\n",
       "      <td>False</td>\n",
       "      <td>0-15 Min</td>\n",
       "      <td>False</td>\n",
       "      <td>1/18/2005 8:15</td>\n",
       "    </tr>\n",
       "    <tr>\n",
       "      <th>2</th>\n",
       "      <td>1/23/2005</td>\n",
       "      <td>23:15</td>\n",
       "      <td>M</td>\n",
       "      <td>1972.0</td>\n",
       "      <td>33.0</td>\n",
       "      <td>White</td>\n",
       "      <td>Speeding</td>\n",
       "      <td>Speeding</td>\n",
       "      <td>False</td>\n",
       "      <td>Citation</td>\n",
       "      <td>False</td>\n",
       "      <td>0-15 Min</td>\n",
       "      <td>False</td>\n",
       "      <td>1/23/2005 23:15</td>\n",
       "    </tr>\n",
       "    <tr>\n",
       "      <th>3</th>\n",
       "      <td>2/20/2005</td>\n",
       "      <td>17:15</td>\n",
       "      <td>M</td>\n",
       "      <td>1986.0</td>\n",
       "      <td>19.0</td>\n",
       "      <td>White</td>\n",
       "      <td>Call for Service</td>\n",
       "      <td>Other</td>\n",
       "      <td>False</td>\n",
       "      <td>Arrest Driver</td>\n",
       "      <td>True</td>\n",
       "      <td>16-30 Min</td>\n",
       "      <td>False</td>\n",
       "      <td>2/20/2005 17:15</td>\n",
       "    </tr>\n",
       "    <tr>\n",
       "      <th>4</th>\n",
       "      <td>3/14/2005</td>\n",
       "      <td>10:00</td>\n",
       "      <td>F</td>\n",
       "      <td>1984.0</td>\n",
       "      <td>21.0</td>\n",
       "      <td>White</td>\n",
       "      <td>Speeding</td>\n",
       "      <td>Speeding</td>\n",
       "      <td>False</td>\n",
       "      <td>Citation</td>\n",
       "      <td>False</td>\n",
       "      <td>0-15 Min</td>\n",
       "      <td>False</td>\n",
       "      <td>3/14/2005 10:00</td>\n",
       "    </tr>\n",
       "  </tbody>\n",
       "</table>\n",
       "</div>"
      ],
      "text/plain": [
       "   stop_date stop_time driver_gender  driver_age_raw  driver_age driver_race  \\\n",
       "0   1/2/2005      1:55             M          1985.0        20.0       White   \n",
       "1  1/18/2005      8:15             M          1965.0        40.0       White   \n",
       "2  1/23/2005     23:15             M          1972.0        33.0       White   \n",
       "3  2/20/2005     17:15             M          1986.0        19.0       White   \n",
       "4  3/14/2005     10:00             F          1984.0        21.0       White   \n",
       "\n",
       "      violation_raw violation  search_conducted   stop_outcome is_arrested  \\\n",
       "0          Speeding  Speeding             False       Citation       False   \n",
       "1          Speeding  Speeding             False       Citation       False   \n",
       "2          Speeding  Speeding             False       Citation       False   \n",
       "3  Call for Service     Other             False  Arrest Driver        True   \n",
       "4          Speeding  Speeding             False       Citation       False   \n",
       "\n",
       "  stop_duration  drugs_related_stop     arrested_day  \n",
       "0      0-15 Min               False    1/2/2005 1:55  \n",
       "1      0-15 Min               False   1/18/2005 8:15  \n",
       "2      0-15 Min               False  1/23/2005 23:15  \n",
       "3     16-30 Min               False  2/20/2005 17:15  \n",
       "4      0-15 Min               False  3/14/2005 10:00  "
      ]
     },
     "execution_count": 21,
     "metadata": {},
     "output_type": "execute_result"
    }
   ],
   "source": [
    "#Merge the columns and change the object data type in stop_date and stop_time to datetime\n",
    "\n",
    "df['arrested_day'] = df['stop_date'] + ' '+ df['stop_time'] \n",
    "df.head()"
   ]
  },
  {
   "cell_type": "code",
   "execution_count": 22,
   "id": "ef5ac090",
   "metadata": {},
   "outputs": [
    {
     "data": {
      "text/plain": [
       "stop_date                     object\n",
       "stop_time                     object\n",
       "driver_gender                 object\n",
       "driver_age_raw               float64\n",
       "driver_age                   float64\n",
       "driver_race                   object\n",
       "violation_raw                 object\n",
       "violation                     object\n",
       "search_conducted                bool\n",
       "stop_outcome                  object\n",
       "is_arrested                   object\n",
       "stop_duration                 object\n",
       "drugs_related_stop              bool\n",
       "arrested_day                  object\n",
       "stopped_day           datetime64[ns]\n",
       "dtype: object"
      ]
     },
     "execution_count": 22,
     "metadata": {},
     "output_type": "execute_result"
    }
   ],
   "source": [
    "#convert the newly created column to datetime\n",
    "df['stopped_day'] = pd.to_datetime(df['stop_date'])  \n",
    "df.dtypes"
   ]
  },
  {
   "cell_type": "markdown",
   "id": "33c16946",
   "metadata": {},
   "source": [
    "the arrested date has been properly put into datetime datatype"
   ]
  },
  {
   "cell_type": "code",
   "execution_count": 23,
   "id": "d6f6f5aa",
   "metadata": {},
   "outputs": [],
   "source": [
    "#drop stop date and stop time\n",
    "df.drop(columns=['stop_date'], inplace=True)"
   ]
  },
  {
   "cell_type": "code",
   "execution_count": 24,
   "id": "18958129",
   "metadata": {},
   "outputs": [
    {
     "data": {
      "text/html": [
       "<div>\n",
       "<style scoped>\n",
       "    .dataframe tbody tr th:only-of-type {\n",
       "        vertical-align: middle;\n",
       "    }\n",
       "\n",
       "    .dataframe tbody tr th {\n",
       "        vertical-align: top;\n",
       "    }\n",
       "\n",
       "    .dataframe thead th {\n",
       "        text-align: right;\n",
       "    }\n",
       "</style>\n",
       "<table border=\"1\" class=\"dataframe\">\n",
       "  <thead>\n",
       "    <tr style=\"text-align: right;\">\n",
       "      <th></th>\n",
       "      <th>stop_time</th>\n",
       "      <th>driver_gender</th>\n",
       "      <th>driver_age_raw</th>\n",
       "      <th>driver_age</th>\n",
       "      <th>driver_race</th>\n",
       "      <th>violation_raw</th>\n",
       "      <th>violation</th>\n",
       "      <th>search_conducted</th>\n",
       "      <th>stop_outcome</th>\n",
       "      <th>is_arrested</th>\n",
       "      <th>stop_duration</th>\n",
       "      <th>drugs_related_stop</th>\n",
       "      <th>arrested_day</th>\n",
       "      <th>stopped_day</th>\n",
       "    </tr>\n",
       "  </thead>\n",
       "  <tbody>\n",
       "    <tr>\n",
       "      <th>0</th>\n",
       "      <td>1:55</td>\n",
       "      <td>M</td>\n",
       "      <td>1985.0</td>\n",
       "      <td>20.0</td>\n",
       "      <td>White</td>\n",
       "      <td>Speeding</td>\n",
       "      <td>Speeding</td>\n",
       "      <td>False</td>\n",
       "      <td>Citation</td>\n",
       "      <td>False</td>\n",
       "      <td>0-15 Min</td>\n",
       "      <td>False</td>\n",
       "      <td>1/2/2005 1:55</td>\n",
       "      <td>2005-01-02</td>\n",
       "    </tr>\n",
       "    <tr>\n",
       "      <th>1</th>\n",
       "      <td>8:15</td>\n",
       "      <td>M</td>\n",
       "      <td>1965.0</td>\n",
       "      <td>40.0</td>\n",
       "      <td>White</td>\n",
       "      <td>Speeding</td>\n",
       "      <td>Speeding</td>\n",
       "      <td>False</td>\n",
       "      <td>Citation</td>\n",
       "      <td>False</td>\n",
       "      <td>0-15 Min</td>\n",
       "      <td>False</td>\n",
       "      <td>1/18/2005 8:15</td>\n",
       "      <td>2005-01-18</td>\n",
       "    </tr>\n",
       "    <tr>\n",
       "      <th>2</th>\n",
       "      <td>23:15</td>\n",
       "      <td>M</td>\n",
       "      <td>1972.0</td>\n",
       "      <td>33.0</td>\n",
       "      <td>White</td>\n",
       "      <td>Speeding</td>\n",
       "      <td>Speeding</td>\n",
       "      <td>False</td>\n",
       "      <td>Citation</td>\n",
       "      <td>False</td>\n",
       "      <td>0-15 Min</td>\n",
       "      <td>False</td>\n",
       "      <td>1/23/2005 23:15</td>\n",
       "      <td>2005-01-23</td>\n",
       "    </tr>\n",
       "    <tr>\n",
       "      <th>3</th>\n",
       "      <td>17:15</td>\n",
       "      <td>M</td>\n",
       "      <td>1986.0</td>\n",
       "      <td>19.0</td>\n",
       "      <td>White</td>\n",
       "      <td>Call for Service</td>\n",
       "      <td>Other</td>\n",
       "      <td>False</td>\n",
       "      <td>Arrest Driver</td>\n",
       "      <td>True</td>\n",
       "      <td>16-30 Min</td>\n",
       "      <td>False</td>\n",
       "      <td>2/20/2005 17:15</td>\n",
       "      <td>2005-02-20</td>\n",
       "    </tr>\n",
       "    <tr>\n",
       "      <th>4</th>\n",
       "      <td>10:00</td>\n",
       "      <td>F</td>\n",
       "      <td>1984.0</td>\n",
       "      <td>21.0</td>\n",
       "      <td>White</td>\n",
       "      <td>Speeding</td>\n",
       "      <td>Speeding</td>\n",
       "      <td>False</td>\n",
       "      <td>Citation</td>\n",
       "      <td>False</td>\n",
       "      <td>0-15 Min</td>\n",
       "      <td>False</td>\n",
       "      <td>3/14/2005 10:00</td>\n",
       "      <td>2005-03-14</td>\n",
       "    </tr>\n",
       "  </tbody>\n",
       "</table>\n",
       "</div>"
      ],
      "text/plain": [
       "  stop_time driver_gender  driver_age_raw  driver_age driver_race  \\\n",
       "0      1:55             M          1985.0        20.0       White   \n",
       "1      8:15             M          1965.0        40.0       White   \n",
       "2     23:15             M          1972.0        33.0       White   \n",
       "3     17:15             M          1986.0        19.0       White   \n",
       "4     10:00             F          1984.0        21.0       White   \n",
       "\n",
       "      violation_raw violation  search_conducted   stop_outcome is_arrested  \\\n",
       "0          Speeding  Speeding             False       Citation       False   \n",
       "1          Speeding  Speeding             False       Citation       False   \n",
       "2          Speeding  Speeding             False       Citation       False   \n",
       "3  Call for Service     Other             False  Arrest Driver        True   \n",
       "4          Speeding  Speeding             False       Citation       False   \n",
       "\n",
       "  stop_duration  drugs_related_stop     arrested_day stopped_day  \n",
       "0      0-15 Min               False    1/2/2005 1:55  2005-01-02  \n",
       "1      0-15 Min               False   1/18/2005 8:15  2005-01-18  \n",
       "2      0-15 Min               False  1/23/2005 23:15  2005-01-23  \n",
       "3     16-30 Min               False  2/20/2005 17:15  2005-02-20  \n",
       "4      0-15 Min               False  3/14/2005 10:00  2005-03-14  "
      ]
     },
     "execution_count": 24,
     "metadata": {},
     "output_type": "execute_result"
    }
   ],
   "source": [
    "#view the dataset\n",
    "df.head()"
   ]
  },
  {
   "cell_type": "markdown",
   "id": "9c1b2740",
   "metadata": {},
   "source": [
    "the columns have been dropped"
   ]
  },
  {
   "cell_type": "markdown",
   "id": "3c6f5380",
   "metadata": {},
   "source": [
    "#### step 3.1: create a seperate column for years, months and day names "
   ]
  },
  {
   "cell_type": "code",
   "execution_count": 25,
   "id": "e21dc8a9",
   "metadata": {},
   "outputs": [
    {
     "data": {
      "text/html": [
       "<div>\n",
       "<style scoped>\n",
       "    .dataframe tbody tr th:only-of-type {\n",
       "        vertical-align: middle;\n",
       "    }\n",
       "\n",
       "    .dataframe tbody tr th {\n",
       "        vertical-align: top;\n",
       "    }\n",
       "\n",
       "    .dataframe thead th {\n",
       "        text-align: right;\n",
       "    }\n",
       "</style>\n",
       "<table border=\"1\" class=\"dataframe\">\n",
       "  <thead>\n",
       "    <tr style=\"text-align: right;\">\n",
       "      <th></th>\n",
       "      <th>stop_time</th>\n",
       "      <th>driver_gender</th>\n",
       "      <th>driver_age_raw</th>\n",
       "      <th>driver_age</th>\n",
       "      <th>driver_race</th>\n",
       "      <th>violation_raw</th>\n",
       "      <th>violation</th>\n",
       "      <th>search_conducted</th>\n",
       "      <th>stop_outcome</th>\n",
       "      <th>is_arrested</th>\n",
       "      <th>stop_duration</th>\n",
       "      <th>drugs_related_stop</th>\n",
       "      <th>arrested_day</th>\n",
       "      <th>stopped_day</th>\n",
       "      <th>year</th>\n",
       "      <th>month</th>\n",
       "      <th>day_of_Week</th>\n",
       "    </tr>\n",
       "  </thead>\n",
       "  <tbody>\n",
       "    <tr>\n",
       "      <th>0</th>\n",
       "      <td>1:55</td>\n",
       "      <td>M</td>\n",
       "      <td>1985.0</td>\n",
       "      <td>20.0</td>\n",
       "      <td>White</td>\n",
       "      <td>Speeding</td>\n",
       "      <td>Speeding</td>\n",
       "      <td>False</td>\n",
       "      <td>Citation</td>\n",
       "      <td>False</td>\n",
       "      <td>0-15 Min</td>\n",
       "      <td>False</td>\n",
       "      <td>1/2/2005 1:55</td>\n",
       "      <td>2005-01-02</td>\n",
       "      <td>2005</td>\n",
       "      <td>1</td>\n",
       "      <td>Sunday</td>\n",
       "    </tr>\n",
       "    <tr>\n",
       "      <th>1</th>\n",
       "      <td>8:15</td>\n",
       "      <td>M</td>\n",
       "      <td>1965.0</td>\n",
       "      <td>40.0</td>\n",
       "      <td>White</td>\n",
       "      <td>Speeding</td>\n",
       "      <td>Speeding</td>\n",
       "      <td>False</td>\n",
       "      <td>Citation</td>\n",
       "      <td>False</td>\n",
       "      <td>0-15 Min</td>\n",
       "      <td>False</td>\n",
       "      <td>1/18/2005 8:15</td>\n",
       "      <td>2005-01-18</td>\n",
       "      <td>2005</td>\n",
       "      <td>1</td>\n",
       "      <td>Tuesday</td>\n",
       "    </tr>\n",
       "    <tr>\n",
       "      <th>2</th>\n",
       "      <td>23:15</td>\n",
       "      <td>M</td>\n",
       "      <td>1972.0</td>\n",
       "      <td>33.0</td>\n",
       "      <td>White</td>\n",
       "      <td>Speeding</td>\n",
       "      <td>Speeding</td>\n",
       "      <td>False</td>\n",
       "      <td>Citation</td>\n",
       "      <td>False</td>\n",
       "      <td>0-15 Min</td>\n",
       "      <td>False</td>\n",
       "      <td>1/23/2005 23:15</td>\n",
       "      <td>2005-01-23</td>\n",
       "      <td>2005</td>\n",
       "      <td>1</td>\n",
       "      <td>Sunday</td>\n",
       "    </tr>\n",
       "    <tr>\n",
       "      <th>3</th>\n",
       "      <td>17:15</td>\n",
       "      <td>M</td>\n",
       "      <td>1986.0</td>\n",
       "      <td>19.0</td>\n",
       "      <td>White</td>\n",
       "      <td>Call for Service</td>\n",
       "      <td>Other</td>\n",
       "      <td>False</td>\n",
       "      <td>Arrest Driver</td>\n",
       "      <td>True</td>\n",
       "      <td>16-30 Min</td>\n",
       "      <td>False</td>\n",
       "      <td>2/20/2005 17:15</td>\n",
       "      <td>2005-02-20</td>\n",
       "      <td>2005</td>\n",
       "      <td>2</td>\n",
       "      <td>Sunday</td>\n",
       "    </tr>\n",
       "    <tr>\n",
       "      <th>4</th>\n",
       "      <td>10:00</td>\n",
       "      <td>F</td>\n",
       "      <td>1984.0</td>\n",
       "      <td>21.0</td>\n",
       "      <td>White</td>\n",
       "      <td>Speeding</td>\n",
       "      <td>Speeding</td>\n",
       "      <td>False</td>\n",
       "      <td>Citation</td>\n",
       "      <td>False</td>\n",
       "      <td>0-15 Min</td>\n",
       "      <td>False</td>\n",
       "      <td>3/14/2005 10:00</td>\n",
       "      <td>2005-03-14</td>\n",
       "      <td>2005</td>\n",
       "      <td>3</td>\n",
       "      <td>Monday</td>\n",
       "    </tr>\n",
       "  </tbody>\n",
       "</table>\n",
       "</div>"
      ],
      "text/plain": [
       "  stop_time driver_gender  driver_age_raw  driver_age driver_race  \\\n",
       "0      1:55             M          1985.0        20.0       White   \n",
       "1      8:15             M          1965.0        40.0       White   \n",
       "2     23:15             M          1972.0        33.0       White   \n",
       "3     17:15             M          1986.0        19.0       White   \n",
       "4     10:00             F          1984.0        21.0       White   \n",
       "\n",
       "      violation_raw violation  search_conducted   stop_outcome is_arrested  \\\n",
       "0          Speeding  Speeding             False       Citation       False   \n",
       "1          Speeding  Speeding             False       Citation       False   \n",
       "2          Speeding  Speeding             False       Citation       False   \n",
       "3  Call for Service     Other             False  Arrest Driver        True   \n",
       "4          Speeding  Speeding             False       Citation       False   \n",
       "\n",
       "  stop_duration  drugs_related_stop     arrested_day stopped_day  year  month  \\\n",
       "0      0-15 Min               False    1/2/2005 1:55  2005-01-02  2005      1   \n",
       "1      0-15 Min               False   1/18/2005 8:15  2005-01-18  2005      1   \n",
       "2      0-15 Min               False  1/23/2005 23:15  2005-01-23  2005      1   \n",
       "3     16-30 Min               False  2/20/2005 17:15  2005-02-20  2005      2   \n",
       "4      0-15 Min               False  3/14/2005 10:00  2005-03-14  2005      3   \n",
       "\n",
       "  day_of_Week  \n",
       "0      Sunday  \n",
       "1     Tuesday  \n",
       "2      Sunday  \n",
       "3      Sunday  \n",
       "4      Monday  "
      ]
     },
     "execution_count": 25,
     "metadata": {},
     "output_type": "execute_result"
    }
   ],
   "source": [
    "df['year'] = df['stopped_day'].dt.year\n",
    "df['month'] = df['stopped_day'].dt.month\n",
    "df['day_of_Week'] = df['stopped_day'].dt.day_name()\n",
    "\n",
    "#view the dataframe\n",
    "df.head()"
   ]
  },
  {
   "cell_type": "markdown",
   "id": "d5e806e3",
   "metadata": {},
   "source": [
    "The columns have been created"
   ]
  },
  {
   "cell_type": "markdown",
   "id": "a98c02d5",
   "metadata": {},
   "source": [
    "#### step 3.2: change the value names of months into actual month names"
   ]
  },
  {
   "cell_type": "code",
   "execution_count": 26,
   "id": "cc835434",
   "metadata": {},
   "outputs": [
    {
     "data": {
      "text/html": [
       "<div>\n",
       "<style scoped>\n",
       "    .dataframe tbody tr th:only-of-type {\n",
       "        vertical-align: middle;\n",
       "    }\n",
       "\n",
       "    .dataframe tbody tr th {\n",
       "        vertical-align: top;\n",
       "    }\n",
       "\n",
       "    .dataframe thead th {\n",
       "        text-align: right;\n",
       "    }\n",
       "</style>\n",
       "<table border=\"1\" class=\"dataframe\">\n",
       "  <thead>\n",
       "    <tr style=\"text-align: right;\">\n",
       "      <th></th>\n",
       "      <th>stop_time</th>\n",
       "      <th>driver_gender</th>\n",
       "      <th>driver_age_raw</th>\n",
       "      <th>driver_age</th>\n",
       "      <th>driver_race</th>\n",
       "      <th>violation_raw</th>\n",
       "      <th>violation</th>\n",
       "      <th>search_conducted</th>\n",
       "      <th>stop_outcome</th>\n",
       "      <th>is_arrested</th>\n",
       "      <th>stop_duration</th>\n",
       "      <th>drugs_related_stop</th>\n",
       "      <th>arrested_day</th>\n",
       "      <th>stopped_day</th>\n",
       "      <th>year</th>\n",
       "      <th>month</th>\n",
       "      <th>day_of_Week</th>\n",
       "    </tr>\n",
       "  </thead>\n",
       "  <tbody>\n",
       "    <tr>\n",
       "      <th>0</th>\n",
       "      <td>1:55</td>\n",
       "      <td>M</td>\n",
       "      <td>1985.0</td>\n",
       "      <td>20.0</td>\n",
       "      <td>White</td>\n",
       "      <td>Speeding</td>\n",
       "      <td>Speeding</td>\n",
       "      <td>False</td>\n",
       "      <td>Citation</td>\n",
       "      <td>False</td>\n",
       "      <td>0-15 Min</td>\n",
       "      <td>False</td>\n",
       "      <td>1/2/2005 1:55</td>\n",
       "      <td>2005-01-02</td>\n",
       "      <td>2005</td>\n",
       "      <td>Jan</td>\n",
       "      <td>Sunday</td>\n",
       "    </tr>\n",
       "    <tr>\n",
       "      <th>1</th>\n",
       "      <td>8:15</td>\n",
       "      <td>M</td>\n",
       "      <td>1965.0</td>\n",
       "      <td>40.0</td>\n",
       "      <td>White</td>\n",
       "      <td>Speeding</td>\n",
       "      <td>Speeding</td>\n",
       "      <td>False</td>\n",
       "      <td>Citation</td>\n",
       "      <td>False</td>\n",
       "      <td>0-15 Min</td>\n",
       "      <td>False</td>\n",
       "      <td>1/18/2005 8:15</td>\n",
       "      <td>2005-01-18</td>\n",
       "      <td>2005</td>\n",
       "      <td>Jan</td>\n",
       "      <td>Tuesday</td>\n",
       "    </tr>\n",
       "    <tr>\n",
       "      <th>2</th>\n",
       "      <td>23:15</td>\n",
       "      <td>M</td>\n",
       "      <td>1972.0</td>\n",
       "      <td>33.0</td>\n",
       "      <td>White</td>\n",
       "      <td>Speeding</td>\n",
       "      <td>Speeding</td>\n",
       "      <td>False</td>\n",
       "      <td>Citation</td>\n",
       "      <td>False</td>\n",
       "      <td>0-15 Min</td>\n",
       "      <td>False</td>\n",
       "      <td>1/23/2005 23:15</td>\n",
       "      <td>2005-01-23</td>\n",
       "      <td>2005</td>\n",
       "      <td>Jan</td>\n",
       "      <td>Sunday</td>\n",
       "    </tr>\n",
       "    <tr>\n",
       "      <th>3</th>\n",
       "      <td>17:15</td>\n",
       "      <td>M</td>\n",
       "      <td>1986.0</td>\n",
       "      <td>19.0</td>\n",
       "      <td>White</td>\n",
       "      <td>Call for Service</td>\n",
       "      <td>Other</td>\n",
       "      <td>False</td>\n",
       "      <td>Arrest Driver</td>\n",
       "      <td>True</td>\n",
       "      <td>16-30 Min</td>\n",
       "      <td>False</td>\n",
       "      <td>2/20/2005 17:15</td>\n",
       "      <td>2005-02-20</td>\n",
       "      <td>2005</td>\n",
       "      <td>Feb</td>\n",
       "      <td>Sunday</td>\n",
       "    </tr>\n",
       "    <tr>\n",
       "      <th>4</th>\n",
       "      <td>10:00</td>\n",
       "      <td>F</td>\n",
       "      <td>1984.0</td>\n",
       "      <td>21.0</td>\n",
       "      <td>White</td>\n",
       "      <td>Speeding</td>\n",
       "      <td>Speeding</td>\n",
       "      <td>False</td>\n",
       "      <td>Citation</td>\n",
       "      <td>False</td>\n",
       "      <td>0-15 Min</td>\n",
       "      <td>False</td>\n",
       "      <td>3/14/2005 10:00</td>\n",
       "      <td>2005-03-14</td>\n",
       "      <td>2005</td>\n",
       "      <td>Mar</td>\n",
       "      <td>Monday</td>\n",
       "    </tr>\n",
       "  </tbody>\n",
       "</table>\n",
       "</div>"
      ],
      "text/plain": [
       "  stop_time driver_gender  driver_age_raw  driver_age driver_race  \\\n",
       "0      1:55             M          1985.0        20.0       White   \n",
       "1      8:15             M          1965.0        40.0       White   \n",
       "2     23:15             M          1972.0        33.0       White   \n",
       "3     17:15             M          1986.0        19.0       White   \n",
       "4     10:00             F          1984.0        21.0       White   \n",
       "\n",
       "      violation_raw violation  search_conducted   stop_outcome is_arrested  \\\n",
       "0          Speeding  Speeding             False       Citation       False   \n",
       "1          Speeding  Speeding             False       Citation       False   \n",
       "2          Speeding  Speeding             False       Citation       False   \n",
       "3  Call for Service     Other             False  Arrest Driver        True   \n",
       "4          Speeding  Speeding             False       Citation       False   \n",
       "\n",
       "  stop_duration  drugs_related_stop     arrested_day stopped_day  year month  \\\n",
       "0      0-15 Min               False    1/2/2005 1:55  2005-01-02  2005   Jan   \n",
       "1      0-15 Min               False   1/18/2005 8:15  2005-01-18  2005   Jan   \n",
       "2      0-15 Min               False  1/23/2005 23:15  2005-01-23  2005   Jan   \n",
       "3     16-30 Min               False  2/20/2005 17:15  2005-02-20  2005   Feb   \n",
       "4      0-15 Min               False  3/14/2005 10:00  2005-03-14  2005   Mar   \n",
       "\n",
       "  day_of_Week  \n",
       "0      Sunday  \n",
       "1     Tuesday  \n",
       "2      Sunday  \n",
       "3      Sunday  \n",
       "4      Monday  "
      ]
     },
     "execution_count": 26,
     "metadata": {},
     "output_type": "execute_result"
    }
   ],
   "source": [
    "df['month'] = df['month'].replace({1:'Jan', 2:'Feb', 3:'Mar', 4:'Apr', 5:'May', 6:'Jun', 7:'Jul', 8:'Aug', 9:'Sep', 10:'Oct',\n",
    "                                  11:'Nov', 12:'Dec'})\n",
    "\n",
    "#renaming the values of the month into actual months\n",
    "\n",
    "df.head()"
   ]
  },
  {
   "cell_type": "markdown",
   "id": "ff28faca",
   "metadata": {},
   "source": [
    "### Step 4: Make the Data more understandable in columns"
   ]
  },
  {
   "cell_type": "code",
   "execution_count": 27,
   "id": "bed9c263",
   "metadata": {},
   "outputs": [
    {
     "data": {
      "text/plain": [
       "array(['M', 'F'], dtype=object)"
      ]
     },
     "execution_count": 27,
     "metadata": {},
     "output_type": "execute_result"
    }
   ],
   "source": [
    "# check all the unique values that can be replaced for marital status\n",
    "df['driver_gender'].unique()"
   ]
  },
  {
   "cell_type": "markdown",
   "id": "36a0fd33",
   "metadata": {},
   "source": [
    "M is for male and F is for female"
   ]
  },
  {
   "cell_type": "code",
   "execution_count": 28,
   "id": "fb8455f6",
   "metadata": {},
   "outputs": [],
   "source": [
    "df['driver_gender'].replace({'M': 'Male', 'F': 'Female'},inplace=True)\n"
   ]
  },
  {
   "cell_type": "markdown",
   "id": "8063e890",
   "metadata": {},
   "source": [
    "###  Step 5: renaming the columns"
   ]
  },
  {
   "cell_type": "code",
   "execution_count": 29,
   "id": "6c329e19",
   "metadata": {},
   "outputs": [],
   "source": [
    "df.rename(columns={'driver_age_raw':'Driver_date_of_birth'}, inplace=True)"
   ]
  },
  {
   "cell_type": "code",
   "execution_count": 30,
   "id": "aa32b844",
   "metadata": {
    "scrolled": true
   },
   "outputs": [
    {
     "data": {
      "text/html": [
       "<div>\n",
       "<style scoped>\n",
       "    .dataframe tbody tr th:only-of-type {\n",
       "        vertical-align: middle;\n",
       "    }\n",
       "\n",
       "    .dataframe tbody tr th {\n",
       "        vertical-align: top;\n",
       "    }\n",
       "\n",
       "    .dataframe thead th {\n",
       "        text-align: right;\n",
       "    }\n",
       "</style>\n",
       "<table border=\"1\" class=\"dataframe\">\n",
       "  <thead>\n",
       "    <tr style=\"text-align: right;\">\n",
       "      <th></th>\n",
       "      <th>stop_time</th>\n",
       "      <th>driver_gender</th>\n",
       "      <th>Driver_date_of_birth</th>\n",
       "      <th>driver_age</th>\n",
       "      <th>driver_race</th>\n",
       "      <th>violation_raw</th>\n",
       "      <th>violation</th>\n",
       "      <th>search_conducted</th>\n",
       "      <th>stop_outcome</th>\n",
       "      <th>is_arrested</th>\n",
       "      <th>stop_duration</th>\n",
       "      <th>drugs_related_stop</th>\n",
       "      <th>arrested_day</th>\n",
       "      <th>stopped_day</th>\n",
       "      <th>year</th>\n",
       "      <th>month</th>\n",
       "      <th>day_of_Week</th>\n",
       "    </tr>\n",
       "  </thead>\n",
       "  <tbody>\n",
       "    <tr>\n",
       "      <th>0</th>\n",
       "      <td>1:55</td>\n",
       "      <td>Male</td>\n",
       "      <td>1985.0</td>\n",
       "      <td>20.0</td>\n",
       "      <td>White</td>\n",
       "      <td>Speeding</td>\n",
       "      <td>Speeding</td>\n",
       "      <td>False</td>\n",
       "      <td>Citation</td>\n",
       "      <td>False</td>\n",
       "      <td>0-15 Min</td>\n",
       "      <td>False</td>\n",
       "      <td>1/2/2005 1:55</td>\n",
       "      <td>2005-01-02</td>\n",
       "      <td>2005</td>\n",
       "      <td>Jan</td>\n",
       "      <td>Sunday</td>\n",
       "    </tr>\n",
       "    <tr>\n",
       "      <th>1</th>\n",
       "      <td>8:15</td>\n",
       "      <td>Male</td>\n",
       "      <td>1965.0</td>\n",
       "      <td>40.0</td>\n",
       "      <td>White</td>\n",
       "      <td>Speeding</td>\n",
       "      <td>Speeding</td>\n",
       "      <td>False</td>\n",
       "      <td>Citation</td>\n",
       "      <td>False</td>\n",
       "      <td>0-15 Min</td>\n",
       "      <td>False</td>\n",
       "      <td>1/18/2005 8:15</td>\n",
       "      <td>2005-01-18</td>\n",
       "      <td>2005</td>\n",
       "      <td>Jan</td>\n",
       "      <td>Tuesday</td>\n",
       "    </tr>\n",
       "    <tr>\n",
       "      <th>2</th>\n",
       "      <td>23:15</td>\n",
       "      <td>Male</td>\n",
       "      <td>1972.0</td>\n",
       "      <td>33.0</td>\n",
       "      <td>White</td>\n",
       "      <td>Speeding</td>\n",
       "      <td>Speeding</td>\n",
       "      <td>False</td>\n",
       "      <td>Citation</td>\n",
       "      <td>False</td>\n",
       "      <td>0-15 Min</td>\n",
       "      <td>False</td>\n",
       "      <td>1/23/2005 23:15</td>\n",
       "      <td>2005-01-23</td>\n",
       "      <td>2005</td>\n",
       "      <td>Jan</td>\n",
       "      <td>Sunday</td>\n",
       "    </tr>\n",
       "    <tr>\n",
       "      <th>3</th>\n",
       "      <td>17:15</td>\n",
       "      <td>Male</td>\n",
       "      <td>1986.0</td>\n",
       "      <td>19.0</td>\n",
       "      <td>White</td>\n",
       "      <td>Call for Service</td>\n",
       "      <td>Other</td>\n",
       "      <td>False</td>\n",
       "      <td>Arrest Driver</td>\n",
       "      <td>True</td>\n",
       "      <td>16-30 Min</td>\n",
       "      <td>False</td>\n",
       "      <td>2/20/2005 17:15</td>\n",
       "      <td>2005-02-20</td>\n",
       "      <td>2005</td>\n",
       "      <td>Feb</td>\n",
       "      <td>Sunday</td>\n",
       "    </tr>\n",
       "    <tr>\n",
       "      <th>4</th>\n",
       "      <td>10:00</td>\n",
       "      <td>Female</td>\n",
       "      <td>1984.0</td>\n",
       "      <td>21.0</td>\n",
       "      <td>White</td>\n",
       "      <td>Speeding</td>\n",
       "      <td>Speeding</td>\n",
       "      <td>False</td>\n",
       "      <td>Citation</td>\n",
       "      <td>False</td>\n",
       "      <td>0-15 Min</td>\n",
       "      <td>False</td>\n",
       "      <td>3/14/2005 10:00</td>\n",
       "      <td>2005-03-14</td>\n",
       "      <td>2005</td>\n",
       "      <td>Mar</td>\n",
       "      <td>Monday</td>\n",
       "    </tr>\n",
       "  </tbody>\n",
       "</table>\n",
       "</div>"
      ],
      "text/plain": [
       "  stop_time driver_gender  Driver_date_of_birth  driver_age driver_race  \\\n",
       "0      1:55          Male                1985.0        20.0       White   \n",
       "1      8:15          Male                1965.0        40.0       White   \n",
       "2     23:15          Male                1972.0        33.0       White   \n",
       "3     17:15          Male                1986.0        19.0       White   \n",
       "4     10:00        Female                1984.0        21.0       White   \n",
       "\n",
       "      violation_raw violation  search_conducted   stop_outcome is_arrested  \\\n",
       "0          Speeding  Speeding             False       Citation       False   \n",
       "1          Speeding  Speeding             False       Citation       False   \n",
       "2          Speeding  Speeding             False       Citation       False   \n",
       "3  Call for Service     Other             False  Arrest Driver        True   \n",
       "4          Speeding  Speeding             False       Citation       False   \n",
       "\n",
       "  stop_duration  drugs_related_stop     arrested_day stopped_day  year month  \\\n",
       "0      0-15 Min               False    1/2/2005 1:55  2005-01-02  2005   Jan   \n",
       "1      0-15 Min               False   1/18/2005 8:15  2005-01-18  2005   Jan   \n",
       "2      0-15 Min               False  1/23/2005 23:15  2005-01-23  2005   Jan   \n",
       "3     16-30 Min               False  2/20/2005 17:15  2005-02-20  2005   Feb   \n",
       "4      0-15 Min               False  3/14/2005 10:00  2005-03-14  2005   Mar   \n",
       "\n",
       "  day_of_Week  \n",
       "0      Sunday  \n",
       "1     Tuesday  \n",
       "2      Sunday  \n",
       "3      Sunday  \n",
       "4      Monday  "
      ]
     },
     "execution_count": 30,
     "metadata": {},
     "output_type": "execute_result"
    }
   ],
   "source": [
    "#check the dataframe\n",
    "df.head()"
   ]
  },
  {
   "cell_type": "code",
   "execution_count": 31,
   "id": "43f07fc2",
   "metadata": {},
   "outputs": [
    {
     "data": {
      "text/html": [
       "<div>\n",
       "<style scoped>\n",
       "    .dataframe tbody tr th:only-of-type {\n",
       "        vertical-align: middle;\n",
       "    }\n",
       "\n",
       "    .dataframe tbody tr th {\n",
       "        vertical-align: top;\n",
       "    }\n",
       "\n",
       "    .dataframe thead th {\n",
       "        text-align: right;\n",
       "    }\n",
       "</style>\n",
       "<table border=\"1\" class=\"dataframe\">\n",
       "  <thead>\n",
       "    <tr style=\"text-align: right;\">\n",
       "      <th></th>\n",
       "      <th>stop_time</th>\n",
       "      <th>driver_gender</th>\n",
       "      <th>Driver_date_of_birth</th>\n",
       "      <th>driver_age</th>\n",
       "      <th>driver_race</th>\n",
       "      <th>violation_raw</th>\n",
       "      <th>violation</th>\n",
       "      <th>search_conducted</th>\n",
       "      <th>stop_outcome</th>\n",
       "      <th>is_arrested</th>\n",
       "      <th>stop_duration</th>\n",
       "      <th>drugs_related_stop</th>\n",
       "      <th>arrested_day</th>\n",
       "      <th>stopped_day</th>\n",
       "      <th>year</th>\n",
       "      <th>month</th>\n",
       "      <th>day_of_Week</th>\n",
       "    </tr>\n",
       "  </thead>\n",
       "  <tbody>\n",
       "    <tr>\n",
       "      <th>0</th>\n",
       "      <td>1:55</td>\n",
       "      <td>Male</td>\n",
       "      <td>1985.0</td>\n",
       "      <td>20.0</td>\n",
       "      <td>White</td>\n",
       "      <td>Speeding</td>\n",
       "      <td>Speeding</td>\n",
       "      <td>False</td>\n",
       "      <td>Citation</td>\n",
       "      <td>False</td>\n",
       "      <td>0-15 Min</td>\n",
       "      <td>False</td>\n",
       "      <td>1/2/2005 1:55</td>\n",
       "      <td>2005-01-02</td>\n",
       "      <td>2005</td>\n",
       "      <td>Jan</td>\n",
       "      <td>Sunday</td>\n",
       "    </tr>\n",
       "    <tr>\n",
       "      <th>1</th>\n",
       "      <td>8:15</td>\n",
       "      <td>Male</td>\n",
       "      <td>1965.0</td>\n",
       "      <td>40.0</td>\n",
       "      <td>White</td>\n",
       "      <td>Speeding</td>\n",
       "      <td>Speeding</td>\n",
       "      <td>False</td>\n",
       "      <td>Citation</td>\n",
       "      <td>False</td>\n",
       "      <td>0-15 Min</td>\n",
       "      <td>False</td>\n",
       "      <td>1/18/2005 8:15</td>\n",
       "      <td>2005-01-18</td>\n",
       "      <td>2005</td>\n",
       "      <td>Jan</td>\n",
       "      <td>Tuesday</td>\n",
       "    </tr>\n",
       "    <tr>\n",
       "      <th>2</th>\n",
       "      <td>23:15</td>\n",
       "      <td>Male</td>\n",
       "      <td>1972.0</td>\n",
       "      <td>33.0</td>\n",
       "      <td>White</td>\n",
       "      <td>Speeding</td>\n",
       "      <td>Speeding</td>\n",
       "      <td>False</td>\n",
       "      <td>Citation</td>\n",
       "      <td>False</td>\n",
       "      <td>0-15 Min</td>\n",
       "      <td>False</td>\n",
       "      <td>1/23/2005 23:15</td>\n",
       "      <td>2005-01-23</td>\n",
       "      <td>2005</td>\n",
       "      <td>Jan</td>\n",
       "      <td>Sunday</td>\n",
       "    </tr>\n",
       "  </tbody>\n",
       "</table>\n",
       "</div>"
      ],
      "text/plain": [
       "  stop_time driver_gender  Driver_date_of_birth  driver_age driver_race  \\\n",
       "0      1:55          Male                1985.0        20.0       White   \n",
       "1      8:15          Male                1965.0        40.0       White   \n",
       "2     23:15          Male                1972.0        33.0       White   \n",
       "\n",
       "  violation_raw violation  search_conducted stop_outcome is_arrested  \\\n",
       "0      Speeding  Speeding             False     Citation       False   \n",
       "1      Speeding  Speeding             False     Citation       False   \n",
       "2      Speeding  Speeding             False     Citation       False   \n",
       "\n",
       "  stop_duration  drugs_related_stop     arrested_day stopped_day  year month  \\\n",
       "0      0-15 Min               False    1/2/2005 1:55  2005-01-02  2005   Jan   \n",
       "1      0-15 Min               False   1/18/2005 8:15  2005-01-18  2005   Jan   \n",
       "2      0-15 Min               False  1/23/2005 23:15  2005-01-23  2005   Jan   \n",
       "\n",
       "  day_of_Week  \n",
       "0      Sunday  \n",
       "1     Tuesday  \n",
       "2      Sunday  "
      ]
     },
     "execution_count": 31,
     "metadata": {},
     "output_type": "execute_result"
    }
   ],
   "source": [
    "df.head(3)"
   ]
  },
  {
   "cell_type": "markdown",
   "id": "7cd5a93a",
   "metadata": {},
   "source": [
    "### Remove the ranges in stop_duration column and find its average"
   ]
  },
  {
   "cell_type": "code",
   "execution_count": 32,
   "id": "666c7f59",
   "metadata": {},
   "outputs": [],
   "source": [
    "#first split the column with space as the seperator \n",
    "\n",
    "# splitting can be done in 2 ways\n",
    "\n",
    "#df[['Duration_mins', 'Units']] = df['stop_duration'].str.split(' ', expand =True)        #-first way to do it uncheck the comment and run it\n",
    "\n",
    "df['stop_duration_mins'] = df['stop_duration'].apply(lambda x: x.split(' ')[0])      #second method, [0] grabs the first column"
   ]
  },
  {
   "cell_type": "code",
   "execution_count": 33,
   "id": "38d2a968",
   "metadata": {},
   "outputs": [
    {
     "data": {
      "text/html": [
       "<div>\n",
       "<style scoped>\n",
       "    .dataframe tbody tr th:only-of-type {\n",
       "        vertical-align: middle;\n",
       "    }\n",
       "\n",
       "    .dataframe tbody tr th {\n",
       "        vertical-align: top;\n",
       "    }\n",
       "\n",
       "    .dataframe thead th {\n",
       "        text-align: right;\n",
       "    }\n",
       "</style>\n",
       "<table border=\"1\" class=\"dataframe\">\n",
       "  <thead>\n",
       "    <tr style=\"text-align: right;\">\n",
       "      <th></th>\n",
       "      <th>stop_time</th>\n",
       "      <th>driver_gender</th>\n",
       "      <th>Driver_date_of_birth</th>\n",
       "      <th>driver_age</th>\n",
       "      <th>driver_race</th>\n",
       "      <th>violation_raw</th>\n",
       "      <th>violation</th>\n",
       "      <th>search_conducted</th>\n",
       "      <th>stop_outcome</th>\n",
       "      <th>is_arrested</th>\n",
       "      <th>stop_duration</th>\n",
       "      <th>drugs_related_stop</th>\n",
       "      <th>arrested_day</th>\n",
       "      <th>stopped_day</th>\n",
       "      <th>year</th>\n",
       "      <th>month</th>\n",
       "      <th>day_of_Week</th>\n",
       "      <th>stop_duration_mins</th>\n",
       "    </tr>\n",
       "  </thead>\n",
       "  <tbody>\n",
       "    <tr>\n",
       "      <th>0</th>\n",
       "      <td>1:55</td>\n",
       "      <td>Male</td>\n",
       "      <td>1985.0</td>\n",
       "      <td>20.0</td>\n",
       "      <td>White</td>\n",
       "      <td>Speeding</td>\n",
       "      <td>Speeding</td>\n",
       "      <td>False</td>\n",
       "      <td>Citation</td>\n",
       "      <td>False</td>\n",
       "      <td>0-15 Min</td>\n",
       "      <td>False</td>\n",
       "      <td>1/2/2005 1:55</td>\n",
       "      <td>2005-01-02</td>\n",
       "      <td>2005</td>\n",
       "      <td>Jan</td>\n",
       "      <td>Sunday</td>\n",
       "      <td>0-15</td>\n",
       "    </tr>\n",
       "    <tr>\n",
       "      <th>1</th>\n",
       "      <td>8:15</td>\n",
       "      <td>Male</td>\n",
       "      <td>1965.0</td>\n",
       "      <td>40.0</td>\n",
       "      <td>White</td>\n",
       "      <td>Speeding</td>\n",
       "      <td>Speeding</td>\n",
       "      <td>False</td>\n",
       "      <td>Citation</td>\n",
       "      <td>False</td>\n",
       "      <td>0-15 Min</td>\n",
       "      <td>False</td>\n",
       "      <td>1/18/2005 8:15</td>\n",
       "      <td>2005-01-18</td>\n",
       "      <td>2005</td>\n",
       "      <td>Jan</td>\n",
       "      <td>Tuesday</td>\n",
       "      <td>0-15</td>\n",
       "    </tr>\n",
       "    <tr>\n",
       "      <th>2</th>\n",
       "      <td>23:15</td>\n",
       "      <td>Male</td>\n",
       "      <td>1972.0</td>\n",
       "      <td>33.0</td>\n",
       "      <td>White</td>\n",
       "      <td>Speeding</td>\n",
       "      <td>Speeding</td>\n",
       "      <td>False</td>\n",
       "      <td>Citation</td>\n",
       "      <td>False</td>\n",
       "      <td>0-15 Min</td>\n",
       "      <td>False</td>\n",
       "      <td>1/23/2005 23:15</td>\n",
       "      <td>2005-01-23</td>\n",
       "      <td>2005</td>\n",
       "      <td>Jan</td>\n",
       "      <td>Sunday</td>\n",
       "      <td>0-15</td>\n",
       "    </tr>\n",
       "    <tr>\n",
       "      <th>3</th>\n",
       "      <td>17:15</td>\n",
       "      <td>Male</td>\n",
       "      <td>1986.0</td>\n",
       "      <td>19.0</td>\n",
       "      <td>White</td>\n",
       "      <td>Call for Service</td>\n",
       "      <td>Other</td>\n",
       "      <td>False</td>\n",
       "      <td>Arrest Driver</td>\n",
       "      <td>True</td>\n",
       "      <td>16-30 Min</td>\n",
       "      <td>False</td>\n",
       "      <td>2/20/2005 17:15</td>\n",
       "      <td>2005-02-20</td>\n",
       "      <td>2005</td>\n",
       "      <td>Feb</td>\n",
       "      <td>Sunday</td>\n",
       "      <td>16-30</td>\n",
       "    </tr>\n",
       "    <tr>\n",
       "      <th>4</th>\n",
       "      <td>10:00</td>\n",
       "      <td>Female</td>\n",
       "      <td>1984.0</td>\n",
       "      <td>21.0</td>\n",
       "      <td>White</td>\n",
       "      <td>Speeding</td>\n",
       "      <td>Speeding</td>\n",
       "      <td>False</td>\n",
       "      <td>Citation</td>\n",
       "      <td>False</td>\n",
       "      <td>0-15 Min</td>\n",
       "      <td>False</td>\n",
       "      <td>3/14/2005 10:00</td>\n",
       "      <td>2005-03-14</td>\n",
       "      <td>2005</td>\n",
       "      <td>Mar</td>\n",
       "      <td>Monday</td>\n",
       "      <td>0-15</td>\n",
       "    </tr>\n",
       "  </tbody>\n",
       "</table>\n",
       "</div>"
      ],
      "text/plain": [
       "  stop_time driver_gender  Driver_date_of_birth  driver_age driver_race  \\\n",
       "0      1:55          Male                1985.0        20.0       White   \n",
       "1      8:15          Male                1965.0        40.0       White   \n",
       "2     23:15          Male                1972.0        33.0       White   \n",
       "3     17:15          Male                1986.0        19.0       White   \n",
       "4     10:00        Female                1984.0        21.0       White   \n",
       "\n",
       "      violation_raw violation  search_conducted   stop_outcome is_arrested  \\\n",
       "0          Speeding  Speeding             False       Citation       False   \n",
       "1          Speeding  Speeding             False       Citation       False   \n",
       "2          Speeding  Speeding             False       Citation       False   \n",
       "3  Call for Service     Other             False  Arrest Driver        True   \n",
       "4          Speeding  Speeding             False       Citation       False   \n",
       "\n",
       "  stop_duration  drugs_related_stop     arrested_day stopped_day  year month  \\\n",
       "0      0-15 Min               False    1/2/2005 1:55  2005-01-02  2005   Jan   \n",
       "1      0-15 Min               False   1/18/2005 8:15  2005-01-18  2005   Jan   \n",
       "2      0-15 Min               False  1/23/2005 23:15  2005-01-23  2005   Jan   \n",
       "3     16-30 Min               False  2/20/2005 17:15  2005-02-20  2005   Feb   \n",
       "4      0-15 Min               False  3/14/2005 10:00  2005-03-14  2005   Mar   \n",
       "\n",
       "  day_of_Week stop_duration_mins  \n",
       "0      Sunday               0-15  \n",
       "1     Tuesday               0-15  \n",
       "2      Sunday               0-15  \n",
       "3      Sunday              16-30  \n",
       "4      Monday               0-15  "
      ]
     },
     "execution_count": 33,
     "metadata": {},
     "output_type": "execute_result"
    }
   ],
   "source": [
    "df.head()"
   ]
  },
  {
   "cell_type": "code",
   "execution_count": 34,
   "id": "efd0ad2f",
   "metadata": {},
   "outputs": [],
   "source": [
    "#write a function that check the duration_mins columns and calculates the average\n",
    "\n",
    "def convert_ave(x):\n",
    "    numbers = x.split('-')\n",
    "    if len(numbers) == 2:\n",
    "        return(float(numbers[0]) + float(numbers[1])) / 2\n",
    "    try:\n",
    "        return float(x)\n",
    "     \n",
    "    except:\n",
    "        return None"
   ]
  },
  {
   "cell_type": "code",
   "execution_count": 35,
   "id": "f05b1555",
   "metadata": {},
   "outputs": [],
   "source": [
    "#pass in the function into the column duration mins\n",
    "df['stop_duration_mins'] = df['stop_duration_mins'].apply(convert_ave)"
   ]
  },
  {
   "cell_type": "code",
   "execution_count": 36,
   "id": "25a4f60a",
   "metadata": {},
   "outputs": [
    {
     "data": {
      "text/html": [
       "<div>\n",
       "<style scoped>\n",
       "    .dataframe tbody tr th:only-of-type {\n",
       "        vertical-align: middle;\n",
       "    }\n",
       "\n",
       "    .dataframe tbody tr th {\n",
       "        vertical-align: top;\n",
       "    }\n",
       "\n",
       "    .dataframe thead th {\n",
       "        text-align: right;\n",
       "    }\n",
       "</style>\n",
       "<table border=\"1\" class=\"dataframe\">\n",
       "  <thead>\n",
       "    <tr style=\"text-align: right;\">\n",
       "      <th></th>\n",
       "      <th>stop_time</th>\n",
       "      <th>driver_gender</th>\n",
       "      <th>Driver_date_of_birth</th>\n",
       "      <th>driver_age</th>\n",
       "      <th>driver_race</th>\n",
       "      <th>violation_raw</th>\n",
       "      <th>violation</th>\n",
       "      <th>search_conducted</th>\n",
       "      <th>stop_outcome</th>\n",
       "      <th>is_arrested</th>\n",
       "      <th>stop_duration</th>\n",
       "      <th>drugs_related_stop</th>\n",
       "      <th>arrested_day</th>\n",
       "      <th>stopped_day</th>\n",
       "      <th>year</th>\n",
       "      <th>month</th>\n",
       "      <th>day_of_Week</th>\n",
       "      <th>stop_duration_mins</th>\n",
       "    </tr>\n",
       "  </thead>\n",
       "  <tbody>\n",
       "    <tr>\n",
       "      <th>0</th>\n",
       "      <td>1:55</td>\n",
       "      <td>Male</td>\n",
       "      <td>1985.0</td>\n",
       "      <td>20.0</td>\n",
       "      <td>White</td>\n",
       "      <td>Speeding</td>\n",
       "      <td>Speeding</td>\n",
       "      <td>False</td>\n",
       "      <td>Citation</td>\n",
       "      <td>False</td>\n",
       "      <td>0-15 Min</td>\n",
       "      <td>False</td>\n",
       "      <td>1/2/2005 1:55</td>\n",
       "      <td>2005-01-02</td>\n",
       "      <td>2005</td>\n",
       "      <td>Jan</td>\n",
       "      <td>Sunday</td>\n",
       "      <td>7.5</td>\n",
       "    </tr>\n",
       "    <tr>\n",
       "      <th>1</th>\n",
       "      <td>8:15</td>\n",
       "      <td>Male</td>\n",
       "      <td>1965.0</td>\n",
       "      <td>40.0</td>\n",
       "      <td>White</td>\n",
       "      <td>Speeding</td>\n",
       "      <td>Speeding</td>\n",
       "      <td>False</td>\n",
       "      <td>Citation</td>\n",
       "      <td>False</td>\n",
       "      <td>0-15 Min</td>\n",
       "      <td>False</td>\n",
       "      <td>1/18/2005 8:15</td>\n",
       "      <td>2005-01-18</td>\n",
       "      <td>2005</td>\n",
       "      <td>Jan</td>\n",
       "      <td>Tuesday</td>\n",
       "      <td>7.5</td>\n",
       "    </tr>\n",
       "    <tr>\n",
       "      <th>2</th>\n",
       "      <td>23:15</td>\n",
       "      <td>Male</td>\n",
       "      <td>1972.0</td>\n",
       "      <td>33.0</td>\n",
       "      <td>White</td>\n",
       "      <td>Speeding</td>\n",
       "      <td>Speeding</td>\n",
       "      <td>False</td>\n",
       "      <td>Citation</td>\n",
       "      <td>False</td>\n",
       "      <td>0-15 Min</td>\n",
       "      <td>False</td>\n",
       "      <td>1/23/2005 23:15</td>\n",
       "      <td>2005-01-23</td>\n",
       "      <td>2005</td>\n",
       "      <td>Jan</td>\n",
       "      <td>Sunday</td>\n",
       "      <td>7.5</td>\n",
       "    </tr>\n",
       "    <tr>\n",
       "      <th>3</th>\n",
       "      <td>17:15</td>\n",
       "      <td>Male</td>\n",
       "      <td>1986.0</td>\n",
       "      <td>19.0</td>\n",
       "      <td>White</td>\n",
       "      <td>Call for Service</td>\n",
       "      <td>Other</td>\n",
       "      <td>False</td>\n",
       "      <td>Arrest Driver</td>\n",
       "      <td>True</td>\n",
       "      <td>16-30 Min</td>\n",
       "      <td>False</td>\n",
       "      <td>2/20/2005 17:15</td>\n",
       "      <td>2005-02-20</td>\n",
       "      <td>2005</td>\n",
       "      <td>Feb</td>\n",
       "      <td>Sunday</td>\n",
       "      <td>23.0</td>\n",
       "    </tr>\n",
       "    <tr>\n",
       "      <th>4</th>\n",
       "      <td>10:00</td>\n",
       "      <td>Female</td>\n",
       "      <td>1984.0</td>\n",
       "      <td>21.0</td>\n",
       "      <td>White</td>\n",
       "      <td>Speeding</td>\n",
       "      <td>Speeding</td>\n",
       "      <td>False</td>\n",
       "      <td>Citation</td>\n",
       "      <td>False</td>\n",
       "      <td>0-15 Min</td>\n",
       "      <td>False</td>\n",
       "      <td>3/14/2005 10:00</td>\n",
       "      <td>2005-03-14</td>\n",
       "      <td>2005</td>\n",
       "      <td>Mar</td>\n",
       "      <td>Monday</td>\n",
       "      <td>7.5</td>\n",
       "    </tr>\n",
       "  </tbody>\n",
       "</table>\n",
       "</div>"
      ],
      "text/plain": [
       "  stop_time driver_gender  Driver_date_of_birth  driver_age driver_race  \\\n",
       "0      1:55          Male                1985.0        20.0       White   \n",
       "1      8:15          Male                1965.0        40.0       White   \n",
       "2     23:15          Male                1972.0        33.0       White   \n",
       "3     17:15          Male                1986.0        19.0       White   \n",
       "4     10:00        Female                1984.0        21.0       White   \n",
       "\n",
       "      violation_raw violation  search_conducted   stop_outcome is_arrested  \\\n",
       "0          Speeding  Speeding             False       Citation       False   \n",
       "1          Speeding  Speeding             False       Citation       False   \n",
       "2          Speeding  Speeding             False       Citation       False   \n",
       "3  Call for Service     Other             False  Arrest Driver        True   \n",
       "4          Speeding  Speeding             False       Citation       False   \n",
       "\n",
       "  stop_duration  drugs_related_stop     arrested_day stopped_day  year month  \\\n",
       "0      0-15 Min               False    1/2/2005 1:55  2005-01-02  2005   Jan   \n",
       "1      0-15 Min               False   1/18/2005 8:15  2005-01-18  2005   Jan   \n",
       "2      0-15 Min               False  1/23/2005 23:15  2005-01-23  2005   Jan   \n",
       "3     16-30 Min               False  2/20/2005 17:15  2005-02-20  2005   Feb   \n",
       "4      0-15 Min               False  3/14/2005 10:00  2005-03-14  2005   Mar   \n",
       "\n",
       "  day_of_Week  stop_duration_mins  \n",
       "0      Sunday                 7.5  \n",
       "1     Tuesday                 7.5  \n",
       "2      Sunday                 7.5  \n",
       "3      Sunday                23.0  \n",
       "4      Monday                 7.5  "
      ]
     },
     "execution_count": 36,
     "metadata": {},
     "output_type": "execute_result"
    }
   ],
   "source": [
    "df.head()"
   ]
  },
  {
   "cell_type": "code",
   "execution_count": 37,
   "id": "48686bc7",
   "metadata": {},
   "outputs": [
    {
     "data": {
      "text/plain": [
       "7.5     47264\n",
       "23.0    11403\n",
       "2.0         1\n",
       "Name: stop_duration_mins, dtype: int64"
      ]
     },
     "execution_count": 37,
     "metadata": {},
     "output_type": "execute_result"
    }
   ],
   "source": [
    "df['stop_duration_mins'].value_counts()"
   ]
  },
  {
   "cell_type": "code",
   "execution_count": 38,
   "id": "77f9c2c5",
   "metadata": {},
   "outputs": [
    {
     "data": {
      "text/html": [
       "<div>\n",
       "<style scoped>\n",
       "    .dataframe tbody tr th:only-of-type {\n",
       "        vertical-align: middle;\n",
       "    }\n",
       "\n",
       "    .dataframe tbody tr th {\n",
       "        vertical-align: top;\n",
       "    }\n",
       "\n",
       "    .dataframe thead th {\n",
       "        text-align: right;\n",
       "    }\n",
       "</style>\n",
       "<table border=\"1\" class=\"dataframe\">\n",
       "  <thead>\n",
       "    <tr style=\"text-align: right;\">\n",
       "      <th></th>\n",
       "      <th>stop_time</th>\n",
       "      <th>driver_gender</th>\n",
       "      <th>Driver_date_of_birth</th>\n",
       "      <th>driver_age</th>\n",
       "      <th>driver_race</th>\n",
       "      <th>violation_raw</th>\n",
       "      <th>violation</th>\n",
       "      <th>search_conducted</th>\n",
       "      <th>stop_outcome</th>\n",
       "      <th>is_arrested</th>\n",
       "      <th>stop_duration</th>\n",
       "      <th>drugs_related_stop</th>\n",
       "      <th>arrested_day</th>\n",
       "      <th>stopped_day</th>\n",
       "      <th>year</th>\n",
       "      <th>month</th>\n",
       "      <th>day_of_Week</th>\n",
       "      <th>stop_duration_mins</th>\n",
       "    </tr>\n",
       "  </thead>\n",
       "  <tbody>\n",
       "    <tr>\n",
       "      <th>0</th>\n",
       "      <td>1:55</td>\n",
       "      <td>Male</td>\n",
       "      <td>1985.0</td>\n",
       "      <td>20.0</td>\n",
       "      <td>White</td>\n",
       "      <td>Speeding</td>\n",
       "      <td>Speeding</td>\n",
       "      <td>False</td>\n",
       "      <td>Citation</td>\n",
       "      <td>False</td>\n",
       "      <td>0-15 Min</td>\n",
       "      <td>False</td>\n",
       "      <td>1/2/2005 1:55</td>\n",
       "      <td>2005-01-02</td>\n",
       "      <td>2005</td>\n",
       "      <td>Jan</td>\n",
       "      <td>Sunday</td>\n",
       "      <td>7.5</td>\n",
       "    </tr>\n",
       "    <tr>\n",
       "      <th>1</th>\n",
       "      <td>8:15</td>\n",
       "      <td>Male</td>\n",
       "      <td>1965.0</td>\n",
       "      <td>40.0</td>\n",
       "      <td>White</td>\n",
       "      <td>Speeding</td>\n",
       "      <td>Speeding</td>\n",
       "      <td>False</td>\n",
       "      <td>Citation</td>\n",
       "      <td>False</td>\n",
       "      <td>0-15 Min</td>\n",
       "      <td>False</td>\n",
       "      <td>1/18/2005 8:15</td>\n",
       "      <td>2005-01-18</td>\n",
       "      <td>2005</td>\n",
       "      <td>Jan</td>\n",
       "      <td>Tuesday</td>\n",
       "      <td>7.5</td>\n",
       "    </tr>\n",
       "    <tr>\n",
       "      <th>2</th>\n",
       "      <td>23:15</td>\n",
       "      <td>Male</td>\n",
       "      <td>1972.0</td>\n",
       "      <td>33.0</td>\n",
       "      <td>White</td>\n",
       "      <td>Speeding</td>\n",
       "      <td>Speeding</td>\n",
       "      <td>False</td>\n",
       "      <td>Citation</td>\n",
       "      <td>False</td>\n",
       "      <td>0-15 Min</td>\n",
       "      <td>False</td>\n",
       "      <td>1/23/2005 23:15</td>\n",
       "      <td>2005-01-23</td>\n",
       "      <td>2005</td>\n",
       "      <td>Jan</td>\n",
       "      <td>Sunday</td>\n",
       "      <td>7.5</td>\n",
       "    </tr>\n",
       "    <tr>\n",
       "      <th>3</th>\n",
       "      <td>17:15</td>\n",
       "      <td>Male</td>\n",
       "      <td>1986.0</td>\n",
       "      <td>19.0</td>\n",
       "      <td>White</td>\n",
       "      <td>Call for Service</td>\n",
       "      <td>Other</td>\n",
       "      <td>False</td>\n",
       "      <td>Arrest Driver</td>\n",
       "      <td>True</td>\n",
       "      <td>16-30 Min</td>\n",
       "      <td>False</td>\n",
       "      <td>2/20/2005 17:15</td>\n",
       "      <td>2005-02-20</td>\n",
       "      <td>2005</td>\n",
       "      <td>Feb</td>\n",
       "      <td>Sunday</td>\n",
       "      <td>23.0</td>\n",
       "    </tr>\n",
       "    <tr>\n",
       "      <th>4</th>\n",
       "      <td>10:00</td>\n",
       "      <td>Female</td>\n",
       "      <td>1984.0</td>\n",
       "      <td>21.0</td>\n",
       "      <td>White</td>\n",
       "      <td>Speeding</td>\n",
       "      <td>Speeding</td>\n",
       "      <td>False</td>\n",
       "      <td>Citation</td>\n",
       "      <td>False</td>\n",
       "      <td>0-15 Min</td>\n",
       "      <td>False</td>\n",
       "      <td>3/14/2005 10:00</td>\n",
       "      <td>2005-03-14</td>\n",
       "      <td>2005</td>\n",
       "      <td>Mar</td>\n",
       "      <td>Monday</td>\n",
       "      <td>7.5</td>\n",
       "    </tr>\n",
       "  </tbody>\n",
       "</table>\n",
       "</div>"
      ],
      "text/plain": [
       "  stop_time driver_gender  Driver_date_of_birth  driver_age driver_race  \\\n",
       "0      1:55          Male                1985.0        20.0       White   \n",
       "1      8:15          Male                1965.0        40.0       White   \n",
       "2     23:15          Male                1972.0        33.0       White   \n",
       "3     17:15          Male                1986.0        19.0       White   \n",
       "4     10:00        Female                1984.0        21.0       White   \n",
       "\n",
       "      violation_raw violation  search_conducted   stop_outcome is_arrested  \\\n",
       "0          Speeding  Speeding             False       Citation       False   \n",
       "1          Speeding  Speeding             False       Citation       False   \n",
       "2          Speeding  Speeding             False       Citation       False   \n",
       "3  Call for Service     Other             False  Arrest Driver        True   \n",
       "4          Speeding  Speeding             False       Citation       False   \n",
       "\n",
       "  stop_duration  drugs_related_stop     arrested_day stopped_day  year month  \\\n",
       "0      0-15 Min               False    1/2/2005 1:55  2005-01-02  2005   Jan   \n",
       "1      0-15 Min               False   1/18/2005 8:15  2005-01-18  2005   Jan   \n",
       "2      0-15 Min               False  1/23/2005 23:15  2005-01-23  2005   Jan   \n",
       "3     16-30 Min               False  2/20/2005 17:15  2005-02-20  2005   Feb   \n",
       "4      0-15 Min               False  3/14/2005 10:00  2005-03-14  2005   Mar   \n",
       "\n",
       "  day_of_Week  stop_duration_mins  \n",
       "0      Sunday                 7.5  \n",
       "1     Tuesday                 7.5  \n",
       "2      Sunday                 7.5  \n",
       "3      Sunday                23.0  \n",
       "4      Monday                 7.5  "
      ]
     },
     "execution_count": 38,
     "metadata": {},
     "output_type": "execute_result"
    }
   ],
   "source": [
    "#view the dataframe\n",
    "df.head()"
   ]
  },
  {
   "cell_type": "markdown",
   "id": "69e3f57b",
   "metadata": {},
   "source": [
    "# Phase 3: Exploratory Data Analysis"
   ]
  },
  {
   "cell_type": "markdown",
   "id": "5a256293",
   "metadata": {},
   "source": [
    "* EDA is an approach to anaylse data inorder to summarize main characteristics of the data\n",
    "* It also helps to gain better understanding of the dataset\n",
    "* helps uncover relationships between different variables \n",
    "* extract the important variables for the problem being solved"
   ]
  },
  {
   "cell_type": "markdown",
   "id": "a84b1290",
   "metadata": {},
   "source": [
    "#### Q1: Group the gender race"
   ]
  },
  {
   "cell_type": "code",
   "execution_count": 39,
   "id": "af7d5322",
   "metadata": {},
   "outputs": [
    {
     "data": {
      "text/html": [
       "<div>\n",
       "<style scoped>\n",
       "    .dataframe tbody tr th:only-of-type {\n",
       "        vertical-align: middle;\n",
       "    }\n",
       "\n",
       "    .dataframe tbody tr th {\n",
       "        vertical-align: top;\n",
       "    }\n",
       "\n",
       "    .dataframe thead th {\n",
       "        text-align: right;\n",
       "    }\n",
       "</style>\n",
       "<table border=\"1\" class=\"dataframe\">\n",
       "  <thead>\n",
       "    <tr style=\"text-align: right;\">\n",
       "      <th></th>\n",
       "      <th>stop_time</th>\n",
       "      <th>driver_gender</th>\n",
       "      <th>Driver_date_of_birth</th>\n",
       "      <th>driver_age</th>\n",
       "      <th>driver_race</th>\n",
       "      <th>violation_raw</th>\n",
       "      <th>violation</th>\n",
       "      <th>search_conducted</th>\n",
       "      <th>stop_outcome</th>\n",
       "      <th>is_arrested</th>\n",
       "      <th>stop_duration</th>\n",
       "      <th>drugs_related_stop</th>\n",
       "      <th>arrested_day</th>\n",
       "      <th>stopped_day</th>\n",
       "      <th>year</th>\n",
       "      <th>month</th>\n",
       "      <th>day_of_Week</th>\n",
       "      <th>stop_duration_mins</th>\n",
       "    </tr>\n",
       "  </thead>\n",
       "  <tbody>\n",
       "    <tr>\n",
       "      <th>0</th>\n",
       "      <td>1:55</td>\n",
       "      <td>Male</td>\n",
       "      <td>1985.0</td>\n",
       "      <td>20.0</td>\n",
       "      <td>White</td>\n",
       "      <td>Speeding</td>\n",
       "      <td>Speeding</td>\n",
       "      <td>False</td>\n",
       "      <td>Citation</td>\n",
       "      <td>False</td>\n",
       "      <td>0-15 Min</td>\n",
       "      <td>False</td>\n",
       "      <td>1/2/2005 1:55</td>\n",
       "      <td>2005-01-02</td>\n",
       "      <td>2005</td>\n",
       "      <td>Jan</td>\n",
       "      <td>Sunday</td>\n",
       "      <td>7.5</td>\n",
       "    </tr>\n",
       "    <tr>\n",
       "      <th>1</th>\n",
       "      <td>8:15</td>\n",
       "      <td>Male</td>\n",
       "      <td>1965.0</td>\n",
       "      <td>40.0</td>\n",
       "      <td>White</td>\n",
       "      <td>Speeding</td>\n",
       "      <td>Speeding</td>\n",
       "      <td>False</td>\n",
       "      <td>Citation</td>\n",
       "      <td>False</td>\n",
       "      <td>0-15 Min</td>\n",
       "      <td>False</td>\n",
       "      <td>1/18/2005 8:15</td>\n",
       "      <td>2005-01-18</td>\n",
       "      <td>2005</td>\n",
       "      <td>Jan</td>\n",
       "      <td>Tuesday</td>\n",
       "      <td>7.5</td>\n",
       "    </tr>\n",
       "  </tbody>\n",
       "</table>\n",
       "</div>"
      ],
      "text/plain": [
       "  stop_time driver_gender  Driver_date_of_birth  driver_age driver_race  \\\n",
       "0      1:55          Male                1985.0        20.0       White   \n",
       "1      8:15          Male                1965.0        40.0       White   \n",
       "\n",
       "  violation_raw violation  search_conducted stop_outcome is_arrested  \\\n",
       "0      Speeding  Speeding             False     Citation       False   \n",
       "1      Speeding  Speeding             False     Citation       False   \n",
       "\n",
       "  stop_duration  drugs_related_stop    arrested_day stopped_day  year month  \\\n",
       "0      0-15 Min               False   1/2/2005 1:55  2005-01-02  2005   Jan   \n",
       "1      0-15 Min               False  1/18/2005 8:15  2005-01-18  2005   Jan   \n",
       "\n",
       "  day_of_Week  stop_duration_mins  \n",
       "0      Sunday                 7.5  \n",
       "1     Tuesday                 7.5  "
      ]
     },
     "execution_count": 39,
     "metadata": {},
     "output_type": "execute_result"
    }
   ],
   "source": [
    "#view the dataset\n",
    "df.head(2)"
   ]
  },
  {
   "cell_type": "code",
   "execution_count": 40,
   "id": "38503ea7",
   "metadata": {},
   "outputs": [
    {
     "data": {
      "text/plain": [
       "driver_race  driver_gender\n",
       "Asian        Male              1270\n",
       "             Female             366\n",
       "Black        Male              6615\n",
       "             Female            1628\n",
       "Hispanic     Male              4581\n",
       "             Female            1012\n",
       "Other        Male               188\n",
       "             Female              22\n",
       "White        Male             32369\n",
       "             Female           13241\n",
       "Name: driver_gender, dtype: int64"
      ]
     },
     "execution_count": 40,
     "metadata": {},
     "output_type": "execute_result"
    }
   ],
   "source": [
    "df.groupby('driver_race').driver_gender.value_counts()"
   ]
  },
  {
   "cell_type": "markdown",
   "id": "3c9e8acd",
   "metadata": {},
   "source": [
    "#### Q2: how many male and females were arrested"
   ]
  },
  {
   "cell_type": "code",
   "execution_count": 41,
   "id": "81ed2ba4",
   "metadata": {},
   "outputs": [
    {
     "data": {
      "text/plain": [
       "Male      1775\n",
       "Female     458\n",
       "Name: driver_gender, dtype: int64"
      ]
     },
     "execution_count": 41,
     "metadata": {},
     "output_type": "execute_result"
    }
   ],
   "source": [
    "filt = (df['is_arrested'] == True)\n",
    "df[filt].driver_gender.value_counts()"
   ]
  },
  {
   "cell_type": "markdown",
   "id": "2b8795c5",
   "metadata": {},
   "source": [
    "#### Q3: how male and females were arrested for speeding"
   ]
  },
  {
   "cell_type": "code",
   "execution_count": 42,
   "id": "36202b15",
   "metadata": {},
   "outputs": [
    {
     "data": {
      "text/html": [
       "<div>\n",
       "<style scoped>\n",
       "    .dataframe tbody tr th:only-of-type {\n",
       "        vertical-align: middle;\n",
       "    }\n",
       "\n",
       "    .dataframe tbody tr th {\n",
       "        vertical-align: top;\n",
       "    }\n",
       "\n",
       "    .dataframe thead th {\n",
       "        text-align: right;\n",
       "    }\n",
       "</style>\n",
       "<table border=\"1\" class=\"dataframe\">\n",
       "  <thead>\n",
       "    <tr style=\"text-align: right;\">\n",
       "      <th></th>\n",
       "      <th>stop_time</th>\n",
       "      <th>driver_gender</th>\n",
       "      <th>Driver_date_of_birth</th>\n",
       "      <th>driver_age</th>\n",
       "      <th>driver_race</th>\n",
       "      <th>violation_raw</th>\n",
       "      <th>violation</th>\n",
       "      <th>search_conducted</th>\n",
       "      <th>stop_outcome</th>\n",
       "      <th>is_arrested</th>\n",
       "      <th>stop_duration</th>\n",
       "      <th>drugs_related_stop</th>\n",
       "      <th>arrested_day</th>\n",
       "      <th>stopped_day</th>\n",
       "      <th>year</th>\n",
       "      <th>month</th>\n",
       "      <th>day_of_Week</th>\n",
       "      <th>stop_duration_mins</th>\n",
       "    </tr>\n",
       "  </thead>\n",
       "  <tbody>\n",
       "    <tr>\n",
       "      <th>0</th>\n",
       "      <td>1:55</td>\n",
       "      <td>Male</td>\n",
       "      <td>1985.0</td>\n",
       "      <td>20.0</td>\n",
       "      <td>White</td>\n",
       "      <td>Speeding</td>\n",
       "      <td>Speeding</td>\n",
       "      <td>False</td>\n",
       "      <td>Citation</td>\n",
       "      <td>False</td>\n",
       "      <td>0-15 Min</td>\n",
       "      <td>False</td>\n",
       "      <td>1/2/2005 1:55</td>\n",
       "      <td>2005-01-02</td>\n",
       "      <td>2005</td>\n",
       "      <td>Jan</td>\n",
       "      <td>Sunday</td>\n",
       "      <td>7.5</td>\n",
       "    </tr>\n",
       "    <tr>\n",
       "      <th>1</th>\n",
       "      <td>8:15</td>\n",
       "      <td>Male</td>\n",
       "      <td>1965.0</td>\n",
       "      <td>40.0</td>\n",
       "      <td>White</td>\n",
       "      <td>Speeding</td>\n",
       "      <td>Speeding</td>\n",
       "      <td>False</td>\n",
       "      <td>Citation</td>\n",
       "      <td>False</td>\n",
       "      <td>0-15 Min</td>\n",
       "      <td>False</td>\n",
       "      <td>1/18/2005 8:15</td>\n",
       "      <td>2005-01-18</td>\n",
       "      <td>2005</td>\n",
       "      <td>Jan</td>\n",
       "      <td>Tuesday</td>\n",
       "      <td>7.5</td>\n",
       "    </tr>\n",
       "  </tbody>\n",
       "</table>\n",
       "</div>"
      ],
      "text/plain": [
       "  stop_time driver_gender  Driver_date_of_birth  driver_age driver_race  \\\n",
       "0      1:55          Male                1985.0        20.0       White   \n",
       "1      8:15          Male                1965.0        40.0       White   \n",
       "\n",
       "  violation_raw violation  search_conducted stop_outcome is_arrested  \\\n",
       "0      Speeding  Speeding             False     Citation       False   \n",
       "1      Speeding  Speeding             False     Citation       False   \n",
       "\n",
       "  stop_duration  drugs_related_stop    arrested_day stopped_day  year month  \\\n",
       "0      0-15 Min               False   1/2/2005 1:55  2005-01-02  2005   Jan   \n",
       "1      0-15 Min               False  1/18/2005 8:15  2005-01-18  2005   Jan   \n",
       "\n",
       "  day_of_Week  stop_duration_mins  \n",
       "0      Sunday                 7.5  \n",
       "1     Tuesday                 7.5  "
      ]
     },
     "execution_count": 42,
     "metadata": {},
     "output_type": "execute_result"
    }
   ],
   "source": [
    "#view the dataset\n",
    "df.head(2)"
   ]
  },
  {
   "cell_type": "code",
   "execution_count": 43,
   "id": "e40c94ac",
   "metadata": {},
   "outputs": [
    {
     "data": {
      "text/plain": [
       "Male      464\n",
       "Female     81\n",
       "Name: driver_gender, dtype: int64"
      ]
     },
     "execution_count": 43,
     "metadata": {},
     "output_type": "execute_result"
    }
   ],
   "source": [
    "filt = (df['violation'] == 'Speeding') & (df['is_arrested'] == True)\n",
    "df[filt].driver_gender.value_counts()"
   ]
  },
  {
   "cell_type": "markdown",
   "id": "6da9da53",
   "metadata": {},
   "source": [
    "more males were arrested for speeding"
   ]
  },
  {
   "cell_type": "markdown",
   "id": "45b101e8",
   "metadata": {},
   "source": [
    "#### Q4: Does gender who gets searched during a stop"
   ]
  },
  {
   "cell_type": "code",
   "execution_count": 44,
   "id": "307b2d94",
   "metadata": {},
   "outputs": [
    {
     "data": {
      "text/plain": [
       "Male      2105\n",
       "Female     365\n",
       "Name: driver_gender, dtype: int64"
      ]
     },
     "execution_count": 44,
     "metadata": {},
     "output_type": "execute_result"
    }
   ],
   "source": [
    "filt = (df['search_conducted']== True)\n",
    "df[filt].driver_gender.value_counts()"
   ]
  },
  {
   "cell_type": "markdown",
   "id": "e326d2b3",
   "metadata": {},
   "source": [
    "yes! male were searched to a greater extent"
   ]
  },
  {
   "cell_type": "markdown",
   "id": "3a35cdca",
   "metadata": {},
   "source": [
    "#### Q5: Compare age distrubution for each violation"
   ]
  },
  {
   "cell_type": "code",
   "execution_count": 45,
   "id": "ca43810f",
   "metadata": {},
   "outputs": [
    {
     "data": {
      "text/html": [
       "<div>\n",
       "<style scoped>\n",
       "    .dataframe tbody tr th:only-of-type {\n",
       "        vertical-align: middle;\n",
       "    }\n",
       "\n",
       "    .dataframe tbody tr th {\n",
       "        vertical-align: top;\n",
       "    }\n",
       "\n",
       "    .dataframe thead th {\n",
       "        text-align: right;\n",
       "    }\n",
       "</style>\n",
       "<table border=\"1\" class=\"dataframe\">\n",
       "  <thead>\n",
       "    <tr style=\"text-align: right;\">\n",
       "      <th></th>\n",
       "      <th>count</th>\n",
       "      <th>mean</th>\n",
       "      <th>std</th>\n",
       "      <th>min</th>\n",
       "      <th>25%</th>\n",
       "      <th>50%</th>\n",
       "      <th>75%</th>\n",
       "      <th>max</th>\n",
       "    </tr>\n",
       "    <tr>\n",
       "      <th>violation</th>\n",
       "      <th></th>\n",
       "      <th></th>\n",
       "      <th></th>\n",
       "      <th></th>\n",
       "      <th></th>\n",
       "      <th></th>\n",
       "      <th></th>\n",
       "      <th></th>\n",
       "    </tr>\n",
       "  </thead>\n",
       "  <tbody>\n",
       "    <tr>\n",
       "      <th>Equipment</th>\n",
       "      <td>6498.0</td>\n",
       "      <td>31.685956</td>\n",
       "      <td>11.376163</td>\n",
       "      <td>16.0</td>\n",
       "      <td>23.0</td>\n",
       "      <td>28.0</td>\n",
       "      <td>38.75</td>\n",
       "      <td>81.0</td>\n",
       "    </tr>\n",
       "    <tr>\n",
       "      <th>Moving violation</th>\n",
       "      <td>11894.0</td>\n",
       "      <td>36.731333</td>\n",
       "      <td>13.232118</td>\n",
       "      <td>15.0</td>\n",
       "      <td>25.0</td>\n",
       "      <td>35.0</td>\n",
       "      <td>46.00</td>\n",
       "      <td>86.0</td>\n",
       "    </tr>\n",
       "    <tr>\n",
       "      <th>Other</th>\n",
       "      <td>3569.0</td>\n",
       "      <td>40.208978</td>\n",
       "      <td>12.603789</td>\n",
       "      <td>16.0</td>\n",
       "      <td>30.0</td>\n",
       "      <td>40.0</td>\n",
       "      <td>50.00</td>\n",
       "      <td>86.0</td>\n",
       "    </tr>\n",
       "    <tr>\n",
       "      <th>Registration/plates</th>\n",
       "      <td>2225.0</td>\n",
       "      <td>32.654134</td>\n",
       "      <td>11.144344</td>\n",
       "      <td>16.0</td>\n",
       "      <td>24.0</td>\n",
       "      <td>30.0</td>\n",
       "      <td>40.00</td>\n",
       "      <td>74.0</td>\n",
       "    </tr>\n",
       "    <tr>\n",
       "      <th>Seat belt</th>\n",
       "      <td>3.0</td>\n",
       "      <td>30.333333</td>\n",
       "      <td>10.214369</td>\n",
       "      <td>23.0</td>\n",
       "      <td>24.5</td>\n",
       "      <td>26.0</td>\n",
       "      <td>34.00</td>\n",
       "      <td>42.0</td>\n",
       "    </tr>\n",
       "    <tr>\n",
       "      <th>Speeding</th>\n",
       "      <td>37103.0</td>\n",
       "      <td>33.271098</td>\n",
       "      <td>12.604607</td>\n",
       "      <td>15.0</td>\n",
       "      <td>23.0</td>\n",
       "      <td>30.0</td>\n",
       "      <td>42.00</td>\n",
       "      <td>88.0</td>\n",
       "    </tr>\n",
       "  </tbody>\n",
       "</table>\n",
       "</div>"
      ],
      "text/plain": [
       "                       count       mean        std   min   25%   50%    75%  \\\n",
       "violation                                                                     \n",
       "Equipment             6498.0  31.685956  11.376163  16.0  23.0  28.0  38.75   \n",
       "Moving violation     11894.0  36.731333  13.232118  15.0  25.0  35.0  46.00   \n",
       "Other                 3569.0  40.208978  12.603789  16.0  30.0  40.0  50.00   \n",
       "Registration/plates   2225.0  32.654134  11.144344  16.0  24.0  30.0  40.00   \n",
       "Seat belt                3.0  30.333333  10.214369  23.0  24.5  26.0  34.00   \n",
       "Speeding             37103.0  33.271098  12.604607  15.0  23.0  30.0  42.00   \n",
       "\n",
       "                      max  \n",
       "violation                  \n",
       "Equipment            81.0  \n",
       "Moving violation     86.0  \n",
       "Other                86.0  \n",
       "Registration/plates  74.0  \n",
       "Seat belt            42.0  \n",
       "Speeding             88.0  "
      ]
     },
     "execution_count": 45,
     "metadata": {},
     "output_type": "execute_result"
    }
   ],
   "source": [
    "df.groupby('violation').driver_age.describe()"
   ]
  },
  {
   "cell_type": "markdown",
   "id": "6fcb05ce",
   "metadata": {},
   "source": [
    "violation of speeding was dominated by people at the average age of 33, as 30 year olds contributed to the seatbelt violation and so forth"
   ]
  },
  {
   "cell_type": "markdown",
   "id": "f7bc6ed4",
   "metadata": {},
   "source": [
    "#### Q6: Which month had more females arrested for speeding"
   ]
  },
  {
   "cell_type": "code",
   "execution_count": 46,
   "id": "32598cff",
   "metadata": {},
   "outputs": [
    {
     "data": {
      "text/plain": [
       "Jan    1126\n",
       "Nov    1114\n",
       "Oct    1042\n",
       "Apr    1023\n",
       "Mar    1001\n",
       "May     997\n",
       "Jun     948\n",
       "Feb     915\n",
       "Sep     890\n",
       "Aug     888\n",
       "Jul     877\n",
       "Dec     840\n",
       "Name: month, dtype: int64"
      ]
     },
     "execution_count": 46,
     "metadata": {},
     "output_type": "execute_result"
    }
   ],
   "source": [
    "filt = (df['driver_gender'] == 'Female')  & (df['violation'] == 'Speeding')\n",
    "df[filt].month.value_counts()"
   ]
  },
  {
   "cell_type": "markdown",
   "id": "e9182694",
   "metadata": {},
   "source": [
    "Jan had lots of females being arrested for speeding the least being December"
   ]
  },
  {
   "cell_type": "markdown",
   "id": "4362bfd3",
   "metadata": {},
   "source": [
    "#### Q7: How many people were arrested on sunday"
   ]
  },
  {
   "cell_type": "code",
   "execution_count": 47,
   "id": "8144d6d7",
   "metadata": {},
   "outputs": [
    {
     "data": {
      "text/plain": [
       "269"
      ]
     },
     "execution_count": 47,
     "metadata": {},
     "output_type": "execute_result"
    }
   ],
   "source": [
    "filt = (df['day_of_Week'] ==  'Sunday') & (df['is_arrested']==True) & (df['driver_gender'] == 'Male')\n",
    "df.loc[filt, 'driver_gender'].count()"
   ]
  },
  {
   "cell_type": "markdown",
   "id": "5d50a652",
   "metadata": {},
   "source": [
    "269 male were arrested on sunday"
   ]
  },
  {
   "cell_type": "markdown",
   "id": "04b6aeaa",
   "metadata": {},
   "source": [
    "#### Q8: which race had more people arrested for drugs"
   ]
  },
  {
   "cell_type": "code",
   "execution_count": 48,
   "id": "be59c426",
   "metadata": {},
   "outputs": [
    {
     "data": {
      "text/plain": [
       "White       107\n",
       "Black        39\n",
       "Hispanic     19\n",
       "Asian         1\n",
       "Name: driver_race, dtype: int64"
      ]
     },
     "execution_count": 48,
     "metadata": {},
     "output_type": "execute_result"
    }
   ],
   "source": [
    "filt = (df['is_arrested']==True) & (df['drugs_related_stop']==True)\n",
    "df[filt].driver_race.value_counts()"
   ]
  },
  {
   "cell_type": "markdown",
   "id": "80f441ab",
   "metadata": {},
   "source": [
    "whites ahd more drugs issues than the rest"
   ]
  },
  {
   "cell_type": "markdown",
   "id": "0059965e",
   "metadata": {},
   "source": [
    "#### Q9: which driver age was arrested the most"
   ]
  },
  {
   "cell_type": "code",
   "execution_count": 49,
   "id": "c5b58b6d",
   "metadata": {},
   "outputs": [
    {
     "data": {
      "text/plain": [
       "27.0    116\n",
       "24.0    112\n",
       "22.0    112\n",
       "25.0    109\n",
       "23.0    106\n",
       "       ... \n",
       "67.0      1\n",
       "63.0      1\n",
       "76.0      1\n",
       "69.0      1\n",
       "78.0      1\n",
       "Name: driver_age, Length: 61, dtype: int64"
      ]
     },
     "execution_count": 49,
     "metadata": {},
     "output_type": "execute_result"
    }
   ],
   "source": [
    "filt = (df['is_arrested']==True)\n",
    "df[filt].driver_age.value_counts()"
   ]
  },
  {
   "cell_type": "markdown",
   "id": "5d2d8c37",
   "metadata": {},
   "source": [
    "age of 27 had more arrests than the rest"
   ]
  },
  {
   "cell_type": "markdown",
   "id": "8c33cd57",
   "metadata": {},
   "source": [
    "#### Q10: Which violation raw had more arrests"
   ]
  },
  {
   "cell_type": "code",
   "execution_count": 50,
   "id": "8c4d9aa8",
   "metadata": {},
   "outputs": [
    {
     "data": {
      "text/plain": [
       "Other Traffic Violation             703\n",
       "Speeding                            545\n",
       "Equipment/Inspection Violation      467\n",
       "Registration Violation              268\n",
       "Call for Service                    182\n",
       "APB                                  17\n",
       "Special Detail/Directed Patrol       14\n",
       "Suspicious Person                    13\n",
       "Violation of City/Town Ordinance     11\n",
       "Motorist Assist/Courtesy              8\n",
       "Warrant                               5\n",
       "Name: violation_raw, dtype: int64"
      ]
     },
     "execution_count": 50,
     "metadata": {},
     "output_type": "execute_result"
    }
   ],
   "source": [
    "filt = (df['is_arrested']==True) \n",
    "df[filt].violation_raw.value_counts()"
   ]
  },
  {
   "cell_type": "markdown",
   "id": "4e47ecd6",
   "metadata": {},
   "source": [
    "other traffic violations had more arrest the last being warrant"
   ]
  },
  {
   "cell_type": "markdown",
   "id": "a250049a",
   "metadata": {},
   "source": [
    "59059 people were stopped but they werent arrested"
   ]
  },
  {
   "cell_type": "code",
   "execution_count": null,
   "id": "9de9cffb",
   "metadata": {},
   "outputs": [],
   "source": []
  },
  {
   "cell_type": "markdown",
   "id": "50866b96",
   "metadata": {},
   "source": [
    "# Phase 4: Data Visualisation"
   ]
  },
  {
   "cell_type": "markdown",
   "id": "fea51091",
   "metadata": {},
   "source": [
    "* The purpose of data visualization is to visually represent data in a way that allows people to quickly and easily understand patterns, relationships, and trends in the data. By creating visual representations of data, we can make complex information more accessible and understandable, which can lead to insights and actionable outcomes."
   ]
  },
  {
   "cell_type": "markdown",
   "id": "06dd40fc",
   "metadata": {},
   "source": [
    "### 4.1: Gender of drivers arrested for speeding"
   ]
  },
  {
   "cell_type": "code",
   "execution_count": 55,
   "id": "49989717",
   "metadata": {},
   "outputs": [
    {
     "data": {
      "image/png": "[encoded data removed]",
      "text/plain": [
       "<Figure size 640x480 with 1 Axes>"
      ]
     },
     "metadata": {},
     "output_type": "display_data"
    }
   ],
   "source": [
    "\n",
    "\n",
    "# create a filtered dataframe\n",
    "filt = (df['violation'] == 'Speeding') & (df['is_arrested'] == True)\n",
    "df_filtered = df[filt]\n",
    "\n",
    "# count the number of drivers by gender\n",
    "gender_counts = df_filtered.driver_gender.value_counts()\n",
    "\n",
    "# create a pie chart\n",
    "plt.pie(gender_counts, labels=gender_counts.index, autopct='%1.1f%%')\n",
    "\n",
    "# add title\n",
    "plt.title('Gender of drivers arrested for speeding')\n",
    "\n",
    "# show the chart\n",
    "plt.show()\n"
   ]
  },
  {
   "cell_type": "markdown",
   "id": "6fb8997d",
   "metadata": {},
   "source": [
    "##### * **key takeaway:**  more male drivers were arrested because of speeding"
   ]
  },
  {
   "cell_type": "markdown",
   "id": "d423f309",
   "metadata": {},
   "source": [
    "### 4.2: Number of drivers searched by gender"
   ]
  },
  {
   "cell_type": "code",
   "execution_count": 56,
   "id": "6f157227",
   "metadata": {},
   "outputs": [
    {
     "data": {
      "image/png": "[encoded data removed]",
      "text/plain": [
       "<Figure size 640x480 with 1 Axes>"
      ]
     },
     "metadata": {},
     "output_type": "display_data"
    }
   ],
   "source": [
    "\n",
    "\n",
    "# create a filtered dataframe\n",
    "filt = (df['search_conducted'] == True)\n",
    "df_filtered = df[filt]\n",
    "\n",
    "# count the number of drivers searched by gender\n",
    "gender_counts = df_filtered.driver_gender.value_counts()\n",
    "\n",
    "# create a horizontal bar chart\n",
    "plt.barh(gender_counts.index, gender_counts)\n",
    "\n",
    "# add labels and title\n",
    "plt.xlabel('Count')\n",
    "plt.ylabel('Driver Gender')\n",
    "plt.title('Number of drivers searched by gender')\n",
    "\n",
    "# show the chart\n",
    "plt.show()\n"
   ]
  },
  {
   "cell_type": "markdown",
   "id": "6e9e114a",
   "metadata": {},
   "source": [
    "##### * **key takeaway:**  more male drivers were searched after being caught"
   ]
  },
  {
   "cell_type": "markdown",
   "id": "23a84901",
   "metadata": {},
   "source": [
    "### 4.3: 'Female drivers caught speeding by month"
   ]
  },
  {
   "cell_type": "code",
   "execution_count": 57,
   "id": "82c651db",
   "metadata": {},
   "outputs": [
    {
     "data": {
      "image/png": "[encoded data removed]",
      "text/plain": [
       "<Figure size 640x480 with 1 Axes>"
      ]
     },
     "metadata": {},
     "output_type": "display_data"
    }
   ],
   "source": [
    "import matplotlib.pyplot as plt\n",
    "\n",
    "# create a filtered dataframe\n",
    "filt = (df['driver_gender'] == 'Female')  & (df['violation'] == 'Speeding')\n",
    "df_filtered = df[filt]\n",
    "\n",
    "# count the number of female drivers caught speeding in each month\n",
    "month_counts = df_filtered.month.value_counts()\n",
    "\n",
    "# sort the data by month\n",
    "month_counts = month_counts.sort_index()\n",
    "\n",
    "# create a line chart\n",
    "plt.plot(month_counts.index, month_counts)\n",
    "\n",
    "# add labels and title\n",
    "plt.xlabel('Month')\n",
    "plt.ylabel('Count')\n",
    "plt.title('Female drivers caught speeding by month')\n",
    "\n",
    "# show the chart\n",
    "plt.show()\n"
   ]
  },
  {
   "cell_type": "markdown",
   "id": "03c30819",
   "metadata": {},
   "source": [
    "##### * **key takeaway:**  more female drivers were caught speeding in Jan"
   ]
  },
  {
   "cell_type": "markdown",
   "id": "b2969179",
   "metadata": {},
   "source": [
    "### 4.4: Male drivers arrested on Sundays"
   ]
  },
  {
   "cell_type": "code",
   "execution_count": 61,
   "id": "e50c9c25",
   "metadata": {},
   "outputs": [
    {
     "data": {
      "image/png": "[encoded data removed]",
      "text/plain": [
       "<Figure size 640x480 with 1 Axes>"
      ]
     },
     "metadata": {},
     "output_type": "display_data"
    }
   ],
   "source": [
    "import matplotlib.pyplot as plt\n",
    "\n",
    "# create a filtered dataframe\n",
    "filt = (df['day_of_Week'] == 'Sunday') & (df['is_arrested'] == True) & (df['driver_gender'] == 'Male')\n",
    "df_filtered = df.loc[filt]\n",
    "\n",
    "# count the number of male drivers arrested on Sundays\n",
    "male_arrested_count = df_filtered.driver_gender.count()\n",
    "\n",
    "# create a bar chart\n",
    "plt.bar(['Male'], [male_arrested_count])\n",
    "\n",
    "# add labels and title\n",
    "plt.xlabel('Driver Gender')\n",
    "plt.ylabel('Count')\n",
    "plt.title('Male drivers arrested on Sundays')\n",
    "\n",
    "# show the chart\n",
    "plt.show()\n"
   ]
  },
  {
   "cell_type": "markdown",
   "id": "5be272f5",
   "metadata": {},
   "source": [
    "##### * **key takeaway:**  more than 250 males were arrested on sundays"
   ]
  },
  {
   "cell_type": "markdown",
   "id": "1e34ab88",
   "metadata": {},
   "source": [
    "### 4.5: Number of Searches Conducted by Gender"
   ]
  },
  {
   "cell_type": "code",
   "execution_count": 51,
   "id": "6529f015",
   "metadata": {},
   "outputs": [
    {
     "data": {
      "image/png": "[encoded data removed]",
      "text/plain": [
       "<Figure size 640x480 with 1 Axes>"
      ]
     },
     "metadata": {},
     "output_type": "display_data"
    }
   ],
   "source": [
    "\n",
    "data = df[df['search_conducted'] == True]['driver_gender'].value_counts()\n",
    "\n",
    "# Plot the data as a horizontal bar chart\n",
    "plt.barh(data.index, data.values)\n",
    "plt.xlabel('Number of Searches Conducted')\n",
    "plt.title('Number of Searches Conducted by Gender')\n",
    "\n",
    "plt.show()\n"
   ]
  },
  {
   "cell_type": "markdown",
   "id": "0ca4492d",
   "metadata": {},
   "source": [
    "##### * **key takeaway:**  more males were searched than females when stopped"
   ]
  },
  {
   "cell_type": "markdown",
   "id": "f83df840",
   "metadata": {},
   "source": [
    "### 4.6: Number of Arrests Made by Gender"
   ]
  },
  {
   "cell_type": "code",
   "execution_count": 52,
   "id": "c3037325",
   "metadata": {
    "scrolled": true
   },
   "outputs": [
    {
     "data": {
      "image/png": "[encoded data removed]",
      "text/plain": [
       "<Figure size 640x480 with 1 Axes>"
      ]
     },
     "metadata": {},
     "output_type": "display_data"
    }
   ],
   "source": [
    "\n",
    "data = df[df['is_arrested'] == True]['driver_gender'].value_counts()\n",
    "\n",
    "# Plot the data as a horizontal bar chart\n",
    "plt.barh(data.index, data.values)\n",
    "plt.xlabel('Number of Arrests Made')\n",
    "plt.title('Number of Arrests Made by Gender')\n",
    "\n",
    "plt.show()\n"
   ]
  },
  {
   "cell_type": "markdown",
   "id": "9da53cc3",
   "metadata": {},
   "source": [
    "##### * **key takeaway:**  more males were arrested han females"
   ]
  },
  {
   "cell_type": "markdown",
   "id": "e5cdeae3",
   "metadata": {},
   "source": [
    "#### Further data Visualization was done in powerbi:[Power data Viz link](https://app.powerbi.com/view?r=eyJrIjoiZmVlZDUwMzQtNmVmNS00MjEzLThjMDktOWY2YzgwYzNhZDlhIiwidCI6IjQ0ZGJiOWQ3LTM3N2QtNDBkZS1hZGI4LTYzNTlkYWQ4MTBiZiJ9)"
   ]
  },
  {
   "cell_type": "code",
   "execution_count": 10,
   "id": "41e3eb1a",
   "metadata": {},
   "outputs": [],
   "source": [
    "#saving the dataset for more vizualisation\n",
    "df.to_csv(r\"C:\\Users\\Tamie\\Downloads\\python data science projects\\datasets\\cleaned police\")"
   ]
  },
  {
   "cell_type": "markdown",
   "id": "88f6eff0",
   "metadata": {},
   "source": [
    "## Author: TamiriraIshe Nyevera\n",
    "\n",
    "## Date: 25 January 2023\n",
    "\n",
    "* #### LinkedIn profile Link: [My LinkedIn Profile](https://www.linkedin.com/in/tamiriraishe-nyevera-2b51671b5/)\n",
    "\n",
    "* #### Github link:[Github profile](https://github.com/Tamie-AI-Tech)\n",
    "\n",
    "* #### Kaggle Link: [Kaggle Profile](https://www.kaggle.com/tamiriraishenyevera)\n",
    "\n",
    "* #### PowerBI visualisation imbedded code:[Power data Viz link](https://app.powerbi.com/view?r=eyJrIjoiZmVlZDUwMzQtNmVmNS00MjEzLThjMDktOWY2YzgwYzNhZDlhIiwidCI6IjQ0ZGJiOWQ3LTM3N2QtNDBkZS1hZGI4LTYzNTlkYWQ4MTBiZiJ9)"
   ]
  }
 ],
 "metadata": {
  "kernelspec": {
   "display_name": "Python 3 (ipykernel)",
   "language": "python",
   "name": "python3"
  },
  "language_info": {
   "codemirror_mode": {
    "name": "ipython",
    "version": 3
   },
   "file_extension": ".py",
   "mimetype": "text/x-python",
   "name": "python",
   "nbconvert_exporter": "python",
   "pygments_lexer": "ipython3",
   "version": "3.9.13"
  },
  "toc": {
   "base_numbering": 1,
   "nav_menu": {},
   "number_sections": true,
   "sideBar": true,
   "skip_h1_title": false,
   "title_cell": "Table of Contents",
   "title_sidebar": "Contents",
   "toc_cell": false,
   "toc_position": {},
   "toc_section_display": true,
   "toc_window_display": true
  }
 },
 "nbformat": 4,
 "nbformat_minor": 5
}
