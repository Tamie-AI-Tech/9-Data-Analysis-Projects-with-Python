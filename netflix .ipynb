{
 "cells": [
  {
   "cell_type": "markdown",
   "id": "ba7a19ac",
   "metadata": {},
   "source": [
    "### Title: Netflix dataset analysis Real world Project with python\n",
    "\n",
    "\n",
    "\n",
    "* #### LinkedIn profile Link: [My LinkedIn Profile](https://www.linkedin.com/in/tamiriraishe-nyevera-2b51671b5/)\n",
    "\n",
    "\n",
    "* #### Github Link:[Github profile](https://github.com/Tamie-AI-Tech)\n",
    "\n",
    "* #### Kaggle Link: [Kaggle Profile](https://www.kaggle.com/tamiriraishenyevera)\n",
    "\n",
    "* #### PowerBI visualisation imbedded code:[Power data Viz link](https://app.powerbi.com/view?r=eyJrIjoiNDI3NmNhYTItNzgzOC00ZTYzLTlmNzUtMDdjMDQ0YzgzNzQ2IiwidCI6IjQ0ZGJiOWQ3LTM3N2QtNDBkZS1hZGI4LTYzNTlkYWQ4MTBiZiJ9)"
   ]
  },
  {
   "cell_type": "markdown",
   "id": "87799fdf",
   "metadata": {},
   "source": [
    "#### Introduction"
   ]
  },
  {
   "cell_type": "markdown",
   "id": "1f0491f8",
   "metadata": {},
   "source": [
    "* Netflix is a tv show providing different types of movies to viewers also produces and makes movies\n",
    "* The following dataset contains all the movies on the netflix database until the 2021 sesson, including the directors, type, description and the rating and countries through which the films were filmed, a selected group of cast is included\n",
    "\n",
    "\n",
    "\n",
    "* The data is a csv file and analysis is done using pandas \n",
    "\n",
    "* The data will be saved and exported to power bi for good visualisations\n",
    "\n",
    "* matplotlib will be used for some data visualisations to get the inisghts of the data"
   ]
  },
  {
   "cell_type": "markdown",
   "id": "b6ecd971",
   "metadata": {},
   "source": [
    "#### Questions to answer"
   ]
  },
  {
   "cell_type": "markdown",
   "id": "a1bff89d",
   "metadata": {},
   "source": [
    "These Questions will be answered under phase3: of the data analysis \n",
    "\n",
    "* '1920' what is show id and who directed the show\n",
    "\n",
    "* Which month produced were highest number of movies released and plot the visuals\n",
    "\n",
    "* how many movies and Tv shows that are in the dataset and plot the visuals\n",
    "\n",
    "* Show all movies released in 2018\n",
    "\n",
    "* shows all movies title that were released on sunday\n",
    "\n",
    "* Show top 10 directors who gave highest number of tv shows and movies on netflix\n",
    "\n",
    "* Show category is movie and type is comedy or country is Brazil\n",
    "\n",
    "* how many movies/shows was Tom Cruise a Cast\n",
    "\n",
    "* What are different Ratings of netflix\n",
    "\n",
    "* How many tv shows got rating R, after year 2019 in Canada\n",
    " \n",
    "* What is the maximum duration of a movie or a show\n",
    "\n",
    "* How many seasons are in the data set\n",
    "\n",
    "* Which country has the highest number of tv shows\n",
    "\n",
    "* Sort the dataset by year\n",
    "\n",
    "They will help in the story telling of in this data"
   ]
  },
  {
   "cell_type": "markdown",
   "id": "37a4348f",
   "metadata": {},
   "source": [
    "# PHASE 1: PREPARE "
   ]
  },
  {
   "cell_type": "markdown",
   "id": "1708f1aa",
   "metadata": {},
   "source": [
    "This step involves data importation from different sources, libraries import and also the general over view of data to be used is given"
   ]
  },
  {
   "cell_type": "markdown",
   "id": "2d3b3ab2",
   "metadata": {},
   "source": [
    "\n",
    "* the dataset used in this data analysis is collected from fixable which is third part Netflix search engine and its there on Kaggle website for free"
   ]
  },
  {
   "cell_type": "code",
   "execution_count": 1,
   "id": "44c82996",
   "metadata": {},
   "outputs": [],
   "source": [
    "import pandas as pd               #for data loading and manipulation\n",
    "\n",
    "import numpy as np                #for stastical analysis\n",
    "\n",
    "import matplotlib.pyplot as plt        #for data visualisation\n",
    "import seaborn as sns\n",
    "\n",
    "import matplotlib\n",
    "%matplotlib inline "
   ]
  },
  {
   "cell_type": "code",
   "execution_count": 2,
   "id": "892299be",
   "metadata": {},
   "outputs": [],
   "source": [
    "na_vals = ['nan', 'NaN', ' ', ' missing', 'Missing', 'naN']     # a list containing all the values to be deemed as null values\n",
    "df = pd.read_csv(r\"C:\\Users\\Tamie\\Downloads\\python data science projects\\datasets\\8. Netflix Dataset.csv\", na_values= na_vals)\n",
    "\n",
    "\n",
    "\n",
    "\n",
    "\n",
    "#take note of the dataset directory, click on the dataset that needs to be imported and copy path or\n",
    "#go to properties >> right click on the dataset >> security >> copy the path that shows beneath\n",
    "#take note, on both cases insert r before the path directory.\n",
    "\n",
    "#on this following method inputting r doesnt matter\n",
    "#import the in the jupyter notebook folder you wroking on and copy the name of the dataset hence insert it in the parentheses"
   ]
  },
  {
   "cell_type": "markdown",
   "id": "dc25c7a0",
   "metadata": {},
   "source": [
    "take a look at the first 3 rows of the dataset"
   ]
  },
  {
   "cell_type": "code",
   "execution_count": 3,
   "id": "e181843e",
   "metadata": {},
   "outputs": [
    {
     "data": {
      "text/html": [
       "<div>\n",
       "<style scoped>\n",
       "    .dataframe tbody tr th:only-of-type {\n",
       "        vertical-align: middle;\n",
       "    }\n",
       "\n",
       "    .dataframe tbody tr th {\n",
       "        vertical-align: top;\n",
       "    }\n",
       "\n",
       "    .dataframe thead th {\n",
       "        text-align: right;\n",
       "    }\n",
       "</style>\n",
       "<table border=\"1\" class=\"dataframe\">\n",
       "  <thead>\n",
       "    <tr style=\"text-align: right;\">\n",
       "      <th></th>\n",
       "      <th>Show_Id</th>\n",
       "      <th>Category</th>\n",
       "      <th>Title</th>\n",
       "      <th>Director</th>\n",
       "      <th>Cast</th>\n",
       "      <th>Country</th>\n",
       "      <th>Release_Date</th>\n",
       "      <th>Rating</th>\n",
       "      <th>Duration</th>\n",
       "      <th>Type</th>\n",
       "      <th>Description</th>\n",
       "    </tr>\n",
       "  </thead>\n",
       "  <tbody>\n",
       "    <tr>\n",
       "      <th>0</th>\n",
       "      <td>s1</td>\n",
       "      <td>TV Show</td>\n",
       "      <td>3%</td>\n",
       "      <td>NaN</td>\n",
       "      <td>João Miguel, Bianca Comparato, Michel Gomes, R...</td>\n",
       "      <td>Brazil</td>\n",
       "      <td>August 14, 2020</td>\n",
       "      <td>TV-MA</td>\n",
       "      <td>4 Seasons</td>\n",
       "      <td>International TV Shows, TV Dramas, TV Sci-Fi &amp;...</td>\n",
       "      <td>In a future where the elite inhabit an island ...</td>\n",
       "    </tr>\n",
       "    <tr>\n",
       "      <th>1</th>\n",
       "      <td>s2</td>\n",
       "      <td>Movie</td>\n",
       "      <td>07:19</td>\n",
       "      <td>Jorge Michel Grau</td>\n",
       "      <td>Demián Bichir, Héctor Bonilla, Oscar Serrano, ...</td>\n",
       "      <td>Mexico</td>\n",
       "      <td>December 23, 2016</td>\n",
       "      <td>TV-MA</td>\n",
       "      <td>93 min</td>\n",
       "      <td>Dramas, International Movies</td>\n",
       "      <td>After a devastating earthquake hits Mexico Cit...</td>\n",
       "    </tr>\n",
       "    <tr>\n",
       "      <th>2</th>\n",
       "      <td>s3</td>\n",
       "      <td>Movie</td>\n",
       "      <td>23:59</td>\n",
       "      <td>Gilbert Chan</td>\n",
       "      <td>Tedd Chan, Stella Chung, Henley Hii, Lawrence ...</td>\n",
       "      <td>Singapore</td>\n",
       "      <td>December 20, 2018</td>\n",
       "      <td>R</td>\n",
       "      <td>78 min</td>\n",
       "      <td>Horror Movies, International Movies</td>\n",
       "      <td>When an army recruit is found dead, his fellow...</td>\n",
       "    </tr>\n",
       "  </tbody>\n",
       "</table>\n",
       "</div>"
      ],
      "text/plain": [
       "  Show_Id Category  Title           Director  \\\n",
       "0      s1  TV Show     3%                NaN   \n",
       "1      s2    Movie  07:19  Jorge Michel Grau   \n",
       "2      s3    Movie  23:59       Gilbert Chan   \n",
       "\n",
       "                                                Cast    Country  \\\n",
       "0  João Miguel, Bianca Comparato, Michel Gomes, R...     Brazil   \n",
       "1  Demián Bichir, Héctor Bonilla, Oscar Serrano, ...     Mexico   \n",
       "2  Tedd Chan, Stella Chung, Henley Hii, Lawrence ...  Singapore   \n",
       "\n",
       "        Release_Date Rating   Duration  \\\n",
       "0    August 14, 2020  TV-MA  4 Seasons   \n",
       "1  December 23, 2016  TV-MA     93 min   \n",
       "2  December 20, 2018      R     78 min   \n",
       "\n",
       "                                                Type  \\\n",
       "0  International TV Shows, TV Dramas, TV Sci-Fi &...   \n",
       "1                       Dramas, International Movies   \n",
       "2                Horror Movies, International Movies   \n",
       "\n",
       "                                         Description  \n",
       "0  In a future where the elite inhabit an island ...  \n",
       "1  After a devastating earthquake hits Mexico Cit...  \n",
       "2  When an army recruit is found dead, his fellow...  "
      ]
     },
     "execution_count": 3,
     "metadata": {},
     "output_type": "execute_result"
    }
   ],
   "source": [
    "df.head(3)"
   ]
  },
  {
   "cell_type": "markdown",
   "id": "d4ca339c",
   "metadata": {},
   "source": [
    "take a look at the last 2 rows of the dataset"
   ]
  },
  {
   "cell_type": "code",
   "execution_count": 4,
   "id": "9623eac8",
   "metadata": {},
   "outputs": [
    {
     "data": {
      "text/html": [
       "<div>\n",
       "<style scoped>\n",
       "    .dataframe tbody tr th:only-of-type {\n",
       "        vertical-align: middle;\n",
       "    }\n",
       "\n",
       "    .dataframe tbody tr th {\n",
       "        vertical-align: top;\n",
       "    }\n",
       "\n",
       "    .dataframe thead th {\n",
       "        text-align: right;\n",
       "    }\n",
       "</style>\n",
       "<table border=\"1\" class=\"dataframe\">\n",
       "  <thead>\n",
       "    <tr style=\"text-align: right;\">\n",
       "      <th></th>\n",
       "      <th>Show_Id</th>\n",
       "      <th>Category</th>\n",
       "      <th>Title</th>\n",
       "      <th>Director</th>\n",
       "      <th>Cast</th>\n",
       "      <th>Country</th>\n",
       "      <th>Release_Date</th>\n",
       "      <th>Rating</th>\n",
       "      <th>Duration</th>\n",
       "      <th>Type</th>\n",
       "      <th>Description</th>\n",
       "    </tr>\n",
       "  </thead>\n",
       "  <tbody>\n",
       "    <tr>\n",
       "      <th>7787</th>\n",
       "      <td>s7786</td>\n",
       "      <td>TV Show</td>\n",
       "      <td>Zumbo's Just Desserts</td>\n",
       "      <td>NaN</td>\n",
       "      <td>Adriano Zumbo, Rachel Khoo</td>\n",
       "      <td>Australia</td>\n",
       "      <td>October 31, 2020</td>\n",
       "      <td>TV-PG</td>\n",
       "      <td>1 Season</td>\n",
       "      <td>International TV Shows, Reality TV</td>\n",
       "      <td>Dessert wizard Adriano Zumbo looks for the nex...</td>\n",
       "    </tr>\n",
       "    <tr>\n",
       "      <th>7788</th>\n",
       "      <td>s7787</td>\n",
       "      <td>Movie</td>\n",
       "      <td>ZZ TOP: THAT LITTLE OL' BAND FROM TEXAS</td>\n",
       "      <td>Sam Dunn</td>\n",
       "      <td>NaN</td>\n",
       "      <td>United Kingdom, Canada, United States</td>\n",
       "      <td>March 1, 2020</td>\n",
       "      <td>TV-MA</td>\n",
       "      <td>90 min</td>\n",
       "      <td>Documentaries, Music &amp; Musicals</td>\n",
       "      <td>This documentary delves into the mystique behi...</td>\n",
       "    </tr>\n",
       "  </tbody>\n",
       "</table>\n",
       "</div>"
      ],
      "text/plain": [
       "     Show_Id Category                                    Title  Director  \\\n",
       "7787   s7786  TV Show                    Zumbo's Just Desserts       NaN   \n",
       "7788   s7787    Movie  ZZ TOP: THAT LITTLE OL' BAND FROM TEXAS  Sam Dunn   \n",
       "\n",
       "                            Cast                                Country  \\\n",
       "7787  Adriano Zumbo, Rachel Khoo                              Australia   \n",
       "7788                         NaN  United Kingdom, Canada, United States   \n",
       "\n",
       "          Release_Date Rating  Duration                                Type  \\\n",
       "7787  October 31, 2020  TV-PG  1 Season  International TV Shows, Reality TV   \n",
       "7788     March 1, 2020  TV-MA    90 min     Documentaries, Music & Musicals   \n",
       "\n",
       "                                            Description  \n",
       "7787  Dessert wizard Adriano Zumbo looks for the nex...  \n",
       "7788  This documentary delves into the mystique behi...  "
      ]
     },
     "execution_count": 4,
     "metadata": {},
     "output_type": "execute_result"
    }
   ],
   "source": [
    "df.tail(2)"
   ]
  },
  {
   "cell_type": "markdown",
   "id": "93d54e35",
   "metadata": {},
   "source": [
    "take a look at how many entries are in the dataset"
   ]
  },
  {
   "cell_type": "code",
   "execution_count": 5,
   "id": "8857be7a",
   "metadata": {},
   "outputs": [
    {
     "data": {
      "text/plain": [
       "(7789, 11)"
      ]
     },
     "execution_count": 5,
     "metadata": {},
     "output_type": "execute_result"
    }
   ],
   "source": [
    "#prinitng the dimensions of the dataframe, (rows, and columns)\n",
    "df.shape"
   ]
  },
  {
   "cell_type": "markdown",
   "id": "3d53feed",
   "metadata": {},
   "source": [
    "there are 7789 rows and 11 columns"
   ]
  },
  {
   "cell_type": "markdown",
   "id": "bbfd2d32",
   "metadata": {},
   "source": [
    "taking a look at the columns of the data\n"
   ]
  },
  {
   "cell_type": "code",
   "execution_count": 6,
   "id": "60b1ca1a",
   "metadata": {},
   "outputs": [
    {
     "data": {
      "text/html": [
       "<div>\n",
       "<style scoped>\n",
       "    .dataframe tbody tr th:only-of-type {\n",
       "        vertical-align: middle;\n",
       "    }\n",
       "\n",
       "    .dataframe tbody tr th {\n",
       "        vertical-align: top;\n",
       "    }\n",
       "\n",
       "    .dataframe thead th {\n",
       "        text-align: right;\n",
       "    }\n",
       "</style>\n",
       "<table border=\"1\" class=\"dataframe\">\n",
       "  <thead>\n",
       "    <tr style=\"text-align: right;\">\n",
       "      <th></th>\n",
       "      <th>0</th>\n",
       "    </tr>\n",
       "  </thead>\n",
       "  <tbody>\n",
       "    <tr>\n",
       "      <th>Show_Id</th>\n",
       "      <td>Show_Id</td>\n",
       "    </tr>\n",
       "    <tr>\n",
       "      <th>Category</th>\n",
       "      <td>Category</td>\n",
       "    </tr>\n",
       "    <tr>\n",
       "      <th>Title</th>\n",
       "      <td>Title</td>\n",
       "    </tr>\n",
       "    <tr>\n",
       "      <th>Director</th>\n",
       "      <td>Director</td>\n",
       "    </tr>\n",
       "    <tr>\n",
       "      <th>Cast</th>\n",
       "      <td>Cast</td>\n",
       "    </tr>\n",
       "    <tr>\n",
       "      <th>Country</th>\n",
       "      <td>Country</td>\n",
       "    </tr>\n",
       "    <tr>\n",
       "      <th>Release_Date</th>\n",
       "      <td>Release_Date</td>\n",
       "    </tr>\n",
       "    <tr>\n",
       "      <th>Rating</th>\n",
       "      <td>Rating</td>\n",
       "    </tr>\n",
       "    <tr>\n",
       "      <th>Duration</th>\n",
       "      <td>Duration</td>\n",
       "    </tr>\n",
       "    <tr>\n",
       "      <th>Type</th>\n",
       "      <td>Type</td>\n",
       "    </tr>\n",
       "    <tr>\n",
       "      <th>Description</th>\n",
       "      <td>Description</td>\n",
       "    </tr>\n",
       "  </tbody>\n",
       "</table>\n",
       "</div>"
      ],
      "text/plain": [
       "                         0\n",
       "Show_Id            Show_Id\n",
       "Category          Category\n",
       "Title                Title\n",
       "Director          Director\n",
       "Cast                  Cast\n",
       "Country            Country\n",
       "Release_Date  Release_Date\n",
       "Rating              Rating\n",
       "Duration          Duration\n",
       "Type                  Type\n",
       "Description    Description"
      ]
     },
     "execution_count": 6,
     "metadata": {},
     "output_type": "execute_result"
    }
   ],
   "source": [
    "df.columns.to_frame()                        # shows the all the column names of the dataset"
   ]
  },
  {
   "cell_type": "markdown",
   "id": "315f206f",
   "metadata": {},
   "source": [
    "take a look at the datatypes of the dataset"
   ]
  },
  {
   "cell_type": "code",
   "execution_count": 7,
   "id": "a8fa7d09",
   "metadata": {},
   "outputs": [
    {
     "data": {
      "text/plain": [
       "Show_Id         object\n",
       "Category        object\n",
       "Title           object\n",
       "Director        object\n",
       "Cast            object\n",
       "Country         object\n",
       "Release_Date    object\n",
       "Rating          object\n",
       "Duration        object\n",
       "Type            object\n",
       "Description     object\n",
       "dtype: object"
      ]
     },
     "execution_count": 7,
     "metadata": {},
     "output_type": "execute_result"
    }
   ],
   "source": [
    "df.dtypes"
   ]
  },
  {
   "cell_type": "markdown",
   "id": "7a4724e3",
   "metadata": {},
   "source": [
    "from the output release date needed to be changed to timestamp in phase 2 of data cleaning\n",
    "the same might apply for the rating, duration"
   ]
  },
  {
   "cell_type": "markdown",
   "id": "bb2402b0",
   "metadata": {},
   "source": [
    "# Phase 2: Data Processing\n"
   ]
  },
  {
   "cell_type": "markdown",
   "id": "5b573696",
   "metadata": {},
   "source": [
    "This phase inludes cleaning, transforming and processing data"
   ]
  },
  {
   "cell_type": "markdown",
   "id": "ca5c3e3b",
   "metadata": {},
   "source": [
    "### step 1: check all the empty rows and columns"
   ]
  },
  {
   "cell_type": "code",
   "execution_count": 8,
   "id": "7a1347e2",
   "metadata": {},
   "outputs": [
    {
     "data": {
      "text/plain": [
       "Show_Id            0\n",
       "Category           0\n",
       "Title              0\n",
       "Director        2388\n",
       "Cast             718\n",
       "Country          507\n",
       "Release_Date      10\n",
       "Rating             7\n",
       "Duration           0\n",
       "Type               0\n",
       "Description        0\n",
       "dtype: int64"
      ]
     },
     "execution_count": 8,
     "metadata": {},
     "output_type": "execute_result"
    }
   ],
   "source": [
    "df.isnull().sum()                 #this shows all total missing or null values"
   ]
  },
  {
   "cell_type": "markdown",
   "id": "f3fbe004",
   "metadata": {},
   "source": [
    "only 4 columns have nan values or missing values, the leading column being Director\n",
    "Before dropping the rows or columns care should be taken as to weather if the rows can be filled or not, through asking\n",
    "or through using the mean values, or through using the most values.\n",
    "The decision made is based upon those factors, from the looks of it some of the rows cannot be filled, hence dropping them is the way"
   ]
  },
  {
   "cell_type": "markdown",
   "id": "4c52cdc0",
   "metadata": {},
   "source": [
    "The null values can be visualised using searbon library\n"
   ]
  },
  {
   "cell_type": "code",
   "execution_count": 9,
   "id": "4adbc31e",
   "metadata": {},
   "outputs": [
    {
     "data": {
      "text/plain": [
       "<AxesSubplot:>"
      ]
     },
     "execution_count": 9,
     "metadata": {},
     "output_type": "execute_result"
    },
    {
     "data": {
      "image/png": "[encoded data removed]",
      "text/plain": [
       "<Figure size 640x480 with 2 Axes>"
      ]
     },
     "metadata": {},
     "output_type": "display_data"
    }
   ],
   "source": [
    "import seaborn as sns\n",
    "sns.heatmap(df.isnull())"
   ]
  },
  {
   "cell_type": "markdown",
   "id": "d2c6c169",
   "metadata": {},
   "source": [
    "Areas with white gaps shows the nulls values present in the dataset"
   ]
  },
  {
   "cell_type": "code",
   "execution_count": 10,
   "id": "59880cbf",
   "metadata": {},
   "outputs": [
    {
     "data": {
      "text/plain": [
       "(7789, 11)"
      ]
     },
     "execution_count": 10,
     "metadata": {},
     "output_type": "execute_result"
    }
   ],
   "source": [
    "df.shape"
   ]
  },
  {
   "cell_type": "markdown",
   "id": "6eee7af9",
   "metadata": {},
   "source": [
    "number of rows before removing null values"
   ]
  },
  {
   "cell_type": "code",
   "execution_count": 11,
   "id": "7e66bda4",
   "metadata": {},
   "outputs": [],
   "source": [
    "df.dropna(axis='index', how='all', subset=['Director', 'Country', 'Cast'], inplace = True)\n",
    "\n",
    "#inplace true makes the changes to aplly to the entire dataset\n",
    "#the axis = 'index' shows that the rows are going to be deleted not columns\n",
    "#how = 'all' show that all the missing values in the columns mentioned in \n",
    "#subset command will be removed according"
   ]
  },
  {
   "cell_type": "code",
   "execution_count": 12,
   "id": "d0a818d3",
   "metadata": {},
   "outputs": [
    {
     "data": {
      "text/plain": [
       "(7731, 11)"
      ]
     },
     "execution_count": 12,
     "metadata": {},
     "output_type": "execute_result"
    }
   ],
   "source": [
    "df.shape"
   ]
  },
  {
   "cell_type": "markdown",
   "id": "57ed4313",
   "metadata": {},
   "source": [
    "number of rows after removing the null values"
   ]
  },
  {
   "cell_type": "code",
   "execution_count": 13,
   "id": "2e1d23bb",
   "metadata": {},
   "outputs": [
    {
     "data": {
      "text/plain": [
       "Show_Id            0\n",
       "Category           0\n",
       "Title              0\n",
       "Director        2330\n",
       "Cast             660\n",
       "Country          449\n",
       "Release_Date      10\n",
       "Rating             7\n",
       "Duration           0\n",
       "Type               0\n",
       "Description        0\n",
       "dtype: int64"
      ]
     },
     "execution_count": 13,
     "metadata": {},
     "output_type": "execute_result"
    }
   ],
   "source": [
    "df.isnull().sum()         #check to see if much change has been done"
   ]
  },
  {
   "cell_type": "markdown",
   "id": "358893cc",
   "metadata": {},
   "source": [
    "drop the null values except the Director column since it will ruin the entire dataset because of its size"
   ]
  },
  {
   "cell_type": "code",
   "execution_count": 14,
   "id": "ef8543fc",
   "metadata": {},
   "outputs": [
    {
     "data": {
      "text/plain": [
       "(6645, 11)"
      ]
     },
     "execution_count": 14,
     "metadata": {},
     "output_type": "execute_result"
    }
   ],
   "source": [
    "df.dropna(axis='index', how='any', subset=['Cast', 'Country', 'Release_Date', 'Rating'], inplace = True)\n",
    "df.shape\n",
    "\n",
    "# all null vlaues in columns that are in the subset has been dropped\n"
   ]
  },
  {
   "cell_type": "code",
   "execution_count": 15,
   "id": "06d36cbf",
   "metadata": {},
   "outputs": [
    {
     "data": {
      "text/plain": [
       "Show_Id            0\n",
       "Category           0\n",
       "Title              0\n",
       "Director        1834\n",
       "Cast               0\n",
       "Country            0\n",
       "Release_Date       0\n",
       "Rating             0\n",
       "Duration           0\n",
       "Type               0\n",
       "Description        0\n",
       "dtype: int64"
      ]
     },
     "execution_count": 15,
     "metadata": {},
     "output_type": "execute_result"
    }
   ],
   "source": [
    "df.isnull().sum()"
   ]
  },
  {
   "cell_type": "markdown",
   "id": "2b7b91b5",
   "metadata": {},
   "source": [
    "all rows have been cleaned except of the Director column, which is going to be left like that, such that non much data is lost"
   ]
  },
  {
   "cell_type": "markdown",
   "id": "ff061594",
   "metadata": {},
   "source": [
    "#### step 2: change the object data type in Release date to timestamp\n"
   ]
  },
  {
   "cell_type": "markdown",
   "id": "48260d51",
   "metadata": {},
   "source": [
    "some changes conversion might happen others might not due to the dataset structure and format"
   ]
  },
  {
   "cell_type": "code",
   "execution_count": 16,
   "id": "c2071016",
   "metadata": {},
   "outputs": [
    {
     "data": {
      "text/plain": [
       "dtype('<M8[ns]')"
      ]
     },
     "execution_count": 16,
     "metadata": {},
     "output_type": "execute_result"
    }
   ],
   "source": [
    "df['Release_Date'] = pd.to_datetime(df['Release_Date'])  \n",
    "df['Release_Date'].dtype"
   ]
  },
  {
   "cell_type": "markdown",
   "id": "0e6a0d94",
   "metadata": {},
   "source": [
    "#### step 2.1: create a seperate column for years, months and day names  "
   ]
  },
  {
   "cell_type": "code",
   "execution_count": 17,
   "id": "6ce6f121",
   "metadata": {},
   "outputs": [],
   "source": [
    "df['Year'] = df['Release_Date'].dt.year\n",
    "df['Month'] = df['Release_Date'].dt.month\n",
    "df['Day_of_Week'] = df['Release_Date'].dt.day_name()"
   ]
  },
  {
   "cell_type": "markdown",
   "id": "168fd534",
   "metadata": {},
   "source": [
    "take a look at changes in the dataframe"
   ]
  },
  {
   "cell_type": "code",
   "execution_count": 18,
   "id": "465f4332",
   "metadata": {},
   "outputs": [
    {
     "data": {
      "text/html": [
       "<div>\n",
       "<style scoped>\n",
       "    .dataframe tbody tr th:only-of-type {\n",
       "        vertical-align: middle;\n",
       "    }\n",
       "\n",
       "    .dataframe tbody tr th {\n",
       "        vertical-align: top;\n",
       "    }\n",
       "\n",
       "    .dataframe thead th {\n",
       "        text-align: right;\n",
       "    }\n",
       "</style>\n",
       "<table border=\"1\" class=\"dataframe\">\n",
       "  <thead>\n",
       "    <tr style=\"text-align: right;\">\n",
       "      <th></th>\n",
       "      <th>Show_Id</th>\n",
       "      <th>Category</th>\n",
       "      <th>Title</th>\n",
       "      <th>Director</th>\n",
       "      <th>Cast</th>\n",
       "      <th>Country</th>\n",
       "      <th>Release_Date</th>\n",
       "      <th>Rating</th>\n",
       "      <th>Duration</th>\n",
       "      <th>Type</th>\n",
       "      <th>Description</th>\n",
       "      <th>Year</th>\n",
       "      <th>Month</th>\n",
       "      <th>Day_of_Week</th>\n",
       "    </tr>\n",
       "  </thead>\n",
       "  <tbody>\n",
       "    <tr>\n",
       "      <th>0</th>\n",
       "      <td>s1</td>\n",
       "      <td>TV Show</td>\n",
       "      <td>3%</td>\n",
       "      <td>NaN</td>\n",
       "      <td>João Miguel, Bianca Comparato, Michel Gomes, R...</td>\n",
       "      <td>Brazil</td>\n",
       "      <td>2020-08-14</td>\n",
       "      <td>TV-MA</td>\n",
       "      <td>4 Seasons</td>\n",
       "      <td>International TV Shows, TV Dramas, TV Sci-Fi &amp;...</td>\n",
       "      <td>In a future where the elite inhabit an island ...</td>\n",
       "      <td>2020</td>\n",
       "      <td>8</td>\n",
       "      <td>Friday</td>\n",
       "    </tr>\n",
       "    <tr>\n",
       "      <th>1</th>\n",
       "      <td>s2</td>\n",
       "      <td>Movie</td>\n",
       "      <td>07:19</td>\n",
       "      <td>Jorge Michel Grau</td>\n",
       "      <td>Demián Bichir, Héctor Bonilla, Oscar Serrano, ...</td>\n",
       "      <td>Mexico</td>\n",
       "      <td>2016-12-23</td>\n",
       "      <td>TV-MA</td>\n",
       "      <td>93 min</td>\n",
       "      <td>Dramas, International Movies</td>\n",
       "      <td>After a devastating earthquake hits Mexico Cit...</td>\n",
       "      <td>2016</td>\n",
       "      <td>12</td>\n",
       "      <td>Friday</td>\n",
       "    </tr>\n",
       "  </tbody>\n",
       "</table>\n",
       "</div>"
      ],
      "text/plain": [
       "  Show_Id Category  Title           Director  \\\n",
       "0      s1  TV Show     3%                NaN   \n",
       "1      s2    Movie  07:19  Jorge Michel Grau   \n",
       "\n",
       "                                                Cast Country Release_Date  \\\n",
       "0  João Miguel, Bianca Comparato, Michel Gomes, R...  Brazil   2020-08-14   \n",
       "1  Demián Bichir, Héctor Bonilla, Oscar Serrano, ...  Mexico   2016-12-23   \n",
       "\n",
       "  Rating   Duration                                               Type  \\\n",
       "0  TV-MA  4 Seasons  International TV Shows, TV Dramas, TV Sci-Fi &...   \n",
       "1  TV-MA     93 min                       Dramas, International Movies   \n",
       "\n",
       "                                         Description  Year  Month Day_of_Week  \n",
       "0  In a future where the elite inhabit an island ...  2020      8      Friday  \n",
       "1  After a devastating earthquake hits Mexico Cit...  2016     12      Friday  "
      ]
     },
     "execution_count": 18,
     "metadata": {},
     "output_type": "execute_result"
    }
   ],
   "source": [
    "df.head(2)"
   ]
  },
  {
   "cell_type": "code",
   "execution_count": 19,
   "id": "722369ee",
   "metadata": {},
   "outputs": [
    {
     "data": {
      "text/plain": [
       "2019    1849\n",
       "2020    1749\n",
       "2018    1431\n",
       "2017    1022\n",
       "2016     371\n",
       "2021      97\n",
       "2015      74\n",
       "2014      21\n",
       "2011      13\n",
       "2013      11\n",
       "2012       3\n",
       "2009       2\n",
       "2010       1\n",
       "2008       1\n",
       "Name: Year, dtype: int64"
      ]
     },
     "execution_count": 19,
     "metadata": {},
     "output_type": "execute_result"
    }
   ],
   "source": [
    "df['Year'].value_counts()"
   ]
  },
  {
   "cell_type": "markdown",
   "id": "92a1330f",
   "metadata": {},
   "source": [
    "#### step 2.2: change the value names of months into actual month names"
   ]
  },
  {
   "cell_type": "code",
   "execution_count": 20,
   "id": "85af7649",
   "metadata": {},
   "outputs": [],
   "source": [
    "df['Month'] = df['Month'].replace({1:'Jan', 2:'Feb', 3:'Mar', 4:'Apr', 5:'May', 6:'Jun', 7:'Jul', 8:'Aug', 9:'Sep', 10:'Oct',\n",
    "                                  11:'Nov', 12:'Dec'})\n",
    "\n",
    "#renaming the values of the month into actual months"
   ]
  },
  {
   "cell_type": "code",
   "execution_count": null,
   "id": "91d3f994",
   "metadata": {},
   "outputs": [],
   "source": []
  },
  {
   "cell_type": "markdown",
   "id": "c783a0b3",
   "metadata": {},
   "source": [
    "### step 3: drop the duplicates the dataset"
   ]
  },
  {
   "cell_type": "code",
   "execution_count": 21,
   "id": "21dc658d",
   "metadata": {},
   "outputs": [
    {
     "data": {
      "text/html": [
       "<div>\n",
       "<style scoped>\n",
       "    .dataframe tbody tr th:only-of-type {\n",
       "        vertical-align: middle;\n",
       "    }\n",
       "\n",
       "    .dataframe tbody tr th {\n",
       "        vertical-align: top;\n",
       "    }\n",
       "\n",
       "    .dataframe thead th {\n",
       "        text-align: right;\n",
       "    }\n",
       "</style>\n",
       "<table border=\"1\" class=\"dataframe\">\n",
       "  <thead>\n",
       "    <tr style=\"text-align: right;\">\n",
       "      <th></th>\n",
       "      <th>Show_Id</th>\n",
       "      <th>Category</th>\n",
       "      <th>Title</th>\n",
       "      <th>Director</th>\n",
       "      <th>Cast</th>\n",
       "      <th>Country</th>\n",
       "      <th>Release_Date</th>\n",
       "      <th>Rating</th>\n",
       "      <th>Duration</th>\n",
       "      <th>Type</th>\n",
       "      <th>Description</th>\n",
       "      <th>Year</th>\n",
       "      <th>Month</th>\n",
       "      <th>Day_of_Week</th>\n",
       "    </tr>\n",
       "  </thead>\n",
       "  <tbody>\n",
       "    <tr>\n",
       "      <th>6300</th>\n",
       "      <td>s684</td>\n",
       "      <td>Movie</td>\n",
       "      <td>Backfire</td>\n",
       "      <td>Dave Patten</td>\n",
       "      <td>Black Deniro, Byron \"Squally\" Vinson, Dominic ...</td>\n",
       "      <td>United States</td>\n",
       "      <td>2019-04-05</td>\n",
       "      <td>TV-MA</td>\n",
       "      <td>97 min</td>\n",
       "      <td>Dramas, Independent Movies, Thrillers</td>\n",
       "      <td>When two would-be robbers accidentally kill a ...</td>\n",
       "      <td>2019</td>\n",
       "      <td>Apr</td>\n",
       "      <td>Friday</td>\n",
       "    </tr>\n",
       "    <tr>\n",
       "      <th>6622</th>\n",
       "      <td>s6621</td>\n",
       "      <td>Movie</td>\n",
       "      <td>The Lost Okoroshi</td>\n",
       "      <td>Abba T. Makama</td>\n",
       "      <td>Seun Ajayi, Judith Audu, Tope Tedela, Ifu Enna...</td>\n",
       "      <td>Nigeria</td>\n",
       "      <td>2020-09-04</td>\n",
       "      <td>TV-MA</td>\n",
       "      <td>94 min</td>\n",
       "      <td>Comedies, Dramas, Independent Movies</td>\n",
       "      <td>A disillusioned security guard transforms into...</td>\n",
       "      <td>2020</td>\n",
       "      <td>Sep</td>\n",
       "      <td>Friday</td>\n",
       "    </tr>\n",
       "  </tbody>\n",
       "</table>\n",
       "</div>"
      ],
      "text/plain": [
       "     Show_Id Category              Title        Director  \\\n",
       "6300    s684    Movie           Backfire     Dave Patten   \n",
       "6622   s6621    Movie  The Lost Okoroshi  Abba T. Makama   \n",
       "\n",
       "                                                   Cast        Country  \\\n",
       "6300  Black Deniro, Byron \"Squally\" Vinson, Dominic ...  United States   \n",
       "6622  Seun Ajayi, Judith Audu, Tope Tedela, Ifu Enna...        Nigeria   \n",
       "\n",
       "     Release_Date Rating Duration                                   Type  \\\n",
       "6300   2019-04-05  TV-MA   97 min  Dramas, Independent Movies, Thrillers   \n",
       "6622   2020-09-04  TV-MA   94 min   Comedies, Dramas, Independent Movies   \n",
       "\n",
       "                                            Description  Year Month  \\\n",
       "6300  When two would-be robbers accidentally kill a ...  2019   Apr   \n",
       "6622  A disillusioned security guard transforms into...  2020   Sep   \n",
       "\n",
       "     Day_of_Week  \n",
       "6300      Friday  \n",
       "6622      Friday  "
      ]
     },
     "execution_count": 21,
     "metadata": {},
     "output_type": "execute_result"
    }
   ],
   "source": [
    "df[df.duplicated()]        #finding out all duplicates values in the dataset"
   ]
  },
  {
   "cell_type": "code",
   "execution_count": 22,
   "id": "f6f74c4f",
   "metadata": {},
   "outputs": [
    {
     "data": {
      "text/plain": [
       "2"
      ]
     },
     "execution_count": 22,
     "metadata": {},
     "output_type": "execute_result"
    }
   ],
   "source": [
    "df.duplicated().sum()"
   ]
  },
  {
   "cell_type": "code",
   "execution_count": 23,
   "id": "84c25eb9",
   "metadata": {},
   "outputs": [],
   "source": [
    "df.drop_duplicates(inplace=True)    #removing duplicates rows in the dataset"
   ]
  },
  {
   "cell_type": "code",
   "execution_count": null,
   "id": "e972a46f",
   "metadata": {},
   "outputs": [],
   "source": []
  },
  {
   "cell_type": "markdown",
   "id": "2c8f89fb",
   "metadata": {},
   "source": [
    "# Phase 3: Data Analysis"
   ]
  },
  {
   "cell_type": "markdown",
   "id": "b97206ee",
   "metadata": {},
   "source": [
    "This phase Analyzes the cleaned data to get more insights of the data, to answer some questions"
   ]
  },
  {
   "cell_type": "markdown",
   "id": "9be0f7f1",
   "metadata": {},
   "source": [
    "#### Question one: '1920' what is show id and who directed the show"
   ]
  },
  {
   "cell_type": "markdown",
   "id": "686b039c",
   "metadata": {},
   "source": [
    "the question can be answered in 3 ways"
   ]
  },
  {
   "cell_type": "code",
   "execution_count": 24,
   "id": "0775cfa5",
   "metadata": {},
   "outputs": [
    {
     "data": {
      "text/html": [
       "<div>\n",
       "<style scoped>\n",
       "    .dataframe tbody tr th:only-of-type {\n",
       "        vertical-align: middle;\n",
       "    }\n",
       "\n",
       "    .dataframe tbody tr th {\n",
       "        vertical-align: top;\n",
       "    }\n",
       "\n",
       "    .dataframe thead th {\n",
       "        text-align: right;\n",
       "    }\n",
       "</style>\n",
       "<table border=\"1\" class=\"dataframe\">\n",
       "  <thead>\n",
       "    <tr style=\"text-align: right;\">\n",
       "      <th></th>\n",
       "      <th>Show_Id</th>\n",
       "      <th>Category</th>\n",
       "      <th>Title</th>\n",
       "      <th>Director</th>\n",
       "      <th>Cast</th>\n",
       "      <th>Country</th>\n",
       "      <th>Release_Date</th>\n",
       "      <th>Rating</th>\n",
       "      <th>Duration</th>\n",
       "      <th>Type</th>\n",
       "      <th>Description</th>\n",
       "      <th>Year</th>\n",
       "      <th>Month</th>\n",
       "      <th>Day_of_Week</th>\n",
       "    </tr>\n",
       "  </thead>\n",
       "  <tbody>\n",
       "    <tr>\n",
       "      <th>0</th>\n",
       "      <td>s1</td>\n",
       "      <td>TV Show</td>\n",
       "      <td>3%</td>\n",
       "      <td>NaN</td>\n",
       "      <td>João Miguel, Bianca Comparato, Michel Gomes, R...</td>\n",
       "      <td>Brazil</td>\n",
       "      <td>2020-08-14</td>\n",
       "      <td>TV-MA</td>\n",
       "      <td>4 Seasons</td>\n",
       "      <td>International TV Shows, TV Dramas, TV Sci-Fi &amp;...</td>\n",
       "      <td>In a future where the elite inhabit an island ...</td>\n",
       "      <td>2020</td>\n",
       "      <td>Aug</td>\n",
       "      <td>Friday</td>\n",
       "    </tr>\n",
       "    <tr>\n",
       "      <th>1</th>\n",
       "      <td>s2</td>\n",
       "      <td>Movie</td>\n",
       "      <td>07:19</td>\n",
       "      <td>Jorge Michel Grau</td>\n",
       "      <td>Demián Bichir, Héctor Bonilla, Oscar Serrano, ...</td>\n",
       "      <td>Mexico</td>\n",
       "      <td>2016-12-23</td>\n",
       "      <td>TV-MA</td>\n",
       "      <td>93 min</td>\n",
       "      <td>Dramas, International Movies</td>\n",
       "      <td>After a devastating earthquake hits Mexico Cit...</td>\n",
       "      <td>2016</td>\n",
       "      <td>Dec</td>\n",
       "      <td>Friday</td>\n",
       "    </tr>\n",
       "  </tbody>\n",
       "</table>\n",
       "</div>"
      ],
      "text/plain": [
       "  Show_Id Category  Title           Director  \\\n",
       "0      s1  TV Show     3%                NaN   \n",
       "1      s2    Movie  07:19  Jorge Michel Grau   \n",
       "\n",
       "                                                Cast Country Release_Date  \\\n",
       "0  João Miguel, Bianca Comparato, Michel Gomes, R...  Brazil   2020-08-14   \n",
       "1  Demián Bichir, Héctor Bonilla, Oscar Serrano, ...  Mexico   2016-12-23   \n",
       "\n",
       "  Rating   Duration                                               Type  \\\n",
       "0  TV-MA  4 Seasons  International TV Shows, TV Dramas, TV Sci-Fi &...   \n",
       "1  TV-MA     93 min                       Dramas, International Movies   \n",
       "\n",
       "                                         Description  Year Month Day_of_Week  \n",
       "0  In a future where the elite inhabit an island ...  2020   Aug      Friday  \n",
       "1  After a devastating earthquake hits Mexico Cit...  2016   Dec      Friday  "
      ]
     },
     "execution_count": 24,
     "metadata": {},
     "output_type": "execute_result"
    }
   ],
   "source": [
    "#first one\n",
    "\n",
    "df.head(2)       #first view the first 2 rows"
   ]
  },
  {
   "cell_type": "code",
   "execution_count": 25,
   "id": "8dfb047b",
   "metadata": {},
   "outputs": [
    {
     "data": {
      "text/html": [
       "<div>\n",
       "<style scoped>\n",
       "    .dataframe tbody tr th:only-of-type {\n",
       "        vertical-align: middle;\n",
       "    }\n",
       "\n",
       "    .dataframe tbody tr th {\n",
       "        vertical-align: top;\n",
       "    }\n",
       "\n",
       "    .dataframe thead th {\n",
       "        text-align: right;\n",
       "    }\n",
       "</style>\n",
       "<table border=\"1\" class=\"dataframe\">\n",
       "  <thead>\n",
       "    <tr style=\"text-align: right;\">\n",
       "      <th></th>\n",
       "      <th>Show_Id</th>\n",
       "      <th>Director</th>\n",
       "    </tr>\n",
       "  </thead>\n",
       "  <tbody>\n",
       "    <tr>\n",
       "      <th>9</th>\n",
       "      <td>s10</td>\n",
       "      <td>Vikram Bhatt</td>\n",
       "    </tr>\n",
       "  </tbody>\n",
       "</table>\n",
       "</div>"
      ],
      "text/plain": [
       "  Show_Id      Director\n",
       "9     s10  Vikram Bhatt"
      ]
     },
     "execution_count": 25,
     "metadata": {},
     "output_type": "execute_result"
    }
   ],
   "source": [
    "#use the filtering condition\n",
    "\n",
    "filt = (df['Title'] == '1920')\n",
    "df.loc[filt, ['Show_Id', 'Director']]"
   ]
  },
  {
   "cell_type": "markdown",
   "id": "ba85ac49",
   "metadata": {},
   "source": [
    "the show_id is s10 and the director is Vikram Bhatt"
   ]
  },
  {
   "cell_type": "code",
   "execution_count": 26,
   "id": "676a570f",
   "metadata": {},
   "outputs": [
    {
     "data": {
      "text/html": [
       "<div>\n",
       "<style scoped>\n",
       "    .dataframe tbody tr th:only-of-type {\n",
       "        vertical-align: middle;\n",
       "    }\n",
       "\n",
       "    .dataframe tbody tr th {\n",
       "        vertical-align: top;\n",
       "    }\n",
       "\n",
       "    .dataframe thead th {\n",
       "        text-align: right;\n",
       "    }\n",
       "</style>\n",
       "<table border=\"1\" class=\"dataframe\">\n",
       "  <thead>\n",
       "    <tr style=\"text-align: right;\">\n",
       "      <th></th>\n",
       "      <th>Show_Id</th>\n",
       "      <th>Director</th>\n",
       "    </tr>\n",
       "  </thead>\n",
       "  <tbody>\n",
       "    <tr>\n",
       "      <th>9</th>\n",
       "      <td>s10</td>\n",
       "      <td>Vikram Bhatt</td>\n",
       "    </tr>\n",
       "  </tbody>\n",
       "</table>\n",
       "</div>"
      ],
      "text/plain": [
       "  Show_Id      Director\n",
       "9     s10  Vikram Bhatt"
      ]
     },
     "execution_count": 26,
     "metadata": {},
     "output_type": "execute_result"
    }
   ],
   "source": [
    "#second one\n",
    "filt = df['Title'].isin(['1920'])\n",
    "df.loc[filt, ['Show_Id', 'Director']]   #isin check for the 1920 movie in the title column"
   ]
  },
  {
   "cell_type": "markdown",
   "id": "250bbc43",
   "metadata": {},
   "source": [
    "still gives the same answer as the first one"
   ]
  },
  {
   "cell_type": "code",
   "execution_count": 27,
   "id": "7a6f557c",
   "metadata": {},
   "outputs": [
    {
     "data": {
      "text/html": [
       "<div>\n",
       "<style scoped>\n",
       "    .dataframe tbody tr th:only-of-type {\n",
       "        vertical-align: middle;\n",
       "    }\n",
       "\n",
       "    .dataframe tbody tr th {\n",
       "        vertical-align: top;\n",
       "    }\n",
       "\n",
       "    .dataframe thead th {\n",
       "        text-align: right;\n",
       "    }\n",
       "</style>\n",
       "<table border=\"1\" class=\"dataframe\">\n",
       "  <thead>\n",
       "    <tr style=\"text-align: right;\">\n",
       "      <th></th>\n",
       "      <th>Show_Id</th>\n",
       "      <th>Director</th>\n",
       "    </tr>\n",
       "  </thead>\n",
       "  <tbody>\n",
       "    <tr>\n",
       "      <th>9</th>\n",
       "      <td>s10</td>\n",
       "      <td>Vikram Bhatt</td>\n",
       "    </tr>\n",
       "  </tbody>\n",
       "</table>\n",
       "</div>"
      ],
      "text/plain": [
       "  Show_Id      Director\n",
       "9     s10  Vikram Bhatt"
      ]
     },
     "execution_count": 27,
     "metadata": {},
     "output_type": "execute_result"
    }
   ],
   "source": [
    "#third one\n",
    "filt = df['Title'].str.contains('1920')\n",
    "df.loc[filt, ['Show_Id', 'Director']]           #checks if the title series column contains the 1920 movies with it"
   ]
  },
  {
   "cell_type": "markdown",
   "id": "992ec78d",
   "metadata": {},
   "source": [
    "still gives the same answer as the second and the first one"
   ]
  },
  {
   "cell_type": "markdown",
   "id": "d92e6682",
   "metadata": {},
   "source": [
    "#### Question two: Which month produced were highest number of movies released"
   ]
  },
  {
   "cell_type": "markdown",
   "id": "5fad1c20",
   "metadata": {},
   "source": [
    "this question can be answered 2 in ways"
   ]
  },
  {
   "cell_type": "code",
   "execution_count": 28,
   "id": "6244aa52",
   "metadata": {},
   "outputs": [
    {
     "data": {
      "text/plain": [
       "Dec    717\n",
       "Oct    666\n",
       "Jan    664\n",
       "Nov    656\n",
       "Mar    572\n",
       "Aug    519\n",
       "Jul    517\n",
       "Apr    511\n",
       "Sep    507\n",
       "Jun    456\n",
       "May    450\n",
       "Feb    408\n",
       "Name: Month, dtype: int64"
      ]
     },
     "execution_count": 28,
     "metadata": {},
     "output_type": "execute_result"
    }
   ],
   "source": [
    "df['Month'].value_counts().sort_values(ascending=False)        #it counts the occurance of all individual months released in the month column"
   ]
  },
  {
   "cell_type": "markdown",
   "id": "816a2f28",
   "metadata": {},
   "source": [
    "december had the highest number of movie released and the last month being in february"
   ]
  },
  {
   "cell_type": "code",
   "execution_count": 29,
   "id": "154f0f2c",
   "metadata": {},
   "outputs": [
    {
     "data": {
      "text/plain": [
       "12    717\n",
       "10    666\n",
       "1     664\n",
       "11    656\n",
       "3     572\n",
       "8     519\n",
       "7     517\n",
       "4     511\n",
       "9     507\n",
       "6     456\n",
       "5     450\n",
       "2     408\n",
       "Name: Release_Date, dtype: int64"
      ]
     },
     "execution_count": 29,
     "metadata": {},
     "output_type": "execute_result"
    }
   ],
   "source": [
    "df['Release_Date'].dt.month.value_counts()              #it counts the occurance of all individual months release date column"
   ]
  },
  {
   "cell_type": "markdown",
   "id": "bcca3805",
   "metadata": {},
   "source": [
    "this method shows the months in figures unlike the first method"
   ]
  },
  {
   "cell_type": "markdown",
   "id": "b4ab625d",
   "metadata": {},
   "source": [
    "show the information on the bar chart"
   ]
  },
  {
   "cell_type": "code",
   "execution_count": 30,
   "id": "5947b37d",
   "metadata": {},
   "outputs": [
    {
     "data": {
      "text/plain": [
       "Text(0, 0.5, 'Number of movies released/month')"
      ]
     },
     "execution_count": 30,
     "metadata": {},
     "output_type": "execute_result"
    },
    {
     "data": {
      "image/png": "[encoded data removed]",
      "text/plain": [
       "<Figure size 640x480 with 1 Axes>"
      ]
     },
     "metadata": {},
     "output_type": "display_data"
    }
   ],
   "source": [
    "df['Month'].value_counts().plot(kind='bar')\n",
    "plt.xlabel('Months')\n",
    "plt.ylabel('Number of movies released/month')"
   ]
  },
  {
   "cell_type": "markdown",
   "id": "281f0755",
   "metadata": {},
   "source": [
    "##### * **key takeaway:**  more movies were released in december"
   ]
  },
  {
   "cell_type": "markdown",
   "id": "bb8dd3e6",
   "metadata": {},
   "source": [
    "#### Question 3: how many movies and Tv shows that are in the dataset \n",
    " "
   ]
  },
  {
   "cell_type": "markdown",
   "id": "0996a90c",
   "metadata": {},
   "source": [
    "this question can be answered in 2 ways"
   ]
  },
  {
   "cell_type": "code",
   "execution_count": 31,
   "id": "0154cfb1",
   "metadata": {},
   "outputs": [
    {
     "data": {
      "text/html": [
       "<div>\n",
       "<style scoped>\n",
       "    .dataframe tbody tr th:only-of-type {\n",
       "        vertical-align: middle;\n",
       "    }\n",
       "\n",
       "    .dataframe tbody tr th {\n",
       "        vertical-align: top;\n",
       "    }\n",
       "\n",
       "    .dataframe thead th {\n",
       "        text-align: right;\n",
       "    }\n",
       "</style>\n",
       "<table border=\"1\" class=\"dataframe\">\n",
       "  <thead>\n",
       "    <tr style=\"text-align: right;\">\n",
       "      <th></th>\n",
       "      <th>Show_Id</th>\n",
       "      <th>Category</th>\n",
       "      <th>Title</th>\n",
       "      <th>Director</th>\n",
       "      <th>Cast</th>\n",
       "      <th>Country</th>\n",
       "      <th>Release_Date</th>\n",
       "      <th>Rating</th>\n",
       "      <th>Duration</th>\n",
       "      <th>Type</th>\n",
       "      <th>Description</th>\n",
       "      <th>Year</th>\n",
       "      <th>Month</th>\n",
       "      <th>Day_of_Week</th>\n",
       "    </tr>\n",
       "  </thead>\n",
       "  <tbody>\n",
       "    <tr>\n",
       "      <th>0</th>\n",
       "      <td>s1</td>\n",
       "      <td>TV Show</td>\n",
       "      <td>3%</td>\n",
       "      <td>NaN</td>\n",
       "      <td>João Miguel, Bianca Comparato, Michel Gomes, R...</td>\n",
       "      <td>Brazil</td>\n",
       "      <td>2020-08-14</td>\n",
       "      <td>TV-MA</td>\n",
       "      <td>4 Seasons</td>\n",
       "      <td>International TV Shows, TV Dramas, TV Sci-Fi &amp;...</td>\n",
       "      <td>In a future where the elite inhabit an island ...</td>\n",
       "      <td>2020</td>\n",
       "      <td>Aug</td>\n",
       "      <td>Friday</td>\n",
       "    </tr>\n",
       "  </tbody>\n",
       "</table>\n",
       "</div>"
      ],
      "text/plain": [
       "  Show_Id Category Title Director  \\\n",
       "0      s1  TV Show    3%      NaN   \n",
       "\n",
       "                                                Cast Country Release_Date  \\\n",
       "0  João Miguel, Bianca Comparato, Michel Gomes, R...  Brazil   2020-08-14   \n",
       "\n",
       "  Rating   Duration                                               Type  \\\n",
       "0  TV-MA  4 Seasons  International TV Shows, TV Dramas, TV Sci-Fi &...   \n",
       "\n",
       "                                         Description  Year Month Day_of_Week  \n",
       "0  In a future where the elite inhabit an island ...  2020   Aug      Friday  "
      ]
     },
     "execution_count": 31,
     "metadata": {},
     "output_type": "execute_result"
    }
   ],
   "source": [
    "df.head(1)        #take  a look at the first row of the dataset"
   ]
  },
  {
   "cell_type": "code",
   "execution_count": 32,
   "id": "ecbb4470",
   "metadata": {},
   "outputs": [
    {
     "data": {
      "text/plain": [
       "Movie      4761\n",
       "TV Show    1882\n",
       "Name: Category, dtype: int64"
      ]
     },
     "execution_count": 32,
     "metadata": {},
     "output_type": "execute_result"
    }
   ],
   "source": [
    "#use the value_counts() to know different number of movies and tv shows\n",
    "\n",
    "df['Category'].value_counts()"
   ]
  },
  {
   "cell_type": "code",
   "execution_count": 33,
   "id": "765b1045",
   "metadata": {},
   "outputs": [
    {
     "data": {
      "text/plain": [
       "Text(0, 0.5, 'Number of movies released')"
      ]
     },
     "execution_count": 33,
     "metadata": {},
     "output_type": "execute_result"
    },
    {
     "data": {
      "image/png": "[encoded data removed]",
      "text/plain": [
       "<Figure size 640x480 with 1 Axes>"
      ]
     },
     "metadata": {},
     "output_type": "display_data"
    }
   ],
   "source": [
    "df['Category'].value_counts().plot(kind='bar')\n",
    "plt.ylabel('Number of movies released')"
   ]
  },
  {
   "cell_type": "code",
   "execution_count": 34,
   "id": "e48cfb54",
   "metadata": {},
   "outputs": [
    {
     "data": {
      "text/plain": [
       "Category\n",
       "Movie      4761\n",
       "TV Show    1882\n",
       "Name: Category, dtype: int64"
      ]
     },
     "execution_count": 34,
     "metadata": {},
     "output_type": "execute_result"
    }
   ],
   "source": [
    "df.groupby('Category').Category.count()     #groups all unique items and display their counts"
   ]
  },
  {
   "cell_type": "markdown",
   "id": "076aef55",
   "metadata": {},
   "source": [
    "still gives the same answer as the one on top"
   ]
  },
  {
   "cell_type": "code",
   "execution_count": 35,
   "id": "c59696d6",
   "metadata": {},
   "outputs": [
    {
     "name": "stderr",
     "output_type": "stream",
     "text": [
      "C:\\Users\\Tamie\\anaconda3\\lib\\site-packages\\seaborn\\_decorators.py:36: FutureWarning: Pass the following variable as a keyword arg: x. From version 0.12, the only valid positional argument will be `data`, and passing other arguments without an explicit keyword will result in an error or misinterpretation.\n",
      "  warnings.warn(\n"
     ]
    },
    {
     "data": {
      "text/plain": [
       "<AxesSubplot:xlabel='Category', ylabel='count'>"
      ]
     },
     "execution_count": 35,
     "metadata": {},
     "output_type": "execute_result"
    },
    {
     "data": {
      "image/png": "[encoded data removed]",
      "text/plain": [
       "<Figure size 640x480 with 1 Axes>"
      ]
     },
     "metadata": {},
     "output_type": "display_data"
    }
   ],
   "source": [
    "sns.countplot(df['Category'])"
   ]
  },
  {
   "cell_type": "markdown",
   "id": "da02130f",
   "metadata": {},
   "source": [
    "##### * **key takeaway:**  more movies were released that the tv shows"
   ]
  },
  {
   "cell_type": "markdown",
   "id": "6d148c7c",
   "metadata": {},
   "source": [
    "#### Question 4: Show all movies released in 2018"
   ]
  },
  {
   "cell_type": "code",
   "execution_count": 36,
   "id": "3963cb5f",
   "metadata": {},
   "outputs": [
    {
     "name": "stdout",
     "output_type": "stream",
     "text": [
      "total movies released are:  (1190, 14)\n"
     ]
    }
   ],
   "source": [
    "filt = (df['Year'] == 2020) & (df['Category'] == 'Movie')\n",
    "df[filt].shape\n",
    "print('total movies released are: ', df[filt].shape)"
   ]
  },
  {
   "cell_type": "markdown",
   "id": "cfc61a8a",
   "metadata": {},
   "source": [
    "#### Question 5: shows all movies title that were released on sunday"
   ]
  },
  {
   "cell_type": "code",
   "execution_count": 37,
   "id": "c7d17526",
   "metadata": {},
   "outputs": [
    {
     "data": {
      "text/html": [
       "<div>\n",
       "<style scoped>\n",
       "    .dataframe tbody tr th:only-of-type {\n",
       "        vertical-align: middle;\n",
       "    }\n",
       "\n",
       "    .dataframe tbody tr th {\n",
       "        vertical-align: top;\n",
       "    }\n",
       "\n",
       "    .dataframe thead th {\n",
       "        text-align: right;\n",
       "    }\n",
       "</style>\n",
       "<table border=\"1\" class=\"dataframe\">\n",
       "  <thead>\n",
       "    <tr style=\"text-align: right;\">\n",
       "      <th></th>\n",
       "      <th>Day_of_Week</th>\n",
       "      <th>Title</th>\n",
       "    </tr>\n",
       "  </thead>\n",
       "  <tbody>\n",
       "    <tr>\n",
       "      <th>15</th>\n",
       "      <td>Sunday</td>\n",
       "      <td>Oct-01</td>\n",
       "    </tr>\n",
       "    <tr>\n",
       "      <th>32</th>\n",
       "      <td>Sunday</td>\n",
       "      <td>#FriendButMarried 2</td>\n",
       "    </tr>\n",
       "    <tr>\n",
       "      <th>65</th>\n",
       "      <td>Sunday</td>\n",
       "      <td>13 Sins</td>\n",
       "    </tr>\n",
       "    <tr>\n",
       "      <th>75</th>\n",
       "      <td>Sunday</td>\n",
       "      <td>1BR</td>\n",
       "    </tr>\n",
       "    <tr>\n",
       "      <th>91</th>\n",
       "      <td>Sunday</td>\n",
       "      <td>26 Years</td>\n",
       "    </tr>\n",
       "    <tr>\n",
       "      <th>...</th>\n",
       "      <td>...</td>\n",
       "      <td>...</td>\n",
       "    </tr>\n",
       "    <tr>\n",
       "      <th>7725</th>\n",
       "      <td>Sunday</td>\n",
       "      <td>You Can Tutu</td>\n",
       "    </tr>\n",
       "    <tr>\n",
       "      <th>7730</th>\n",
       "      <td>Sunday</td>\n",
       "      <td>You Don't Mess with the Zohan</td>\n",
       "    </tr>\n",
       "    <tr>\n",
       "      <th>7757</th>\n",
       "      <td>Sunday</td>\n",
       "      <td>Z Nation</td>\n",
       "    </tr>\n",
       "    <tr>\n",
       "      <th>7771</th>\n",
       "      <td>Sunday</td>\n",
       "      <td>Zindagi Na Milegi Dobara</td>\n",
       "    </tr>\n",
       "    <tr>\n",
       "      <th>7782</th>\n",
       "      <td>Sunday</td>\n",
       "      <td>Zoo</td>\n",
       "    </tr>\n",
       "  </tbody>\n",
       "</table>\n",
       "<p>624 rows × 2 columns</p>\n",
       "</div>"
      ],
      "text/plain": [
       "     Day_of_Week                          Title\n",
       "15        Sunday                         Oct-01\n",
       "32        Sunday            #FriendButMarried 2\n",
       "65        Sunday                        13 Sins\n",
       "75        Sunday                            1BR\n",
       "91        Sunday                       26 Years\n",
       "...          ...                            ...\n",
       "7725      Sunday                   You Can Tutu\n",
       "7730      Sunday  You Don't Mess with the Zohan\n",
       "7757      Sunday                       Z Nation\n",
       "7771      Sunday       Zindagi Na Milegi Dobara\n",
       "7782      Sunday                            Zoo\n",
       "\n",
       "[624 rows x 2 columns]"
      ]
     },
     "execution_count": 37,
     "metadata": {},
     "output_type": "execute_result"
    }
   ],
   "source": [
    "filt = df['Day_of_Week'] == 'Sunday'\n",
    "df.loc[filt, ['Day_of_Week', 'Title']]"
   ]
  },
  {
   "cell_type": "markdown",
   "id": "295ecf77",
   "metadata": {},
   "source": [
    "#### Question 6: Show top 10 directors who gave highest number of tv shows and movies on netflix"
   ]
  },
  {
   "cell_type": "code",
   "execution_count": 38,
   "id": "a845ee6e",
   "metadata": {},
   "outputs": [
    {
     "data": {
      "text/html": [
       "<div>\n",
       "<style scoped>\n",
       "    .dataframe tbody tr th:only-of-type {\n",
       "        vertical-align: middle;\n",
       "    }\n",
       "\n",
       "    .dataframe tbody tr th {\n",
       "        vertical-align: top;\n",
       "    }\n",
       "\n",
       "    .dataframe thead th {\n",
       "        text-align: right;\n",
       "    }\n",
       "</style>\n",
       "<table border=\"1\" class=\"dataframe\">\n",
       "  <thead>\n",
       "    <tr style=\"text-align: right;\">\n",
       "      <th></th>\n",
       "      <th>Show_Id</th>\n",
       "      <th>Category</th>\n",
       "      <th>Title</th>\n",
       "      <th>Director</th>\n",
       "      <th>Cast</th>\n",
       "      <th>Country</th>\n",
       "      <th>Release_Date</th>\n",
       "      <th>Rating</th>\n",
       "      <th>Duration</th>\n",
       "      <th>Type</th>\n",
       "      <th>Description</th>\n",
       "      <th>Year</th>\n",
       "      <th>Month</th>\n",
       "      <th>Day_of_Week</th>\n",
       "    </tr>\n",
       "  </thead>\n",
       "  <tbody>\n",
       "    <tr>\n",
       "      <th>0</th>\n",
       "      <td>s1</td>\n",
       "      <td>TV Show</td>\n",
       "      <td>3%</td>\n",
       "      <td>NaN</td>\n",
       "      <td>João Miguel, Bianca Comparato, Michel Gomes, R...</td>\n",
       "      <td>Brazil</td>\n",
       "      <td>2020-08-14</td>\n",
       "      <td>TV-MA</td>\n",
       "      <td>4 Seasons</td>\n",
       "      <td>International TV Shows, TV Dramas, TV Sci-Fi &amp;...</td>\n",
       "      <td>In a future where the elite inhabit an island ...</td>\n",
       "      <td>2020</td>\n",
       "      <td>Aug</td>\n",
       "      <td>Friday</td>\n",
       "    </tr>\n",
       "  </tbody>\n",
       "</table>\n",
       "</div>"
      ],
      "text/plain": [
       "  Show_Id Category Title Director  \\\n",
       "0      s1  TV Show    3%      NaN   \n",
       "\n",
       "                                                Cast Country Release_Date  \\\n",
       "0  João Miguel, Bianca Comparato, Michel Gomes, R...  Brazil   2020-08-14   \n",
       "\n",
       "  Rating   Duration                                               Type  \\\n",
       "0  TV-MA  4 Seasons  International TV Shows, TV Dramas, TV Sci-Fi &...   \n",
       "\n",
       "                                         Description  Year Month Day_of_Week  \n",
       "0  In a future where the elite inhabit an island ...  2020   Aug      Friday  "
      ]
     },
     "execution_count": 38,
     "metadata": {},
     "output_type": "execute_result"
    }
   ],
   "source": [
    "#take a look at the dataset\n",
    "df.head(1)"
   ]
  },
  {
   "cell_type": "code",
   "execution_count": 39,
   "id": "164f54ae",
   "metadata": {},
   "outputs": [
    {
     "data": {
      "text/plain": [
       "Raúl Campos, Jan Suter    18\n",
       "Marcus Raboy              15\n",
       "Jay Karas                 14\n",
       "Cathy Garcia-Molina       13\n",
       "Jay Chapman               12\n",
       "Youssef Chahine           12\n",
       "Martin Scorsese           12\n",
       "Steven Spielberg          10\n",
       "David Dhawan               9\n",
       "Robert Rodriguez           8\n",
       "Name: Director, dtype: int64"
      ]
     },
     "execution_count": 39,
     "metadata": {},
     "output_type": "execute_result"
    }
   ],
   "source": [
    "df['Director'].value_counts().head(10)"
   ]
  },
  {
   "cell_type": "markdown",
   "id": "893f975a",
   "metadata": {},
   "source": [
    "Raul Campos, Jan Suter lead with a total of 18, number 10 being Robert Rodriguez"
   ]
  },
  {
   "cell_type": "markdown",
   "id": "6ed1a387",
   "metadata": {},
   "source": [
    "#### Question 6: Show category is movie and type is comedy or country is Brazil"
   ]
  },
  {
   "cell_type": "code",
   "execution_count": 40,
   "id": "7a0f743c",
   "metadata": {},
   "outputs": [
    {
     "data": {
      "text/html": [
       "<div>\n",
       "<style scoped>\n",
       "    .dataframe tbody tr th:only-of-type {\n",
       "        vertical-align: middle;\n",
       "    }\n",
       "\n",
       "    .dataframe tbody tr th {\n",
       "        vertical-align: top;\n",
       "    }\n",
       "\n",
       "    .dataframe thead th {\n",
       "        text-align: right;\n",
       "    }\n",
       "</style>\n",
       "<table border=\"1\" class=\"dataframe\">\n",
       "  <thead>\n",
       "    <tr style=\"text-align: right;\">\n",
       "      <th></th>\n",
       "      <th>Show_Id</th>\n",
       "      <th>Category</th>\n",
       "      <th>Title</th>\n",
       "      <th>Director</th>\n",
       "      <th>Cast</th>\n",
       "      <th>Country</th>\n",
       "      <th>Release_Date</th>\n",
       "      <th>Rating</th>\n",
       "      <th>Duration</th>\n",
       "      <th>Type</th>\n",
       "      <th>Description</th>\n",
       "      <th>Year</th>\n",
       "      <th>Month</th>\n",
       "      <th>Day_of_Week</th>\n",
       "    </tr>\n",
       "  </thead>\n",
       "  <tbody>\n",
       "    <tr>\n",
       "      <th>0</th>\n",
       "      <td>s1</td>\n",
       "      <td>TV Show</td>\n",
       "      <td>3%</td>\n",
       "      <td>NaN</td>\n",
       "      <td>João Miguel, Bianca Comparato, Michel Gomes, R...</td>\n",
       "      <td>Brazil</td>\n",
       "      <td>2020-08-14</td>\n",
       "      <td>TV-MA</td>\n",
       "      <td>4 Seasons</td>\n",
       "      <td>International TV Shows, TV Dramas, TV Sci-Fi &amp;...</td>\n",
       "      <td>In a future where the elite inhabit an island ...</td>\n",
       "      <td>2020</td>\n",
       "      <td>Aug</td>\n",
       "      <td>Friday</td>\n",
       "    </tr>\n",
       "    <tr>\n",
       "      <th>218</th>\n",
       "      <td>s219</td>\n",
       "      <td>TV Show</td>\n",
       "      <td>A Queen Is Born</td>\n",
       "      <td>Carla Barros</td>\n",
       "      <td>Gloria Groove, Alexia Twister</td>\n",
       "      <td>Brazil</td>\n",
       "      <td>2020-11-11</td>\n",
       "      <td>TV-14</td>\n",
       "      <td>1 Season</td>\n",
       "      <td>International TV Shows, Reality TV</td>\n",
       "      <td>Gloria Groove and Alexia Twister make drag dre...</td>\n",
       "      <td>2020</td>\n",
       "      <td>Nov</td>\n",
       "      <td>Wednesday</td>\n",
       "    </tr>\n",
       "    <tr>\n",
       "      <th>320</th>\n",
       "      <td>s321</td>\n",
       "      <td>Movie</td>\n",
       "      <td>Afonso Padilha: Classless</td>\n",
       "      <td>Junior Carelli, Rudge Campos</td>\n",
       "      <td>Afonso Padilha</td>\n",
       "      <td>Brazil</td>\n",
       "      <td>2020-09-03</td>\n",
       "      <td>TV-MA</td>\n",
       "      <td>63 min</td>\n",
       "      <td>Stand-Up Comedy</td>\n",
       "      <td>Brazilian comedian Afonso Padilha dives into h...</td>\n",
       "      <td>2020</td>\n",
       "      <td>Sep</td>\n",
       "      <td>Thursday</td>\n",
       "    </tr>\n",
       "    <tr>\n",
       "      <th>322</th>\n",
       "      <td>s323</td>\n",
       "      <td>TV Show</td>\n",
       "      <td>Afronta! Facing It!</td>\n",
       "      <td>Juliana Vicente</td>\n",
       "      <td>Loo Nascimento, Ingrid Silva, Rincon Sapiência...</td>\n",
       "      <td>Brazil</td>\n",
       "      <td>2020-10-31</td>\n",
       "      <td>TV-PG</td>\n",
       "      <td>1 Season</td>\n",
       "      <td>Docuseries, International TV Shows</td>\n",
       "      <td>This docuseries spotlights Afro-Brazilian thin...</td>\n",
       "      <td>2020</td>\n",
       "      <td>Oct</td>\n",
       "      <td>Saturday</td>\n",
       "    </tr>\n",
       "    <tr>\n",
       "      <th>394</th>\n",
       "      <td>s395</td>\n",
       "      <td>Movie</td>\n",
       "      <td>Alice Junior</td>\n",
       "      <td>Gil Baroni</td>\n",
       "      <td>Anne Celestino Mota, Emmanuel Rosset, Matheus ...</td>\n",
       "      <td>Brazil</td>\n",
       "      <td>2020-10-23</td>\n",
       "      <td>TV-MA</td>\n",
       "      <td>87 min</td>\n",
       "      <td>Comedies, International Movies, LGBTQ Movies</td>\n",
       "      <td>In a small town, a trans teen with a vibrant p...</td>\n",
       "      <td>2020</td>\n",
       "      <td>Oct</td>\n",
       "      <td>Friday</td>\n",
       "    </tr>\n",
       "    <tr>\n",
       "      <th>...</th>\n",
       "      <td>...</td>\n",
       "      <td>...</td>\n",
       "      <td>...</td>\n",
       "      <td>...</td>\n",
       "      <td>...</td>\n",
       "      <td>...</td>\n",
       "      <td>...</td>\n",
       "      <td>...</td>\n",
       "      <td>...</td>\n",
       "      <td>...</td>\n",
       "      <td>...</td>\n",
       "      <td>...</td>\n",
       "      <td>...</td>\n",
       "      <td>...</td>\n",
       "    </tr>\n",
       "    <tr>\n",
       "      <th>6657</th>\n",
       "      <td>s6656</td>\n",
       "      <td>TV Show</td>\n",
       "      <td>The Mechanism</td>\n",
       "      <td>NaN</td>\n",
       "      <td>Selton Mello, Caroline Abras, Enrique Diaz, An...</td>\n",
       "      <td>Brazil</td>\n",
       "      <td>2019-05-10</td>\n",
       "      <td>TV-MA</td>\n",
       "      <td>2 Seasons</td>\n",
       "      <td>Crime TV Shows, International TV Shows, TV Dramas</td>\n",
       "      <td>A scandal erupts in Brazil during an investiga...</td>\n",
       "      <td>2019</td>\n",
       "      <td>May</td>\n",
       "      <td>Friday</td>\n",
       "    </tr>\n",
       "    <tr>\n",
       "      <th>7046</th>\n",
       "      <td>s7045</td>\n",
       "      <td>Movie</td>\n",
       "      <td>Thiago Ventura: POKAS</td>\n",
       "      <td>Fabio Ock, Joana Mazzucchelli</td>\n",
       "      <td>Thiago Ventura</td>\n",
       "      <td>Brazil</td>\n",
       "      <td>2020-07-02</td>\n",
       "      <td>TV-MA</td>\n",
       "      <td>82 min</td>\n",
       "      <td>Stand-Up Comedy</td>\n",
       "      <td>In a rollicking special, Thiago Ventura jokes ...</td>\n",
       "      <td>2020</td>\n",
       "      <td>Jul</td>\n",
       "      <td>Thursday</td>\n",
       "    </tr>\n",
       "    <tr>\n",
       "      <th>7385</th>\n",
       "      <td>s7384</td>\n",
       "      <td>TV Show</td>\n",
       "      <td>Vai Anitta</td>\n",
       "      <td>NaN</td>\n",
       "      <td>Anitta</td>\n",
       "      <td>Brazil</td>\n",
       "      <td>2018-11-16</td>\n",
       "      <td>TV-MA</td>\n",
       "      <td>1 Season</td>\n",
       "      <td>Docuseries, International TV Shows, Reality TV</td>\n",
       "      <td>Go behind the scenes with Brazilian pop icon A...</td>\n",
       "      <td>2018</td>\n",
       "      <td>Nov</td>\n",
       "      <td>Friday</td>\n",
       "    </tr>\n",
       "    <tr>\n",
       "      <th>7592</th>\n",
       "      <td>s7591</td>\n",
       "      <td>Movie</td>\n",
       "      <td>Whindersson Nunes: Adult</td>\n",
       "      <td>Diego Pignataro</td>\n",
       "      <td>Whindersson Nunes</td>\n",
       "      <td>Brazil</td>\n",
       "      <td>2019-08-15</td>\n",
       "      <td>TV-MA</td>\n",
       "      <td>69 min</td>\n",
       "      <td>Stand-Up Comedy</td>\n",
       "      <td>Brazilian YouTube sensation Whindersson Nunes ...</td>\n",
       "      <td>2019</td>\n",
       "      <td>Aug</td>\n",
       "      <td>Thursday</td>\n",
       "    </tr>\n",
       "    <tr>\n",
       "      <th>7758</th>\n",
       "      <td>s7757</td>\n",
       "      <td>TV Show</td>\n",
       "      <td>Z4</td>\n",
       "      <td>NaN</td>\n",
       "      <td>Apollo Costa, Gabriel Santana, Matheus Lustosa...</td>\n",
       "      <td>Brazil</td>\n",
       "      <td>2019-02-22</td>\n",
       "      <td>TV-PG</td>\n",
       "      <td>2 Seasons</td>\n",
       "      <td>Kids' TV</td>\n",
       "      <td>Fading music biz veteran Zé realizes he has ju...</td>\n",
       "      <td>2019</td>\n",
       "      <td>Feb</td>\n",
       "      <td>Friday</td>\n",
       "    </tr>\n",
       "  </tbody>\n",
       "</table>\n",
       "<p>63 rows × 14 columns</p>\n",
       "</div>"
      ],
      "text/plain": [
       "     Show_Id Category                      Title  \\\n",
       "0         s1  TV Show                         3%   \n",
       "218     s219  TV Show            A Queen Is Born   \n",
       "320     s321    Movie  Afonso Padilha: Classless   \n",
       "322     s323  TV Show        Afronta! Facing It!   \n",
       "394     s395    Movie               Alice Junior   \n",
       "...      ...      ...                        ...   \n",
       "6657   s6656  TV Show              The Mechanism   \n",
       "7046   s7045    Movie      Thiago Ventura: POKAS   \n",
       "7385   s7384  TV Show                 Vai Anitta   \n",
       "7592   s7591    Movie   Whindersson Nunes: Adult   \n",
       "7758   s7757  TV Show                         Z4   \n",
       "\n",
       "                           Director  \\\n",
       "0                               NaN   \n",
       "218                    Carla Barros   \n",
       "320    Junior Carelli, Rudge Campos   \n",
       "322                 Juliana Vicente   \n",
       "394                      Gil Baroni   \n",
       "...                             ...   \n",
       "6657                            NaN   \n",
       "7046  Fabio Ock, Joana Mazzucchelli   \n",
       "7385                            NaN   \n",
       "7592                Diego Pignataro   \n",
       "7758                            NaN   \n",
       "\n",
       "                                                   Cast Country Release_Date  \\\n",
       "0     João Miguel, Bianca Comparato, Michel Gomes, R...  Brazil   2020-08-14   \n",
       "218                       Gloria Groove, Alexia Twister  Brazil   2020-11-11   \n",
       "320                                      Afonso Padilha  Brazil   2020-09-03   \n",
       "322   Loo Nascimento, Ingrid Silva, Rincon Sapiência...  Brazil   2020-10-31   \n",
       "394   Anne Celestino Mota, Emmanuel Rosset, Matheus ...  Brazil   2020-10-23   \n",
       "...                                                 ...     ...          ...   \n",
       "6657  Selton Mello, Caroline Abras, Enrique Diaz, An...  Brazil   2019-05-10   \n",
       "7046                                     Thiago Ventura  Brazil   2020-07-02   \n",
       "7385                                             Anitta  Brazil   2018-11-16   \n",
       "7592                                  Whindersson Nunes  Brazil   2019-08-15   \n",
       "7758  Apollo Costa, Gabriel Santana, Matheus Lustosa...  Brazil   2019-02-22   \n",
       "\n",
       "     Rating   Duration                                               Type  \\\n",
       "0     TV-MA  4 Seasons  International TV Shows, TV Dramas, TV Sci-Fi &...   \n",
       "218   TV-14   1 Season                 International TV Shows, Reality TV   \n",
       "320   TV-MA     63 min                                    Stand-Up Comedy   \n",
       "322   TV-PG   1 Season                 Docuseries, International TV Shows   \n",
       "394   TV-MA     87 min       Comedies, International Movies, LGBTQ Movies   \n",
       "...     ...        ...                                                ...   \n",
       "6657  TV-MA  2 Seasons  Crime TV Shows, International TV Shows, TV Dramas   \n",
       "7046  TV-MA     82 min                                    Stand-Up Comedy   \n",
       "7385  TV-MA   1 Season     Docuseries, International TV Shows, Reality TV   \n",
       "7592  TV-MA     69 min                                    Stand-Up Comedy   \n",
       "7758  TV-PG  2 Seasons                                           Kids' TV   \n",
       "\n",
       "                                            Description  Year Month  \\\n",
       "0     In a future where the elite inhabit an island ...  2020   Aug   \n",
       "218   Gloria Groove and Alexia Twister make drag dre...  2020   Nov   \n",
       "320   Brazilian comedian Afonso Padilha dives into h...  2020   Sep   \n",
       "322   This docuseries spotlights Afro-Brazilian thin...  2020   Oct   \n",
       "394   In a small town, a trans teen with a vibrant p...  2020   Oct   \n",
       "...                                                 ...   ...   ...   \n",
       "6657  A scandal erupts in Brazil during an investiga...  2019   May   \n",
       "7046  In a rollicking special, Thiago Ventura jokes ...  2020   Jul   \n",
       "7385  Go behind the scenes with Brazilian pop icon A...  2018   Nov   \n",
       "7592  Brazilian YouTube sensation Whindersson Nunes ...  2019   Aug   \n",
       "7758  Fading music biz veteran Zé realizes he has ju...  2019   Feb   \n",
       "\n",
       "     Day_of_Week  \n",
       "0         Friday  \n",
       "218    Wednesday  \n",
       "320     Thursday  \n",
       "322     Saturday  \n",
       "394       Friday  \n",
       "...          ...  \n",
       "6657      Friday  \n",
       "7046    Thursday  \n",
       "7385      Friday  \n",
       "7592    Thursday  \n",
       "7758      Friday  \n",
       "\n",
       "[63 rows x 14 columns]"
      ]
     },
     "execution_count": 40,
     "metadata": {},
     "output_type": "execute_result"
    }
   ],
   "source": [
    "filt = ((df['Category'] == 'Movie') & (df['Type'] == 'Comedy')) | (df['Country'] == 'Brazil')\n",
    "df[filt]"
   ]
  },
  {
   "cell_type": "markdown",
   "id": "efb2863b",
   "metadata": {},
   "source": [
    "#### Question 7: how many movies/shows was Tom Cruise a Cast"
   ]
  },
  {
   "cell_type": "code",
   "execution_count": 41,
   "id": "79a2e054",
   "metadata": {},
   "outputs": [
    {
     "data": {
      "text/html": [
       "<div>\n",
       "<style scoped>\n",
       "    .dataframe tbody tr th:only-of-type {\n",
       "        vertical-align: middle;\n",
       "    }\n",
       "\n",
       "    .dataframe tbody tr th {\n",
       "        vertical-align: top;\n",
       "    }\n",
       "\n",
       "    .dataframe thead th {\n",
       "        text-align: right;\n",
       "    }\n",
       "</style>\n",
       "<table border=\"1\" class=\"dataframe\">\n",
       "  <thead>\n",
       "    <tr style=\"text-align: right;\">\n",
       "      <th></th>\n",
       "      <th>Show_Id</th>\n",
       "      <th>Category</th>\n",
       "      <th>Title</th>\n",
       "      <th>Director</th>\n",
       "      <th>Cast</th>\n",
       "      <th>Country</th>\n",
       "      <th>Release_Date</th>\n",
       "      <th>Rating</th>\n",
       "      <th>Duration</th>\n",
       "      <th>Type</th>\n",
       "      <th>Description</th>\n",
       "      <th>Year</th>\n",
       "      <th>Month</th>\n",
       "      <th>Day_of_Week</th>\n",
       "    </tr>\n",
       "  </thead>\n",
       "  <tbody>\n",
       "    <tr>\n",
       "      <th>3860</th>\n",
       "      <td>s3861</td>\n",
       "      <td>Movie</td>\n",
       "      <td>Magnolia</td>\n",
       "      <td>Paul Thomas Anderson</td>\n",
       "      <td>Jeremy Blackman, Tom Cruise, Melinda Dillon, A...</td>\n",
       "      <td>United States</td>\n",
       "      <td>2020-01-01</td>\n",
       "      <td>R</td>\n",
       "      <td>189 min</td>\n",
       "      <td>Dramas, Independent Movies</td>\n",
       "      <td>Through chance, human action, past history and...</td>\n",
       "      <td>2020</td>\n",
       "      <td>Jan</td>\n",
       "      <td>Wednesday</td>\n",
       "    </tr>\n",
       "    <tr>\n",
       "      <th>5071</th>\n",
       "      <td>s5071</td>\n",
       "      <td>Movie</td>\n",
       "      <td>Rain Man</td>\n",
       "      <td>Barry Levinson</td>\n",
       "      <td>Dustin Hoffman, Tom Cruise, Valeria Golino, Ge...</td>\n",
       "      <td>United States</td>\n",
       "      <td>2019-07-01</td>\n",
       "      <td>R</td>\n",
       "      <td>134 min</td>\n",
       "      <td>Classic Movies, Dramas</td>\n",
       "      <td>A fast-talking yuppie is forced to slow down w...</td>\n",
       "      <td>2019</td>\n",
       "      <td>Jul</td>\n",
       "      <td>Monday</td>\n",
       "    </tr>\n",
       "  </tbody>\n",
       "</table>\n",
       "</div>"
      ],
      "text/plain": [
       "     Show_Id Category     Title              Director  \\\n",
       "3860   s3861    Movie  Magnolia  Paul Thomas Anderson   \n",
       "5071   s5071    Movie  Rain Man        Barry Levinson   \n",
       "\n",
       "                                                   Cast        Country  \\\n",
       "3860  Jeremy Blackman, Tom Cruise, Melinda Dillon, A...  United States   \n",
       "5071  Dustin Hoffman, Tom Cruise, Valeria Golino, Ge...  United States   \n",
       "\n",
       "     Release_Date Rating Duration                        Type  \\\n",
       "3860   2020-01-01      R  189 min  Dramas, Independent Movies   \n",
       "5071   2019-07-01      R  134 min      Classic Movies, Dramas   \n",
       "\n",
       "                                            Description  Year Month  \\\n",
       "3860  Through chance, human action, past history and...  2020   Jan   \n",
       "5071  A fast-talking yuppie is forced to slow down w...  2019   Jul   \n",
       "\n",
       "     Day_of_Week  \n",
       "3860   Wednesday  \n",
       "5071      Monday  "
      ]
     },
     "execution_count": 41,
     "metadata": {},
     "output_type": "execute_result"
    }
   ],
   "source": [
    "df[df['Cast'].str.contains('Tom Cruise')]"
   ]
  },
  {
   "cell_type": "markdown",
   "id": "d2c94a6f",
   "metadata": {},
   "source": [
    "Tom cruise showed up in 2 movies"
   ]
  },
  {
   "cell_type": "markdown",
   "id": "267155ad",
   "metadata": {},
   "source": [
    "#### Question 8: What are different Ratings of netflix"
   ]
  },
  {
   "cell_type": "markdown",
   "id": "e25b8926",
   "metadata": {},
   "source": [
    "There are 3 ways in which ratings can be achieved"
   ]
  },
  {
   "cell_type": "code",
   "execution_count": 42,
   "id": "28427b14",
   "metadata": {},
   "outputs": [
    {
     "data": {
      "text/plain": [
       "14"
      ]
     },
     "execution_count": 42,
     "metadata": {},
     "output_type": "execute_result"
    }
   ],
   "source": [
    "df['Rating'].nunique()"
   ]
  },
  {
   "cell_type": "code",
   "execution_count": 43,
   "id": "9965e275",
   "metadata": {},
   "outputs": [
    {
     "data": {
      "text/plain": [
       "array(['TV-MA', 'R', 'PG-13', 'TV-14', 'TV-PG', 'TV-G', 'TV-Y', 'NR',\n",
       "       'TV-Y7', 'PG', 'G', 'NC-17', 'TV-Y7-FV', 'UR'], dtype=object)"
      ]
     },
     "execution_count": 43,
     "metadata": {},
     "output_type": "execute_result"
    }
   ],
   "source": [
    "df['Rating'].unique()               #list all ratings in the rating column"
   ]
  },
  {
   "cell_type": "code",
   "execution_count": 44,
   "id": "4f5d9a57",
   "metadata": {},
   "outputs": [
    {
     "data": {
      "text/plain": [
       "TV-MA       2450\n",
       "TV-14       1636\n",
       "R            655\n",
       "TV-PG        627\n",
       "PG-13        375\n",
       "PG           238\n",
       "TV-Y7        208\n",
       "TV-Y         192\n",
       "TV-G         146\n",
       "NR            66\n",
       "G             38\n",
       "UR             5\n",
       "TV-Y7-FV       4\n",
       "NC-17          3\n",
       "Name: Rating, dtype: int64"
      ]
     },
     "execution_count": 44,
     "metadata": {},
     "output_type": "execute_result"
    }
   ],
   "source": [
    "df['Rating'].value_counts()             #list unique ratings in the ratings column with their frequency"
   ]
  },
  {
   "cell_type": "markdown",
   "id": "2cb9f3db",
   "metadata": {},
   "source": [
    "#### Question 9: How many tv shows got rating R, after year 2019 in Canada"
   ]
  },
  {
   "cell_type": "code",
   "execution_count": 45,
   "id": "597dcafe",
   "metadata": {},
   "outputs": [
    {
     "data": {
      "text/html": [
       "<div>\n",
       "<style scoped>\n",
       "    .dataframe tbody tr th:only-of-type {\n",
       "        vertical-align: middle;\n",
       "    }\n",
       "\n",
       "    .dataframe tbody tr th {\n",
       "        vertical-align: top;\n",
       "    }\n",
       "\n",
       "    .dataframe thead th {\n",
       "        text-align: right;\n",
       "    }\n",
       "</style>\n",
       "<table border=\"1\" class=\"dataframe\">\n",
       "  <thead>\n",
       "    <tr style=\"text-align: right;\">\n",
       "      <th></th>\n",
       "      <th>Show_Id</th>\n",
       "      <th>Category</th>\n",
       "      <th>Title</th>\n",
       "      <th>Director</th>\n",
       "      <th>Cast</th>\n",
       "      <th>Country</th>\n",
       "      <th>Release_Date</th>\n",
       "      <th>Rating</th>\n",
       "      <th>Duration</th>\n",
       "      <th>Type</th>\n",
       "      <th>Description</th>\n",
       "      <th>Year</th>\n",
       "      <th>Month</th>\n",
       "      <th>Day_of_Week</th>\n",
       "    </tr>\n",
       "  </thead>\n",
       "  <tbody>\n",
       "  </tbody>\n",
       "</table>\n",
       "</div>"
      ],
      "text/plain": [
       "Empty DataFrame\n",
       "Columns: [Show_Id, Category, Title, Director, Cast, Country, Release_Date, Rating, Duration, Type, Description, Year, Month, Day_of_Week]\n",
       "Index: []"
      ]
     },
     "execution_count": 45,
     "metadata": {},
     "output_type": "execute_result"
    }
   ],
   "source": [
    "filt = (df['Category'] == 'TV Show') & (df['Country'] == 'Canada') & (df['Year'] > 2019) & (df['Rating'] == 'R')\n",
    "df[filt]"
   ]
  },
  {
   "cell_type": "markdown",
   "id": "45ca8471",
   "metadata": {},
   "source": [
    "There is no such a movie with such qualities because it retained none"
   ]
  },
  {
   "cell_type": "markdown",
   "id": "7fc7d244",
   "metadata": {},
   "source": [
    "#### Question 10: What is the maximum duration of a movie or a show"
   ]
  },
  {
   "cell_type": "code",
   "execution_count": 46,
   "id": "e2717090",
   "metadata": {},
   "outputs": [
    {
     "data": {
      "text/plain": [
       "array(['4 Seasons', '93 min', '78 min', '80 min', '123 min', '1 Season',\n",
       "       '95 min', '119 min', '118 min', '143 min', '103 min', '89 min',\n",
       "       '91 min', '149 min', '144 min', '124 min', '87 min', '110 min',\n",
       "       '128 min', '117 min', '100 min', '2 Seasons', '99 min', '102 min',\n",
       "       '104 min', '105 min', '125 min', '81 min', '97 min', '106 min',\n",
       "       '107 min', '109 min', '44 min', '101 min', '90 min', '3 Seasons',\n",
       "       '113 min', '114 min', '130 min', '94 min', '140 min', '135 min',\n",
       "       '82 min', '70 min', '92 min', '164 min', '83 min', '116 min',\n",
       "       '84 min', '86 min', '120 min', '96 min', '126 min', '75 min',\n",
       "       '129 min', '77 min', '137 min', '148 min', '121 min', '122 min',\n",
       "       '176 min', '85 min', '22 min', '68 min', '111 min', '29 min',\n",
       "       '142 min', '168 min', '59 min', '108 min', '26 min', '156 min',\n",
       "       '98 min', '57 min', '150 min', '133 min', '115 min', '154 min',\n",
       "       '127 min', '146 min', '136 min', '88 min', '131 min', '24 min',\n",
       "       '112 min', '74 min', '63 min', '174 min', '60 min', '153 min',\n",
       "       '158 min', '151 min', '162 min', '54 min', '51 min', '69 min',\n",
       "       '64 min', '147 min', '42 min', '79 min', '5 Seasons', '45 min',\n",
       "       '172 min', '53 min', '10 min', '163 min', '9 Seasons', '55 min',\n",
       "       '72 min', '61 min', '71 min', '160 min', '171 min', '30 min',\n",
       "       '48 min', '139 min', '157 min', '15 min', '134 min', '161 min',\n",
       "       '62 min', '8 Seasons', '186 min', '49 min', '73 min', '58 min',\n",
       "       '65 min', '165 min', '159 min', '141 min', '132 min', '166 min',\n",
       "       '76 min', '25 min', '56 min', '138 min', '67 min', '28 min',\n",
       "       '66 min', '312 min', '180 min', '47 min', '6 Seasons', '155 min',\n",
       "       '14 min', '177 min', '46 min', '145 min', '11 Seasons',\n",
       "       '13 Seasons', '8 min', '12 min', '12 Seasons', '10 Seasons',\n",
       "       '52 min', '43 min', '185 min', '200 min', '169 min', '27 min',\n",
       "       '170 min', '7 Seasons', '196 min', '33 min', '181 min', '32 min',\n",
       "       '167 min', '16 Seasons', '179 min', '193 min', '214 min',\n",
       "       '173 min', '192 min', '209 min', '187 min', '41 min', '182 min',\n",
       "       '23 min', '224 min', '37 min', '35 min', '20 min', '50 min',\n",
       "       '189 min', '152 min', '38 min', '15 Seasons', '208 min', '237 min',\n",
       "       '31 min', '40 min', '178 min', '194 min', '228 min', '195 min',\n",
       "       '18 min', '205 min', '201 min', '253 min', '190 min', '17 min',\n",
       "       '203 min', '191 min'], dtype=object)"
      ]
     },
     "execution_count": 46,
     "metadata": {},
     "output_type": "execute_result"
    }
   ],
   "source": [
    "df['Duration'].unique()                   #shows uniques values in the duration column"
   ]
  },
  {
   "cell_type": "code",
   "execution_count": 47,
   "id": "f295172d",
   "metadata": {},
   "outputs": [
    {
     "data": {
      "text/html": [
       "<div>\n",
       "<style scoped>\n",
       "    .dataframe tbody tr th:only-of-type {\n",
       "        vertical-align: middle;\n",
       "    }\n",
       "\n",
       "    .dataframe tbody tr th {\n",
       "        vertical-align: top;\n",
       "    }\n",
       "\n",
       "    .dataframe thead th {\n",
       "        text-align: right;\n",
       "    }\n",
       "</style>\n",
       "<table border=\"1\" class=\"dataframe\">\n",
       "  <thead>\n",
       "    <tr style=\"text-align: right;\">\n",
       "      <th></th>\n",
       "      <th>Show_Id</th>\n",
       "      <th>Category</th>\n",
       "      <th>Title</th>\n",
       "      <th>Director</th>\n",
       "      <th>Cast</th>\n",
       "      <th>Country</th>\n",
       "      <th>Release_Date</th>\n",
       "      <th>Rating</th>\n",
       "      <th>Duration</th>\n",
       "      <th>Type</th>\n",
       "      <th>Description</th>\n",
       "      <th>Year</th>\n",
       "      <th>Month</th>\n",
       "      <th>Day_of_Week</th>\n",
       "      <th>Total Mins/Seasons</th>\n",
       "      <th>Mins/Seasons</th>\n",
       "    </tr>\n",
       "  </thead>\n",
       "  <tbody>\n",
       "    <tr>\n",
       "      <th>0</th>\n",
       "      <td>s1</td>\n",
       "      <td>TV Show</td>\n",
       "      <td>3%</td>\n",
       "      <td>NaN</td>\n",
       "      <td>João Miguel, Bianca Comparato, Michel Gomes, R...</td>\n",
       "      <td>Brazil</td>\n",
       "      <td>2020-08-14</td>\n",
       "      <td>TV-MA</td>\n",
       "      <td>4 Seasons</td>\n",
       "      <td>International TV Shows, TV Dramas, TV Sci-Fi &amp;...</td>\n",
       "      <td>In a future where the elite inhabit an island ...</td>\n",
       "      <td>2020</td>\n",
       "      <td>Aug</td>\n",
       "      <td>Friday</td>\n",
       "      <td>4</td>\n",
       "      <td>Seasons</td>\n",
       "    </tr>\n",
       "    <tr>\n",
       "      <th>1</th>\n",
       "      <td>s2</td>\n",
       "      <td>Movie</td>\n",
       "      <td>07:19</td>\n",
       "      <td>Jorge Michel Grau</td>\n",
       "      <td>Demián Bichir, Héctor Bonilla, Oscar Serrano, ...</td>\n",
       "      <td>Mexico</td>\n",
       "      <td>2016-12-23</td>\n",
       "      <td>TV-MA</td>\n",
       "      <td>93 min</td>\n",
       "      <td>Dramas, International Movies</td>\n",
       "      <td>After a devastating earthquake hits Mexico Cit...</td>\n",
       "      <td>2016</td>\n",
       "      <td>Dec</td>\n",
       "      <td>Friday</td>\n",
       "      <td>93</td>\n",
       "      <td>min</td>\n",
       "    </tr>\n",
       "  </tbody>\n",
       "</table>\n",
       "</div>"
      ],
      "text/plain": [
       "  Show_Id Category  Title           Director  \\\n",
       "0      s1  TV Show     3%                NaN   \n",
       "1      s2    Movie  07:19  Jorge Michel Grau   \n",
       "\n",
       "                                                Cast Country Release_Date  \\\n",
       "0  João Miguel, Bianca Comparato, Michel Gomes, R...  Brazil   2020-08-14   \n",
       "1  Demián Bichir, Héctor Bonilla, Oscar Serrano, ...  Mexico   2016-12-23   \n",
       "\n",
       "  Rating   Duration                                               Type  \\\n",
       "0  TV-MA  4 Seasons  International TV Shows, TV Dramas, TV Sci-Fi &...   \n",
       "1  TV-MA     93 min                       Dramas, International Movies   \n",
       "\n",
       "                                         Description  Year Month Day_of_Week  \\\n",
       "0  In a future where the elite inhabit an island ...  2020   Aug      Friday   \n",
       "1  After a devastating earthquake hits Mexico Cit...  2016   Dec      Friday   \n",
       "\n",
       "  Total Mins/Seasons Mins/Seasons  \n",
       "0                  4      Seasons  \n",
       "1                 93          min  "
      ]
     },
     "execution_count": 47,
     "metadata": {},
     "output_type": "execute_result"
    }
   ],
   "source": [
    "#This cannot be done since its data type is in object\n",
    "#hence there is need to split mins and quanities in different columns\n",
    "\n",
    "df[['Total Mins/Seasons', 'Mins/Seasons']] = df['Duration'].str.split(' ', expand=True)       \n",
    "df.head(2)\n",
    "\n",
    "#2 new columns are formed that is total mins and mins/season\n",
    "\n"
   ]
  },
  {
   "cell_type": "markdown",
   "id": "3662e6b3",
   "metadata": {},
   "source": [
    "\n",
    "Create a new dataframe and remove all the columns that have season in the mins/seasons column"
   ]
  },
  {
   "cell_type": "code",
   "execution_count": 48,
   "id": "0bf2c40e",
   "metadata": {},
   "outputs": [],
   "source": [
    "filt = (df['Mins/Seasons'] == 'Seasons')\n",
    "df1 = df[~filt]                                 #creates a new dataframe without the number of seasons"
   ]
  },
  {
   "cell_type": "code",
   "execution_count": 49,
   "id": "7eae30d9",
   "metadata": {},
   "outputs": [
    {
     "data": {
      "text/html": [
       "<div>\n",
       "<style scoped>\n",
       "    .dataframe tbody tr th:only-of-type {\n",
       "        vertical-align: middle;\n",
       "    }\n",
       "\n",
       "    .dataframe tbody tr th {\n",
       "        vertical-align: top;\n",
       "    }\n",
       "\n",
       "    .dataframe thead th {\n",
       "        text-align: right;\n",
       "    }\n",
       "</style>\n",
       "<table border=\"1\" class=\"dataframe\">\n",
       "  <thead>\n",
       "    <tr style=\"text-align: right;\">\n",
       "      <th></th>\n",
       "      <th>Show_Id</th>\n",
       "      <th>Category</th>\n",
       "      <th>Title</th>\n",
       "      <th>Director</th>\n",
       "      <th>Cast</th>\n",
       "      <th>Country</th>\n",
       "      <th>Release_Date</th>\n",
       "      <th>Rating</th>\n",
       "      <th>Duration</th>\n",
       "      <th>Type</th>\n",
       "      <th>Description</th>\n",
       "      <th>Year</th>\n",
       "      <th>Month</th>\n",
       "      <th>Day_of_Week</th>\n",
       "      <th>Total Mins/Seasons</th>\n",
       "      <th>Mins/Seasons</th>\n",
       "    </tr>\n",
       "  </thead>\n",
       "  <tbody>\n",
       "    <tr>\n",
       "      <th>1</th>\n",
       "      <td>s2</td>\n",
       "      <td>Movie</td>\n",
       "      <td>07:19</td>\n",
       "      <td>Jorge Michel Grau</td>\n",
       "      <td>Demián Bichir, Héctor Bonilla, Oscar Serrano, ...</td>\n",
       "      <td>Mexico</td>\n",
       "      <td>2016-12-23</td>\n",
       "      <td>TV-MA</td>\n",
       "      <td>93 min</td>\n",
       "      <td>Dramas, International Movies</td>\n",
       "      <td>After a devastating earthquake hits Mexico Cit...</td>\n",
       "      <td>2016</td>\n",
       "      <td>Dec</td>\n",
       "      <td>Friday</td>\n",
       "      <td>93</td>\n",
       "      <td>min</td>\n",
       "    </tr>\n",
       "  </tbody>\n",
       "</table>\n",
       "</div>"
      ],
      "text/plain": [
       "  Show_Id Category  Title           Director  \\\n",
       "1      s2    Movie  07:19  Jorge Michel Grau   \n",
       "\n",
       "                                                Cast Country Release_Date  \\\n",
       "1  Demián Bichir, Héctor Bonilla, Oscar Serrano, ...  Mexico   2016-12-23   \n",
       "\n",
       "  Rating Duration                          Type  \\\n",
       "1  TV-MA   93 min  Dramas, International Movies   \n",
       "\n",
       "                                         Description  Year Month Day_of_Week  \\\n",
       "1  After a devastating earthquake hits Mexico Cit...  2016   Dec      Friday   \n",
       "\n",
       "  Total Mins/Seasons Mins/Seasons  \n",
       "1                 93          min  "
      ]
     },
     "execution_count": 49,
     "metadata": {},
     "output_type": "execute_result"
    }
   ],
   "source": [
    "df1.head(1)"
   ]
  },
  {
   "cell_type": "markdown",
   "id": "4303e8c8",
   "metadata": {},
   "source": [
    "change the data type of the total mins/seaons to int"
   ]
  },
  {
   "cell_type": "code",
   "execution_count": 50,
   "id": "aff72953",
   "metadata": {},
   "outputs": [
    {
     "name": "stderr",
     "output_type": "stream",
     "text": [
      "C:\\Users\\Tamie\\AppData\\Local\\Temp\\ipykernel_5216\\2276965919.py:1: SettingWithCopyWarning: \n",
      "A value is trying to be set on a copy of a slice from a DataFrame.\n",
      "Try using .loc[row_indexer,col_indexer] = value instead\n",
      "\n",
      "See the caveats in the documentation: https://pandas.pydata.org/pandas-docs/stable/user_guide/indexing.html#returning-a-view-versus-a-copy\n",
      "  df1['Total Mins/Seasons'] = df1['Total Mins/Seasons'].astype(int)\n"
     ]
    }
   ],
   "source": [
    "df1['Total Mins/Seasons'] = df1['Total Mins/Seasons'].astype(int)"
   ]
  },
  {
   "cell_type": "markdown",
   "id": "7aec1712",
   "metadata": {},
   "source": [
    "check the data type"
   ]
  },
  {
   "cell_type": "code",
   "execution_count": 51,
   "id": "010e30c3",
   "metadata": {},
   "outputs": [
    {
     "data": {
      "text/plain": [
       "dtype('int32')"
      ]
     },
     "execution_count": 51,
     "metadata": {},
     "output_type": "execute_result"
    }
   ],
   "source": [
    "df1['Total Mins/Seasons'].dtype"
   ]
  },
  {
   "cell_type": "markdown",
   "id": "398a8e2d",
   "metadata": {},
   "source": [
    "it has changed to int 32"
   ]
  },
  {
   "cell_type": "markdown",
   "id": "1cc9aaac",
   "metadata": {},
   "source": [
    "Now the max, mean, low values of the duration is as follows"
   ]
  },
  {
   "cell_type": "code",
   "execution_count": 52,
   "id": "5fe5be4f",
   "metadata": {},
   "outputs": [
    {
     "data": {
      "text/plain": [
       "count    5945.000000\n",
       "mean       81.752061\n",
       "std        46.998437\n",
       "min         1.000000\n",
       "25%        61.000000\n",
       "50%        94.000000\n",
       "75%       111.000000\n",
       "max       312.000000\n",
       "Name: Total Mins/Seasons, dtype: float64"
      ]
     },
     "execution_count": 52,
     "metadata": {},
     "output_type": "execute_result"
    }
   ],
   "source": [
    "df1['Total Mins/Seasons'].describe()"
   ]
  },
  {
   "cell_type": "markdown",
   "id": "d04f7b5f",
   "metadata": {},
   "source": [
    "#### Question 10: How many seasons are in the data set"
   ]
  },
  {
   "cell_type": "code",
   "execution_count": 53,
   "id": "767dbbdb",
   "metadata": {},
   "outputs": [],
   "source": [
    "filt = (df['Mins/Seasons'] == 'min')\n",
    "df1 = df[~filt]                            #create a new dataset that contains seasons only"
   ]
  },
  {
   "cell_type": "code",
   "execution_count": 54,
   "id": "9f54c406",
   "metadata": {},
   "outputs": [
    {
     "data": {
      "text/plain": [
       "(1882, 16)"
      ]
     },
     "execution_count": 54,
     "metadata": {},
     "output_type": "execute_result"
    }
   ],
   "source": [
    "df1.shape"
   ]
  },
  {
   "cell_type": "markdown",
   "id": "83ba4019",
   "metadata": {},
   "source": [
    "The dataset has 1882 seaons"
   ]
  },
  {
   "cell_type": "markdown",
   "id": "9ccb0cb7",
   "metadata": {},
   "source": [
    "#### Question 11: How which season has the highest season and lower seaon"
   ]
  },
  {
   "cell_type": "code",
   "execution_count": 55,
   "id": "6037bee9",
   "metadata": {},
   "outputs": [
    {
     "data": {
      "text/html": [
       "<div>\n",
       "<style scoped>\n",
       "    .dataframe tbody tr th:only-of-type {\n",
       "        vertical-align: middle;\n",
       "    }\n",
       "\n",
       "    .dataframe tbody tr th {\n",
       "        vertical-align: top;\n",
       "    }\n",
       "\n",
       "    .dataframe thead th {\n",
       "        text-align: right;\n",
       "    }\n",
       "</style>\n",
       "<table border=\"1\" class=\"dataframe\">\n",
       "  <thead>\n",
       "    <tr style=\"text-align: right;\">\n",
       "      <th></th>\n",
       "      <th>Show_Id</th>\n",
       "      <th>Category</th>\n",
       "      <th>Title</th>\n",
       "      <th>Director</th>\n",
       "      <th>Cast</th>\n",
       "      <th>Country</th>\n",
       "      <th>Release_Date</th>\n",
       "      <th>Rating</th>\n",
       "      <th>Duration</th>\n",
       "      <th>Type</th>\n",
       "      <th>Description</th>\n",
       "      <th>Year</th>\n",
       "      <th>Month</th>\n",
       "      <th>Day_of_Week</th>\n",
       "      <th>Total Mins/Seasons</th>\n",
       "      <th>Mins/Seasons</th>\n",
       "    </tr>\n",
       "  </thead>\n",
       "  <tbody>\n",
       "    <tr>\n",
       "      <th>0</th>\n",
       "      <td>s1</td>\n",
       "      <td>TV Show</td>\n",
       "      <td>3%</td>\n",
       "      <td>NaN</td>\n",
       "      <td>João Miguel, Bianca Comparato, Michel Gomes, R...</td>\n",
       "      <td>Brazil</td>\n",
       "      <td>2020-08-14</td>\n",
       "      <td>TV-MA</td>\n",
       "      <td>4 Seasons</td>\n",
       "      <td>International TV Shows, TV Dramas, TV Sci-Fi &amp;...</td>\n",
       "      <td>In a future where the elite inhabit an island ...</td>\n",
       "      <td>2020</td>\n",
       "      <td>Aug</td>\n",
       "      <td>Friday</td>\n",
       "      <td>4</td>\n",
       "      <td>Seasons</td>\n",
       "    </tr>\n",
       "  </tbody>\n",
       "</table>\n",
       "</div>"
      ],
      "text/plain": [
       "  Show_Id Category Title Director  \\\n",
       "0      s1  TV Show    3%      NaN   \n",
       "\n",
       "                                                Cast Country Release_Date  \\\n",
       "0  João Miguel, Bianca Comparato, Michel Gomes, R...  Brazil   2020-08-14   \n",
       "\n",
       "  Rating   Duration                                               Type  \\\n",
       "0  TV-MA  4 Seasons  International TV Shows, TV Dramas, TV Sci-Fi &...   \n",
       "\n",
       "                                         Description  Year Month Day_of_Week  \\\n",
       "0  In a future where the elite inhabit an island ...  2020   Aug      Friday   \n",
       "\n",
       "  Total Mins/Seasons Mins/Seasons  \n",
       "0                  4      Seasons  "
      ]
     },
     "execution_count": 55,
     "metadata": {},
     "output_type": "execute_result"
    }
   ],
   "source": [
    "df1.head(1)             #take a look at the dataset"
   ]
  },
  {
   "cell_type": "code",
   "execution_count": 56,
   "id": "99c08c77",
   "metadata": {},
   "outputs": [
    {
     "data": {
      "text/plain": [
       "'9'"
      ]
     },
     "execution_count": 56,
     "metadata": {},
     "output_type": "execute_result"
    }
   ],
   "source": [
    "df1['Total Mins/Seasons'].max()      #total number of highest number of seasons"
   ]
  },
  {
   "cell_type": "code",
   "execution_count": 57,
   "id": "dd1fc92c",
   "metadata": {},
   "outputs": [
    {
     "data": {
      "text/plain": [
       "'1'"
      ]
     },
     "execution_count": 57,
     "metadata": {},
     "output_type": "execute_result"
    }
   ],
   "source": [
    "df1['Total Mins/Seasons'].min()      # minimum number of seasons"
   ]
  },
  {
   "cell_type": "markdown",
   "id": "b6e39c98",
   "metadata": {},
   "source": [
    "#### Question 11: Which country has the highest number of tv shows"
   ]
  },
  {
   "cell_type": "code",
   "execution_count": 66,
   "id": "44a9925b",
   "metadata": {},
   "outputs": [
    {
     "data": {
      "text/plain": [
       "United States     575\n",
       "United Kingdom    168\n",
       "Japan             153\n",
       "South Korea       145\n",
       "Taiwan             68\n",
       "India              57\n",
       "Canada             53\n",
       "Spain              40\n",
       "Australia          39\n",
       "France             36\n",
       "Name: Country, dtype: int64"
      ]
     },
     "execution_count": 66,
     "metadata": {},
     "output_type": "execute_result"
    }
   ],
   "source": [
    "filt = (df['Category'] == 'TV Show')\n",
    "df[filt].Country.value_counts().head(10)"
   ]
  },
  {
   "cell_type": "markdown",
   "id": "3c000574",
   "metadata": {},
   "source": [
    "#### Question 12: Sort the dataset by year"
   ]
  },
  {
   "cell_type": "markdown",
   "id": "b374297e",
   "metadata": {},
   "source": [
    "The question can be done in 2 ways"
   ]
  },
  {
   "cell_type": "code",
   "execution_count": 59,
   "id": "464ae961",
   "metadata": {},
   "outputs": [
    {
     "data": {
      "text/plain": [
       "5564    2021\n",
       "1426    2021\n",
       "692     2021\n",
       "5771    2021\n",
       "6479    2021\n",
       "        ... \n",
       "232     2011\n",
       "3840    2010\n",
       "3248    2009\n",
       "5766    2009\n",
       "7115    2008\n",
       "Name: Year, Length: 6643, dtype: int64"
      ]
     },
     "execution_count": 59,
     "metadata": {},
     "output_type": "execute_result"
    }
   ],
   "source": [
    "df['Year'].sort_values(ascending = False)     # first method sort the dataset by column year"
   ]
  },
  {
   "cell_type": "code",
   "execution_count": 60,
   "id": "a8c4ac99",
   "metadata": {},
   "outputs": [
    {
     "data": {
      "text/html": [
       "<div>\n",
       "<style scoped>\n",
       "    .dataframe tbody tr th:only-of-type {\n",
       "        vertical-align: middle;\n",
       "    }\n",
       "\n",
       "    .dataframe tbody tr th {\n",
       "        vertical-align: top;\n",
       "    }\n",
       "\n",
       "    .dataframe thead th {\n",
       "        text-align: right;\n",
       "    }\n",
       "</style>\n",
       "<table border=\"1\" class=\"dataframe\">\n",
       "  <thead>\n",
       "    <tr style=\"text-align: right;\">\n",
       "      <th></th>\n",
       "      <th>Show_Id</th>\n",
       "      <th>Category</th>\n",
       "      <th>Title</th>\n",
       "      <th>Director</th>\n",
       "      <th>Cast</th>\n",
       "      <th>Country</th>\n",
       "      <th>Release_Date</th>\n",
       "      <th>Rating</th>\n",
       "      <th>Duration</th>\n",
       "      <th>Type</th>\n",
       "      <th>Description</th>\n",
       "      <th>Year</th>\n",
       "      <th>Month</th>\n",
       "      <th>Day_of_Week</th>\n",
       "      <th>Total Mins/Seasons</th>\n",
       "      <th>Mins/Seasons</th>\n",
       "    </tr>\n",
       "  </thead>\n",
       "  <tbody>\n",
       "    <tr>\n",
       "      <th>5564</th>\n",
       "      <td>s5564</td>\n",
       "      <td>Movie</td>\n",
       "      <td>Sherlock Holmes</td>\n",
       "      <td>Guy Ritchie</td>\n",
       "      <td>Robert Downey Jr., Jude Law, Rachel McAdams, M...</td>\n",
       "      <td>United States, Germany, United Kingdom, Australia</td>\n",
       "      <td>2021-01-01</td>\n",
       "      <td>PG-13</td>\n",
       "      <td>128 min</td>\n",
       "      <td>Action &amp; Adventure, Comedies</td>\n",
       "      <td>The game is afoot for an eccentric detective w...</td>\n",
       "      <td>2021</td>\n",
       "      <td>Jan</td>\n",
       "      <td>Friday</td>\n",
       "      <td>128</td>\n",
       "      <td>min</td>\n",
       "    </tr>\n",
       "    <tr>\n",
       "      <th>1426</th>\n",
       "      <td>s1427</td>\n",
       "      <td>Movie</td>\n",
       "      <td>Cloudy with a Chance of Meatballs</td>\n",
       "      <td>Phil Lord, Christopher Miller</td>\n",
       "      <td>Bill Hader, Anna Faris, James Caan, Andy Sambe...</td>\n",
       "      <td>United States</td>\n",
       "      <td>2021-01-01</td>\n",
       "      <td>PG</td>\n",
       "      <td>90 min</td>\n",
       "      <td>Children &amp; Family Movies, Comedies, Sci-Fi &amp; F...</td>\n",
       "      <td>When inventor Flint Lockwood makes clouds rain...</td>\n",
       "      <td>2021</td>\n",
       "      <td>Jan</td>\n",
       "      <td>Friday</td>\n",
       "      <td>90</td>\n",
       "      <td>min</td>\n",
       "    </tr>\n",
       "    <tr>\n",
       "      <th>692</th>\n",
       "      <td>s693</td>\n",
       "      <td>Movie</td>\n",
       "      <td>Bad Grandpa .5</td>\n",
       "      <td>Jeff Tremaine</td>\n",
       "      <td>Johnny Knoxville, Jackson Nicoll, Greg Harris,...</td>\n",
       "      <td>United States</td>\n",
       "      <td>2021-01-01</td>\n",
       "      <td>TV-MA</td>\n",
       "      <td>87 min</td>\n",
       "      <td>Comedies</td>\n",
       "      <td>The geriatric antics of Irving Zisman continue...</td>\n",
       "      <td>2021</td>\n",
       "      <td>Jan</td>\n",
       "      <td>Friday</td>\n",
       "      <td>87</td>\n",
       "      <td>min</td>\n",
       "    </tr>\n",
       "    <tr>\n",
       "      <th>5771</th>\n",
       "      <td>s5771</td>\n",
       "      <td>Movie</td>\n",
       "      <td>Spring Breakers</td>\n",
       "      <td>Harmony Korine</td>\n",
       "      <td>James Franco, Vanessa Hudgens, Selena Gomez, A...</td>\n",
       "      <td>United States, France</td>\n",
       "      <td>2021-01-10</td>\n",
       "      <td>R</td>\n",
       "      <td>94 min</td>\n",
       "      <td>Comedies, Cult Movies, Dramas</td>\n",
       "      <td>Four cash-strapped college women run afoul of ...</td>\n",
       "      <td>2021</td>\n",
       "      <td>Jan</td>\n",
       "      <td>Sunday</td>\n",
       "      <td>94</td>\n",
       "      <td>min</td>\n",
       "    </tr>\n",
       "    <tr>\n",
       "      <th>6479</th>\n",
       "      <td>s6478</td>\n",
       "      <td>TV Show</td>\n",
       "      <td>The Idhun Chronicles</td>\n",
       "      <td>Maite Ruiz De Austri</td>\n",
       "      <td>Michelle Jenner, Itzan Escamilla, Sergio Mur, ...</td>\n",
       "      <td>Spain</td>\n",
       "      <td>2021-01-08</td>\n",
       "      <td>TV-14</td>\n",
       "      <td>2 Seasons</td>\n",
       "      <td>Anime Series, International TV Shows, Spanish-...</td>\n",
       "      <td>A boy suddenly orphaned fights his parents' ki...</td>\n",
       "      <td>2021</td>\n",
       "      <td>Jan</td>\n",
       "      <td>Friday</td>\n",
       "      <td>2</td>\n",
       "      <td>Seasons</td>\n",
       "    </tr>\n",
       "    <tr>\n",
       "      <th>...</th>\n",
       "      <td>...</td>\n",
       "      <td>...</td>\n",
       "      <td>...</td>\n",
       "      <td>...</td>\n",
       "      <td>...</td>\n",
       "      <td>...</td>\n",
       "      <td>...</td>\n",
       "      <td>...</td>\n",
       "      <td>...</td>\n",
       "      <td>...</td>\n",
       "      <td>...</td>\n",
       "      <td>...</td>\n",
       "      <td>...</td>\n",
       "      <td>...</td>\n",
       "      <td>...</td>\n",
       "      <td>...</td>\n",
       "    </tr>\n",
       "    <tr>\n",
       "      <th>232</th>\n",
       "      <td>s233</td>\n",
       "      <td>Movie</td>\n",
       "      <td>A Stoning in Fulham County</td>\n",
       "      <td>Larry Elikann</td>\n",
       "      <td>Ken Olin, Jill Eikenberry, Maureen Mueller, Gr...</td>\n",
       "      <td>United States</td>\n",
       "      <td>2011-10-01</td>\n",
       "      <td>TV-14</td>\n",
       "      <td>95 min</td>\n",
       "      <td>Dramas</td>\n",
       "      <td>After reckless teens kill an Amish child, a pr...</td>\n",
       "      <td>2011</td>\n",
       "      <td>Oct</td>\n",
       "      <td>Saturday</td>\n",
       "      <td>95</td>\n",
       "      <td>min</td>\n",
       "    </tr>\n",
       "    <tr>\n",
       "      <th>3840</th>\n",
       "      <td>s3841</td>\n",
       "      <td>Movie</td>\n",
       "      <td>Mad Ron's Prevues from Hell</td>\n",
       "      <td>Jim Monaco</td>\n",
       "      <td>Nick Pawlow, Jordu Schell, Jay Kushwara, Micha...</td>\n",
       "      <td>United States</td>\n",
       "      <td>2010-11-01</td>\n",
       "      <td>NR</td>\n",
       "      <td>84 min</td>\n",
       "      <td>Cult Movies, Horror Movies</td>\n",
       "      <td>This collection cherry-picks trailers, forgott...</td>\n",
       "      <td>2010</td>\n",
       "      <td>Nov</td>\n",
       "      <td>Monday</td>\n",
       "      <td>84</td>\n",
       "      <td>min</td>\n",
       "    </tr>\n",
       "    <tr>\n",
       "      <th>3248</th>\n",
       "      <td>s3249</td>\n",
       "      <td>Movie</td>\n",
       "      <td>Just Another Love Story</td>\n",
       "      <td>Ole Bornedal</td>\n",
       "      <td>Anders W. Berthelsen, Rebecka Hemse, Nikolaj L...</td>\n",
       "      <td>Denmark</td>\n",
       "      <td>2009-05-05</td>\n",
       "      <td>TV-MA</td>\n",
       "      <td>104 min</td>\n",
       "      <td>Dramas, International Movies</td>\n",
       "      <td>When he causes a car accident that leaves a yo...</td>\n",
       "      <td>2009</td>\n",
       "      <td>May</td>\n",
       "      <td>Tuesday</td>\n",
       "      <td>104</td>\n",
       "      <td>min</td>\n",
       "    </tr>\n",
       "    <tr>\n",
       "      <th>5766</th>\n",
       "      <td>s5766</td>\n",
       "      <td>Movie</td>\n",
       "      <td>Splatter</td>\n",
       "      <td>Joe Dante</td>\n",
       "      <td>Corey Feldman, Tony Todd, Tara Leigh, Erin Way...</td>\n",
       "      <td>United States</td>\n",
       "      <td>2009-11-18</td>\n",
       "      <td>TV-MA</td>\n",
       "      <td>29 min</td>\n",
       "      <td>Horror Movies</td>\n",
       "      <td>After committing suicide, a washed-up rocker r...</td>\n",
       "      <td>2009</td>\n",
       "      <td>Nov</td>\n",
       "      <td>Wednesday</td>\n",
       "      <td>29</td>\n",
       "      <td>min</td>\n",
       "    </tr>\n",
       "    <tr>\n",
       "      <th>7115</th>\n",
       "      <td>s7114</td>\n",
       "      <td>Movie</td>\n",
       "      <td>To and From New York</td>\n",
       "      <td>Sorin Dan Mihalcescu</td>\n",
       "      <td>Barbara King, Shaana Diya, John Krisiukenas, Y...</td>\n",
       "      <td>United States</td>\n",
       "      <td>2008-01-01</td>\n",
       "      <td>TV-MA</td>\n",
       "      <td>81 min</td>\n",
       "      <td>Dramas, Independent Movies, Thrillers</td>\n",
       "      <td>While covering a story in New York City, a Sea...</td>\n",
       "      <td>2008</td>\n",
       "      <td>Jan</td>\n",
       "      <td>Tuesday</td>\n",
       "      <td>81</td>\n",
       "      <td>min</td>\n",
       "    </tr>\n",
       "  </tbody>\n",
       "</table>\n",
       "<p>6643 rows × 16 columns</p>\n",
       "</div>"
      ],
      "text/plain": [
       "     Show_Id Category                              Title  \\\n",
       "5564   s5564    Movie                    Sherlock Holmes   \n",
       "1426   s1427    Movie  Cloudy with a Chance of Meatballs   \n",
       "692     s693    Movie                     Bad Grandpa .5   \n",
       "5771   s5771    Movie                    Spring Breakers   \n",
       "6479   s6478  TV Show               The Idhun Chronicles   \n",
       "...      ...      ...                                ...   \n",
       "232     s233    Movie         A Stoning in Fulham County   \n",
       "3840   s3841    Movie        Mad Ron's Prevues from Hell   \n",
       "3248   s3249    Movie            Just Another Love Story   \n",
       "5766   s5766    Movie                           Splatter   \n",
       "7115   s7114    Movie               To and From New York   \n",
       "\n",
       "                           Director  \\\n",
       "5564                    Guy Ritchie   \n",
       "1426  Phil Lord, Christopher Miller   \n",
       "692                   Jeff Tremaine   \n",
       "5771                 Harmony Korine   \n",
       "6479           Maite Ruiz De Austri   \n",
       "...                             ...   \n",
       "232                   Larry Elikann   \n",
       "3840                     Jim Monaco   \n",
       "3248                   Ole Bornedal   \n",
       "5766                      Joe Dante   \n",
       "7115           Sorin Dan Mihalcescu   \n",
       "\n",
       "                                                   Cast  \\\n",
       "5564  Robert Downey Jr., Jude Law, Rachel McAdams, M...   \n",
       "1426  Bill Hader, Anna Faris, James Caan, Andy Sambe...   \n",
       "692   Johnny Knoxville, Jackson Nicoll, Greg Harris,...   \n",
       "5771  James Franco, Vanessa Hudgens, Selena Gomez, A...   \n",
       "6479  Michelle Jenner, Itzan Escamilla, Sergio Mur, ...   \n",
       "...                                                 ...   \n",
       "232   Ken Olin, Jill Eikenberry, Maureen Mueller, Gr...   \n",
       "3840  Nick Pawlow, Jordu Schell, Jay Kushwara, Micha...   \n",
       "3248  Anders W. Berthelsen, Rebecka Hemse, Nikolaj L...   \n",
       "5766  Corey Feldman, Tony Todd, Tara Leigh, Erin Way...   \n",
       "7115  Barbara King, Shaana Diya, John Krisiukenas, Y...   \n",
       "\n",
       "                                                Country Release_Date Rating  \\\n",
       "5564  United States, Germany, United Kingdom, Australia   2021-01-01  PG-13   \n",
       "1426                                      United States   2021-01-01     PG   \n",
       "692                                       United States   2021-01-01  TV-MA   \n",
       "5771                              United States, France   2021-01-10      R   \n",
       "6479                                              Spain   2021-01-08  TV-14   \n",
       "...                                                 ...          ...    ...   \n",
       "232                                       United States   2011-10-01  TV-14   \n",
       "3840                                      United States   2010-11-01     NR   \n",
       "3248                                            Denmark   2009-05-05  TV-MA   \n",
       "5766                                      United States   2009-11-18  TV-MA   \n",
       "7115                                      United States   2008-01-01  TV-MA   \n",
       "\n",
       "       Duration                                               Type  \\\n",
       "5564    128 min                       Action & Adventure, Comedies   \n",
       "1426     90 min  Children & Family Movies, Comedies, Sci-Fi & F...   \n",
       "692      87 min                                           Comedies   \n",
       "5771     94 min                      Comedies, Cult Movies, Dramas   \n",
       "6479  2 Seasons  Anime Series, International TV Shows, Spanish-...   \n",
       "...         ...                                                ...   \n",
       "232      95 min                                             Dramas   \n",
       "3840     84 min                         Cult Movies, Horror Movies   \n",
       "3248    104 min                       Dramas, International Movies   \n",
       "5766     29 min                                      Horror Movies   \n",
       "7115     81 min              Dramas, Independent Movies, Thrillers   \n",
       "\n",
       "                                            Description  Year Month  \\\n",
       "5564  The game is afoot for an eccentric detective w...  2021   Jan   \n",
       "1426  When inventor Flint Lockwood makes clouds rain...  2021   Jan   \n",
       "692   The geriatric antics of Irving Zisman continue...  2021   Jan   \n",
       "5771  Four cash-strapped college women run afoul of ...  2021   Jan   \n",
       "6479  A boy suddenly orphaned fights his parents' ki...  2021   Jan   \n",
       "...                                                 ...   ...   ...   \n",
       "232   After reckless teens kill an Amish child, a pr...  2011   Oct   \n",
       "3840  This collection cherry-picks trailers, forgott...  2010   Nov   \n",
       "3248  When he causes a car accident that leaves a yo...  2009   May   \n",
       "5766  After committing suicide, a washed-up rocker r...  2009   Nov   \n",
       "7115  While covering a story in New York City, a Sea...  2008   Jan   \n",
       "\n",
       "     Day_of_Week Total Mins/Seasons Mins/Seasons  \n",
       "5564      Friday                128          min  \n",
       "1426      Friday                 90          min  \n",
       "692       Friday                 87          min  \n",
       "5771      Sunday                 94          min  \n",
       "6479      Friday                  2      Seasons  \n",
       "...          ...                ...          ...  \n",
       "232     Saturday                 95          min  \n",
       "3840      Monday                 84          min  \n",
       "3248     Tuesday                104          min  \n",
       "5766   Wednesday                 29          min  \n",
       "7115     Tuesday                 81          min  \n",
       "\n",
       "[6643 rows x 16 columns]"
      ]
     },
     "execution_count": 60,
     "metadata": {},
     "output_type": "execute_result"
    }
   ],
   "source": [
    "df.sort_values(by = 'Year', ascending = False)    #second method sorting the dataset by year)"
   ]
  },
  {
   "cell_type": "markdown",
   "id": "08d43a35",
   "metadata": {},
   "source": [
    "# Phase 4: Data Visualisation"
   ]
  },
  {
   "cell_type": "markdown",
   "id": "eaefc0fb",
   "metadata": {},
   "source": [
    "* The purpose of data visualization is to visually represent data in a way that allows people to quickly and easily understand patterns, relationships, and trends in the data. By creating visual representations of data, we can make complex information more accessible and understandable, which can lead to insights and actionable outcomes."
   ]
  },
  {
   "cell_type": "markdown",
   "id": "d1f514be",
   "metadata": {},
   "source": [
    "### Number of movies released/Month"
   ]
  },
  {
   "cell_type": "code",
   "execution_count": 69,
   "id": "698b3dfb",
   "metadata": {},
   "outputs": [
    {
     "data": {
      "image/png": "[encoded data removed]",
      "text/plain": [
       "<Figure size 640x480 with 1 Axes>"
      ]
     },
     "metadata": {},
     "output_type": "display_data"
    }
   ],
   "source": [
    "\n",
    "# create a new variable\n",
    "month_counts = df['Month'].value_counts().sort_values(ascending=False)\n",
    "\n",
    "# create a bar plot\n",
    "plt.bar(month_counts.index, month_counts.values)\n",
    "\n",
    "# set the title and axis labels\n",
    "plt.title('Number of Movies by Month')\n",
    "plt.xlabel('Month')\n",
    "plt.ylabel('Number of Movies')\n",
    "\n",
    "# display the plot\n",
    "plt.show()\n"
   ]
  },
  {
   "cell_type": "markdown",
   "id": "8cf962b1",
   "metadata": {},
   "source": [
    "##### * **key takeaway:**  more series were released in December the least being february"
   ]
  },
  {
   "cell_type": "markdown",
   "id": "9d061757",
   "metadata": {},
   "source": [
    "### Category of movies released distribution"
   ]
  },
  {
   "cell_type": "code",
   "execution_count": 63,
   "id": "95c473c6",
   "metadata": {},
   "outputs": [
    {
     "data": {
      "image/png": "[encoded data removed]",
      "text/plain": [
       "<Figure size 640x480 with 1 Axes>"
      ]
     },
     "metadata": {},
     "output_type": "display_data"
    }
   ],
   "source": [
    "\n",
    "\n",
    "# create a variable for the df[category]\n",
    "category_counts = df['Category'].value_counts()\n",
    "\n",
    "# create a pie chart\n",
    "plt.pie(category_counts.values, labels=category_counts.index, autopct='%1.1f%%')\n",
    "\n",
    "# set the title\n",
    "plt.title('Distribution of Categories')\n",
    "\n",
    "# display the plot\n",
    "plt.show()\n"
   ]
  },
  {
   "cell_type": "markdown",
   "id": "0fa4d3d0",
   "metadata": {},
   "source": [
    "##### * **key takeaway:**  More movies released fall under the Movie dataset "
   ]
  },
  {
   "cell_type": "markdown",
   "id": "18d455d7",
   "metadata": {},
   "source": [
    "### Top 10 directors that released more movies"
   ]
  },
  {
   "cell_type": "code",
   "execution_count": 70,
   "id": "273ec07b",
   "metadata": {},
   "outputs": [
    {
     "data": {
      "image/png": "[encoded data removed]",
      "text/plain": [
       "<Figure size 640x480 with 1 Axes>"
      ]
     },
     "metadata": {},
     "output_type": "display_data"
    }
   ],
   "source": [
    "\n",
    "# creating a new data framce for the df['director']\n",
    "director_counts = df['Director'].value_counts().head(10)\n",
    "\n",
    "# create a horizontal bar chart\n",
    "plt.barh(director_counts.index, director_counts.values)\n",
    "\n",
    "# set the title and axis labels\n",
    "plt.title('Top 10 Directors by Number of Films')\n",
    "plt.xlabel('Number of Films')\n",
    "plt.ylabel('Director')\n",
    "\n",
    "# display the plot\n",
    "plt.show()\n"
   ]
  },
  {
   "cell_type": "markdown",
   "id": "5712ec43",
   "metadata": {},
   "source": [
    "##### * **key takeaway:**  Raul Campos, Jan Suter had more movies released, as robert Rodriques sealed the top 10"
   ]
  },
  {
   "cell_type": "markdown",
   "id": "8c9d343b",
   "metadata": {},
   "source": [
    "### Movie released in top 5 countries"
   ]
  },
  {
   "cell_type": "code",
   "execution_count": 71,
   "id": "deae7b5f",
   "metadata": {},
   "outputs": [
    {
     "data": {
      "image/png": "[encoded data removed]",
      "text/plain": [
       "<Figure size 640x480 with 1 Axes>"
      ]
     },
     "metadata": {},
     "output_type": "display_data"
    }
   ],
   "source": [
    "\n",
    "\n",
    "# assuming df is your pandas DataFrame\n",
    "filt = (df['Category'] == 'TV Show')\n",
    "tv_country_counts = df[filt].Country.value_counts().head(5)\n",
    "\n",
    "# create a pie chart\n",
    "plt.pie(tv_country_counts.values, labels=tv_country_counts.index, autopct='%1.1f%%')\n",
    "\n",
    "# set the title\n",
    "plt.title('Distribution of Top 10 Countries for TV Shows')\n",
    "\n",
    "# display the plot\n",
    "plt.show()\n"
   ]
  },
  {
   "cell_type": "code",
   "execution_count": 61,
   "id": "f8059fb2",
   "metadata": {},
   "outputs": [],
   "source": [
    "#saving the dataset for more vizualisation\n",
    "df.to_csv(r\"C:\\Users\\Tamie\\Downloads\\python data science projects\\datasets\\cleaned netflix\")"
   ]
  },
  {
   "cell_type": "markdown",
   "id": "067dbe4b",
   "metadata": {},
   "source": [
    "#### Further data Visualization was done in powerbi: [Power data Viz link](https://app.powerbi.com/view?r=eyJrIjoiNDI3NmNhYTItNzgzOC00ZTYzLTlmNzUtMDdjMDQ0YzgzNzQ2IiwidCI6IjQ0ZGJiOWQ3LTM3N2QtNDBkZS1hZGI4LTYzNTlkYWQ4MTBiZiJ9)"
   ]
  },
  {
   "cell_type": "markdown",
   "id": "2ff66ab3",
   "metadata": {},
   "source": [
    "## Author: TamiriraIshe Nyevera\n",
    "\n",
    "## Date: 16 January 2023\n",
    "\n",
    "* #### LinkedIn profile Link: [My LinkedIn Profile](https://www.linkedin.com/in/tamiriraishe-nyevera-2b51671b5/)\n",
    "\n",
    "* #### Github link:[Github profile](https://github.com/Tamie-AI-Tech)\n",
    "\n",
    "* #### Kaggle Link: [Kaggle Profile](https://www.kaggle.com/tamiriraishenyevera)\n",
    "\n",
    "* #### PowerBI visualisation imbedded code:[Power data Viz link](https://app.powerbi.com/view?r=eyJrIjoiNDI3NmNhYTItNzgzOC00ZTYzLTlmNzUtMDdjMDQ0YzgzNzQ2IiwidCI6IjQ0ZGJiOWQ3LTM3N2QtNDBkZS1hZGI4LTYzNTlkYWQ4MTBiZiJ9)"
   ]
  },
  {
   "cell_type": "code",
   "execution_count": null,
   "id": "954d3832",
   "metadata": {},
   "outputs": [],
   "source": []
  }
 ],
 "metadata": {
  "kernelspec": {
   "display_name": "Python 3 (ipykernel)",
   "language": "python",
   "name": "python3"
  },
  "language_info": {
   "codemirror_mode": {
    "name": "ipython",
    "version": 3
   },
   "file_extension": ".py",
   "mimetype": "text/x-python",
   "name": "python",
   "nbconvert_exporter": "python",
   "pygments_lexer": "ipython3",
   "version": "3.9.13"
  },
  "toc": {
   "base_numbering": 1,
   "nav_menu": {},
   "number_sections": true,
   "sideBar": true,
   "skip_h1_title": false,
   "title_cell": "Table of Contents",
   "title_sidebar": "Contents",
   "toc_cell": false,
   "toc_position": {},
   "toc_section_display": true,
   "toc_window_display": true
  }
 },
 "nbformat": 4,
 "nbformat_minor": 5
}
