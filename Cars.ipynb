{
 "cells": [
  {
   "cell_type": "markdown",
   "id": "6516f21f",
   "metadata": {},
   "source": [
    "### Title: Cars Data analysis Real world Project with python\n",
    "\n",
    "\n",
    "\n",
    "\n",
    "* #### LinkedIn profile Link: [My LinkedIn Profile](https://www.linkedin.com/in/tamiriraishe-nyevera-2b51671b5/)\n",
    "\n",
    "\n",
    "* #### Github Link:[Github profile](https://github.com/Tamie-AI-Tech)\n",
    "\n",
    "* #### Kaggle Link: [Kaggle Profile](https://www.kaggle.com/tamiriraishenyevera)\n",
    "\n",
    "* #### PowerBI visualisation imbedded code: [Power data Viz link](https://app.powerbi.com/view?r=eyJrIjoiODBlM2NiOGMtNjZjNS00NGYyLTg2YzUtODE2OWJlYWM1ZWVhIiwidCI6IjQ0ZGJiOWQ3LTM3N2QtNDBkZS1hZGI4LTYzNTlkYWQ4MTBiZiJ9)"
   ]
  },
  {
   "cell_type": "markdown",
   "id": "721c765d",
   "metadata": {},
   "source": [
    "#### Introduction\n"
   ]
  },
  {
   "cell_type": "markdown",
   "id": "4236c308",
   "metadata": {},
   "source": [
    "* Different countries manufacture cars of different types and also cars of different engines power and so forth hence in all this it actually helps to determine the prices of the cars given a certain set of variables. This dataset actually contains the information on different cars from different regions as well as their prices, lengths and the different variables that affect the car price.\n",
    "\n",
    "\n",
    "\n",
    "* The data is a csv file and analysis is done using pandas \n",
    "* The data will be saved and exported to power bi for good visualisations\n",
    "* matplotlib will be used for some data visualisations to get the inisghts of the data"
   ]
  },
  {
   "cell_type": "markdown",
   "id": "733e9e2f",
   "metadata": {},
   "source": [
    "### 1.0 Questions to answer "
   ]
  },
  {
   "cell_type": "markdown",
   "id": "2fd47a39",
   "metadata": {},
   "source": [
    "These Questions will be answered under phase3: of the data analysis\n",
    "\n",
    "* How many types of cars are in the dataset\n",
    "* Which origin has produced many cars\n",
    "* which model has engine size greater than 2 and yet coasting more than 33 000\n",
    "* create the columns of normalised Length and Wheelbase\n",
    "* Find the model of the make by Acura\n",
    "* increase the mpg_city by 3\n",
    "* find the relationship between the variables and determines what heavily affect the price\n",
    "* how does drive train affect the prices of data\n",
    "* Determine the type by the number of cylinders\n",
    "* which model cost the most\n",
    "* which type has the greatest horsepower\n",
    "* record where the weight of the car is less than 3300\n",
    "* which type orginates from Asia or Europe\n",
    "* which regions has given out more SUVs models\n",
    "\n",
    "\n",
    "These questions have been developed by the arthor to help analyse the data and tell the story about the data"
   ]
  },
  {
   "cell_type": "markdown",
   "id": "b0b06215",
   "metadata": {},
   "source": [
    "# Phase 1: Data preparation"
   ]
  },
  {
   "cell_type": "markdown",
   "id": "eb571385",
   "metadata": {},
   "source": [
    "This step involves data import,it includes import of libraries that facilitate data import, analysis and visualisation."
   ]
  },
  {
   "cell_type": "code",
   "execution_count": 2,
   "id": "5aacd0d8",
   "metadata": {},
   "outputs": [],
   "source": [
    "import pandas as pd               #for data loading and manipulation\n",
    "\n",
    "import numpy as np                #for stastical analysis\n",
    "\n",
    "import matplotlib.pyplot as plt        #for data visualisation\n",
    "import seaborn as sns\n",
    "\n",
    "import matplotlib\n",
    "%matplotlib inline "
   ]
  },
  {
   "cell_type": "code",
   "execution_count": 3,
   "id": "a83156f4",
   "metadata": {},
   "outputs": [],
   "source": [
    "na_vals = [' ', 'nan', 'Nan', '?', 'missing', 'Missing']      #the list containing all the values that are to be deemed as null values\n",
    "\n",
    "df = pd.read_csv(r\"C:\\Users\\Tamie\\Downloads\\python data science projects\\datasets\\2. Cars Data1.csv\")\n",
    "\n",
    "#take note of the dataset directory, click on the dataset that needs to be imported and copy path or\n",
    "#go to properties >> right click on the dataset >> security >> copy the path that shows beneath\n",
    "#take note, on both cases insert r before the path directory.\n",
    "\n",
    "#on this following method inputting r doesnt matter\n",
    "#import the dataset into the jupyter notebook folder you working on and copy the name of the dataset hence insert it in the parentheses"
   ]
  },
  {
   "cell_type": "code",
   "execution_count": 4,
   "id": "4b3f5438",
   "metadata": {},
   "outputs": [
    {
     "data": {
      "text/html": [
       "<div>\n",
       "<style scoped>\n",
       "    .dataframe tbody tr th:only-of-type {\n",
       "        vertical-align: middle;\n",
       "    }\n",
       "\n",
       "    .dataframe tbody tr th {\n",
       "        vertical-align: top;\n",
       "    }\n",
       "\n",
       "    .dataframe thead th {\n",
       "        text-align: right;\n",
       "    }\n",
       "</style>\n",
       "<table border=\"1\" class=\"dataframe\">\n",
       "  <thead>\n",
       "    <tr style=\"text-align: right;\">\n",
       "      <th></th>\n",
       "      <th>Make</th>\n",
       "      <th>Model</th>\n",
       "      <th>Type</th>\n",
       "      <th>Origin</th>\n",
       "      <th>DriveTrain</th>\n",
       "      <th>MSRP</th>\n",
       "      <th>Invoice</th>\n",
       "      <th>EngineSize</th>\n",
       "      <th>Cylinders</th>\n",
       "      <th>Horsepower</th>\n",
       "      <th>MPG_City</th>\n",
       "      <th>MPG_Highway</th>\n",
       "      <th>Weight</th>\n",
       "      <th>Wheelbase</th>\n",
       "      <th>Length</th>\n",
       "    </tr>\n",
       "  </thead>\n",
       "  <tbody>\n",
       "    <tr>\n",
       "      <th>0</th>\n",
       "      <td>Acura</td>\n",
       "      <td>MDX</td>\n",
       "      <td>SUV</td>\n",
       "      <td>Asia</td>\n",
       "      <td>All</td>\n",
       "      <td>$36,945</td>\n",
       "      <td>$33,337</td>\n",
       "      <td>3.5</td>\n",
       "      <td>6.0</td>\n",
       "      <td>265.0</td>\n",
       "      <td>17.0</td>\n",
       "      <td>23.0</td>\n",
       "      <td>4451.0</td>\n",
       "      <td>106.0</td>\n",
       "      <td>189.0</td>\n",
       "    </tr>\n",
       "    <tr>\n",
       "      <th>1</th>\n",
       "      <td>Acura</td>\n",
       "      <td>RSX Type S 2dr</td>\n",
       "      <td>Sedan</td>\n",
       "      <td>Asia</td>\n",
       "      <td>Front</td>\n",
       "      <td>$23,820</td>\n",
       "      <td>$21,761</td>\n",
       "      <td>2.0</td>\n",
       "      <td>4.0</td>\n",
       "      <td>200.0</td>\n",
       "      <td>24.0</td>\n",
       "      <td>31.0</td>\n",
       "      <td>2778.0</td>\n",
       "      <td>101.0</td>\n",
       "      <td>172.0</td>\n",
       "    </tr>\n",
       "    <tr>\n",
       "      <th>2</th>\n",
       "      <td>Acura</td>\n",
       "      <td>TSX 4dr</td>\n",
       "      <td>Sedan</td>\n",
       "      <td>Asia</td>\n",
       "      <td>Front</td>\n",
       "      <td>$26,990</td>\n",
       "      <td>$24,647</td>\n",
       "      <td>2.4</td>\n",
       "      <td>4.0</td>\n",
       "      <td>200.0</td>\n",
       "      <td>22.0</td>\n",
       "      <td>29.0</td>\n",
       "      <td>3230.0</td>\n",
       "      <td>105.0</td>\n",
       "      <td>183.0</td>\n",
       "    </tr>\n",
       "    <tr>\n",
       "      <th>3</th>\n",
       "      <td>Acura</td>\n",
       "      <td>TL 4dr</td>\n",
       "      <td>Sedan</td>\n",
       "      <td>Asia</td>\n",
       "      <td>Front</td>\n",
       "      <td>$33,195</td>\n",
       "      <td>$30,299</td>\n",
       "      <td>3.2</td>\n",
       "      <td>6.0</td>\n",
       "      <td>270.0</td>\n",
       "      <td>20.0</td>\n",
       "      <td>28.0</td>\n",
       "      <td>3575.0</td>\n",
       "      <td>108.0</td>\n",
       "      <td>186.0</td>\n",
       "    </tr>\n",
       "    <tr>\n",
       "      <th>4</th>\n",
       "      <td>Acura</td>\n",
       "      <td>3.5 RL 4dr</td>\n",
       "      <td>Sedan</td>\n",
       "      <td>Asia</td>\n",
       "      <td>Front</td>\n",
       "      <td>$43,755</td>\n",
       "      <td>$39,014</td>\n",
       "      <td>3.5</td>\n",
       "      <td>6.0</td>\n",
       "      <td>225.0</td>\n",
       "      <td>18.0</td>\n",
       "      <td>24.0</td>\n",
       "      <td>3880.0</td>\n",
       "      <td>115.0</td>\n",
       "      <td>197.0</td>\n",
       "    </tr>\n",
       "  </tbody>\n",
       "</table>\n",
       "</div>"
      ],
      "text/plain": [
       "    Make           Model   Type Origin DriveTrain      MSRP   Invoice  \\\n",
       "0  Acura             MDX    SUV   Asia        All  $36,945   $33,337    \n",
       "1  Acura  RSX Type S 2dr  Sedan   Asia      Front  $23,820   $21,761    \n",
       "2  Acura         TSX 4dr  Sedan   Asia      Front  $26,990   $24,647    \n",
       "3  Acura          TL 4dr  Sedan   Asia      Front  $33,195   $30,299    \n",
       "4  Acura      3.5 RL 4dr  Sedan   Asia      Front  $43,755   $39,014    \n",
       "\n",
       "   EngineSize  Cylinders  Horsepower  MPG_City  MPG_Highway  Weight  \\\n",
       "0         3.5        6.0       265.0      17.0         23.0  4451.0   \n",
       "1         2.0        4.0       200.0      24.0         31.0  2778.0   \n",
       "2         2.4        4.0       200.0      22.0         29.0  3230.0   \n",
       "3         3.2        6.0       270.0      20.0         28.0  3575.0   \n",
       "4         3.5        6.0       225.0      18.0         24.0  3880.0   \n",
       "\n",
       "   Wheelbase  Length  \n",
       "0      106.0   189.0  \n",
       "1      101.0   172.0  \n",
       "2      105.0   183.0  \n",
       "3      108.0   186.0  \n",
       "4      115.0   197.0  "
      ]
     },
     "execution_count": 4,
     "metadata": {},
     "output_type": "execute_result"
    }
   ],
   "source": [
    "# view first 5 rows of the data\n",
    "\n",
    "df.head()"
   ]
  },
  {
   "cell_type": "code",
   "execution_count": 5,
   "id": "debc2bdd",
   "metadata": {},
   "outputs": [
    {
     "data": {
      "text/plain": [
       "array(['Acura', 'Audi', 'BMW', nan, 'Buick', 'Cadillac', 'Chevrolet',\n",
       "       'Chrysler', 'Dodge', 'Ford', 'GMC', 'Honda', 'Hummer', 'Hyundai',\n",
       "       'Infiniti', 'Isuzu', 'Jaguar', 'Jeep', 'Kia', 'Land Rover',\n",
       "       'Lexus', 'Lincoln', 'MINI', 'Mazda', 'Mercedes-Benz', 'Mercury',\n",
       "       'Mitsubishi', 'Nissan', 'Oldsmobile', 'Pontiac', 'Porsche', 'Saab',\n",
       "       'Saturn', 'Scion', 'Subaru', 'Suzuki', 'Toyota', 'Volkswagen',\n",
       "       'Volvo'], dtype=object)"
      ]
     },
     "execution_count": 5,
     "metadata": {},
     "output_type": "execute_result"
    }
   ],
   "source": [
    "df['Make'].unique()"
   ]
  },
  {
   "cell_type": "code",
   "execution_count": 6,
   "id": "d70bf2f7",
   "metadata": {},
   "outputs": [
    {
     "data": {
      "text/plain": [
       "(432, 15)"
      ]
     },
     "execution_count": 6,
     "metadata": {},
     "output_type": "execute_result"
    }
   ],
   "source": [
    "#check the shape of the data\n",
    "\n",
    "df.shape"
   ]
  },
  {
   "cell_type": "markdown",
   "id": "cb3fe7b3",
   "metadata": {},
   "source": [
    "the dataset has 432 rows and 15 columns"
   ]
  },
  {
   "cell_type": "code",
   "execution_count": 7,
   "id": "26c54664",
   "metadata": {},
   "outputs": [
    {
     "data": {
      "text/html": [
       "<div>\n",
       "<style scoped>\n",
       "    .dataframe tbody tr th:only-of-type {\n",
       "        vertical-align: middle;\n",
       "    }\n",
       "\n",
       "    .dataframe tbody tr th {\n",
       "        vertical-align: top;\n",
       "    }\n",
       "\n",
       "    .dataframe thead th {\n",
       "        text-align: right;\n",
       "    }\n",
       "</style>\n",
       "<table border=\"1\" class=\"dataframe\">\n",
       "  <thead>\n",
       "    <tr style=\"text-align: right;\">\n",
       "      <th></th>\n",
       "      <th>0</th>\n",
       "    </tr>\n",
       "  </thead>\n",
       "  <tbody>\n",
       "    <tr>\n",
       "      <th>Make</th>\n",
       "      <td>Make</td>\n",
       "    </tr>\n",
       "    <tr>\n",
       "      <th>Model</th>\n",
       "      <td>Model</td>\n",
       "    </tr>\n",
       "    <tr>\n",
       "      <th>Type</th>\n",
       "      <td>Type</td>\n",
       "    </tr>\n",
       "    <tr>\n",
       "      <th>Origin</th>\n",
       "      <td>Origin</td>\n",
       "    </tr>\n",
       "    <tr>\n",
       "      <th>DriveTrain</th>\n",
       "      <td>DriveTrain</td>\n",
       "    </tr>\n",
       "    <tr>\n",
       "      <th>MSRP</th>\n",
       "      <td>MSRP</td>\n",
       "    </tr>\n",
       "    <tr>\n",
       "      <th>Invoice</th>\n",
       "      <td>Invoice</td>\n",
       "    </tr>\n",
       "    <tr>\n",
       "      <th>EngineSize</th>\n",
       "      <td>EngineSize</td>\n",
       "    </tr>\n",
       "    <tr>\n",
       "      <th>Cylinders</th>\n",
       "      <td>Cylinders</td>\n",
       "    </tr>\n",
       "    <tr>\n",
       "      <th>Horsepower</th>\n",
       "      <td>Horsepower</td>\n",
       "    </tr>\n",
       "    <tr>\n",
       "      <th>MPG_City</th>\n",
       "      <td>MPG_City</td>\n",
       "    </tr>\n",
       "    <tr>\n",
       "      <th>MPG_Highway</th>\n",
       "      <td>MPG_Highway</td>\n",
       "    </tr>\n",
       "    <tr>\n",
       "      <th>Weight</th>\n",
       "      <td>Weight</td>\n",
       "    </tr>\n",
       "    <tr>\n",
       "      <th>Wheelbase</th>\n",
       "      <td>Wheelbase</td>\n",
       "    </tr>\n",
       "    <tr>\n",
       "      <th>Length</th>\n",
       "      <td>Length</td>\n",
       "    </tr>\n",
       "  </tbody>\n",
       "</table>\n",
       "</div>"
      ],
      "text/plain": [
       "                       0\n",
       "Make                Make\n",
       "Model              Model\n",
       "Type                Type\n",
       "Origin            Origin\n",
       "DriveTrain    DriveTrain\n",
       "MSRP                MSRP\n",
       "Invoice          Invoice\n",
       "EngineSize    EngineSize\n",
       "Cylinders      Cylinders\n",
       "Horsepower    Horsepower\n",
       "MPG_City        MPG_City\n",
       "MPG_Highway  MPG_Highway\n",
       "Weight            Weight\n",
       "Wheelbase      Wheelbase\n",
       "Length            Length"
      ]
     },
     "execution_count": 7,
     "metadata": {},
     "output_type": "execute_result"
    }
   ],
   "source": [
    "#check all the columns of the dataset\n",
    "df.columns.to_frame()"
   ]
  },
  {
   "cell_type": "code",
   "execution_count": 8,
   "id": "06d88d2a",
   "metadata": {},
   "outputs": [
    {
     "data": {
      "text/plain": [
       "Make           428\n",
       "Model          428\n",
       "Type           428\n",
       "Origin         428\n",
       "DriveTrain     428\n",
       "MSRP           428\n",
       "Invoice        428\n",
       "EngineSize     428\n",
       "Cylinders      426\n",
       "Horsepower     428\n",
       "MPG_City       428\n",
       "MPG_Highway    428\n",
       "Weight         428\n",
       "Wheelbase      428\n",
       "Length         428\n",
       "dtype: int64"
      ]
     },
     "execution_count": 8,
     "metadata": {},
     "output_type": "execute_result"
    }
   ],
   "source": [
    "#check the total non null values in the dataset\n",
    "df.count()"
   ]
  },
  {
   "cell_type": "markdown",
   "id": "ee8ec3fd",
   "metadata": {},
   "source": [
    "This shows that there are some null values since the previous shape had 432, now 428 this shows that the number of rows have been reduced"
   ]
  },
  {
   "cell_type": "markdown",
   "id": "5478c0eb",
   "metadata": {},
   "source": [
    "# Phase 2: Data Processing"
   ]
  },
  {
   "cell_type": "markdown",
   "id": "c631fb6d",
   "metadata": {},
   "source": [
    "This phase includes all the cleaning, transforming and processing of data"
   ]
  },
  {
   "cell_type": "markdown",
   "id": "df7fcd6f",
   "metadata": {},
   "source": [
    "### Step 1: Check for all the the missing or na values in the dataset"
   ]
  },
  {
   "cell_type": "code",
   "execution_count": 9,
   "id": "0bd8d42d",
   "metadata": {},
   "outputs": [
    {
     "data": {
      "text/plain": [
       "Make           4\n",
       "Model          4\n",
       "Type           4\n",
       "Origin         4\n",
       "DriveTrain     4\n",
       "MSRP           4\n",
       "Invoice        4\n",
       "EngineSize     4\n",
       "Cylinders      6\n",
       "Horsepower     4\n",
       "MPG_City       4\n",
       "MPG_Highway    4\n",
       "Weight         4\n",
       "Wheelbase      4\n",
       "Length         4\n",
       "dtype: int64"
      ]
     },
     "execution_count": 9,
     "metadata": {},
     "output_type": "execute_result"
    }
   ],
   "source": [
    "df.isnull().sum()"
   ]
  },
  {
   "cell_type": "markdown",
   "id": "2a968530",
   "metadata": {},
   "source": [
    "There are 4 null values"
   ]
  },
  {
   "cell_type": "markdown",
   "id": "a969eb52",
   "metadata": {},
   "source": [
    "check for the na values chances are that they are in the same rows"
   ]
  },
  {
   "cell_type": "code",
   "execution_count": 10,
   "id": "392f7376",
   "metadata": {},
   "outputs": [
    {
     "data": {
      "text/html": [
       "<div>\n",
       "<style scoped>\n",
       "    .dataframe tbody tr th:only-of-type {\n",
       "        vertical-align: middle;\n",
       "    }\n",
       "\n",
       "    .dataframe tbody tr th {\n",
       "        vertical-align: top;\n",
       "    }\n",
       "\n",
       "    .dataframe thead th {\n",
       "        text-align: right;\n",
       "    }\n",
       "</style>\n",
       "<table border=\"1\" class=\"dataframe\">\n",
       "  <thead>\n",
       "    <tr style=\"text-align: right;\">\n",
       "      <th></th>\n",
       "      <th>Make</th>\n",
       "      <th>Model</th>\n",
       "      <th>Type</th>\n",
       "      <th>Origin</th>\n",
       "      <th>DriveTrain</th>\n",
       "      <th>MSRP</th>\n",
       "      <th>Invoice</th>\n",
       "      <th>EngineSize</th>\n",
       "      <th>Cylinders</th>\n",
       "      <th>Horsepower</th>\n",
       "      <th>MPG_City</th>\n",
       "      <th>MPG_Highway</th>\n",
       "      <th>Weight</th>\n",
       "      <th>Wheelbase</th>\n",
       "      <th>Length</th>\n",
       "    </tr>\n",
       "  </thead>\n",
       "  <tbody>\n",
       "    <tr>\n",
       "      <th>30</th>\n",
       "      <td>na_va</td>\n",
       "      <td>na_va</td>\n",
       "      <td>na_va</td>\n",
       "      <td>na_va</td>\n",
       "      <td>na_va</td>\n",
       "      <td>na_va</td>\n",
       "      <td>na_va</td>\n",
       "      <td>na_va</td>\n",
       "      <td>na_va</td>\n",
       "      <td>na_va</td>\n",
       "      <td>na_va</td>\n",
       "      <td>na_va</td>\n",
       "      <td>na_va</td>\n",
       "      <td>na_va</td>\n",
       "      <td>na_va</td>\n",
       "    </tr>\n",
       "    <tr>\n",
       "      <th>39</th>\n",
       "      <td>na_va</td>\n",
       "      <td>na_va</td>\n",
       "      <td>na_va</td>\n",
       "      <td>na_va</td>\n",
       "      <td>na_va</td>\n",
       "      <td>na_va</td>\n",
       "      <td>na_va</td>\n",
       "      <td>na_va</td>\n",
       "      <td>na_va</td>\n",
       "      <td>na_va</td>\n",
       "      <td>na_va</td>\n",
       "      <td>na_va</td>\n",
       "      <td>na_va</td>\n",
       "      <td>na_va</td>\n",
       "      <td>na_va</td>\n",
       "    </tr>\n",
       "    <tr>\n",
       "      <th>161</th>\n",
       "      <td>na_va</td>\n",
       "      <td>na_va</td>\n",
       "      <td>na_va</td>\n",
       "      <td>na_va</td>\n",
       "      <td>na_va</td>\n",
       "      <td>na_va</td>\n",
       "      <td>na_va</td>\n",
       "      <td>na_va</td>\n",
       "      <td>na_va</td>\n",
       "      <td>na_va</td>\n",
       "      <td>na_va</td>\n",
       "      <td>na_va</td>\n",
       "      <td>na_va</td>\n",
       "      <td>na_va</td>\n",
       "      <td>na_va</td>\n",
       "    </tr>\n",
       "    <tr>\n",
       "      <th>173</th>\n",
       "      <td>na_va</td>\n",
       "      <td>na_va</td>\n",
       "      <td>na_va</td>\n",
       "      <td>na_va</td>\n",
       "      <td>na_va</td>\n",
       "      <td>na_va</td>\n",
       "      <td>na_va</td>\n",
       "      <td>na_va</td>\n",
       "      <td>na_va</td>\n",
       "      <td>na_va</td>\n",
       "      <td>na_va</td>\n",
       "      <td>na_va</td>\n",
       "      <td>na_va</td>\n",
       "      <td>na_va</td>\n",
       "      <td>na_va</td>\n",
       "    </tr>\n",
       "  </tbody>\n",
       "</table>\n",
       "</div>"
      ],
      "text/plain": [
       "      Make  Model   Type Origin DriveTrain   MSRP Invoice EngineSize  \\\n",
       "30   na_va  na_va  na_va  na_va      na_va  na_va   na_va      na_va   \n",
       "39   na_va  na_va  na_va  na_va      na_va  na_va   na_va      na_va   \n",
       "161  na_va  na_va  na_va  na_va      na_va  na_va   na_va      na_va   \n",
       "173  na_va  na_va  na_va  na_va      na_va  na_va   na_va      na_va   \n",
       "\n",
       "    Cylinders Horsepower MPG_City MPG_Highway Weight Wheelbase Length  \n",
       "30      na_va      na_va    na_va       na_va  na_va     na_va  na_va  \n",
       "39      na_va      na_va    na_va       na_va  na_va     na_va  na_va  \n",
       "161     na_va      na_va    na_va       na_va  na_va     na_va  na_va  \n",
       "173     na_va      na_va    na_va       na_va  na_va     na_va  na_va  "
      ]
     },
     "execution_count": 10,
     "metadata": {},
     "output_type": "execute_result"
    }
   ],
   "source": [
    "# before dropping check the rows having the null_values chances are that they are in the same row\n",
    "\n",
    "df.replace({np.nan: 'na_va'}, inplace = True)      # replaces all the np.nan values with 'na_va', inplace = True shows that changes done will affect the whole dataset\n",
    "\n",
    "filt = (df['Weight'] == 'na_va')                    # filters the rows having the values with 'na_va', that has replaced the np.nan\n",
    "df[filt]"
   ]
  },
  {
   "cell_type": "markdown",
   "id": "eb6ffade",
   "metadata": {},
   "source": [
    "as predicted its only on row having all the missing information, this makes it easy to drop"
   ]
  },
  {
   "cell_type": "code",
   "execution_count": 11,
   "id": "d5e56ef4",
   "metadata": {},
   "outputs": [],
   "source": [
    "#drop all the null values\n",
    "df.replace({'na_va': np.nan}, inplace = True)     #reverse the process done above of replacing the np.nan values with na_va\n",
    "df.dropna(inplace = True)"
   ]
  },
  {
   "cell_type": "code",
   "execution_count": 12,
   "id": "85249d42",
   "metadata": {},
   "outputs": [
    {
     "data": {
      "text/plain": [
       "Make           0\n",
       "Model          0\n",
       "Type           0\n",
       "Origin         0\n",
       "DriveTrain     0\n",
       "MSRP           0\n",
       "Invoice        0\n",
       "EngineSize     0\n",
       "Cylinders      0\n",
       "Horsepower     0\n",
       "MPG_City       0\n",
       "MPG_Highway    0\n",
       "Weight         0\n",
       "Wheelbase      0\n",
       "Length         0\n",
       "dtype: int64"
      ]
     },
     "execution_count": 12,
     "metadata": {},
     "output_type": "execute_result"
    }
   ],
   "source": [
    "#check again for the missing values\n",
    "df.isnull().sum()"
   ]
  },
  {
   "cell_type": "markdown",
   "id": "b7d4dd73",
   "metadata": {},
   "source": [
    "The data has been cleared of the null and missing values"
   ]
  },
  {
   "cell_type": "markdown",
   "id": "27c43424",
   "metadata": {},
   "source": [
    "### Step 2: Check for all the data duplicates and remove them\n"
   ]
  },
  {
   "cell_type": "code",
   "execution_count": 13,
   "id": "797bc051",
   "metadata": {},
   "outputs": [
    {
     "data": {
      "text/plain": [
       "0"
      ]
     },
     "execution_count": 13,
     "metadata": {},
     "output_type": "execute_result"
    }
   ],
   "source": [
    "df.duplicated().sum()"
   ]
  },
  {
   "cell_type": "markdown",
   "id": "f4353436",
   "metadata": {},
   "source": [
    "There is no duplication of data"
   ]
  },
  {
   "cell_type": "markdown",
   "id": "f3b7f237",
   "metadata": {},
   "source": [
    "\n",
    "\n",
    "\n",
    "### Step 3: Check for the datatypes in the dataset to see if there is need to change the datatypes of some columns"
   ]
  },
  {
   "cell_type": "code",
   "execution_count": 14,
   "id": "7a8d3280",
   "metadata": {},
   "outputs": [
    {
     "data": {
      "text/plain": [
       "Make            object\n",
       "Model           object\n",
       "Type            object\n",
       "Origin          object\n",
       "DriveTrain      object\n",
       "MSRP            object\n",
       "Invoice         object\n",
       "EngineSize     float64\n",
       "Cylinders      float64\n",
       "Horsepower     float64\n",
       "MPG_City       float64\n",
       "MPG_Highway    float64\n",
       "Weight         float64\n",
       "Wheelbase      float64\n",
       "Length         float64\n",
       "dtype: object"
      ]
     },
     "execution_count": 14,
     "metadata": {},
     "output_type": "execute_result"
    }
   ],
   "source": [
    "df.dtypes"
   ]
  },
  {
   "cell_type": "markdown",
   "id": "bea83a0d",
   "metadata": {},
   "source": [
    "\n",
    "\n",
    "### Step 4: Change the Invoice column data type from string to float"
   ]
  },
  {
   "cell_type": "code",
   "execution_count": 15,
   "id": "06703ea2",
   "metadata": {},
   "outputs": [
    {
     "name": "stderr",
     "output_type": "stream",
     "text": [
      "C:\\Users\\Tamie\\AppData\\Local\\Temp\\ipykernel_15664\\2701088846.py:1: FutureWarning: The default value of regex will change from True to False in a future version. In addition, single character regular expressions will *not* be treated as literal strings when regex=True.\n",
      "  df['Invoice'] = df['Invoice'].str.replace(',', '').str.replace('$', '').astype(float)\n"
     ]
    }
   ],
   "source": [
    "df['Invoice'] = df['Invoice'].str.replace(',', '').str.replace('$', '').astype(float)\n"
   ]
  },
  {
   "cell_type": "code",
   "execution_count": 16,
   "id": "8cfc1cfd",
   "metadata": {},
   "outputs": [
    {
     "data": {
      "text/html": [
       "<div>\n",
       "<style scoped>\n",
       "    .dataframe tbody tr th:only-of-type {\n",
       "        vertical-align: middle;\n",
       "    }\n",
       "\n",
       "    .dataframe tbody tr th {\n",
       "        vertical-align: top;\n",
       "    }\n",
       "\n",
       "    .dataframe thead th {\n",
       "        text-align: right;\n",
       "    }\n",
       "</style>\n",
       "<table border=\"1\" class=\"dataframe\">\n",
       "  <thead>\n",
       "    <tr style=\"text-align: right;\">\n",
       "      <th></th>\n",
       "      <th>Make</th>\n",
       "      <th>Model</th>\n",
       "      <th>Type</th>\n",
       "      <th>Origin</th>\n",
       "      <th>DriveTrain</th>\n",
       "      <th>MSRP</th>\n",
       "      <th>Invoice</th>\n",
       "      <th>EngineSize</th>\n",
       "      <th>Cylinders</th>\n",
       "      <th>Horsepower</th>\n",
       "      <th>MPG_City</th>\n",
       "      <th>MPG_Highway</th>\n",
       "      <th>Weight</th>\n",
       "      <th>Wheelbase</th>\n",
       "      <th>Length</th>\n",
       "    </tr>\n",
       "  </thead>\n",
       "  <tbody>\n",
       "    <tr>\n",
       "      <th>0</th>\n",
       "      <td>Acura</td>\n",
       "      <td>MDX</td>\n",
       "      <td>SUV</td>\n",
       "      <td>Asia</td>\n",
       "      <td>All</td>\n",
       "      <td>$36,945</td>\n",
       "      <td>33337.0</td>\n",
       "      <td>3.5</td>\n",
       "      <td>6.0</td>\n",
       "      <td>265.0</td>\n",
       "      <td>17.0</td>\n",
       "      <td>23.0</td>\n",
       "      <td>4451.0</td>\n",
       "      <td>106.0</td>\n",
       "      <td>189.0</td>\n",
       "    </tr>\n",
       "  </tbody>\n",
       "</table>\n",
       "</div>"
      ],
      "text/plain": [
       "    Make Model Type Origin DriveTrain      MSRP  Invoice  EngineSize  \\\n",
       "0  Acura   MDX  SUV   Asia        All  $36,945   33337.0         3.5   \n",
       "\n",
       "   Cylinders  Horsepower  MPG_City  MPG_Highway  Weight  Wheelbase  Length  \n",
       "0        6.0       265.0      17.0         23.0  4451.0      106.0   189.0  "
      ]
     },
     "execution_count": 16,
     "metadata": {},
     "output_type": "execute_result"
    }
   ],
   "source": [
    "df.head(1)"
   ]
  },
  {
   "cell_type": "code",
   "execution_count": 17,
   "id": "31d899a1",
   "metadata": {},
   "outputs": [
    {
     "data": {
      "text/plain": [
       "dtype('float64')"
      ]
     },
     "execution_count": 17,
     "metadata": {},
     "output_type": "execute_result"
    }
   ],
   "source": [
    "#check the datatype again\n",
    "df['Invoice'].dtypes"
   ]
  },
  {
   "cell_type": "markdown",
   "id": "7e1c355e",
   "metadata": {},
   "source": [
    "it has been changed"
   ]
  },
  {
   "cell_type": "markdown",
   "id": "c6f5215d",
   "metadata": {},
   "source": [
    "# Phase 3: Data Analysis"
   ]
  },
  {
   "cell_type": "markdown",
   "id": "24498240",
   "metadata": {},
   "source": [
    "* EDA is an approach to anaylse data inorder to summarize main characteristics of the data\n",
    "* It also helps to gain better understanding of the dataset\n",
    "* helps uncover relationships between different variables \n",
    "* extract the important variables for the problem being solved"
   ]
  },
  {
   "cell_type": "code",
   "execution_count": 18,
   "id": "eb16302b",
   "metadata": {},
   "outputs": [
    {
     "data": {
      "text/html": [
       "<div>\n",
       "<style scoped>\n",
       "    .dataframe tbody tr th:only-of-type {\n",
       "        vertical-align: middle;\n",
       "    }\n",
       "\n",
       "    .dataframe tbody tr th {\n",
       "        vertical-align: top;\n",
       "    }\n",
       "\n",
       "    .dataframe thead th {\n",
       "        text-align: right;\n",
       "    }\n",
       "</style>\n",
       "<table border=\"1\" class=\"dataframe\">\n",
       "  <thead>\n",
       "    <tr style=\"text-align: right;\">\n",
       "      <th></th>\n",
       "      <th>Make</th>\n",
       "      <th>Model</th>\n",
       "      <th>Type</th>\n",
       "      <th>Origin</th>\n",
       "      <th>DriveTrain</th>\n",
       "      <th>MSRP</th>\n",
       "      <th>Invoice</th>\n",
       "      <th>EngineSize</th>\n",
       "      <th>Cylinders</th>\n",
       "      <th>Horsepower</th>\n",
       "      <th>MPG_City</th>\n",
       "      <th>MPG_Highway</th>\n",
       "      <th>Weight</th>\n",
       "      <th>Wheelbase</th>\n",
       "      <th>Length</th>\n",
       "    </tr>\n",
       "  </thead>\n",
       "  <tbody>\n",
       "    <tr>\n",
       "      <th>0</th>\n",
       "      <td>Acura</td>\n",
       "      <td>MDX</td>\n",
       "      <td>SUV</td>\n",
       "      <td>Asia</td>\n",
       "      <td>All</td>\n",
       "      <td>$36,945</td>\n",
       "      <td>33337.0</td>\n",
       "      <td>3.5</td>\n",
       "      <td>6.0</td>\n",
       "      <td>265.0</td>\n",
       "      <td>17.0</td>\n",
       "      <td>23.0</td>\n",
       "      <td>4451.0</td>\n",
       "      <td>106.0</td>\n",
       "      <td>189.0</td>\n",
       "    </tr>\n",
       "  </tbody>\n",
       "</table>\n",
       "</div>"
      ],
      "text/plain": [
       "    Make Model Type Origin DriveTrain      MSRP  Invoice  EngineSize  \\\n",
       "0  Acura   MDX  SUV   Asia        All  $36,945   33337.0         3.5   \n",
       "\n",
       "   Cylinders  Horsepower  MPG_City  MPG_Highway  Weight  Wheelbase  Length  \n",
       "0        6.0       265.0      17.0         23.0  4451.0      106.0   189.0  "
      ]
     },
     "execution_count": 18,
     "metadata": {},
     "output_type": "execute_result"
    }
   ],
   "source": [
    "df.head(1)   #gets the tow of the dataset"
   ]
  },
  {
   "cell_type": "code",
   "execution_count": 19,
   "id": "9d931be9",
   "metadata": {},
   "outputs": [
    {
     "data": {
      "text/plain": [
       "Front    226\n",
       "Rear     108\n",
       "All       92\n",
       "Name: DriveTrain, dtype: int64"
      ]
     },
     "execution_count": 19,
     "metadata": {},
     "output_type": "execute_result"
    }
   ],
   "source": [
    "df['DriveTrain'].value_counts() #gets the counts of unique values of te drive train column"
   ]
  },
  {
   "cell_type": "markdown",
   "id": "50fb38d3",
   "metadata": {},
   "source": [
    "#### Q1: How many types of cars are in the dataset"
   ]
  },
  {
   "cell_type": "code",
   "execution_count": 75,
   "id": "780eb29c",
   "metadata": {},
   "outputs": [
    {
     "data": {
      "text/plain": [
       "Make           426\n",
       "Model          426\n",
       "Type           426\n",
       "Origin         426\n",
       "DriveTrain     426\n",
       "MSRP           426\n",
       "Invoice        426\n",
       "EngineSize     426\n",
       "Cylinders      426\n",
       "Horsepower     426\n",
       "MPG_City       426\n",
       "MPG_Highway    426\n",
       "Weight         426\n",
       "Wheelbase      426\n",
       "Length         426\n",
       "dtype: int64"
      ]
     },
     "execution_count": 75,
     "metadata": {},
     "output_type": "execute_result"
    }
   ],
   "source": [
    "df.count()       #counts the number of rows of the dataset"
   ]
  },
  {
   "cell_type": "markdown",
   "id": "378cb601",
   "metadata": {},
   "source": [
    "There are 426 cars in the dataset"
   ]
  },
  {
   "cell_type": "markdown",
   "id": "9431a8be",
   "metadata": {},
   "source": [
    "#### Q2: Which origin has produced many cars"
   ]
  },
  {
   "cell_type": "code",
   "execution_count": 76,
   "id": "dab3756e",
   "metadata": {},
   "outputs": [
    {
     "data": {
      "text/plain": [
       "Asia      156\n",
       "USA       147\n",
       "Europe    123\n",
       "Name: Origin, dtype: int64"
      ]
     },
     "execution_count": 76,
     "metadata": {},
     "output_type": "execute_result"
    }
   ],
   "source": [
    "df['Origin'].value_counts()    #gets the counts of unique values of te drive train column"
   ]
  },
  {
   "cell_type": "markdown",
   "id": "013d3a15",
   "metadata": {},
   "source": [
    "Asia has more cars manufactured the last being Europe"
   ]
  },
  {
   "cell_type": "markdown",
   "id": "234a8545",
   "metadata": {},
   "source": [
    "#### Q3: which model has engine size greater than 2 and yet costing more than 33 000"
   ]
  },
  {
   "cell_type": "code",
   "execution_count": 77,
   "id": "81eccdd1",
   "metadata": {},
   "outputs": [
    {
     "data": {
      "text/html": [
       "<div>\n",
       "<style scoped>\n",
       "    .dataframe tbody tr th:only-of-type {\n",
       "        vertical-align: middle;\n",
       "    }\n",
       "\n",
       "    .dataframe tbody tr th {\n",
       "        vertical-align: top;\n",
       "    }\n",
       "\n",
       "    .dataframe thead th {\n",
       "        text-align: right;\n",
       "    }\n",
       "</style>\n",
       "<table border=\"1\" class=\"dataframe\">\n",
       "  <thead>\n",
       "    <tr style=\"text-align: right;\">\n",
       "      <th></th>\n",
       "      <th>Make</th>\n",
       "      <th>Model</th>\n",
       "      <th>Type</th>\n",
       "      <th>Origin</th>\n",
       "      <th>DriveTrain</th>\n",
       "      <th>MSRP</th>\n",
       "      <th>Invoice</th>\n",
       "      <th>EngineSize</th>\n",
       "      <th>Cylinders</th>\n",
       "      <th>Horsepower</th>\n",
       "      <th>MPG_City</th>\n",
       "      <th>MPG_Highway</th>\n",
       "      <th>Weight</th>\n",
       "      <th>Wheelbase</th>\n",
       "      <th>Length</th>\n",
       "    </tr>\n",
       "  </thead>\n",
       "  <tbody>\n",
       "    <tr>\n",
       "      <th>0</th>\n",
       "      <td>Acura</td>\n",
       "      <td>MDX</td>\n",
       "      <td>SUV</td>\n",
       "      <td>Asia</td>\n",
       "      <td>All</td>\n",
       "      <td>$36,945</td>\n",
       "      <td>33337.0</td>\n",
       "      <td>3.5</td>\n",
       "      <td>6.0</td>\n",
       "      <td>265.0</td>\n",
       "      <td>17.0</td>\n",
       "      <td>23.0</td>\n",
       "      <td>4451.0</td>\n",
       "      <td>106.0</td>\n",
       "      <td>189.0</td>\n",
       "    </tr>\n",
       "    <tr>\n",
       "      <th>1</th>\n",
       "      <td>Acura</td>\n",
       "      <td>RSX Type S 2dr</td>\n",
       "      <td>Sedan</td>\n",
       "      <td>Asia</td>\n",
       "      <td>Front</td>\n",
       "      <td>$23,820</td>\n",
       "      <td>21761.0</td>\n",
       "      <td>2.0</td>\n",
       "      <td>4.0</td>\n",
       "      <td>200.0</td>\n",
       "      <td>24.0</td>\n",
       "      <td>31.0</td>\n",
       "      <td>2778.0</td>\n",
       "      <td>101.0</td>\n",
       "      <td>172.0</td>\n",
       "    </tr>\n",
       "  </tbody>\n",
       "</table>\n",
       "</div>"
      ],
      "text/plain": [
       "    Make           Model   Type Origin DriveTrain      MSRP  Invoice  \\\n",
       "0  Acura             MDX    SUV   Asia        All  $36,945   33337.0   \n",
       "1  Acura  RSX Type S 2dr  Sedan   Asia      Front  $23,820   21761.0   \n",
       "\n",
       "   EngineSize  Cylinders  Horsepower  MPG_City  MPG_Highway  Weight  \\\n",
       "0         3.5        6.0       265.0      17.0         23.0  4451.0   \n",
       "1         2.0        4.0       200.0      24.0         31.0  2778.0   \n",
       "\n",
       "   Wheelbase  Length  \n",
       "0      106.0   189.0  \n",
       "1      101.0   172.0  "
      ]
     },
     "execution_count": 77,
     "metadata": {},
     "output_type": "execute_result"
    }
   ],
   "source": [
    "#view the dataset\n",
    "df.head(2)"
   ]
  },
  {
   "cell_type": "code",
   "execution_count": 79,
   "id": "21c9efeb",
   "metadata": {},
   "outputs": [
    {
     "data": {
      "text/plain": [
       "0                          MDX\n",
       "4                   3.5 RL 4dr\n",
       "5      3.5 RL w/Navigation 4dr\n",
       "6       NSX coupe 2dr manual S\n",
       "12                  A6 3.0 4dr\n",
       "                ...           \n",
       "426               S80 2.5T 4dr\n",
       "427    C70 LPT convertible 2dr\n",
       "428    C70 HPT convertible 2dr\n",
       "429                 S80 T6 4dr\n",
       "431                       XC70\n",
       "Name: Model, Length: 125, dtype: object"
      ]
     },
     "execution_count": 79,
     "metadata": {},
     "output_type": "execute_result"
    }
   ],
   "source": [
    "filt = (df['EngineSize'] > 2) & (df['Invoice'] > 33000)    # setting up the filters from the dataset\n",
    "\n",
    "df.loc[filt, 'Model']"
   ]
  },
  {
   "cell_type": "markdown",
   "id": "5cd5e15f",
   "metadata": {},
   "source": [
    "125 models have the cars with the above specified dimensions"
   ]
  },
  {
   "cell_type": "markdown",
   "id": "db85801d",
   "metadata": {},
   "source": [
    "#### Q4: create the columns of normalised Length and Wheelbase"
   ]
  },
  {
   "cell_type": "code",
   "execution_count": 80,
   "id": "d10d75c2",
   "metadata": {},
   "outputs": [
    {
     "data": {
      "text/html": [
       "<div>\n",
       "<style scoped>\n",
       "    .dataframe tbody tr th:only-of-type {\n",
       "        vertical-align: middle;\n",
       "    }\n",
       "\n",
       "    .dataframe tbody tr th {\n",
       "        vertical-align: top;\n",
       "    }\n",
       "\n",
       "    .dataframe thead th {\n",
       "        text-align: right;\n",
       "    }\n",
       "</style>\n",
       "<table border=\"1\" class=\"dataframe\">\n",
       "  <thead>\n",
       "    <tr style=\"text-align: right;\">\n",
       "      <th></th>\n",
       "      <th>Make</th>\n",
       "      <th>Model</th>\n",
       "      <th>Type</th>\n",
       "      <th>Origin</th>\n",
       "      <th>DriveTrain</th>\n",
       "      <th>MSRP</th>\n",
       "      <th>Invoice</th>\n",
       "      <th>EngineSize</th>\n",
       "      <th>Cylinders</th>\n",
       "      <th>Horsepower</th>\n",
       "      <th>MPG_City</th>\n",
       "      <th>MPG_Highway</th>\n",
       "      <th>Weight</th>\n",
       "      <th>Wheelbase</th>\n",
       "      <th>Length</th>\n",
       "    </tr>\n",
       "  </thead>\n",
       "  <tbody>\n",
       "    <tr>\n",
       "      <th>0</th>\n",
       "      <td>Acura</td>\n",
       "      <td>MDX</td>\n",
       "      <td>SUV</td>\n",
       "      <td>Asia</td>\n",
       "      <td>All</td>\n",
       "      <td>$36,945</td>\n",
       "      <td>33337.0</td>\n",
       "      <td>3.5</td>\n",
       "      <td>6.0</td>\n",
       "      <td>265.0</td>\n",
       "      <td>17.0</td>\n",
       "      <td>23.0</td>\n",
       "      <td>4451.0</td>\n",
       "      <td>106.0</td>\n",
       "      <td>189.0</td>\n",
       "    </tr>\n",
       "  </tbody>\n",
       "</table>\n",
       "</div>"
      ],
      "text/plain": [
       "    Make Model Type Origin DriveTrain      MSRP  Invoice  EngineSize  \\\n",
       "0  Acura   MDX  SUV   Asia        All  $36,945   33337.0         3.5   \n",
       "\n",
       "   Cylinders  Horsepower  MPG_City  MPG_Highway  Weight  Wheelbase  Length  \n",
       "0        6.0       265.0      17.0         23.0  4451.0      106.0   189.0  "
      ]
     },
     "execution_count": 80,
     "metadata": {},
     "output_type": "execute_result"
    }
   ],
   "source": [
    "df.head(1)  #view the dataset"
   ]
  },
  {
   "cell_type": "code",
   "execution_count": 81,
   "id": "81a67912",
   "metadata": {},
   "outputs": [
    {
     "data": {
      "text/plain": [
       "dtype('float64')"
      ]
     },
     "execution_count": 81,
     "metadata": {},
     "output_type": "execute_result"
    }
   ],
   "source": [
    "df['Wheelbase'].dtypes    #gets the wheelbase column datatype"
   ]
  },
  {
   "cell_type": "code",
   "execution_count": 82,
   "id": "abaef76a",
   "metadata": {},
   "outputs": [],
   "source": [
    "#creating the column length and converting it into dataype interger then divide it by max of the length column\n",
    "df['Length'] = df['Length'].astype(int)/df['Length'].astype(int).max()\n",
    "df['Wheelbase'] = df['Wheelbase'].astype(int)/df['Wheelbase'].astype(int).max()"
   ]
  },
  {
   "cell_type": "code",
   "execution_count": 83,
   "id": "09c3be91",
   "metadata": {},
   "outputs": [
    {
     "data": {
      "text/html": [
       "<div>\n",
       "<style scoped>\n",
       "    .dataframe tbody tr th:only-of-type {\n",
       "        vertical-align: middle;\n",
       "    }\n",
       "\n",
       "    .dataframe tbody tr th {\n",
       "        vertical-align: top;\n",
       "    }\n",
       "\n",
       "    .dataframe thead th {\n",
       "        text-align: right;\n",
       "    }\n",
       "</style>\n",
       "<table border=\"1\" class=\"dataframe\">\n",
       "  <thead>\n",
       "    <tr style=\"text-align: right;\">\n",
       "      <th></th>\n",
       "      <th>Make</th>\n",
       "      <th>Model</th>\n",
       "      <th>Type</th>\n",
       "      <th>Origin</th>\n",
       "      <th>DriveTrain</th>\n",
       "      <th>MSRP</th>\n",
       "      <th>Invoice</th>\n",
       "      <th>EngineSize</th>\n",
       "      <th>Cylinders</th>\n",
       "      <th>Horsepower</th>\n",
       "      <th>MPG_City</th>\n",
       "      <th>MPG_Highway</th>\n",
       "      <th>Weight</th>\n",
       "      <th>Wheelbase</th>\n",
       "      <th>Length</th>\n",
       "    </tr>\n",
       "  </thead>\n",
       "  <tbody>\n",
       "    <tr>\n",
       "      <th>0</th>\n",
       "      <td>Acura</td>\n",
       "      <td>MDX</td>\n",
       "      <td>SUV</td>\n",
       "      <td>Asia</td>\n",
       "      <td>All</td>\n",
       "      <td>$36,945</td>\n",
       "      <td>33337.0</td>\n",
       "      <td>3.5</td>\n",
       "      <td>6.0</td>\n",
       "      <td>265.0</td>\n",
       "      <td>17.0</td>\n",
       "      <td>23.0</td>\n",
       "      <td>4451.0</td>\n",
       "      <td>0.736111</td>\n",
       "      <td>0.794118</td>\n",
       "    </tr>\n",
       "  </tbody>\n",
       "</table>\n",
       "</div>"
      ],
      "text/plain": [
       "    Make Model Type Origin DriveTrain      MSRP  Invoice  EngineSize  \\\n",
       "0  Acura   MDX  SUV   Asia        All  $36,945   33337.0         3.5   \n",
       "\n",
       "   Cylinders  Horsepower  MPG_City  MPG_Highway  Weight  Wheelbase    Length  \n",
       "0        6.0       265.0      17.0         23.0  4451.0   0.736111  0.794118  "
      ]
     },
     "execution_count": 83,
     "metadata": {},
     "output_type": "execute_result"
    }
   ],
   "source": [
    "#view the dataset to check on the normlised columns\n",
    "df.head(1)"
   ]
  },
  {
   "cell_type": "markdown",
   "id": "6777b697",
   "metadata": {},
   "source": [
    "#### Q5: Find the model made by Acura"
   ]
  },
  {
   "cell_type": "code",
   "execution_count": 84,
   "id": "32cdec20",
   "metadata": {},
   "outputs": [
    {
     "data": {
      "text/html": [
       "<div>\n",
       "<style scoped>\n",
       "    .dataframe tbody tr th:only-of-type {\n",
       "        vertical-align: middle;\n",
       "    }\n",
       "\n",
       "    .dataframe tbody tr th {\n",
       "        vertical-align: top;\n",
       "    }\n",
       "\n",
       "    .dataframe thead th {\n",
       "        text-align: right;\n",
       "    }\n",
       "</style>\n",
       "<table border=\"1\" class=\"dataframe\">\n",
       "  <thead>\n",
       "    <tr style=\"text-align: right;\">\n",
       "      <th></th>\n",
       "      <th>Make</th>\n",
       "      <th>Model</th>\n",
       "      <th>Type</th>\n",
       "      <th>Origin</th>\n",
       "      <th>DriveTrain</th>\n",
       "      <th>MSRP</th>\n",
       "      <th>Invoice</th>\n",
       "      <th>EngineSize</th>\n",
       "      <th>Cylinders</th>\n",
       "      <th>Horsepower</th>\n",
       "      <th>MPG_City</th>\n",
       "      <th>MPG_Highway</th>\n",
       "      <th>Weight</th>\n",
       "      <th>Wheelbase</th>\n",
       "      <th>Length</th>\n",
       "    </tr>\n",
       "  </thead>\n",
       "  <tbody>\n",
       "    <tr>\n",
       "      <th>0</th>\n",
       "      <td>Acura</td>\n",
       "      <td>MDX</td>\n",
       "      <td>SUV</td>\n",
       "      <td>Asia</td>\n",
       "      <td>All</td>\n",
       "      <td>$36,945</td>\n",
       "      <td>33337.0</td>\n",
       "      <td>3.5</td>\n",
       "      <td>6.0</td>\n",
       "      <td>265.0</td>\n",
       "      <td>17.0</td>\n",
       "      <td>23.0</td>\n",
       "      <td>4451.0</td>\n",
       "      <td>0.736111</td>\n",
       "      <td>0.794118</td>\n",
       "    </tr>\n",
       "    <tr>\n",
       "      <th>1</th>\n",
       "      <td>Acura</td>\n",
       "      <td>RSX Type S 2dr</td>\n",
       "      <td>Sedan</td>\n",
       "      <td>Asia</td>\n",
       "      <td>Front</td>\n",
       "      <td>$23,820</td>\n",
       "      <td>21761.0</td>\n",
       "      <td>2.0</td>\n",
       "      <td>4.0</td>\n",
       "      <td>200.0</td>\n",
       "      <td>24.0</td>\n",
       "      <td>31.0</td>\n",
       "      <td>2778.0</td>\n",
       "      <td>0.701389</td>\n",
       "      <td>0.722689</td>\n",
       "    </tr>\n",
       "  </tbody>\n",
       "</table>\n",
       "</div>"
      ],
      "text/plain": [
       "    Make           Model   Type Origin DriveTrain      MSRP  Invoice  \\\n",
       "0  Acura             MDX    SUV   Asia        All  $36,945   33337.0   \n",
       "1  Acura  RSX Type S 2dr  Sedan   Asia      Front  $23,820   21761.0   \n",
       "\n",
       "   EngineSize  Cylinders  Horsepower  MPG_City  MPG_Highway  Weight  \\\n",
       "0         3.5        6.0       265.0      17.0         23.0  4451.0   \n",
       "1         2.0        4.0       200.0      24.0         31.0  2778.0   \n",
       "\n",
       "   Wheelbase    Length  \n",
       "0   0.736111  0.794118  \n",
       "1   0.701389  0.722689  "
      ]
     },
     "execution_count": 84,
     "metadata": {},
     "output_type": "execute_result"
    }
   ],
   "source": [
    "#view the dataset\n",
    "df.head(2)"
   ]
  },
  {
   "cell_type": "code",
   "execution_count": 85,
   "id": "faa0c1c3",
   "metadata": {},
   "outputs": [
    {
     "data": {
      "text/html": [
       "<div>\n",
       "<style scoped>\n",
       "    .dataframe tbody tr th:only-of-type {\n",
       "        vertical-align: middle;\n",
       "    }\n",
       "\n",
       "    .dataframe tbody tr th {\n",
       "        vertical-align: top;\n",
       "    }\n",
       "\n",
       "    .dataframe thead th {\n",
       "        text-align: right;\n",
       "    }\n",
       "</style>\n",
       "<table border=\"1\" class=\"dataframe\">\n",
       "  <thead>\n",
       "    <tr style=\"text-align: right;\">\n",
       "      <th></th>\n",
       "      <th>Make</th>\n",
       "      <th>Model</th>\n",
       "      <th>Type</th>\n",
       "      <th>Origin</th>\n",
       "      <th>DriveTrain</th>\n",
       "      <th>MSRP</th>\n",
       "      <th>Invoice</th>\n",
       "      <th>EngineSize</th>\n",
       "      <th>Cylinders</th>\n",
       "      <th>Horsepower</th>\n",
       "      <th>MPG_City</th>\n",
       "      <th>MPG_Highway</th>\n",
       "      <th>Weight</th>\n",
       "      <th>Wheelbase</th>\n",
       "      <th>Length</th>\n",
       "    </tr>\n",
       "  </thead>\n",
       "  <tbody>\n",
       "    <tr>\n",
       "      <th>0</th>\n",
       "      <td>Acura</td>\n",
       "      <td>MDX</td>\n",
       "      <td>SUV</td>\n",
       "      <td>Asia</td>\n",
       "      <td>All</td>\n",
       "      <td>$36,945</td>\n",
       "      <td>33337.0</td>\n",
       "      <td>3.5</td>\n",
       "      <td>6.0</td>\n",
       "      <td>265.0</td>\n",
       "      <td>17.0</td>\n",
       "      <td>23.0</td>\n",
       "      <td>4451.0</td>\n",
       "      <td>0.736111</td>\n",
       "      <td>0.794118</td>\n",
       "    </tr>\n",
       "    <tr>\n",
       "      <th>1</th>\n",
       "      <td>Acura</td>\n",
       "      <td>RSX Type S 2dr</td>\n",
       "      <td>Sedan</td>\n",
       "      <td>Asia</td>\n",
       "      <td>Front</td>\n",
       "      <td>$23,820</td>\n",
       "      <td>21761.0</td>\n",
       "      <td>2.0</td>\n",
       "      <td>4.0</td>\n",
       "      <td>200.0</td>\n",
       "      <td>24.0</td>\n",
       "      <td>31.0</td>\n",
       "      <td>2778.0</td>\n",
       "      <td>0.701389</td>\n",
       "      <td>0.722689</td>\n",
       "    </tr>\n",
       "    <tr>\n",
       "      <th>2</th>\n",
       "      <td>Acura</td>\n",
       "      <td>TSX 4dr</td>\n",
       "      <td>Sedan</td>\n",
       "      <td>Asia</td>\n",
       "      <td>Front</td>\n",
       "      <td>$26,990</td>\n",
       "      <td>24647.0</td>\n",
       "      <td>2.4</td>\n",
       "      <td>4.0</td>\n",
       "      <td>200.0</td>\n",
       "      <td>22.0</td>\n",
       "      <td>29.0</td>\n",
       "      <td>3230.0</td>\n",
       "      <td>0.729167</td>\n",
       "      <td>0.768908</td>\n",
       "    </tr>\n",
       "    <tr>\n",
       "      <th>3</th>\n",
       "      <td>Acura</td>\n",
       "      <td>TL 4dr</td>\n",
       "      <td>Sedan</td>\n",
       "      <td>Asia</td>\n",
       "      <td>Front</td>\n",
       "      <td>$33,195</td>\n",
       "      <td>30299.0</td>\n",
       "      <td>3.2</td>\n",
       "      <td>6.0</td>\n",
       "      <td>270.0</td>\n",
       "      <td>20.0</td>\n",
       "      <td>28.0</td>\n",
       "      <td>3575.0</td>\n",
       "      <td>0.750000</td>\n",
       "      <td>0.781513</td>\n",
       "    </tr>\n",
       "    <tr>\n",
       "      <th>4</th>\n",
       "      <td>Acura</td>\n",
       "      <td>3.5 RL 4dr</td>\n",
       "      <td>Sedan</td>\n",
       "      <td>Asia</td>\n",
       "      <td>Front</td>\n",
       "      <td>$43,755</td>\n",
       "      <td>39014.0</td>\n",
       "      <td>3.5</td>\n",
       "      <td>6.0</td>\n",
       "      <td>225.0</td>\n",
       "      <td>18.0</td>\n",
       "      <td>24.0</td>\n",
       "      <td>3880.0</td>\n",
       "      <td>0.798611</td>\n",
       "      <td>0.827731</td>\n",
       "    </tr>\n",
       "  </tbody>\n",
       "</table>\n",
       "</div>"
      ],
      "text/plain": [
       "    Make           Model   Type Origin DriveTrain      MSRP  Invoice  \\\n",
       "0  Acura             MDX    SUV   Asia        All  $36,945   33337.0   \n",
       "1  Acura  RSX Type S 2dr  Sedan   Asia      Front  $23,820   21761.0   \n",
       "2  Acura         TSX 4dr  Sedan   Asia      Front  $26,990   24647.0   \n",
       "3  Acura          TL 4dr  Sedan   Asia      Front  $33,195   30299.0   \n",
       "4  Acura      3.5 RL 4dr  Sedan   Asia      Front  $43,755   39014.0   \n",
       "\n",
       "   EngineSize  Cylinders  Horsepower  MPG_City  MPG_Highway  Weight  \\\n",
       "0         3.5        6.0       265.0      17.0         23.0  4451.0   \n",
       "1         2.0        4.0       200.0      24.0         31.0  2778.0   \n",
       "2         2.4        4.0       200.0      22.0         29.0  3230.0   \n",
       "3         3.2        6.0       270.0      20.0         28.0  3575.0   \n",
       "4         3.5        6.0       225.0      18.0         24.0  3880.0   \n",
       "\n",
       "   Wheelbase    Length  \n",
       "0   0.736111  0.794118  \n",
       "1   0.701389  0.722689  \n",
       "2   0.729167  0.768908  \n",
       "3   0.750000  0.781513  \n",
       "4   0.798611  0.827731  "
      ]
     },
     "execution_count": 85,
     "metadata": {},
     "output_type": "execute_result"
    }
   ],
   "source": [
    "filt = (df['Make'] == 'Acura')        #filt the dataset, on column make to acura\n",
    "df[filt].head()"
   ]
  },
  {
   "cell_type": "markdown",
   "id": "13d3d75d",
   "metadata": {},
   "source": [
    "#### Q6: increase the mpg_city by 3"
   ]
  },
  {
   "cell_type": "code",
   "execution_count": 86,
   "id": "48417937",
   "metadata": {},
   "outputs": [
    {
     "data": {
      "text/plain": [
       "dtype('float64')"
      ]
     },
     "execution_count": 86,
     "metadata": {},
     "output_type": "execute_result"
    }
   ],
   "source": [
    "df['MPG_City'].dtypes    #gets the mpg_city column dataset"
   ]
  },
  {
   "cell_type": "code",
   "execution_count": 87,
   "id": "b74651c9",
   "metadata": {},
   "outputs": [],
   "source": [
    "df['MPG_City_ADD']  = df['MPG_City'] + 3     #creates the new column mpg_city_add then add  3 on the column"
   ]
  },
  {
   "cell_type": "markdown",
   "id": "dbf56307",
   "metadata": {},
   "source": [
    "#### Q7: find the relationship between the variables and determines what heavily affect the EngineSize"
   ]
  },
  {
   "cell_type": "code",
   "execution_count": 20,
   "id": "ef49068b",
   "metadata": {},
   "outputs": [
    {
     "data": {
      "text/html": [
       "<div>\n",
       "<style scoped>\n",
       "    .dataframe tbody tr th:only-of-type {\n",
       "        vertical-align: middle;\n",
       "    }\n",
       "\n",
       "    .dataframe tbody tr th {\n",
       "        vertical-align: top;\n",
       "    }\n",
       "\n",
       "    .dataframe thead th {\n",
       "        text-align: right;\n",
       "    }\n",
       "</style>\n",
       "<table border=\"1\" class=\"dataframe\">\n",
       "  <thead>\n",
       "    <tr style=\"text-align: right;\">\n",
       "      <th></th>\n",
       "      <th>Invoice</th>\n",
       "      <th>EngineSize</th>\n",
       "      <th>Cylinders</th>\n",
       "      <th>Horsepower</th>\n",
       "      <th>MPG_City</th>\n",
       "      <th>MPG_Highway</th>\n",
       "      <th>Weight</th>\n",
       "      <th>Wheelbase</th>\n",
       "      <th>Length</th>\n",
       "    </tr>\n",
       "  </thead>\n",
       "  <tbody>\n",
       "    <tr>\n",
       "      <th>Invoice</th>\n",
       "      <td>1.000000</td>\n",
       "      <td>0.566019</td>\n",
       "      <td>0.645226</td>\n",
       "      <td>0.824079</td>\n",
       "      <td>-0.471304</td>\n",
       "      <td>-0.435452</td>\n",
       "      <td>0.441916</td>\n",
       "      <td>0.148003</td>\n",
       "      <td>0.165645</td>\n",
       "    </tr>\n",
       "    <tr>\n",
       "      <th>EngineSize</th>\n",
       "      <td>0.566019</td>\n",
       "      <td>1.000000</td>\n",
       "      <td>0.908002</td>\n",
       "      <td>0.793250</td>\n",
       "      <td>-0.717860</td>\n",
       "      <td>-0.725901</td>\n",
       "      <td>0.808707</td>\n",
       "      <td>0.638947</td>\n",
       "      <td>0.636015</td>\n",
       "    </tr>\n",
       "    <tr>\n",
       "      <th>Cylinders</th>\n",
       "      <td>0.645226</td>\n",
       "      <td>0.908002</td>\n",
       "      <td>1.000000</td>\n",
       "      <td>0.810341</td>\n",
       "      <td>-0.684402</td>\n",
       "      <td>-0.676100</td>\n",
       "      <td>0.742209</td>\n",
       "      <td>0.546730</td>\n",
       "      <td>0.547783</td>\n",
       "    </tr>\n",
       "    <tr>\n",
       "      <th>Horsepower</th>\n",
       "      <td>0.824079</td>\n",
       "      <td>0.793250</td>\n",
       "      <td>0.810341</td>\n",
       "      <td>1.000000</td>\n",
       "      <td>-0.677034</td>\n",
       "      <td>-0.647425</td>\n",
       "      <td>0.631758</td>\n",
       "      <td>0.387561</td>\n",
       "      <td>0.382386</td>\n",
       "    </tr>\n",
       "    <tr>\n",
       "      <th>MPG_City</th>\n",
       "      <td>-0.471304</td>\n",
       "      <td>-0.717860</td>\n",
       "      <td>-0.684402</td>\n",
       "      <td>-0.677034</td>\n",
       "      <td>1.000000</td>\n",
       "      <td>0.940993</td>\n",
       "      <td>-0.740418</td>\n",
       "      <td>-0.508029</td>\n",
       "      <td>-0.504184</td>\n",
       "    </tr>\n",
       "    <tr>\n",
       "      <th>MPG_Highway</th>\n",
       "      <td>-0.435452</td>\n",
       "      <td>-0.725901</td>\n",
       "      <td>-0.676100</td>\n",
       "      <td>-0.647425</td>\n",
       "      <td>0.940993</td>\n",
       "      <td>1.000000</td>\n",
       "      <td>-0.793615</td>\n",
       "      <td>-0.525457</td>\n",
       "      <td>-0.468756</td>\n",
       "    </tr>\n",
       "    <tr>\n",
       "      <th>Weight</th>\n",
       "      <td>0.441916</td>\n",
       "      <td>0.808707</td>\n",
       "      <td>0.742209</td>\n",
       "      <td>0.631758</td>\n",
       "      <td>-0.740418</td>\n",
       "      <td>-0.793615</td>\n",
       "      <td>1.000000</td>\n",
       "      <td>0.760857</td>\n",
       "      <td>0.689168</td>\n",
       "    </tr>\n",
       "    <tr>\n",
       "      <th>Wheelbase</th>\n",
       "      <td>0.148003</td>\n",
       "      <td>0.638947</td>\n",
       "      <td>0.546730</td>\n",
       "      <td>0.387561</td>\n",
       "      <td>-0.508029</td>\n",
       "      <td>-0.525457</td>\n",
       "      <td>0.760857</td>\n",
       "      <td>1.000000</td>\n",
       "      <td>0.889838</td>\n",
       "    </tr>\n",
       "    <tr>\n",
       "      <th>Length</th>\n",
       "      <td>0.165645</td>\n",
       "      <td>0.636015</td>\n",
       "      <td>0.547783</td>\n",
       "      <td>0.382386</td>\n",
       "      <td>-0.504184</td>\n",
       "      <td>-0.468756</td>\n",
       "      <td>0.689168</td>\n",
       "      <td>0.889838</td>\n",
       "      <td>1.000000</td>\n",
       "    </tr>\n",
       "  </tbody>\n",
       "</table>\n",
       "</div>"
      ],
      "text/plain": [
       "              Invoice  EngineSize  Cylinders  Horsepower  MPG_City  \\\n",
       "Invoice      1.000000    0.566019   0.645226    0.824079 -0.471304   \n",
       "EngineSize   0.566019    1.000000   0.908002    0.793250 -0.717860   \n",
       "Cylinders    0.645226    0.908002   1.000000    0.810341 -0.684402   \n",
       "Horsepower   0.824079    0.793250   0.810341    1.000000 -0.677034   \n",
       "MPG_City    -0.471304   -0.717860  -0.684402   -0.677034  1.000000   \n",
       "MPG_Highway -0.435452   -0.725901  -0.676100   -0.647425  0.940993   \n",
       "Weight       0.441916    0.808707   0.742209    0.631758 -0.740418   \n",
       "Wheelbase    0.148003    0.638947   0.546730    0.387561 -0.508029   \n",
       "Length       0.165645    0.636015   0.547783    0.382386 -0.504184   \n",
       "\n",
       "             MPG_Highway    Weight  Wheelbase    Length  \n",
       "Invoice        -0.435452  0.441916   0.148003  0.165645  \n",
       "EngineSize     -0.725901  0.808707   0.638947  0.636015  \n",
       "Cylinders      -0.676100  0.742209   0.546730  0.547783  \n",
       "Horsepower     -0.647425  0.631758   0.387561  0.382386  \n",
       "MPG_City        0.940993 -0.740418  -0.508029 -0.504184  \n",
       "MPG_Highway     1.000000 -0.793615  -0.525457 -0.468756  \n",
       "Weight         -0.793615  1.000000   0.760857  0.689168  \n",
       "Wheelbase      -0.525457  0.760857   1.000000  0.889838  \n",
       "Length         -0.468756  0.689168   0.889838  1.000000  "
      ]
     },
     "execution_count": 20,
     "metadata": {},
     "output_type": "execute_result"
    }
   ],
   "source": [
    "df.corr()  #checks the correlation on the entire dataset 1 being the strong 0 being the least posistive corelatted, the same applies for -1 and 0 in negative coreelation"
   ]
  },
  {
   "cell_type": "markdown",
   "id": "7ff96084",
   "metadata": {},
   "source": [
    "cylinders, horsepower, weight affect it more"
   ]
  },
  {
   "cell_type": "markdown",
   "id": "436abba1",
   "metadata": {},
   "source": [
    "#### Q9: Determine the type by the number of cylinders"
   ]
  },
  {
   "cell_type": "code",
   "execution_count": 89,
   "id": "4eb00131",
   "metadata": {},
   "outputs": [
    {
     "data": {
      "text/html": [
       "<div>\n",
       "<style scoped>\n",
       "    .dataframe tbody tr th:only-of-type {\n",
       "        vertical-align: middle;\n",
       "    }\n",
       "\n",
       "    .dataframe tbody tr th {\n",
       "        vertical-align: top;\n",
       "    }\n",
       "\n",
       "    .dataframe thead th {\n",
       "        text-align: right;\n",
       "    }\n",
       "</style>\n",
       "<table border=\"1\" class=\"dataframe\">\n",
       "  <thead>\n",
       "    <tr style=\"text-align: right;\">\n",
       "      <th></th>\n",
       "      <th>Make</th>\n",
       "      <th>Model</th>\n",
       "      <th>Type</th>\n",
       "      <th>Origin</th>\n",
       "      <th>DriveTrain</th>\n",
       "      <th>MSRP</th>\n",
       "      <th>Invoice</th>\n",
       "      <th>EngineSize</th>\n",
       "      <th>Cylinders</th>\n",
       "      <th>Horsepower</th>\n",
       "      <th>MPG_City</th>\n",
       "      <th>MPG_Highway</th>\n",
       "      <th>Weight</th>\n",
       "      <th>Wheelbase</th>\n",
       "      <th>Length</th>\n",
       "      <th>MPG_City_ADD</th>\n",
       "    </tr>\n",
       "  </thead>\n",
       "  <tbody>\n",
       "    <tr>\n",
       "      <th>0</th>\n",
       "      <td>Acura</td>\n",
       "      <td>MDX</td>\n",
       "      <td>SUV</td>\n",
       "      <td>Asia</td>\n",
       "      <td>All</td>\n",
       "      <td>$36,945</td>\n",
       "      <td>33337.0</td>\n",
       "      <td>3.5</td>\n",
       "      <td>6.0</td>\n",
       "      <td>265.0</td>\n",
       "      <td>17.0</td>\n",
       "      <td>23.0</td>\n",
       "      <td>4451.0</td>\n",
       "      <td>0.736111</td>\n",
       "      <td>0.794118</td>\n",
       "      <td>20.0</td>\n",
       "    </tr>\n",
       "  </tbody>\n",
       "</table>\n",
       "</div>"
      ],
      "text/plain": [
       "    Make Model Type Origin DriveTrain      MSRP  Invoice  EngineSize  \\\n",
       "0  Acura   MDX  SUV   Asia        All  $36,945   33337.0         3.5   \n",
       "\n",
       "   Cylinders  Horsepower  MPG_City  MPG_Highway  Weight  Wheelbase    Length  \\\n",
       "0        6.0       265.0      17.0         23.0  4451.0   0.736111  0.794118   \n",
       "\n",
       "   MPG_City_ADD  \n",
       "0          20.0  "
      ]
     },
     "execution_count": 89,
     "metadata": {},
     "output_type": "execute_result"
    }
   ],
   "source": [
    "df.head(1)  #view the dataset head"
   ]
  },
  {
   "cell_type": "code",
   "execution_count": 21,
   "id": "b9078a05",
   "metadata": {},
   "outputs": [
    {
     "data": {
      "text/plain": [
       "Type\n",
       "Hybrid    2.0\n",
       "SUV       6.8\n",
       "Sedan     6.0\n",
       "Sports    8.3\n",
       "Truck     6.0\n",
       "Wagon     5.0\n",
       "Name: EngineSize, dtype: float64"
      ]
     },
     "execution_count": 21,
     "metadata": {},
     "output_type": "execute_result"
    }
   ],
   "source": [
    "df.groupby('Type').EngineSize.max() #gets the type of the cars being groped by their engine size"
   ]
  },
  {
   "cell_type": "markdown",
   "id": "b697d4a1",
   "metadata": {},
   "source": [
    "#### Q10: which model cost the most"
   ]
  },
  {
   "cell_type": "code",
   "execution_count": 22,
   "id": "2d26d9d2",
   "metadata": {},
   "outputs": [
    {
     "data": {
      "text/plain": [
       "Model\n",
       "911 GT2 2dr              173560.0\n",
       "CL600 2dr                119600.0\n",
       "SL600 convertible 2dr    117854.0\n",
       "SL55 AMG 2dr             113388.0\n",
       "CL500 2dr                 88324.0\n",
       "Name: Invoice, dtype: float64"
      ]
     },
     "execution_count": 22,
     "metadata": {},
     "output_type": "execute_result"
    }
   ],
   "source": [
    "#group the model by the cost, and values are sorted by the biggest cost giving the first 5 rows\n",
    "df.groupby('Model').Invoice.max().sort_values(ascending=False).head()"
   ]
  },
  {
   "cell_type": "markdown",
   "id": "b231b5a6",
   "metadata": {},
   "source": [
    "911 GT2 2dr   costing $173560.0 is the most expensive car"
   ]
  },
  {
   "cell_type": "markdown",
   "id": "eb1cecd2",
   "metadata": {},
   "source": [
    "#### Q11: which type has the greatest horsepower"
   ]
  },
  {
   "cell_type": "code",
   "execution_count": 23,
   "id": "8f505da0",
   "metadata": {},
   "outputs": [
    {
     "data": {
      "text/plain": [
       "Type\n",
       "Sports    500.0\n",
       "Sedan     493.0\n",
       "Truck     345.0\n",
       "SUV       340.0\n",
       "Wagon     340.0\n",
       "Hybrid    110.0\n",
       "Name: Horsepower, dtype: float64"
      ]
     },
     "execution_count": 23,
     "metadata": {},
     "output_type": "execute_result"
    }
   ],
   "source": [
    "#group the type by horsepower maximum values, sorting the values starting from the largest\n",
    "df.groupby('Type').Horsepower.max().sort_values(ascending=False)"
   ]
  },
  {
   "cell_type": "markdown",
   "id": "f9702376",
   "metadata": {},
   "source": [
    "#### Q12: Show all the record where the weight of the car is less than 3300"
   ]
  },
  {
   "cell_type": "code",
   "execution_count": 24,
   "id": "53fbc6b6",
   "metadata": {},
   "outputs": [
    {
     "data": {
      "text/html": [
       "<div>\n",
       "<style scoped>\n",
       "    .dataframe tbody tr th:only-of-type {\n",
       "        vertical-align: middle;\n",
       "    }\n",
       "\n",
       "    .dataframe tbody tr th {\n",
       "        vertical-align: top;\n",
       "    }\n",
       "\n",
       "    .dataframe thead th {\n",
       "        text-align: right;\n",
       "    }\n",
       "</style>\n",
       "<table border=\"1\" class=\"dataframe\">\n",
       "  <thead>\n",
       "    <tr style=\"text-align: right;\">\n",
       "      <th></th>\n",
       "      <th>Make</th>\n",
       "      <th>Model</th>\n",
       "      <th>Type</th>\n",
       "      <th>Origin</th>\n",
       "      <th>DriveTrain</th>\n",
       "      <th>MSRP</th>\n",
       "      <th>Invoice</th>\n",
       "      <th>EngineSize</th>\n",
       "      <th>Cylinders</th>\n",
       "      <th>Horsepower</th>\n",
       "      <th>MPG_City</th>\n",
       "      <th>MPG_Highway</th>\n",
       "      <th>Weight</th>\n",
       "      <th>Wheelbase</th>\n",
       "      <th>Length</th>\n",
       "    </tr>\n",
       "  </thead>\n",
       "  <tbody>\n",
       "    <tr>\n",
       "      <th>1</th>\n",
       "      <td>Acura</td>\n",
       "      <td>RSX Type S 2dr</td>\n",
       "      <td>Sedan</td>\n",
       "      <td>Asia</td>\n",
       "      <td>Front</td>\n",
       "      <td>$23,820</td>\n",
       "      <td>21761.0</td>\n",
       "      <td>2.0</td>\n",
       "      <td>4.0</td>\n",
       "      <td>200.0</td>\n",
       "      <td>24.0</td>\n",
       "      <td>31.0</td>\n",
       "      <td>2778.0</td>\n",
       "      <td>101.0</td>\n",
       "      <td>172.0</td>\n",
       "    </tr>\n",
       "    <tr>\n",
       "      <th>2</th>\n",
       "      <td>Acura</td>\n",
       "      <td>TSX 4dr</td>\n",
       "      <td>Sedan</td>\n",
       "      <td>Asia</td>\n",
       "      <td>Front</td>\n",
       "      <td>$26,990</td>\n",
       "      <td>24647.0</td>\n",
       "      <td>2.4</td>\n",
       "      <td>4.0</td>\n",
       "      <td>200.0</td>\n",
       "      <td>22.0</td>\n",
       "      <td>29.0</td>\n",
       "      <td>3230.0</td>\n",
       "      <td>105.0</td>\n",
       "      <td>183.0</td>\n",
       "    </tr>\n",
       "    <tr>\n",
       "      <th>6</th>\n",
       "      <td>Acura</td>\n",
       "      <td>NSX coupe 2dr manual S</td>\n",
       "      <td>Sports</td>\n",
       "      <td>Asia</td>\n",
       "      <td>Rear</td>\n",
       "      <td>$89,765</td>\n",
       "      <td>79978.0</td>\n",
       "      <td>3.2</td>\n",
       "      <td>6.0</td>\n",
       "      <td>290.0</td>\n",
       "      <td>17.0</td>\n",
       "      <td>24.0</td>\n",
       "      <td>3153.0</td>\n",
       "      <td>100.0</td>\n",
       "      <td>174.0</td>\n",
       "    </tr>\n",
       "    <tr>\n",
       "      <th>7</th>\n",
       "      <td>Audi</td>\n",
       "      <td>A4 1.8T 4dr</td>\n",
       "      <td>Sedan</td>\n",
       "      <td>Europe</td>\n",
       "      <td>Front</td>\n",
       "      <td>$25,940</td>\n",
       "      <td>23508.0</td>\n",
       "      <td>1.8</td>\n",
       "      <td>4.0</td>\n",
       "      <td>170.0</td>\n",
       "      <td>22.0</td>\n",
       "      <td>31.0</td>\n",
       "      <td>3252.0</td>\n",
       "      <td>104.0</td>\n",
       "      <td>179.0</td>\n",
       "    </tr>\n",
       "    <tr>\n",
       "      <th>21</th>\n",
       "      <td>Audi</td>\n",
       "      <td>TT 1.8 convertible 2dr (coupe)</td>\n",
       "      <td>Sports</td>\n",
       "      <td>Europe</td>\n",
       "      <td>Front</td>\n",
       "      <td>$35,940</td>\n",
       "      <td>32512.0</td>\n",
       "      <td>1.8</td>\n",
       "      <td>4.0</td>\n",
       "      <td>180.0</td>\n",
       "      <td>20.0</td>\n",
       "      <td>28.0</td>\n",
       "      <td>3131.0</td>\n",
       "      <td>95.0</td>\n",
       "      <td>159.0</td>\n",
       "    </tr>\n",
       "    <tr>\n",
       "      <th>...</th>\n",
       "      <td>...</td>\n",
       "      <td>...</td>\n",
       "      <td>...</td>\n",
       "      <td>...</td>\n",
       "      <td>...</td>\n",
       "      <td>...</td>\n",
       "      <td>...</td>\n",
       "      <td>...</td>\n",
       "      <td>...</td>\n",
       "      <td>...</td>\n",
       "      <td>...</td>\n",
       "      <td>...</td>\n",
       "      <td>...</td>\n",
       "      <td>...</td>\n",
       "      <td>...</td>\n",
       "    </tr>\n",
       "    <tr>\n",
       "      <th>411</th>\n",
       "      <td>Volkswagen</td>\n",
       "      <td>New Beetle GLS convertible 2dr</td>\n",
       "      <td>Sedan</td>\n",
       "      <td>Europe</td>\n",
       "      <td>Front</td>\n",
       "      <td>$23,215</td>\n",
       "      <td>21689.0</td>\n",
       "      <td>2.0</td>\n",
       "      <td>4.0</td>\n",
       "      <td>115.0</td>\n",
       "      <td>24.0</td>\n",
       "      <td>30.0</td>\n",
       "      <td>3082.0</td>\n",
       "      <td>99.0</td>\n",
       "      <td>161.0</td>\n",
       "    </tr>\n",
       "    <tr>\n",
       "      <th>412</th>\n",
       "      <td>Volkswagen</td>\n",
       "      <td>Passat GLS 4dr</td>\n",
       "      <td>Sedan</td>\n",
       "      <td>Europe</td>\n",
       "      <td>Front</td>\n",
       "      <td>$23,955</td>\n",
       "      <td>21898.0</td>\n",
       "      <td>1.8</td>\n",
       "      <td>4.0</td>\n",
       "      <td>170.0</td>\n",
       "      <td>22.0</td>\n",
       "      <td>31.0</td>\n",
       "      <td>3241.0</td>\n",
       "      <td>106.0</td>\n",
       "      <td>185.0</td>\n",
       "    </tr>\n",
       "    <tr>\n",
       "      <th>417</th>\n",
       "      <td>Volkswagen</td>\n",
       "      <td>Jetta GL</td>\n",
       "      <td>Wagon</td>\n",
       "      <td>Europe</td>\n",
       "      <td>Front</td>\n",
       "      <td>$19,005</td>\n",
       "      <td>17427.0</td>\n",
       "      <td>2.0</td>\n",
       "      <td>4.0</td>\n",
       "      <td>115.0</td>\n",
       "      <td>24.0</td>\n",
       "      <td>30.0</td>\n",
       "      <td>3034.0</td>\n",
       "      <td>99.0</td>\n",
       "      <td>174.0</td>\n",
       "    </tr>\n",
       "    <tr>\n",
       "      <th>421</th>\n",
       "      <td>Volvo</td>\n",
       "      <td>S40 4dr</td>\n",
       "      <td>Sedan</td>\n",
       "      <td>Europe</td>\n",
       "      <td>Front</td>\n",
       "      <td>$25,135</td>\n",
       "      <td>23701.0</td>\n",
       "      <td>1.9</td>\n",
       "      <td>4.0</td>\n",
       "      <td>170.0</td>\n",
       "      <td>22.0</td>\n",
       "      <td>29.0</td>\n",
       "      <td>2767.0</td>\n",
       "      <td>101.0</td>\n",
       "      <td>178.0</td>\n",
       "    </tr>\n",
       "    <tr>\n",
       "      <th>430</th>\n",
       "      <td>Volvo</td>\n",
       "      <td>V40</td>\n",
       "      <td>Wagon</td>\n",
       "      <td>Europe</td>\n",
       "      <td>Front</td>\n",
       "      <td>$26,135</td>\n",
       "      <td>24641.0</td>\n",
       "      <td>1.9</td>\n",
       "      <td>4.0</td>\n",
       "      <td>170.0</td>\n",
       "      <td>22.0</td>\n",
       "      <td>29.0</td>\n",
       "      <td>2822.0</td>\n",
       "      <td>101.0</td>\n",
       "      <td>180.0</td>\n",
       "    </tr>\n",
       "  </tbody>\n",
       "</table>\n",
       "<p>156 rows × 15 columns</p>\n",
       "</div>"
      ],
      "text/plain": [
       "           Make                           Model    Type  Origin DriveTrain  \\\n",
       "1         Acura                  RSX Type S 2dr   Sedan    Asia      Front   \n",
       "2         Acura                         TSX 4dr   Sedan    Asia      Front   \n",
       "6         Acura          NSX coupe 2dr manual S  Sports    Asia       Rear   \n",
       "7          Audi                     A4 1.8T 4dr   Sedan  Europe      Front   \n",
       "21         Audi  TT 1.8 convertible 2dr (coupe)  Sports  Europe      Front   \n",
       "..          ...                             ...     ...     ...        ...   \n",
       "411  Volkswagen  New Beetle GLS convertible 2dr   Sedan  Europe      Front   \n",
       "412  Volkswagen                  Passat GLS 4dr   Sedan  Europe      Front   \n",
       "417  Volkswagen                        Jetta GL   Wagon  Europe      Front   \n",
       "421       Volvo                         S40 4dr   Sedan  Europe      Front   \n",
       "430       Volvo                             V40   Wagon  Europe      Front   \n",
       "\n",
       "         MSRP  Invoice  EngineSize  Cylinders  Horsepower  MPG_City  \\\n",
       "1    $23,820   21761.0         2.0        4.0       200.0      24.0   \n",
       "2    $26,990   24647.0         2.4        4.0       200.0      22.0   \n",
       "6    $89,765   79978.0         3.2        6.0       290.0      17.0   \n",
       "7    $25,940   23508.0         1.8        4.0       170.0      22.0   \n",
       "21   $35,940   32512.0         1.8        4.0       180.0      20.0   \n",
       "..        ...      ...         ...        ...         ...       ...   \n",
       "411  $23,215   21689.0         2.0        4.0       115.0      24.0   \n",
       "412  $23,955   21898.0         1.8        4.0       170.0      22.0   \n",
       "417  $19,005   17427.0         2.0        4.0       115.0      24.0   \n",
       "421  $25,135   23701.0         1.9        4.0       170.0      22.0   \n",
       "430  $26,135   24641.0         1.9        4.0       170.0      22.0   \n",
       "\n",
       "     MPG_Highway  Weight  Wheelbase  Length  \n",
       "1           31.0  2778.0      101.0   172.0  \n",
       "2           29.0  3230.0      105.0   183.0  \n",
       "6           24.0  3153.0      100.0   174.0  \n",
       "7           31.0  3252.0      104.0   179.0  \n",
       "21          28.0  3131.0       95.0   159.0  \n",
       "..           ...     ...        ...     ...  \n",
       "411         30.0  3082.0       99.0   161.0  \n",
       "412         31.0  3241.0      106.0   185.0  \n",
       "417         30.0  3034.0       99.0   174.0  \n",
       "421         29.0  2767.0      101.0   178.0  \n",
       "430         29.0  2822.0      101.0   180.0  \n",
       "\n",
       "[156 rows x 15 columns]"
      ]
     },
     "execution_count": 24,
     "metadata": {},
     "output_type": "execute_result"
    }
   ],
   "source": [
    "filt = (df['Weight'] > 3300)    #filters the dataset to be greater than 3300\n",
    "df[~filt]       #gives out the dataset having less weight of 3300"
   ]
  },
  {
   "cell_type": "markdown",
   "id": "f5464a8f",
   "metadata": {},
   "source": [
    "#### Q13: which type orginates from Asia or Europe"
   ]
  },
  {
   "cell_type": "code",
   "execution_count": 25,
   "id": "34e1ac5c",
   "metadata": {},
   "outputs": [
    {
     "data": {
      "text/plain": [
       "0        SUV\n",
       "1      Sedan\n",
       "2      Sedan\n",
       "3      Sedan\n",
       "4      Sedan\n",
       "       ...  \n",
       "427    Sedan\n",
       "428    Sedan\n",
       "429    Sedan\n",
       "430    Wagon\n",
       "431    Wagon\n",
       "Name: Type, Length: 279, dtype: object"
      ]
     },
     "execution_count": 25,
     "metadata": {},
     "output_type": "execute_result"
    }
   ],
   "source": [
    "filt = (df['Origin'] == 'Asia') | (df['Origin'] == 'Europe')   #filters cars that are manufactured by asia and europe\n",
    "df.loc[filt, 'Type']"
   ]
  },
  {
   "cell_type": "markdown",
   "id": "29a9a499",
   "metadata": {},
   "source": [
    "#### Q14: which regions has given out more SUVs models"
   ]
  },
  {
   "cell_type": "code",
   "execution_count": 26,
   "id": "c49a56eb",
   "metadata": {},
   "outputs": [
    {
     "data": {
      "text/plain": [
       "'USA'"
      ]
     },
     "execution_count": 26,
     "metadata": {},
     "output_type": "execute_result"
    }
   ],
   "source": [
    "filt = (df['Type'] == 'SUV')\n",
    "df[filt].Origin.max()         #gets the origin of suv cars"
   ]
  },
  {
   "cell_type": "code",
   "execution_count": null,
   "id": "1e096a85",
   "metadata": {},
   "outputs": [],
   "source": []
  },
  {
   "cell_type": "markdown",
   "id": "8dbbf857",
   "metadata": {},
   "source": [
    "# Phase 4: Data Visualisation\n"
   ]
  },
  {
   "cell_type": "markdown",
   "id": "d5b726cb",
   "metadata": {},
   "source": [
    "* The purpose of data visualization is to visually represent data in a way that allows people to quickly and easily understand patterns, relationships, and trends in the data. By creating visual representations of data, we can make complex information more accessible and understandable, which can lead to insights and actionable outcomes."
   ]
  },
  {
   "cell_type": "markdown",
   "id": "42a19bbc",
   "metadata": {},
   "source": [
    "### 4.1: car types origins"
   ]
  },
  {
   "cell_type": "code",
   "execution_count": 39,
   "id": "8b659a3d",
   "metadata": {},
   "outputs": [],
   "source": [
    "\n",
    "counts = df['Origin'].value_counts()    # Get the value counts of the 'Origin' column\n",
    "\n"
   ]
  },
  {
   "cell_type": "code",
   "execution_count": 41,
   "id": "8da89b40",
   "metadata": {},
   "outputs": [
    {
     "data": {
      "image/png": "[encoded data removed]",
      "text/plain": [
       "<Figure size 640x480 with 1 Axes>"
      ]
     },
     "metadata": {},
     "output_type": "display_data"
    }
   ],
   "source": [
    "\n",
    "counts.plot(kind='bar')    # Create a bar plot of the counts\n",
    "\n",
    "#Setting the title and labels for the plot\n",
    "plt.title('Counts of Car Types by Origin')\n",
    "plt.xlabel('Origin')\n",
    "plt.ylabel('Count')\n",
    "\n",
    "# Show the plot\n",
    "plt.show()\n"
   ]
  },
  {
   "cell_type": "markdown",
   "id": "46ed6713",
   "metadata": {},
   "source": [
    "##### * **key takeaway:** more cars were produced from Asia, followed by USA and the last being Europe"
   ]
  },
  {
   "cell_type": "markdown",
   "id": "a3a3104e",
   "metadata": {},
   "source": [
    "### 4.2: Number of cars in the dataset"
   ]
  },
  {
   "cell_type": "code",
   "execution_count": 49,
   "id": "cdd6055f",
   "metadata": {},
   "outputs": [],
   "source": [
    "# This gets the counts of non-null values in each column\n",
    "counts = df[['Make', 'Model']].count()"
   ]
  },
  {
   "cell_type": "code",
   "execution_count": 50,
   "id": "8e67ec33",
   "metadata": {},
   "outputs": [
    {
     "data": {
      "text/plain": [
       "Text(0, 0.5, 'Count')"
      ]
     },
     "execution_count": 50,
     "metadata": {},
     "output_type": "execute_result"
    },
    {
     "data": {
      "image/png": "[encoded data removed]",
      "text/plain": [
       "<Figure size 640x480 with 1 Axes>"
      ]
     },
     "metadata": {},
     "output_type": "display_data"
    }
   ],
   "source": [
    "# Create a bar plot of the counts\n",
    "counts.plot(kind='bar')\n",
    "\n",
    "# Set the title and labels for the plot\n",
    "plt.title('Number of Cars in Each Column')\n",
    "plt.xlabel('Column')\n",
    "plt.ylabel('Count')\n",
    "\n",
    "# Show the plot\n"
   ]
  },
  {
   "cell_type": "markdown",
   "id": "a5b0a037",
   "metadata": {},
   "source": [
    "##### * **key takeaway:** this shows the total cars in the dataset, well there are 450 cars, as the graph show the 2 columns only"
   ]
  },
  {
   "cell_type": "markdown",
   "id": "9afee8ad",
   "metadata": {},
   "source": [
    "### 4.3: Horsepower by type of the car"
   ]
  },
  {
   "cell_type": "code",
   "execution_count": 101,
   "id": "628cbb3c",
   "metadata": {
    "scrolled": true
   },
   "outputs": [
    {
     "data": {
      "text/html": [
       "<div>\n",
       "<style scoped>\n",
       "    .dataframe tbody tr th:only-of-type {\n",
       "        vertical-align: middle;\n",
       "    }\n",
       "\n",
       "    .dataframe tbody tr th {\n",
       "        vertical-align: top;\n",
       "    }\n",
       "\n",
       "    .dataframe thead th {\n",
       "        text-align: right;\n",
       "    }\n",
       "</style>\n",
       "<table border=\"1\" class=\"dataframe\">\n",
       "  <thead>\n",
       "    <tr style=\"text-align: right;\">\n",
       "      <th></th>\n",
       "      <th>Make</th>\n",
       "      <th>Model</th>\n",
       "      <th>Type</th>\n",
       "      <th>Origin</th>\n",
       "      <th>DriveTrain</th>\n",
       "      <th>MSRP</th>\n",
       "      <th>Invoice</th>\n",
       "      <th>EngineSize</th>\n",
       "      <th>Cylinders</th>\n",
       "      <th>Horsepower</th>\n",
       "      <th>MPG_City</th>\n",
       "      <th>MPG_Highway</th>\n",
       "      <th>Weight</th>\n",
       "      <th>Wheelbase</th>\n",
       "      <th>Length</th>\n",
       "      <th>MPG_City_ADD</th>\n",
       "    </tr>\n",
       "  </thead>\n",
       "  <tbody>\n",
       "    <tr>\n",
       "      <th>0</th>\n",
       "      <td>Acura</td>\n",
       "      <td>MDX</td>\n",
       "      <td>SUV</td>\n",
       "      <td>Asia</td>\n",
       "      <td>All</td>\n",
       "      <td>$36,945</td>\n",
       "      <td>33337.0</td>\n",
       "      <td>3.5</td>\n",
       "      <td>6.0</td>\n",
       "      <td>265.0</td>\n",
       "      <td>17.0</td>\n",
       "      <td>23.0</td>\n",
       "      <td>4451.0</td>\n",
       "      <td>0.736111</td>\n",
       "      <td>0.794118</td>\n",
       "      <td>20.0</td>\n",
       "    </tr>\n",
       "  </tbody>\n",
       "</table>\n",
       "</div>"
      ],
      "text/plain": [
       "    Make Model Type Origin DriveTrain      MSRP  Invoice  EngineSize  \\\n",
       "0  Acura   MDX  SUV   Asia        All  $36,945   33337.0         3.5   \n",
       "\n",
       "   Cylinders  Horsepower  MPG_City  MPG_Highway  Weight  Wheelbase    Length  \\\n",
       "0        6.0       265.0      17.0         23.0  4451.0   0.736111  0.794118   \n",
       "\n",
       "   MPG_City_ADD  \n",
       "0          20.0  "
      ]
     },
     "execution_count": 101,
     "metadata": {},
     "output_type": "execute_result"
    }
   ],
   "source": [
    "df.head(1)"
   ]
  },
  {
   "cell_type": "code",
   "execution_count": 102,
   "id": "2c01fbb8",
   "metadata": {},
   "outputs": [
    {
     "data": {
      "image/png": "[encoded data removed]",
      "text/plain": [
       "<Figure size 640x480 with 1 Axes>"
      ]
     },
     "metadata": {},
     "output_type": "display_data"
    }
   ],
   "source": [
    "# Group the data by Type and find the max Horsepower for each group\n",
    "max_hp_by_type = df.groupby('Type').Horsepower.max().sort_values(ascending=False)\n",
    "\n",
    "# Create a horizontal bar plot of the max Horsepower for each Type\n",
    "plt.barh(max_hp_by_type.index, max_hp_by_type.values) \n",
    "\n",
    "\n",
    "#to explain the above code on max_hp_by_type.index\n",
    "#max_hp_by_type.index retrieves the index of the Series object, which contains the unique car types (e.g. \"SUV\", \"Sedan\", \"Truck\", etc.). \n",
    "#This is used as the x-axis values for the horizontal bar chart created by plt.barh().\n",
    "\n",
    "#to explain the above code on max_hp_by_type.values\n",
    "#max_hp_by_type.values retrieves the values of the Series object, which contains the corresponding maximum horsepower \n",
    "#values for each car type. This is used as the y-axis values for the horizontal bar chart created by plt.barh().\n",
    "\n",
    "# Set the title and labels for the plot\n",
    "plt.title('Max Horsepower by Car Type')\n",
    "plt.xlabel('Horsepower')\n",
    "plt.ylabel('Car Type')\n",
    "\n",
    "# Show the plot\n",
    "plt.show()"
   ]
  },
  {
   "cell_type": "markdown",
   "id": "5d0cdb6b",
   "metadata": {},
   "source": [
    "##### * **key takeaway:**  Upon the car types given, Sports car type has the most high horsepower, while Sedan follows, the last being hybrid"
   ]
  },
  {
   "cell_type": "markdown",
   "id": "c7a96731",
   "metadata": {},
   "source": [
    "### 4.4: Top 5 Car models by max Invoice"
   ]
  },
  {
   "cell_type": "code",
   "execution_count": 103,
   "id": "6b38320b",
   "metadata": {},
   "outputs": [
    {
     "data": {
      "text/plain": [
       "<function matplotlib.pyplot.show(close=None, block=None)>"
      ]
     },
     "execution_count": 103,
     "metadata": {},
     "output_type": "execute_result"
    },
    {
     "data": {
      "image/png": "[encoded data removed]",
      "text/plain": [
       "<Figure size 640x480 with 1 Axes>"
      ]
     },
     "metadata": {},
     "output_type": "display_data"
    }
   ],
   "source": [
    "# Group the data by car model, get the maximum invoice for each model, and sort by descending order\n",
    "max_invoice_by_model = df.groupby('Model').Invoice.max().sort_values(ascending=False).head()\n",
    "\n",
    "# Create a horizontal bar chart to display the data\n",
    "plt.barh(max_invoice_by_model.index, max_invoice_by_model.values)\n",
    "\n",
    "# Add chart labels and title\n",
    "plt.xlabel('Maximum Invoice')\n",
    "plt.ylabel('Car Model')\n",
    "plt.title('Top 5 Car Models by Maximum Invoice')\n",
    "\n",
    "plt.show"
   ]
  },
  {
   "cell_type": "markdown",
   "id": "a02fc448",
   "metadata": {},
   "source": [
    "##### * **key takeaway:**  911 GT2 2dr model is the most expensive car as CL 500 car mode is the last on the top 5 cars chosen"
   ]
  },
  {
   "cell_type": "markdown",
   "id": "322109d7",
   "metadata": {},
   "source": [
    "### 4.5: Max Engine Size by car type"
   ]
  },
  {
   "cell_type": "code",
   "execution_count": 99,
   "id": "d5173097",
   "metadata": {},
   "outputs": [
    {
     "data": {
      "image/png": "[encoded data removed]",
      "text/plain": [
       "<Figure size 640x480 with 1 Axes>"
      ]
     },
     "metadata": {},
     "output_type": "display_data"
    }
   ],
   "source": [
    "# Group the data by car type and calculate the maximum engine size\n",
    "max_engine_by_type = df.groupby('Type').EngineSize.max()\n",
    "\n",
    "# Create a bar chart to visualize the maximum engine size for each car type\n",
    "plt.bar(max_engine_by_type.index, max_engine_by_type.values)\n",
    "\n",
    "# Set the chart title and axis labels\n",
    "plt.title('Maximum Engine Size by Car Type')\n",
    "plt.xlabel('Car Type')\n",
    "plt.ylabel('Engine Size (liters)')\n",
    "\n",
    "# Display the chart\n",
    "plt.show()"
   ]
  },
  {
   "cell_type": "markdown",
   "id": "9103a0d8",
   "metadata": {},
   "source": [
    "##### * **key takeaway:**  Sports car type has the most engine size the least being hybrid"
   ]
  },
  {
   "cell_type": "markdown",
   "id": "a4cde2a2",
   "metadata": {},
   "source": [
    "### 4.6: Comparison between cars from asia and europe"
   ]
  },
  {
   "cell_type": "code",
   "execution_count": 100,
   "id": "193ec1c1",
   "metadata": {},
   "outputs": [
    {
     "data": {
      "image/png": "[encoded data removed]",
      "text/plain": [
       "<Figure size 640x480 with 1 Axes>"
      ]
     },
     "metadata": {},
     "output_type": "display_data"
    }
   ],
   "source": [
    "filt = (df['Origin'] == 'Asia') | (df['Origin'] == 'Europe')\n",
    "filtered_df = df.loc[filt, :]\n",
    "\n",
    "# Create the plot\n",
    "plt.scatter(filtered_df['Type'], filtered_df['Origin'])\n",
    "plt.title('Cars from Asia and Europe')\n",
    "plt.xlabel('Car type')\n",
    "plt.ylabel('Origin')\n",
    "plt.show()"
   ]
  },
  {
   "cell_type": "markdown",
   "id": "db656b7c",
   "metadata": {},
   "source": [
    "##### * **key takeaway:**  graph shows that more cars types are coming from Asia and Europe"
   ]
  },
  {
   "cell_type": "code",
   "execution_count": 28,
   "id": "78ab676b",
   "metadata": {},
   "outputs": [],
   "source": [
    "#saving the dataset for more vizualisation\n",
    "df.to_csv(r\"C:\\Users\\Tamie\\Downloads\\python data science projects\\datasets\\cleaned Cars\")"
   ]
  },
  {
   "cell_type": "markdown",
   "id": "e300fe0e",
   "metadata": {},
   "source": [
    "#### Further data Visualization was done in powerbi: [Power data Viz link](https://app.powerbi.com/view?r=eyJrIjoiODBlM2NiOGMtNjZjNS00NGYyLTg2YzUtODE2OWJlYWM1ZWVhIiwidCI6IjQ0ZGJiOWQ3LTM3N2QtNDBkZS1hZGI4LTYzNTlkYWQ4MTBiZiJ9)\n"
   ]
  },
  {
   "cell_type": "markdown",
   "id": "62c5923e",
   "metadata": {},
   "source": [
    "## Author: TamiriraIshe Nyevera\n",
    "\n",
    "## Date: 3 January 2023\n",
    "\n",
    "* #### LinkedIn profile Link: [My LinkedIn Profile](https://www.linkedin.com/in/tamiriraishe-nyevera-2b51671b5/)\n",
    "\n",
    "* #### Github link:[Github profile](https://github.com/Tamie-AI-Tech)\n",
    "\n",
    "* #### Kaggle Link: [Kaggle Profile](https://www.kaggle.com/tamiriraishenyevera)\n",
    "\n",
    "* #### PowerBI visualisation imbedded code:[Power data Viz link](https://app.powerbi.com/view?r=eyJrIjoiODBlM2NiOGMtNjZjNS00NGYyLTg2YzUtODE2OWJlYWM1ZWVhIiwidCI6IjQ0ZGJiOWQ3LTM3N2QtNDBkZS1hZGI4LTYzNTlkYWQ4MTBiZiJ9)"
   ]
  },
  {
   "cell_type": "code",
   "execution_count": null,
   "id": "ee14319e",
   "metadata": {},
   "outputs": [],
   "source": []
  }
 ],
 "metadata": {
  "kernelspec": {
   "display_name": "Python 3 (ipykernel)",
   "language": "python",
   "name": "python3"
  },
  "language_info": {
   "codemirror_mode": {
    "name": "ipython",
    "version": 3
   },
   "file_extension": ".py",
   "mimetype": "text/x-python",
   "name": "python",
   "nbconvert_exporter": "python",
   "pygments_lexer": "ipython3",
   "version": "3.9.13"
  },
  "toc": {
   "base_numbering": 1,
   "nav_menu": {},
   "number_sections": true,
   "sideBar": true,
   "skip_h1_title": false,
   "title_cell": "Table of Contents",
   "title_sidebar": "Contents",
   "toc_cell": false,
   "toc_position": {},
   "toc_section_display": true,
   "toc_window_display": false
  }
 },
 "nbformat": 4,
 "nbformat_minor": 5
}
