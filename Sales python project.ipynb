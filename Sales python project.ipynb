{
 "cells": [
  {
   "cell_type": "markdown",
   "id": "a75900ee",
   "metadata": {},
   "source": [
    "### Title: Sales analysis Real world Project with python"
   ]
  },
  {
   "cell_type": "markdown",
   "id": "8ed8155f",
   "metadata": {},
   "source": [
    "\n",
    "\n",
    "\n",
    "* #### LinkedIn profile Link: [My LinkedIn Profile](https://www.linkedin.com/in/tamiriraishe-nyevera-2b51671b5/)\n",
    "\n",
    "\n",
    "* #### Github Link: [Github profile](https://github.com/Tamie-AI-Tech)\n",
    "\n",
    "* #### Kaggle Link: [Kaggle Profile](https://www.kaggle.com/tamiriraishenyevera)\n",
    "\n",
    "* #### PowerBI visualisation imbedded code: [Power data Viz link](https://app.powerbi.com/view?r=eyJrIjoiZDExZjU5ZDYtYzAwYS00NDIxLWI4YWMtNmY0ZjM3NTE0NWNjIiwidCI6IjQ0ZGJiOWQ3LTM3N2QtNDBkZS1hZGI4LTYzNTlkYWQ4MTBiZiJ9)"
   ]
  },
  {
   "cell_type": "markdown",
   "id": "59da22d4",
   "metadata": {},
   "source": [
    "#### Introduction"
   ]
  },
  {
   "cell_type": "markdown",
   "id": "4516569b",
   "metadata": {},
   "source": [
    "* The following dataset contains information about the revenue, profits, unit cost, products, dates, totals sales that the company had in 4 years that is from 2011 to 2016\n",
    "\n",
    "* The data is a csv file and analysis is done using pandas \n",
    "* The data will be saved and exported to power bi for good visualisations\n",
    "* matplotlib will be used for some data visualisations to get the inisghts of the data\n",
    "\n"
   ]
  },
  {
   "cell_type": "markdown",
   "id": "b38571f7",
   "metadata": {},
   "source": [
    "#### Questions to answer"
   ]
  },
  {
   "cell_type": "markdown",
   "id": "ebbb8f6e",
   "metadata": {},
   "source": [
    "These Questions will be answered under phase3: of the data analysis \n",
    "\n",
    "\n",
    "* Which Product category had highest sales\n",
    "* Which Product is favoured by females\n",
    "* which of the 10 that product has the highest revenue\n",
    "* Which month produced highest profits\n",
    "* How many product are in the company\n",
    "* Which day of the week had the highest order quantity\n",
    "* Which sub category was most ordered in 2014\n",
    "* what is the product favoured by people under the age of 40\n",
    "* which Year produced highest revenue\n",
    "* which country had the highest sales\n",
    "* which country had the highest revenue and profits in 2015\n",
    "* what was the highest ordered product and the one that produced highest profit in Canada in 2015\n",
    "* Which Australia states bought highest number of bike rakes\n",
    "* which products were favoured by the different age groups\n",
    "* which customer age had highest order quantity\n",
    "* what was the prodct that made more profit \n",
    "* find the relationships between the variables and plot the visuals\n",
    "\n",
    "The questions were brought up by the arthor as a way of story telling"
   ]
  },
  {
   "cell_type": "markdown",
   "id": "3127b173",
   "metadata": {},
   "source": [
    "# Phase 1: Prepare"
   ]
  },
  {
   "cell_type": "markdown",
   "id": "bdf541b2",
   "metadata": {},
   "source": [
    "This step involves data import,it includes import of libraries that facilitate data import, analysis and visualisation.\n"
   ]
  },
  {
   "cell_type": "code",
   "execution_count": 1,
   "id": "1cf4eb53",
   "metadata": {},
   "outputs": [],
   "source": [
    "import pandas as pd               #for data loading and manipulation\n",
    "\n",
    "import numpy as np                #for stastical analysis\n",
    "\n",
    "import matplotlib.pyplot as plt        #for data visualisation\n",
    "import seaborn as sns\n",
    "\n",
    "import matplotlib\n",
    "%matplotlib inline "
   ]
  },
  {
   "cell_type": "markdown",
   "id": "419b3b76",
   "metadata": {},
   "source": [
    "import data downloaded already and in the local machine"
   ]
  },
  {
   "cell_type": "code",
   "execution_count": 2,
   "id": "2afb377e",
   "metadata": {},
   "outputs": [],
   "source": [
    "na_vals = ['nan', 'NaN', ' ', ' missing', 'Missing', 'naN', None]     # a list containing all the values to be deemed as null values\n",
    "df = pd.read_csv(r\"C:\\Users\\Tamie\\Downloads\\datasets\\sales.csv\", na_values = na_vals)   # a list of null values that is set equal to the na_values\n",
    "\n",
    "\n",
    "\n",
    "\n",
    "#take note of the dataset directory, click on the dataset that needs to be imported and copy path or\n",
    "#go to properties >> right click on the dataset >> security >> copy the path that shows beneath\n",
    "#take note, on both cases insert r before the path directory.\n",
    "\n",
    "#on this following method inputting r doesnt matter\n",
    "#import the in the jupyter notebook folder you wroking on and copy the name of the dataset hence insert it in the parentheses\n"
   ]
  },
  {
   "cell_type": "code",
   "execution_count": 3,
   "id": "e73f3d9c",
   "metadata": {},
   "outputs": [
    {
     "data": {
      "text/html": [
       "<div>\n",
       "<style scoped>\n",
       "    .dataframe tbody tr th:only-of-type {\n",
       "        vertical-align: middle;\n",
       "    }\n",
       "\n",
       "    .dataframe tbody tr th {\n",
       "        vertical-align: top;\n",
       "    }\n",
       "\n",
       "    .dataframe thead th {\n",
       "        text-align: right;\n",
       "    }\n",
       "</style>\n",
       "<table border=\"1\" class=\"dataframe\">\n",
       "  <thead>\n",
       "    <tr style=\"text-align: right;\">\n",
       "      <th></th>\n",
       "      <th>Date</th>\n",
       "      <th>Day</th>\n",
       "      <th>Month</th>\n",
       "      <th>Year</th>\n",
       "      <th>Customer_Age</th>\n",
       "      <th>Age_Group</th>\n",
       "      <th>Customer_Gender</th>\n",
       "      <th>Country</th>\n",
       "      <th>State</th>\n",
       "      <th>Product_Category</th>\n",
       "      <th>Sub_Category</th>\n",
       "      <th>Product</th>\n",
       "      <th>Order_Quantity</th>\n",
       "      <th>Unit_Cost</th>\n",
       "      <th>Unit_Price</th>\n",
       "      <th>Profit</th>\n",
       "      <th>Cost</th>\n",
       "      <th>Revenue</th>\n",
       "    </tr>\n",
       "  </thead>\n",
       "  <tbody>\n",
       "    <tr>\n",
       "      <th>0</th>\n",
       "      <td>2013-11-26</td>\n",
       "      <td>26</td>\n",
       "      <td>November</td>\n",
       "      <td>2013</td>\n",
       "      <td>19</td>\n",
       "      <td>Youth (&lt;25)</td>\n",
       "      <td>M</td>\n",
       "      <td>Canada</td>\n",
       "      <td>British Columbia</td>\n",
       "      <td>Accessories</td>\n",
       "      <td>Bike Racks</td>\n",
       "      <td>Hitch Rack - 4-Bike</td>\n",
       "      <td>8.0</td>\n",
       "      <td>45.0</td>\n",
       "      <td>120.0</td>\n",
       "      <td>590.0</td>\n",
       "      <td>360.0</td>\n",
       "      <td>950.0</td>\n",
       "    </tr>\n",
       "    <tr>\n",
       "      <th>1</th>\n",
       "      <td>2015-11-26</td>\n",
       "      <td>26</td>\n",
       "      <td>November</td>\n",
       "      <td>2015</td>\n",
       "      <td>19</td>\n",
       "      <td>Youth (&lt;25)</td>\n",
       "      <td>M</td>\n",
       "      <td>Canada</td>\n",
       "      <td>British Columbia</td>\n",
       "      <td>Accessories</td>\n",
       "      <td>Bike Racks</td>\n",
       "      <td>Hitch Rack - 4-Bike</td>\n",
       "      <td>8.0</td>\n",
       "      <td>45.0</td>\n",
       "      <td>120.0</td>\n",
       "      <td>590.0</td>\n",
       "      <td>360.0</td>\n",
       "      <td>950.0</td>\n",
       "    </tr>\n",
       "  </tbody>\n",
       "</table>\n",
       "</div>"
      ],
      "text/plain": [
       "         Date  Day     Month  Year  Customer_Age    Age_Group Customer_Gender  \\\n",
       "0  2013-11-26   26  November  2013            19  Youth (<25)               M   \n",
       "1  2015-11-26   26  November  2015            19  Youth (<25)               M   \n",
       "\n",
       "  Country             State Product_Category Sub_Category  \\\n",
       "0  Canada  British Columbia      Accessories   Bike Racks   \n",
       "1  Canada  British Columbia      Accessories   Bike Racks   \n",
       "\n",
       "               Product  Order_Quantity  Unit_Cost  Unit_Price  Profit   Cost  \\\n",
       "0  Hitch Rack - 4-Bike             8.0       45.0       120.0   590.0  360.0   \n",
       "1  Hitch Rack - 4-Bike             8.0       45.0       120.0   590.0  360.0   \n",
       "\n",
       "   Revenue  \n",
       "0    950.0  \n",
       "1    950.0  "
      ]
     },
     "execution_count": 3,
     "metadata": {},
     "output_type": "execute_result"
    }
   ],
   "source": [
    "#take a look at the first 2 rows of the dataset\n",
    "\n",
    "df.head(2)            # 2 in the parethesis shows only the first 2 rows, however by default that is if there\n",
    "                      # is no any number it shows the first 5 rows"
   ]
  },
  {
   "cell_type": "code",
   "execution_count": 4,
   "id": "cd056fe2",
   "metadata": {},
   "outputs": [
    {
     "data": {
      "text/html": [
       "<div>\n",
       "<style scoped>\n",
       "    .dataframe tbody tr th:only-of-type {\n",
       "        vertical-align: middle;\n",
       "    }\n",
       "\n",
       "    .dataframe tbody tr th {\n",
       "        vertical-align: top;\n",
       "    }\n",
       "\n",
       "    .dataframe thead th {\n",
       "        text-align: right;\n",
       "    }\n",
       "</style>\n",
       "<table border=\"1\" class=\"dataframe\">\n",
       "  <thead>\n",
       "    <tr style=\"text-align: right;\">\n",
       "      <th></th>\n",
       "      <th>Date</th>\n",
       "      <th>Day</th>\n",
       "      <th>Month</th>\n",
       "      <th>Year</th>\n",
       "      <th>Customer_Age</th>\n",
       "      <th>Age_Group</th>\n",
       "      <th>Customer_Gender</th>\n",
       "      <th>Country</th>\n",
       "      <th>State</th>\n",
       "      <th>Product_Category</th>\n",
       "      <th>Sub_Category</th>\n",
       "      <th>Product</th>\n",
       "      <th>Order_Quantity</th>\n",
       "      <th>Unit_Cost</th>\n",
       "      <th>Unit_Price</th>\n",
       "      <th>Profit</th>\n",
       "      <th>Cost</th>\n",
       "      <th>Revenue</th>\n",
       "    </tr>\n",
       "  </thead>\n",
       "  <tbody>\n",
       "    <tr>\n",
       "      <th>105151</th>\n",
       "      <td>2015-09-23</td>\n",
       "      <td>23</td>\n",
       "      <td>September</td>\n",
       "      <td>2015</td>\n",
       "      <td>46</td>\n",
       "      <td>Adults (35-64)</td>\n",
       "      <td>M</td>\n",
       "      <td>United States</td>\n",
       "      <td>California</td>\n",
       "      <td>Accessories</td>\n",
       "      <td>Tires and Tubes</td>\n",
       "      <td>Patch Kit/8 Patches</td>\n",
       "      <td>17.0</td>\n",
       "      <td>1.0</td>\n",
       "      <td>2.0</td>\n",
       "      <td>16.0</td>\n",
       "      <td>17.0</td>\n",
       "      <td>33.0</td>\n",
       "    </tr>\n",
       "    <tr>\n",
       "      <th>105152</th>\n",
       "      <td>2013-10-09</td>\n",
       "      <td>9</td>\n",
       "      <td>October</td>\n",
       "      <td>2013</td>\n",
       "      <td>46</td>\n",
       "      <td>Adults</td>\n",
       "      <td>NaN</td>\n",
       "      <td>NaN</td>\n",
       "      <td>NaN</td>\n",
       "      <td>NaN</td>\n",
       "      <td>NaN</td>\n",
       "      <td>NaN</td>\n",
       "      <td>NaN</td>\n",
       "      <td>NaN</td>\n",
       "      <td>NaN</td>\n",
       "      <td>NaN</td>\n",
       "      <td>NaN</td>\n",
       "      <td>NaN</td>\n",
       "    </tr>\n",
       "  </tbody>\n",
       "</table>\n",
       "</div>"
      ],
      "text/plain": [
       "              Date  Day      Month  Year  Customer_Age       Age_Group  \\\n",
       "105151  2015-09-23   23  September  2015            46  Adults (35-64)   \n",
       "105152  2013-10-09    9    October  2013            46         Adults    \n",
       "\n",
       "       Customer_Gender        Country       State Product_Category  \\\n",
       "105151               M  United States  California      Accessories   \n",
       "105152             NaN            NaN         NaN              NaN   \n",
       "\n",
       "           Sub_Category              Product  Order_Quantity  Unit_Cost  \\\n",
       "105151  Tires and Tubes  Patch Kit/8 Patches            17.0        1.0   \n",
       "105152              NaN                  NaN             NaN        NaN   \n",
       "\n",
       "        Unit_Price  Profit  Cost  Revenue  \n",
       "105151         2.0    16.0  17.0     33.0  \n",
       "105152         NaN     NaN   NaN      NaN  "
      ]
     },
     "execution_count": 4,
     "metadata": {},
     "output_type": "execute_result"
    }
   ],
   "source": [
    "#take a look at the last 2 rows of the dataset\n",
    "\n",
    "df.tail(2) "
   ]
  },
  {
   "cell_type": "code",
   "execution_count": 5,
   "id": "4ec1e036",
   "metadata": {},
   "outputs": [
    {
     "data": {
      "text/plain": [
       "(105153, 18)"
      ]
     },
     "execution_count": 5,
     "metadata": {},
     "output_type": "execute_result"
    }
   ],
   "source": [
    "# check the shape of the date\n",
    "df.shape"
   ]
  },
  {
   "cell_type": "markdown",
   "id": "6b8a8e5b",
   "metadata": {},
   "source": [
    "the dataset has 105153 rows and 18 columns"
   ]
  },
  {
   "cell_type": "code",
   "execution_count": 6,
   "id": "6cea2d70",
   "metadata": {},
   "outputs": [
    {
     "data": {
      "text/html": [
       "<div>\n",
       "<style scoped>\n",
       "    .dataframe tbody tr th:only-of-type {\n",
       "        vertical-align: middle;\n",
       "    }\n",
       "\n",
       "    .dataframe tbody tr th {\n",
       "        vertical-align: top;\n",
       "    }\n",
       "\n",
       "    .dataframe thead th {\n",
       "        text-align: right;\n",
       "    }\n",
       "</style>\n",
       "<table border=\"1\" class=\"dataframe\">\n",
       "  <thead>\n",
       "    <tr style=\"text-align: right;\">\n",
       "      <th></th>\n",
       "      <th>0</th>\n",
       "    </tr>\n",
       "  </thead>\n",
       "  <tbody>\n",
       "    <tr>\n",
       "      <th>Date</th>\n",
       "      <td>Date</td>\n",
       "    </tr>\n",
       "    <tr>\n",
       "      <th>Day</th>\n",
       "      <td>Day</td>\n",
       "    </tr>\n",
       "    <tr>\n",
       "      <th>Month</th>\n",
       "      <td>Month</td>\n",
       "    </tr>\n",
       "    <tr>\n",
       "      <th>Year</th>\n",
       "      <td>Year</td>\n",
       "    </tr>\n",
       "    <tr>\n",
       "      <th>Customer_Age</th>\n",
       "      <td>Customer_Age</td>\n",
       "    </tr>\n",
       "    <tr>\n",
       "      <th>Age_Group</th>\n",
       "      <td>Age_Group</td>\n",
       "    </tr>\n",
       "    <tr>\n",
       "      <th>Customer_Gender</th>\n",
       "      <td>Customer_Gender</td>\n",
       "    </tr>\n",
       "    <tr>\n",
       "      <th>Country</th>\n",
       "      <td>Country</td>\n",
       "    </tr>\n",
       "    <tr>\n",
       "      <th>State</th>\n",
       "      <td>State</td>\n",
       "    </tr>\n",
       "    <tr>\n",
       "      <th>Product_Category</th>\n",
       "      <td>Product_Category</td>\n",
       "    </tr>\n",
       "    <tr>\n",
       "      <th>Sub_Category</th>\n",
       "      <td>Sub_Category</td>\n",
       "    </tr>\n",
       "    <tr>\n",
       "      <th>Product</th>\n",
       "      <td>Product</td>\n",
       "    </tr>\n",
       "    <tr>\n",
       "      <th>Order_Quantity</th>\n",
       "      <td>Order_Quantity</td>\n",
       "    </tr>\n",
       "    <tr>\n",
       "      <th>Unit_Cost</th>\n",
       "      <td>Unit_Cost</td>\n",
       "    </tr>\n",
       "    <tr>\n",
       "      <th>Unit_Price</th>\n",
       "      <td>Unit_Price</td>\n",
       "    </tr>\n",
       "    <tr>\n",
       "      <th>Profit</th>\n",
       "      <td>Profit</td>\n",
       "    </tr>\n",
       "    <tr>\n",
       "      <th>Cost</th>\n",
       "      <td>Cost</td>\n",
       "    </tr>\n",
       "    <tr>\n",
       "      <th>Revenue</th>\n",
       "      <td>Revenue</td>\n",
       "    </tr>\n",
       "  </tbody>\n",
       "</table>\n",
       "</div>"
      ],
      "text/plain": [
       "                                 0\n",
       "Date                          Date\n",
       "Day                            Day\n",
       "Month                        Month\n",
       "Year                          Year\n",
       "Customer_Age          Customer_Age\n",
       "Age_Group                Age_Group\n",
       "Customer_Gender    Customer_Gender\n",
       "Country                    Country\n",
       "State                        State\n",
       "Product_Category  Product_Category\n",
       "Sub_Category          Sub_Category\n",
       "Product                    Product\n",
       "Order_Quantity      Order_Quantity\n",
       "Unit_Cost                Unit_Cost\n",
       "Unit_Price              Unit_Price\n",
       "Profit                      Profit\n",
       "Cost                          Cost\n",
       "Revenue                    Revenue"
      ]
     },
     "execution_count": 6,
     "metadata": {},
     "output_type": "execute_result"
    }
   ],
   "source": [
    "#check all the column names of the dataset\n",
    "\n",
    "df.columns.to_frame()"
   ]
  },
  {
   "cell_type": "markdown",
   "id": "e6970ad5",
   "metadata": {},
   "source": [
    "# Phase 2: Data Processing"
   ]
  },
  {
   "cell_type": "markdown",
   "id": "b6423d8b",
   "metadata": {},
   "source": [
    "This phase includes all the cleaning, transforming and processing of data"
   ]
  },
  {
   "cell_type": "markdown",
   "id": "0bf46532",
   "metadata": {},
   "source": [
    "### Step 1: Check for all the the missing or na values in the dataset"
   ]
  },
  {
   "cell_type": "code",
   "execution_count": 7,
   "id": "4c1665d8",
   "metadata": {},
   "outputs": [
    {
     "data": {
      "text/plain": [
       "Date                0\n",
       "Day                 0\n",
       "Month               0\n",
       "Year                0\n",
       "Customer_Age        0\n",
       "Age_Group           0\n",
       "Customer_Gender     1\n",
       "Country             1\n",
       "State               1\n",
       "Product_Category    1\n",
       "Sub_Category        1\n",
       "Product             1\n",
       "Order_Quantity      1\n",
       "Unit_Cost           1\n",
       "Unit_Price          1\n",
       "Profit              1\n",
       "Cost                1\n",
       "Revenue             1\n",
       "dtype: int64"
      ]
     },
     "execution_count": 7,
     "metadata": {},
     "output_type": "execute_result"
    }
   ],
   "source": [
    "\n",
    "df.isnull().sum()        # checks all the rows to see if there are any missing values or na values and sum them all"
   ]
  },
  {
   "cell_type": "markdown",
   "id": "3065f86f",
   "metadata": {},
   "source": [
    "This shows that starting from customer gender to revenue there is a missing value presented, Before dropping the rows or columns care should be taken as to weather if the rows can be filled or not, through asking or through using the mean values, or through using the most values. The decision made is based upon those factors, from the looks of it some of the rows cannot be filled, hence dropping them is the way.\n",
    "\n",
    "In this case dropping the values wont hurt the dataset at all cost and its the fastest and efficient process to do"
   ]
  },
  {
   "cell_type": "code",
   "execution_count": 8,
   "id": "4e336f94",
   "metadata": {},
   "outputs": [
    {
     "data": {
      "text/html": [
       "<div>\n",
       "<style scoped>\n",
       "    .dataframe tbody tr th:only-of-type {\n",
       "        vertical-align: middle;\n",
       "    }\n",
       "\n",
       "    .dataframe tbody tr th {\n",
       "        vertical-align: top;\n",
       "    }\n",
       "\n",
       "    .dataframe thead th {\n",
       "        text-align: right;\n",
       "    }\n",
       "</style>\n",
       "<table border=\"1\" class=\"dataframe\">\n",
       "  <thead>\n",
       "    <tr style=\"text-align: right;\">\n",
       "      <th></th>\n",
       "      <th>Date</th>\n",
       "      <th>Day</th>\n",
       "      <th>Month</th>\n",
       "      <th>Year</th>\n",
       "      <th>Customer_Age</th>\n",
       "      <th>Age_Group</th>\n",
       "      <th>Customer_Gender</th>\n",
       "      <th>Country</th>\n",
       "      <th>State</th>\n",
       "      <th>Product_Category</th>\n",
       "      <th>Sub_Category</th>\n",
       "      <th>Product</th>\n",
       "      <th>Order_Quantity</th>\n",
       "      <th>Unit_Cost</th>\n",
       "      <th>Unit_Price</th>\n",
       "      <th>Profit</th>\n",
       "      <th>Cost</th>\n",
       "      <th>Revenue</th>\n",
       "    </tr>\n",
       "  </thead>\n",
       "  <tbody>\n",
       "    <tr>\n",
       "      <th>105152</th>\n",
       "      <td>2013-10-09</td>\n",
       "      <td>9</td>\n",
       "      <td>October</td>\n",
       "      <td>2013</td>\n",
       "      <td>46</td>\n",
       "      <td>Adults</td>\n",
       "      <td>na_va</td>\n",
       "      <td>na_va</td>\n",
       "      <td>na_va</td>\n",
       "      <td>na_va</td>\n",
       "      <td>na_va</td>\n",
       "      <td>na_va</td>\n",
       "      <td>na_va</td>\n",
       "      <td>na_va</td>\n",
       "      <td>na_va</td>\n",
       "      <td>na_va</td>\n",
       "      <td>na_va</td>\n",
       "      <td>na_va</td>\n",
       "    </tr>\n",
       "  </tbody>\n",
       "</table>\n",
       "</div>"
      ],
      "text/plain": [
       "              Date  Day    Month  Year  Customer_Age Age_Group  \\\n",
       "105152  2013-10-09    9  October  2013            46   Adults    \n",
       "\n",
       "       Customer_Gender Country  State Product_Category Sub_Category Product  \\\n",
       "105152           na_va   na_va  na_va            na_va        na_va   na_va   \n",
       "\n",
       "       Order_Quantity Unit_Cost Unit_Price Profit   Cost Revenue  \n",
       "105152          na_va     na_va      na_va  na_va  na_va   na_va  "
      ]
     },
     "execution_count": 8,
     "metadata": {},
     "output_type": "execute_result"
    }
   ],
   "source": [
    "# before dropping check the rows having the null_values chances are that they are in the same row\n",
    "\n",
    "df.replace({np.nan: 'na_va'}, inplace = True)      # replaces all the np.nan values with 'na_va', inplace = True shows that changes done will affect the whole dataset\n",
    "\n",
    "filt = (df['State'] == 'na_va')                    # filters the rows having the values with 'na_va', that has replaced the np.nan\n",
    "df[filt]"
   ]
  },
  {
   "cell_type": "markdown",
   "id": "fbde44ce",
   "metadata": {},
   "source": [
    "as predicted its only on row having all the missing information, this makes it easy to drop"
   ]
  },
  {
   "cell_type": "code",
   "execution_count": 9,
   "id": "fec5292e",
   "metadata": {},
   "outputs": [],
   "source": [
    "#drop all the null values\n",
    "df.replace({'na_va': np.nan}, inplace = True)     #reverse the process done above of replacing the np.nan values with na_va\n",
    "df.dropna(inplace = True)"
   ]
  },
  {
   "cell_type": "markdown",
   "id": "cf6cb71c",
   "metadata": {},
   "source": [
    "check the shape of the dataset again"
   ]
  },
  {
   "cell_type": "code",
   "execution_count": 10,
   "id": "171e3ccd",
   "metadata": {},
   "outputs": [
    {
     "data": {
      "text/plain": [
       "(105152, 18)"
      ]
     },
     "execution_count": 10,
     "metadata": {},
     "output_type": "execute_result"
    }
   ],
   "source": [
    "df.shape"
   ]
  },
  {
   "cell_type": "markdown",
   "id": "5a1d9df9",
   "metadata": {},
   "source": [
    "now there are 105152 rows instead of 105153 obtained before the dataset was cleaned"
   ]
  },
  {
   "cell_type": "markdown",
   "id": "bea9cd8f",
   "metadata": {},
   "source": [
    "### Step 2: Check for the datatypes in the dataset to see if there is need to change the datatypes of some columns"
   ]
  },
  {
   "cell_type": "code",
   "execution_count": 11,
   "id": "f58fb8c5",
   "metadata": {},
   "outputs": [
    {
     "data": {
      "text/html": [
       "<div>\n",
       "<style scoped>\n",
       "    .dataframe tbody tr th:only-of-type {\n",
       "        vertical-align: middle;\n",
       "    }\n",
       "\n",
       "    .dataframe tbody tr th {\n",
       "        vertical-align: top;\n",
       "    }\n",
       "\n",
       "    .dataframe thead th {\n",
       "        text-align: right;\n",
       "    }\n",
       "</style>\n",
       "<table border=\"1\" class=\"dataframe\">\n",
       "  <thead>\n",
       "    <tr style=\"text-align: right;\">\n",
       "      <th></th>\n",
       "      <th>Date</th>\n",
       "      <th>Day</th>\n",
       "      <th>Month</th>\n",
       "      <th>Year</th>\n",
       "      <th>Customer_Age</th>\n",
       "      <th>Age_Group</th>\n",
       "      <th>Customer_Gender</th>\n",
       "      <th>Country</th>\n",
       "      <th>State</th>\n",
       "      <th>Product_Category</th>\n",
       "      <th>Sub_Category</th>\n",
       "      <th>Product</th>\n",
       "      <th>Order_Quantity</th>\n",
       "      <th>Unit_Cost</th>\n",
       "      <th>Unit_Price</th>\n",
       "      <th>Profit</th>\n",
       "      <th>Cost</th>\n",
       "      <th>Revenue</th>\n",
       "    </tr>\n",
       "  </thead>\n",
       "  <tbody>\n",
       "    <tr>\n",
       "      <th>0</th>\n",
       "      <td>2013-11-26</td>\n",
       "      <td>26</td>\n",
       "      <td>November</td>\n",
       "      <td>2013</td>\n",
       "      <td>19</td>\n",
       "      <td>Youth (&lt;25)</td>\n",
       "      <td>M</td>\n",
       "      <td>Canada</td>\n",
       "      <td>British Columbia</td>\n",
       "      <td>Accessories</td>\n",
       "      <td>Bike Racks</td>\n",
       "      <td>Hitch Rack - 4-Bike</td>\n",
       "      <td>8.0</td>\n",
       "      <td>45.0</td>\n",
       "      <td>120.0</td>\n",
       "      <td>590.0</td>\n",
       "      <td>360.0</td>\n",
       "      <td>950.0</td>\n",
       "    </tr>\n",
       "  </tbody>\n",
       "</table>\n",
       "</div>"
      ],
      "text/plain": [
       "         Date  Day     Month  Year  Customer_Age    Age_Group Customer_Gender  \\\n",
       "0  2013-11-26   26  November  2013            19  Youth (<25)               M   \n",
       "\n",
       "  Country             State Product_Category Sub_Category  \\\n",
       "0  Canada  British Columbia      Accessories   Bike Racks   \n",
       "\n",
       "               Product  Order_Quantity  Unit_Cost  Unit_Price  Profit   Cost  \\\n",
       "0  Hitch Rack - 4-Bike             8.0       45.0       120.0   590.0  360.0   \n",
       "\n",
       "   Revenue  \n",
       "0    950.0  "
      ]
     },
     "execution_count": 11,
     "metadata": {},
     "output_type": "execute_result"
    }
   ],
   "source": [
    "df.head(1)        # take a look at the dataset\n"
   ]
  },
  {
   "cell_type": "code",
   "execution_count": 12,
   "id": "cf8cc040",
   "metadata": {},
   "outputs": [
    {
     "data": {
      "text/plain": [
       "Date                 object\n",
       "Day                   int64\n",
       "Month                object\n",
       "Year                  int64\n",
       "Customer_Age          int64\n",
       "Age_Group            object\n",
       "Customer_Gender      object\n",
       "Country              object\n",
       "State                object\n",
       "Product_Category     object\n",
       "Sub_Category         object\n",
       "Product              object\n",
       "Order_Quantity      float64\n",
       "Unit_Cost           float64\n",
       "Unit_Price          float64\n",
       "Profit              float64\n",
       "Cost                float64\n",
       "Revenue             float64\n",
       "dtype: object"
      ]
     },
     "execution_count": 12,
     "metadata": {},
     "output_type": "execute_result"
    }
   ],
   "source": [
    "df.dtypes"
   ]
  },
  {
   "cell_type": "markdown",
   "id": "7aae95e5",
   "metadata": {},
   "source": [
    "Date has to be converted from the object datatype to the timestamp "
   ]
  },
  {
   "cell_type": "code",
   "execution_count": 13,
   "id": "134fb230",
   "metadata": {},
   "outputs": [],
   "source": [
    "df['Date'] = pd.to_datetime(df['Date'])        #converting the object datatype from object in date column to the timestamp "
   ]
  },
  {
   "cell_type": "code",
   "execution_count": 14,
   "id": "7fc73fca",
   "metadata": {},
   "outputs": [
    {
     "data": {
      "text/plain": [
       "dtype('<M8[ns]')"
      ]
     },
     "execution_count": 14,
     "metadata": {},
     "output_type": "execute_result"
    }
   ],
   "source": [
    "#check the datatype\n",
    "df['Date'].dtype"
   ]
  },
  {
   "cell_type": "markdown",
   "id": "06f95c76",
   "metadata": {},
   "source": [
    "\n",
    "\n",
    "checking from the previous dataset its datatype has changed"
   ]
  },
  {
   "cell_type": "markdown",
   "id": "81c6c596",
   "metadata": {},
   "source": [
    "#### Step 2.1: Create a columns containing day names in the dataset"
   ]
  },
  {
   "cell_type": "code",
   "execution_count": 15,
   "id": "34a884a5",
   "metadata": {},
   "outputs": [],
   "source": [
    "df['Day_Of_Week'] = df['Date'].dt.day_name()"
   ]
  },
  {
   "cell_type": "code",
   "execution_count": 16,
   "id": "9aae72b1",
   "metadata": {},
   "outputs": [
    {
     "data": {
      "text/html": [
       "<div>\n",
       "<style scoped>\n",
       "    .dataframe tbody tr th:only-of-type {\n",
       "        vertical-align: middle;\n",
       "    }\n",
       "\n",
       "    .dataframe tbody tr th {\n",
       "        vertical-align: top;\n",
       "    }\n",
       "\n",
       "    .dataframe thead th {\n",
       "        text-align: right;\n",
       "    }\n",
       "</style>\n",
       "<table border=\"1\" class=\"dataframe\">\n",
       "  <thead>\n",
       "    <tr style=\"text-align: right;\">\n",
       "      <th></th>\n",
       "      <th>Date</th>\n",
       "      <th>Day</th>\n",
       "      <th>Month</th>\n",
       "      <th>Year</th>\n",
       "      <th>Customer_Age</th>\n",
       "      <th>Age_Group</th>\n",
       "      <th>Customer_Gender</th>\n",
       "      <th>Country</th>\n",
       "      <th>State</th>\n",
       "      <th>Product_Category</th>\n",
       "      <th>Sub_Category</th>\n",
       "      <th>Product</th>\n",
       "      <th>Order_Quantity</th>\n",
       "      <th>Unit_Cost</th>\n",
       "      <th>Unit_Price</th>\n",
       "      <th>Profit</th>\n",
       "      <th>Cost</th>\n",
       "      <th>Revenue</th>\n",
       "      <th>Day_Of_Week</th>\n",
       "    </tr>\n",
       "  </thead>\n",
       "  <tbody>\n",
       "    <tr>\n",
       "      <th>0</th>\n",
       "      <td>2013-11-26</td>\n",
       "      <td>26</td>\n",
       "      <td>November</td>\n",
       "      <td>2013</td>\n",
       "      <td>19</td>\n",
       "      <td>Youth (&lt;25)</td>\n",
       "      <td>M</td>\n",
       "      <td>Canada</td>\n",
       "      <td>British Columbia</td>\n",
       "      <td>Accessories</td>\n",
       "      <td>Bike Racks</td>\n",
       "      <td>Hitch Rack - 4-Bike</td>\n",
       "      <td>8.0</td>\n",
       "      <td>45.0</td>\n",
       "      <td>120.0</td>\n",
       "      <td>590.0</td>\n",
       "      <td>360.0</td>\n",
       "      <td>950.0</td>\n",
       "      <td>Tuesday</td>\n",
       "    </tr>\n",
       "  </tbody>\n",
       "</table>\n",
       "</div>"
      ],
      "text/plain": [
       "        Date  Day     Month  Year  Customer_Age    Age_Group Customer_Gender  \\\n",
       "0 2013-11-26   26  November  2013            19  Youth (<25)               M   \n",
       "\n",
       "  Country             State Product_Category Sub_Category  \\\n",
       "0  Canada  British Columbia      Accessories   Bike Racks   \n",
       "\n",
       "               Product  Order_Quantity  Unit_Cost  Unit_Price  Profit   Cost  \\\n",
       "0  Hitch Rack - 4-Bike             8.0       45.0       120.0   590.0  360.0   \n",
       "\n",
       "   Revenue Day_Of_Week  \n",
       "0    950.0     Tuesday  "
      ]
     },
     "execution_count": 16,
     "metadata": {},
     "output_type": "execute_result"
    }
   ],
   "source": [
    "df.head(1)"
   ]
  },
  {
   "cell_type": "markdown",
   "id": "5bffe73e",
   "metadata": {},
   "source": [
    "\n",
    "the day of the week column has been added at the end of the dataset"
   ]
  },
  {
   "cell_type": "markdown",
   "id": "bbc2f8f4",
   "metadata": {},
   "source": [
    "### Step 3: Make the data understandable by users for column name Customer_Gender, M should be replaced by male and so forth"
   ]
  },
  {
   "cell_type": "code",
   "execution_count": 17,
   "id": "9189f47e",
   "metadata": {},
   "outputs": [
    {
     "data": {
      "text/plain": [
       "M    54146\n",
       "F    51006\n",
       "Name: Customer_Gender, dtype: int64"
      ]
     },
     "execution_count": 17,
     "metadata": {},
     "output_type": "execute_result"
    }
   ],
   "source": [
    "df['Customer_Gender'].value_counts()       #checking all the unique values in the dataset"
   ]
  },
  {
   "cell_type": "markdown",
   "id": "33144e16",
   "metadata": {},
   "source": [
    "There are only 2 values that is the M and F that is male and female"
   ]
  },
  {
   "cell_type": "code",
   "execution_count": 18,
   "id": "8a295f2b",
   "metadata": {},
   "outputs": [],
   "source": [
    "df['Customer_Gender'].replace({'M': 'Male', 'F':'Female'}, inplace = True)"
   ]
  },
  {
   "cell_type": "code",
   "execution_count": 19,
   "id": "7076c8c5",
   "metadata": {},
   "outputs": [
    {
     "data": {
      "text/html": [
       "<div>\n",
       "<style scoped>\n",
       "    .dataframe tbody tr th:only-of-type {\n",
       "        vertical-align: middle;\n",
       "    }\n",
       "\n",
       "    .dataframe tbody tr th {\n",
       "        vertical-align: top;\n",
       "    }\n",
       "\n",
       "    .dataframe thead th {\n",
       "        text-align: right;\n",
       "    }\n",
       "</style>\n",
       "<table border=\"1\" class=\"dataframe\">\n",
       "  <thead>\n",
       "    <tr style=\"text-align: right;\">\n",
       "      <th></th>\n",
       "      <th>Date</th>\n",
       "      <th>Day</th>\n",
       "      <th>Month</th>\n",
       "      <th>Year</th>\n",
       "      <th>Customer_Age</th>\n",
       "      <th>Age_Group</th>\n",
       "      <th>Customer_Gender</th>\n",
       "      <th>Country</th>\n",
       "      <th>State</th>\n",
       "      <th>Product_Category</th>\n",
       "      <th>Sub_Category</th>\n",
       "      <th>Product</th>\n",
       "      <th>Order_Quantity</th>\n",
       "      <th>Unit_Cost</th>\n",
       "      <th>Unit_Price</th>\n",
       "      <th>Profit</th>\n",
       "      <th>Cost</th>\n",
       "      <th>Revenue</th>\n",
       "      <th>Day_Of_Week</th>\n",
       "    </tr>\n",
       "  </thead>\n",
       "  <tbody>\n",
       "    <tr>\n",
       "      <th>0</th>\n",
       "      <td>2013-11-26</td>\n",
       "      <td>26</td>\n",
       "      <td>November</td>\n",
       "      <td>2013</td>\n",
       "      <td>19</td>\n",
       "      <td>Youth (&lt;25)</td>\n",
       "      <td>Male</td>\n",
       "      <td>Canada</td>\n",
       "      <td>British Columbia</td>\n",
       "      <td>Accessories</td>\n",
       "      <td>Bike Racks</td>\n",
       "      <td>Hitch Rack - 4-Bike</td>\n",
       "      <td>8.0</td>\n",
       "      <td>45.0</td>\n",
       "      <td>120.0</td>\n",
       "      <td>590.0</td>\n",
       "      <td>360.0</td>\n",
       "      <td>950.0</td>\n",
       "      <td>Tuesday</td>\n",
       "    </tr>\n",
       "    <tr>\n",
       "      <th>1</th>\n",
       "      <td>2015-11-26</td>\n",
       "      <td>26</td>\n",
       "      <td>November</td>\n",
       "      <td>2015</td>\n",
       "      <td>19</td>\n",
       "      <td>Youth (&lt;25)</td>\n",
       "      <td>Male</td>\n",
       "      <td>Canada</td>\n",
       "      <td>British Columbia</td>\n",
       "      <td>Accessories</td>\n",
       "      <td>Bike Racks</td>\n",
       "      <td>Hitch Rack - 4-Bike</td>\n",
       "      <td>8.0</td>\n",
       "      <td>45.0</td>\n",
       "      <td>120.0</td>\n",
       "      <td>590.0</td>\n",
       "      <td>360.0</td>\n",
       "      <td>950.0</td>\n",
       "      <td>Thursday</td>\n",
       "    </tr>\n",
       "    <tr>\n",
       "      <th>2</th>\n",
       "      <td>2014-03-23</td>\n",
       "      <td>23</td>\n",
       "      <td>March</td>\n",
       "      <td>2014</td>\n",
       "      <td>49</td>\n",
       "      <td>Adults (35-64)</td>\n",
       "      <td>Male</td>\n",
       "      <td>Australia</td>\n",
       "      <td>New South Wales</td>\n",
       "      <td>Accessories</td>\n",
       "      <td>Bike Racks</td>\n",
       "      <td>Hitch Rack - 4-Bike</td>\n",
       "      <td>23.0</td>\n",
       "      <td>45.0</td>\n",
       "      <td>120.0</td>\n",
       "      <td>1366.0</td>\n",
       "      <td>1035.0</td>\n",
       "      <td>2401.0</td>\n",
       "      <td>Sunday</td>\n",
       "    </tr>\n",
       "  </tbody>\n",
       "</table>\n",
       "</div>"
      ],
      "text/plain": [
       "        Date  Day     Month  Year  Customer_Age       Age_Group  \\\n",
       "0 2013-11-26   26  November  2013            19     Youth (<25)   \n",
       "1 2015-11-26   26  November  2015            19     Youth (<25)   \n",
       "2 2014-03-23   23     March  2014            49  Adults (35-64)   \n",
       "\n",
       "  Customer_Gender    Country             State Product_Category Sub_Category  \\\n",
       "0            Male     Canada  British Columbia      Accessories   Bike Racks   \n",
       "1            Male     Canada  British Columbia      Accessories   Bike Racks   \n",
       "2            Male  Australia   New South Wales      Accessories   Bike Racks   \n",
       "\n",
       "               Product  Order_Quantity  Unit_Cost  Unit_Price  Profit    Cost  \\\n",
       "0  Hitch Rack - 4-Bike             8.0       45.0       120.0   590.0   360.0   \n",
       "1  Hitch Rack - 4-Bike             8.0       45.0       120.0   590.0   360.0   \n",
       "2  Hitch Rack - 4-Bike            23.0       45.0       120.0  1366.0  1035.0   \n",
       "\n",
       "   Revenue Day_Of_Week  \n",
       "0    950.0     Tuesday  \n",
       "1    950.0    Thursday  \n",
       "2   2401.0      Sunday  "
      ]
     },
     "execution_count": 19,
     "metadata": {},
     "output_type": "execute_result"
    }
   ],
   "source": [
    "# take a look at first 3 rows of the dataset\n",
    "df.head(3)"
   ]
  },
  {
   "cell_type": "markdown",
   "id": "0cbbf752",
   "metadata": {},
   "source": [
    "values under customer Gender has changed"
   ]
  },
  {
   "cell_type": "markdown",
   "id": "caf70c5d",
   "metadata": {},
   "source": [
    "### Step 4: Check and clean the duplicates"
   ]
  },
  {
   "cell_type": "code",
   "execution_count": 20,
   "id": "33b92eea",
   "metadata": {},
   "outputs": [
    {
     "data": {
      "text/plain": [
       "922"
      ]
     },
     "execution_count": 20,
     "metadata": {},
     "output_type": "execute_result"
    }
   ],
   "source": [
    "df.duplicated().sum()                     #showing the duplicated values\n",
    "#df[filt]"
   ]
  },
  {
   "cell_type": "markdown",
   "id": "a09c9b1e",
   "metadata": {},
   "source": [
    "922 rows are duplicated"
   ]
  },
  {
   "cell_type": "code",
   "execution_count": 21,
   "id": "b000e080",
   "metadata": {},
   "outputs": [
    {
     "data": {
      "text/html": [
       "<div>\n",
       "<style scoped>\n",
       "    .dataframe tbody tr th:only-of-type {\n",
       "        vertical-align: middle;\n",
       "    }\n",
       "\n",
       "    .dataframe tbody tr th {\n",
       "        vertical-align: top;\n",
       "    }\n",
       "\n",
       "    .dataframe thead th {\n",
       "        text-align: right;\n",
       "    }\n",
       "</style>\n",
       "<table border=\"1\" class=\"dataframe\">\n",
       "  <thead>\n",
       "    <tr style=\"text-align: right;\">\n",
       "      <th></th>\n",
       "      <th>Date</th>\n",
       "      <th>Day</th>\n",
       "      <th>Month</th>\n",
       "      <th>Year</th>\n",
       "      <th>Customer_Age</th>\n",
       "      <th>Age_Group</th>\n",
       "      <th>Customer_Gender</th>\n",
       "      <th>Country</th>\n",
       "      <th>State</th>\n",
       "      <th>Product_Category</th>\n",
       "      <th>Sub_Category</th>\n",
       "      <th>Product</th>\n",
       "      <th>Order_Quantity</th>\n",
       "      <th>Unit_Cost</th>\n",
       "      <th>Unit_Price</th>\n",
       "      <th>Profit</th>\n",
       "      <th>Cost</th>\n",
       "      <th>Revenue</th>\n",
       "      <th>Day_Of_Week</th>\n",
       "    </tr>\n",
       "  </thead>\n",
       "  <tbody>\n",
       "    <tr>\n",
       "      <th>1021</th>\n",
       "      <td>2013-12-19</td>\n",
       "      <td>19</td>\n",
       "      <td>December</td>\n",
       "      <td>2013</td>\n",
       "      <td>22</td>\n",
       "      <td>Youth (&lt;25)</td>\n",
       "      <td>Male</td>\n",
       "      <td>Australia</td>\n",
       "      <td>New South Wales</td>\n",
       "      <td>Accessories</td>\n",
       "      <td>Bike Stands</td>\n",
       "      <td>All-Purpose Bike Stand</td>\n",
       "      <td>9.0</td>\n",
       "      <td>59.0</td>\n",
       "      <td>159.0</td>\n",
       "      <td>714.0</td>\n",
       "      <td>531.0</td>\n",
       "      <td>1245.0</td>\n",
       "      <td>Thursday</td>\n",
       "    </tr>\n",
       "    <tr>\n",
       "      <th>1091</th>\n",
       "      <td>2015-09-30</td>\n",
       "      <td>30</td>\n",
       "      <td>September</td>\n",
       "      <td>2015</td>\n",
       "      <td>42</td>\n",
       "      <td>Adults (35-64)</td>\n",
       "      <td>Female</td>\n",
       "      <td>Australia</td>\n",
       "      <td>Victoria</td>\n",
       "      <td>Accessories</td>\n",
       "      <td>Bottles and Cages</td>\n",
       "      <td>Mountain Bottle Cage</td>\n",
       "      <td>5.0</td>\n",
       "      <td>4.0</td>\n",
       "      <td>10.0</td>\n",
       "      <td>20.0</td>\n",
       "      <td>20.0</td>\n",
       "      <td>40.0</td>\n",
       "      <td>Wednesday</td>\n",
       "    </tr>\n",
       "    <tr>\n",
       "      <th>1093</th>\n",
       "      <td>2013-10-24</td>\n",
       "      <td>24</td>\n",
       "      <td>October</td>\n",
       "      <td>2013</td>\n",
       "      <td>42</td>\n",
       "      <td>Adults (35-64)</td>\n",
       "      <td>Female</td>\n",
       "      <td>Australia</td>\n",
       "      <td>Victoria</td>\n",
       "      <td>Accessories</td>\n",
       "      <td>Bottles and Cages</td>\n",
       "      <td>Mountain Bottle Cage</td>\n",
       "      <td>2.0</td>\n",
       "      <td>4.0</td>\n",
       "      <td>10.0</td>\n",
       "      <td>8.0</td>\n",
       "      <td>8.0</td>\n",
       "      <td>16.0</td>\n",
       "      <td>Thursday</td>\n",
       "    </tr>\n",
       "    <tr>\n",
       "      <th>1095</th>\n",
       "      <td>2015-10-24</td>\n",
       "      <td>24</td>\n",
       "      <td>October</td>\n",
       "      <td>2015</td>\n",
       "      <td>42</td>\n",
       "      <td>Adults (35-64)</td>\n",
       "      <td>Female</td>\n",
       "      <td>Australia</td>\n",
       "      <td>Victoria</td>\n",
       "      <td>Accessories</td>\n",
       "      <td>Bottles and Cages</td>\n",
       "      <td>Mountain Bottle Cage</td>\n",
       "      <td>1.0</td>\n",
       "      <td>4.0</td>\n",
       "      <td>10.0</td>\n",
       "      <td>4.0</td>\n",
       "      <td>4.0</td>\n",
       "      <td>8.0</td>\n",
       "      <td>Saturday</td>\n",
       "    </tr>\n",
       "    <tr>\n",
       "      <th>1193</th>\n",
       "      <td>2016-01-15</td>\n",
       "      <td>15</td>\n",
       "      <td>January</td>\n",
       "      <td>2016</td>\n",
       "      <td>42</td>\n",
       "      <td>Adults (35-64)</td>\n",
       "      <td>Male</td>\n",
       "      <td>France</td>\n",
       "      <td>Seine Saint Denis</td>\n",
       "      <td>Accessories</td>\n",
       "      <td>Bottles and Cages</td>\n",
       "      <td>Water Bottle - 30 oz.</td>\n",
       "      <td>14.0</td>\n",
       "      <td>2.0</td>\n",
       "      <td>5.0</td>\n",
       "      <td>29.0</td>\n",
       "      <td>28.0</td>\n",
       "      <td>57.0</td>\n",
       "      <td>Friday</td>\n",
       "    </tr>\n",
       "    <tr>\n",
       "      <th>...</th>\n",
       "      <td>...</td>\n",
       "      <td>...</td>\n",
       "      <td>...</td>\n",
       "      <td>...</td>\n",
       "      <td>...</td>\n",
       "      <td>...</td>\n",
       "      <td>...</td>\n",
       "      <td>...</td>\n",
       "      <td>...</td>\n",
       "      <td>...</td>\n",
       "      <td>...</td>\n",
       "      <td>...</td>\n",
       "      <td>...</td>\n",
       "      <td>...</td>\n",
       "      <td>...</td>\n",
       "      <td>...</td>\n",
       "      <td>...</td>\n",
       "      <td>...</td>\n",
       "      <td>...</td>\n",
       "    </tr>\n",
       "    <tr>\n",
       "      <th>104919</th>\n",
       "      <td>2015-10-31</td>\n",
       "      <td>31</td>\n",
       "      <td>October</td>\n",
       "      <td>2015</td>\n",
       "      <td>43</td>\n",
       "      <td>Adults (35-64)</td>\n",
       "      <td>Male</td>\n",
       "      <td>Australia</td>\n",
       "      <td>Victoria</td>\n",
       "      <td>Accessories</td>\n",
       "      <td>Tires and Tubes</td>\n",
       "      <td>HL Mountain Tire</td>\n",
       "      <td>15.0</td>\n",
       "      <td>13.0</td>\n",
       "      <td>35.0</td>\n",
       "      <td>220.0</td>\n",
       "      <td>195.0</td>\n",
       "      <td>415.0</td>\n",
       "      <td>Saturday</td>\n",
       "    </tr>\n",
       "    <tr>\n",
       "      <th>104970</th>\n",
       "      <td>2013-12-25</td>\n",
       "      <td>25</td>\n",
       "      <td>December</td>\n",
       "      <td>2013</td>\n",
       "      <td>22</td>\n",
       "      <td>Youth (&lt;25)</td>\n",
       "      <td>Female</td>\n",
       "      <td>United States</td>\n",
       "      <td>California</td>\n",
       "      <td>Accessories</td>\n",
       "      <td>Tires and Tubes</td>\n",
       "      <td>LL Road Tire</td>\n",
       "      <td>7.0</td>\n",
       "      <td>8.0</td>\n",
       "      <td>21.0</td>\n",
       "      <td>88.0</td>\n",
       "      <td>56.0</td>\n",
       "      <td>144.0</td>\n",
       "      <td>Wednesday</td>\n",
       "    </tr>\n",
       "    <tr>\n",
       "      <th>105003</th>\n",
       "      <td>2016-05-10</td>\n",
       "      <td>10</td>\n",
       "      <td>May</td>\n",
       "      <td>2016</td>\n",
       "      <td>22</td>\n",
       "      <td>Youth (&lt;25)</td>\n",
       "      <td>Female</td>\n",
       "      <td>United States</td>\n",
       "      <td>California</td>\n",
       "      <td>Accessories</td>\n",
       "      <td>Tires and Tubes</td>\n",
       "      <td>LL Road Tire</td>\n",
       "      <td>1.0</td>\n",
       "      <td>8.0</td>\n",
       "      <td>21.0</td>\n",
       "      <td>13.0</td>\n",
       "      <td>8.0</td>\n",
       "      <td>21.0</td>\n",
       "      <td>Tuesday</td>\n",
       "    </tr>\n",
       "    <tr>\n",
       "      <th>105049</th>\n",
       "      <td>2016-02-19</td>\n",
       "      <td>19</td>\n",
       "      <td>February</td>\n",
       "      <td>2016</td>\n",
       "      <td>21</td>\n",
       "      <td>Youth (&lt;25)</td>\n",
       "      <td>Male</td>\n",
       "      <td>United States</td>\n",
       "      <td>Washington</td>\n",
       "      <td>Accessories</td>\n",
       "      <td>Tires and Tubes</td>\n",
       "      <td>Patch Kit/8 Patches</td>\n",
       "      <td>2.0</td>\n",
       "      <td>1.0</td>\n",
       "      <td>2.0</td>\n",
       "      <td>1.0</td>\n",
       "      <td>2.0</td>\n",
       "      <td>3.0</td>\n",
       "      <td>Friday</td>\n",
       "    </tr>\n",
       "    <tr>\n",
       "      <th>105105</th>\n",
       "      <td>2014-04-20</td>\n",
       "      <td>20</td>\n",
       "      <td>April</td>\n",
       "      <td>2014</td>\n",
       "      <td>29</td>\n",
       "      <td>Young Adults (25-34)</td>\n",
       "      <td>Female</td>\n",
       "      <td>Australia</td>\n",
       "      <td>New South Wales</td>\n",
       "      <td>Accessories</td>\n",
       "      <td>Tires and Tubes</td>\n",
       "      <td>ML Road Tire</td>\n",
       "      <td>18.0</td>\n",
       "      <td>9.0</td>\n",
       "      <td>25.0</td>\n",
       "      <td>230.0</td>\n",
       "      <td>162.0</td>\n",
       "      <td>392.0</td>\n",
       "      <td>Sunday</td>\n",
       "    </tr>\n",
       "  </tbody>\n",
       "</table>\n",
       "<p>922 rows × 19 columns</p>\n",
       "</div>"
      ],
      "text/plain": [
       "             Date  Day      Month  Year  Customer_Age             Age_Group  \\\n",
       "1021   2013-12-19   19   December  2013            22           Youth (<25)   \n",
       "1091   2015-09-30   30  September  2015            42        Adults (35-64)   \n",
       "1093   2013-10-24   24    October  2013            42        Adults (35-64)   \n",
       "1095   2015-10-24   24    October  2015            42        Adults (35-64)   \n",
       "1193   2016-01-15   15    January  2016            42        Adults (35-64)   \n",
       "...           ...  ...        ...   ...           ...                   ...   \n",
       "104919 2015-10-31   31    October  2015            43        Adults (35-64)   \n",
       "104970 2013-12-25   25   December  2013            22           Youth (<25)   \n",
       "105003 2016-05-10   10        May  2016            22           Youth (<25)   \n",
       "105049 2016-02-19   19   February  2016            21           Youth (<25)   \n",
       "105105 2014-04-20   20      April  2014            29  Young Adults (25-34)   \n",
       "\n",
       "       Customer_Gender        Country              State Product_Category  \\\n",
       "1021              Male      Australia    New South Wales      Accessories   \n",
       "1091            Female      Australia           Victoria      Accessories   \n",
       "1093            Female      Australia           Victoria      Accessories   \n",
       "1095            Female      Australia           Victoria      Accessories   \n",
       "1193              Male         France  Seine Saint Denis      Accessories   \n",
       "...                ...            ...                ...              ...   \n",
       "104919            Male      Australia           Victoria      Accessories   \n",
       "104970          Female  United States         California      Accessories   \n",
       "105003          Female  United States         California      Accessories   \n",
       "105049            Male  United States         Washington      Accessories   \n",
       "105105          Female      Australia    New South Wales      Accessories   \n",
       "\n",
       "             Sub_Category                 Product  Order_Quantity  Unit_Cost  \\\n",
       "1021          Bike Stands  All-Purpose Bike Stand             9.0       59.0   \n",
       "1091    Bottles and Cages    Mountain Bottle Cage             5.0        4.0   \n",
       "1093    Bottles and Cages    Mountain Bottle Cage             2.0        4.0   \n",
       "1095    Bottles and Cages    Mountain Bottle Cage             1.0        4.0   \n",
       "1193    Bottles and Cages   Water Bottle - 30 oz.            14.0        2.0   \n",
       "...                   ...                     ...             ...        ...   \n",
       "104919    Tires and Tubes        HL Mountain Tire            15.0       13.0   \n",
       "104970    Tires and Tubes            LL Road Tire             7.0        8.0   \n",
       "105003    Tires and Tubes            LL Road Tire             1.0        8.0   \n",
       "105049    Tires and Tubes     Patch Kit/8 Patches             2.0        1.0   \n",
       "105105    Tires and Tubes            ML Road Tire            18.0        9.0   \n",
       "\n",
       "        Unit_Price  Profit   Cost  Revenue Day_Of_Week  \n",
       "1021         159.0   714.0  531.0   1245.0    Thursday  \n",
       "1091          10.0    20.0   20.0     40.0   Wednesday  \n",
       "1093          10.0     8.0    8.0     16.0    Thursday  \n",
       "1095          10.0     4.0    4.0      8.0    Saturday  \n",
       "1193           5.0    29.0   28.0     57.0      Friday  \n",
       "...            ...     ...    ...      ...         ...  \n",
       "104919        35.0   220.0  195.0    415.0    Saturday  \n",
       "104970        21.0    88.0   56.0    144.0   Wednesday  \n",
       "105003        21.0    13.0    8.0     21.0     Tuesday  \n",
       "105049         2.0     1.0    2.0      3.0      Friday  \n",
       "105105        25.0   230.0  162.0    392.0      Sunday  \n",
       "\n",
       "[922 rows x 19 columns]"
      ]
     },
     "execution_count": 21,
     "metadata": {},
     "output_type": "execute_result"
    }
   ],
   "source": [
    "#this can also be seen by the following method as well\n",
    "filt = (df.duplicated())\n",
    "df[filt]"
   ]
  },
  {
   "cell_type": "markdown",
   "id": "0c083b94",
   "metadata": {},
   "source": [
    "#### drop duplicated values"
   ]
  },
  {
   "cell_type": "code",
   "execution_count": 22,
   "id": "ef10b83f",
   "metadata": {},
   "outputs": [
    {
     "data": {
      "text/plain": [
       "(105152, 19)"
      ]
     },
     "execution_count": 22,
     "metadata": {},
     "output_type": "execute_result"
    }
   ],
   "source": [
    "#check the data shape before dropping the rows\n",
    "df.shape"
   ]
  },
  {
   "cell_type": "code",
   "execution_count": 23,
   "id": "dce9b471",
   "metadata": {},
   "outputs": [],
   "source": [
    "df.drop_duplicates(inplace=True)"
   ]
  },
  {
   "cell_type": "code",
   "execution_count": 24,
   "id": "6bd240d9",
   "metadata": {},
   "outputs": [
    {
     "data": {
      "text/plain": [
       "(104230, 19)"
      ]
     },
     "execution_count": 24,
     "metadata": {},
     "output_type": "execute_result"
    }
   ],
   "source": [
    "df.shape"
   ]
  },
  {
   "cell_type": "markdown",
   "id": "43a48a3e",
   "metadata": {},
   "source": [
    "number of rows have been reduced from the starting rows without dropping the duplicates"
   ]
  },
  {
   "cell_type": "code",
   "execution_count": 25,
   "id": "6a82947f",
   "metadata": {},
   "outputs": [
    {
     "data": {
      "text/html": [
       "<div>\n",
       "<style scoped>\n",
       "    .dataframe tbody tr th:only-of-type {\n",
       "        vertical-align: middle;\n",
       "    }\n",
       "\n",
       "    .dataframe tbody tr th {\n",
       "        vertical-align: top;\n",
       "    }\n",
       "\n",
       "    .dataframe thead th {\n",
       "        text-align: right;\n",
       "    }\n",
       "</style>\n",
       "<table border=\"1\" class=\"dataframe\">\n",
       "  <thead>\n",
       "    <tr style=\"text-align: right;\">\n",
       "      <th></th>\n",
       "      <th>Date</th>\n",
       "      <th>Day</th>\n",
       "      <th>Month</th>\n",
       "      <th>Year</th>\n",
       "      <th>Customer_Age</th>\n",
       "      <th>Age_Group</th>\n",
       "      <th>Customer_Gender</th>\n",
       "      <th>Country</th>\n",
       "      <th>State</th>\n",
       "      <th>Product_Category</th>\n",
       "      <th>Sub_Category</th>\n",
       "      <th>Product</th>\n",
       "      <th>Order_Quantity</th>\n",
       "      <th>Unit_Cost</th>\n",
       "      <th>Unit_Price</th>\n",
       "      <th>Profit</th>\n",
       "      <th>Cost</th>\n",
       "      <th>Revenue</th>\n",
       "      <th>Day_Of_Week</th>\n",
       "    </tr>\n",
       "  </thead>\n",
       "  <tbody>\n",
       "    <tr>\n",
       "      <th>0</th>\n",
       "      <td>2013-11-26</td>\n",
       "      <td>26</td>\n",
       "      <td>November</td>\n",
       "      <td>2013</td>\n",
       "      <td>19</td>\n",
       "      <td>Youth (&lt;25)</td>\n",
       "      <td>Male</td>\n",
       "      <td>Canada</td>\n",
       "      <td>British Columbia</td>\n",
       "      <td>Accessories</td>\n",
       "      <td>Bike Racks</td>\n",
       "      <td>Hitch Rack - 4-Bike</td>\n",
       "      <td>8.0</td>\n",
       "      <td>45.0</td>\n",
       "      <td>120.0</td>\n",
       "      <td>590.0</td>\n",
       "      <td>360.0</td>\n",
       "      <td>950.0</td>\n",
       "      <td>Tuesday</td>\n",
       "    </tr>\n",
       "    <tr>\n",
       "      <th>1</th>\n",
       "      <td>2015-11-26</td>\n",
       "      <td>26</td>\n",
       "      <td>November</td>\n",
       "      <td>2015</td>\n",
       "      <td>19</td>\n",
       "      <td>Youth (&lt;25)</td>\n",
       "      <td>Male</td>\n",
       "      <td>Canada</td>\n",
       "      <td>British Columbia</td>\n",
       "      <td>Accessories</td>\n",
       "      <td>Bike Racks</td>\n",
       "      <td>Hitch Rack - 4-Bike</td>\n",
       "      <td>8.0</td>\n",
       "      <td>45.0</td>\n",
       "      <td>120.0</td>\n",
       "      <td>590.0</td>\n",
       "      <td>360.0</td>\n",
       "      <td>950.0</td>\n",
       "      <td>Thursday</td>\n",
       "    </tr>\n",
       "  </tbody>\n",
       "</table>\n",
       "</div>"
      ],
      "text/plain": [
       "        Date  Day     Month  Year  Customer_Age    Age_Group Customer_Gender  \\\n",
       "0 2013-11-26   26  November  2013            19  Youth (<25)            Male   \n",
       "1 2015-11-26   26  November  2015            19  Youth (<25)            Male   \n",
       "\n",
       "  Country             State Product_Category Sub_Category  \\\n",
       "0  Canada  British Columbia      Accessories   Bike Racks   \n",
       "1  Canada  British Columbia      Accessories   Bike Racks   \n",
       "\n",
       "               Product  Order_Quantity  Unit_Cost  Unit_Price  Profit   Cost  \\\n",
       "0  Hitch Rack - 4-Bike             8.0       45.0       120.0   590.0  360.0   \n",
       "1  Hitch Rack - 4-Bike             8.0       45.0       120.0   590.0  360.0   \n",
       "\n",
       "   Revenue Day_Of_Week  \n",
       "0    950.0     Tuesday  \n",
       "1    950.0    Thursday  "
      ]
     },
     "execution_count": 25,
     "metadata": {},
     "output_type": "execute_result"
    }
   ],
   "source": [
    "df.head(2)"
   ]
  },
  {
   "cell_type": "code",
   "execution_count": null,
   "id": "0b016cff",
   "metadata": {},
   "outputs": [],
   "source": []
  },
  {
   "cell_type": "markdown",
   "id": "8800f29e",
   "metadata": {},
   "source": [
    "# Phase 3: Exploratory Data Analysis (EDA)"
   ]
  },
  {
   "cell_type": "markdown",
   "id": "a0637dc1",
   "metadata": {},
   "source": [
    "* EDA is an approach to anaylse data inorder to summarize main characteristics of the data\n",
    "* It also helps to gain better understanding of the dataset\n",
    "* helps uncover relationships between different variables \n",
    "* extract the important variables for the problem being solved"
   ]
  },
  {
   "cell_type": "markdown",
   "id": "c354eda2",
   "metadata": {},
   "source": [
    "#### Question 1: Which Product category had highest sales\n"
   ]
  },
  {
   "cell_type": "code",
   "execution_count": 26,
   "id": "60a5a635",
   "metadata": {},
   "outputs": [
    {
     "data": {
      "text/plain": [
       "Accessories    66148\n",
       "Bikes          22116\n",
       "Clothing       15966\n",
       "Name: Product_Category, dtype: int64"
      ]
     },
     "execution_count": 26,
     "metadata": {},
     "output_type": "execute_result"
    }
   ],
   "source": [
    "df['Product_Category'].value_counts()"
   ]
  },
  {
   "cell_type": "markdown",
   "id": "51916d24",
   "metadata": {},
   "source": [
    "Accessories had the highest sales and the last one being clothing"
   ]
  },
  {
   "cell_type": "markdown",
   "id": "beebd0ee",
   "metadata": {},
   "source": [
    "#### Question 2: Which Product is favoured by females\n"
   ]
  },
  {
   "cell_type": "code",
   "execution_count": 27,
   "id": "b57930d3",
   "metadata": {},
   "outputs": [
    {
     "data": {
      "text/html": [
       "<div>\n",
       "<style scoped>\n",
       "    .dataframe tbody tr th:only-of-type {\n",
       "        vertical-align: middle;\n",
       "    }\n",
       "\n",
       "    .dataframe tbody tr th {\n",
       "        vertical-align: top;\n",
       "    }\n",
       "\n",
       "    .dataframe thead th {\n",
       "        text-align: right;\n",
       "    }\n",
       "</style>\n",
       "<table border=\"1\" class=\"dataframe\">\n",
       "  <thead>\n",
       "    <tr style=\"text-align: right;\">\n",
       "      <th></th>\n",
       "      <th>Date</th>\n",
       "      <th>Day</th>\n",
       "      <th>Month</th>\n",
       "      <th>Year</th>\n",
       "      <th>Customer_Age</th>\n",
       "      <th>Age_Group</th>\n",
       "      <th>Customer_Gender</th>\n",
       "      <th>Country</th>\n",
       "      <th>State</th>\n",
       "      <th>Product_Category</th>\n",
       "      <th>Sub_Category</th>\n",
       "      <th>Product</th>\n",
       "      <th>Order_Quantity</th>\n",
       "      <th>Unit_Cost</th>\n",
       "      <th>Unit_Price</th>\n",
       "      <th>Profit</th>\n",
       "      <th>Cost</th>\n",
       "      <th>Revenue</th>\n",
       "      <th>Day_Of_Week</th>\n",
       "    </tr>\n",
       "  </thead>\n",
       "  <tbody>\n",
       "    <tr>\n",
       "      <th>0</th>\n",
       "      <td>2013-11-26</td>\n",
       "      <td>26</td>\n",
       "      <td>November</td>\n",
       "      <td>2013</td>\n",
       "      <td>19</td>\n",
       "      <td>Youth (&lt;25)</td>\n",
       "      <td>Male</td>\n",
       "      <td>Canada</td>\n",
       "      <td>British Columbia</td>\n",
       "      <td>Accessories</td>\n",
       "      <td>Bike Racks</td>\n",
       "      <td>Hitch Rack - 4-Bike</td>\n",
       "      <td>8.0</td>\n",
       "      <td>45.0</td>\n",
       "      <td>120.0</td>\n",
       "      <td>590.0</td>\n",
       "      <td>360.0</td>\n",
       "      <td>950.0</td>\n",
       "      <td>Tuesday</td>\n",
       "    </tr>\n",
       "  </tbody>\n",
       "</table>\n",
       "</div>"
      ],
      "text/plain": [
       "        Date  Day     Month  Year  Customer_Age    Age_Group Customer_Gender  \\\n",
       "0 2013-11-26   26  November  2013            19  Youth (<25)            Male   \n",
       "\n",
       "  Country             State Product_Category Sub_Category  \\\n",
       "0  Canada  British Columbia      Accessories   Bike Racks   \n",
       "\n",
       "               Product  Order_Quantity  Unit_Cost  Unit_Price  Profit   Cost  \\\n",
       "0  Hitch Rack - 4-Bike             8.0       45.0       120.0   590.0  360.0   \n",
       "\n",
       "   Revenue Day_Of_Week  \n",
       "0    950.0     Tuesday  "
      ]
     },
     "execution_count": 27,
     "metadata": {},
     "output_type": "execute_result"
    }
   ],
   "source": [
    "df.head(1)     # take a loot at the dataset"
   ]
  },
  {
   "cell_type": "code",
   "execution_count": 28,
   "id": "a566d518",
   "metadata": {},
   "outputs": [
    {
     "data": {
      "text/plain": [
       "Water Bottle - 30 oz.     5324\n",
       "Patch Kit/8 Patches       4463\n",
       "Mountain Tire Tube        3595\n",
       "AWC Logo Cap              2162\n",
       "Sport-100 Helmet, Blue    1945\n",
       "Name: Product, dtype: int64"
      ]
     },
     "execution_count": 28,
     "metadata": {},
     "output_type": "execute_result"
    }
   ],
   "source": [
    "filt = (df['Customer_Gender'] == 'Female')\n",
    "df[filt].Product.value_counts().sort_values(ascending=False).head(5)      #5 most products favoured by womens"
   ]
  },
  {
   "cell_type": "markdown",
   "id": "8e990596",
   "metadata": {},
   "source": [
    "Water Bottle - 30 oz.  was the product that had more sales from women"
   ]
  },
  {
   "cell_type": "markdown",
   "id": "438a003d",
   "metadata": {},
   "source": [
    "#### Question 3: which of the 10 that product has the highest revenue"
   ]
  },
  {
   "cell_type": "code",
   "execution_count": 29,
   "id": "a95dedf4",
   "metadata": {},
   "outputs": [
    {
     "data": {
      "text/plain": [
       "Product\n",
       "Road-150 Red, 62           3810023.0\n",
       "Mountain-200 Black, 38     3345501.0\n",
       "Road-150 Red, 52           3152610.0\n",
       "Road-150 Red, 56           3142811.0\n",
       "Mountain-200 Silver, 42    3070174.0\n",
       "Mountain-200 Silver, 38    3011267.0\n",
       "Road-150 Red, 48           2955506.0\n",
       "Mountain-200 Black, 46     2756837.0\n",
       "Mountain-200 Black, 42     2630865.0\n",
       "Mountain-200 Silver, 46    2364776.0\n",
       "Name: Revenue, dtype: float64"
      ]
     },
     "execution_count": 29,
     "metadata": {},
     "output_type": "execute_result"
    }
   ],
   "source": [
    "\n",
    "df.groupby('Product').Revenue.sum().sort_values(ascending= False).head(10)     #top 10 products that produced more revenue"
   ]
  },
  {
   "cell_type": "markdown",
   "id": "b0b4817c",
   "metadata": {},
   "source": [
    "the first product Road-150 Red, 48 had the revenue of 3829416.0"
   ]
  },
  {
   "cell_type": "markdown",
   "id": "f78ca40f",
   "metadata": {},
   "source": [
    "#### Question 4: Which month produced highest profits\n"
   ]
  },
  {
   "cell_type": "code",
   "execution_count": 30,
   "id": "48ab2bdf",
   "metadata": {},
   "outputs": [
    {
     "data": {
      "text/plain": [
       "Month\n",
       "June         3054528.0\n",
       "December     3030490.0\n",
       "May          2982020.0\n",
       "April        2594493.0\n",
       "March        2496647.0\n",
       "January      2359687.0\n",
       "February     2303078.0\n",
       "November     2115108.0\n",
       "September    2068920.0\n",
       "October      2049163.0\n",
       "August       2044661.0\n",
       "July         1951243.0\n",
       "Name: Profit, dtype: float64"
      ]
     },
     "execution_count": 30,
     "metadata": {},
     "output_type": "execute_result"
    }
   ],
   "source": [
    "df.groupby('Month').Profit.sum().sort_values(ascending = False)"
   ]
  },
  {
   "cell_type": "markdown",
   "id": "4af6bf6b",
   "metadata": {},
   "source": [
    "June had the highest of profits the last being in July"
   ]
  },
  {
   "cell_type": "markdown",
   "id": "a26087eb",
   "metadata": {},
   "source": [
    "#### Question 5: How many product are in the company"
   ]
  },
  {
   "cell_type": "code",
   "execution_count": 31,
   "id": "c568a48d",
   "metadata": {},
   "outputs": [
    {
     "data": {
      "text/plain": [
       "105"
      ]
     },
     "execution_count": 31,
     "metadata": {},
     "output_type": "execute_result"
    }
   ],
   "source": [
    "df['Product'].nunique()"
   ]
  },
  {
   "cell_type": "markdown",
   "id": "67ecf0df",
   "metadata": {},
   "source": [
    "The company has a total of 105 products"
   ]
  },
  {
   "cell_type": "markdown",
   "id": "6bbcff72",
   "metadata": {},
   "source": [
    "#### Question 6: Which day of the week had the highest order quantity\n",
    "          \n",
    "    \n"
   ]
  },
  {
   "cell_type": "code",
   "execution_count": 32,
   "id": "48c59ec6",
   "metadata": {},
   "outputs": [
    {
     "data": {
      "text/plain": [
       "Day_Of_Week\n",
       "Saturday     183771.0\n",
       "Thursday     183219.0\n",
       "Tuesday      181783.0\n",
       "Sunday       180013.0\n",
       "Friday       179663.0\n",
       "Wednesday    179450.0\n",
       "Monday       179168.0\n",
       "Name: Order_Quantity, dtype: float64"
      ]
     },
     "execution_count": 32,
     "metadata": {},
     "output_type": "execute_result"
    }
   ],
   "source": [
    "df.groupby('Day_Of_Week').Order_Quantity.sum().sort_values(ascending=False)"
   ]
  },
  {
   "cell_type": "markdown",
   "id": "e67a8a38",
   "metadata": {},
   "source": [
    "Saturday had was the busy day as monday was the low"
   ]
  },
  {
   "cell_type": "markdown",
   "id": "a352f10a",
   "metadata": {},
   "source": [
    "#### 6b): Which sub category was most ordered in 2014"
   ]
  },
  {
   "cell_type": "code",
   "execution_count": 33,
   "id": "6f80e3c1",
   "metadata": {},
   "outputs": [
    {
     "data": {
      "text/plain": [
       "Sub_Category\n",
       "Tires and Tubes      131619.0\n",
       "Bottles and Cages     70932.0\n",
       "Helmets               51558.0\n",
       "Jerseys               24160.0\n",
       "Caps                  19800.0\n",
       "Fenders               17348.0\n",
       "Gloves                11499.0\n",
       "Cleaners               8041.0\n",
       "Shorts                 6784.0\n",
       "Hydration Packs        5314.0\n",
       "Socks                  5132.0\n",
       "Road Bikes             1829.0\n",
       "Mountain Bikes         1706.0\n",
       "Bike Racks             1388.0\n",
       "Bike Stands             582.0\n",
       "Name: Order_Quantity, dtype: float64"
      ]
     },
     "execution_count": 33,
     "metadata": {},
     "output_type": "execute_result"
    }
   ],
   "source": [
    "filt = df['Year'] == 2014\n",
    "df[filt].groupby('Sub_Category').Order_Quantity.sum().sort_values(ascending=False)"
   ]
  },
  {
   "cell_type": "markdown",
   "id": "dc5e6dd3",
   "metadata": {},
   "source": [
    "Tires and Tubes were the most ordered"
   ]
  },
  {
   "cell_type": "markdown",
   "id": "7ba817c0",
   "metadata": {},
   "source": [
    "#### Question 7: what is the product favoured by people under the age of 40"
   ]
  },
  {
   "cell_type": "code",
   "execution_count": 34,
   "id": "166ce1c3",
   "metadata": {},
   "outputs": [
    {
     "data": {
      "text/plain": [
       "Water Bottle - 30 oz.    7076\n",
       "Patch Kit/8 Patches      6103\n",
       "Mountain Tire Tube       4504\n",
       "AWC Logo Cap             2908\n",
       "Sport-100 Helmet, Red    2842\n",
       "Name: Product, dtype: int64"
      ]
     },
     "execution_count": 34,
     "metadata": {},
     "output_type": "execute_result"
    }
   ],
   "source": [
    "\n",
    "filt = df['Customer_Age'] < 40\n",
    "df[filt].Product.value_counts().sort_values(ascending=False).head()    #showing the first 5 products liked by people under the age of 40"
   ]
  },
  {
   "cell_type": "markdown",
   "id": "65ffb836",
   "metadata": {},
   "source": [
    "water bottle was the highest product ordered by the people under the age of 40"
   ]
  },
  {
   "cell_type": "markdown",
   "id": "6c04c5b5",
   "metadata": {},
   "source": [
    "#### Question 8: which Year produced highest revenue\n",
    "\n"
   ]
  },
  {
   "cell_type": "code",
   "execution_count": 35,
   "id": "b8ddc6bd",
   "metadata": {},
   "outputs": [
    {
     "data": {
      "text/plain": [
       "Year\n",
       "2015    17692208.0\n",
       "2016    14866068.0\n",
       "2013    13508329.0\n",
       "2014    12108291.0\n",
       "2012     9133795.0\n",
       "2011     8951966.0\n",
       "Name: Revenue, dtype: float64"
      ]
     },
     "execution_count": 35,
     "metadata": {},
     "output_type": "execute_result"
    }
   ],
   "source": [
    "df.groupby('Year').Revenue.sum().sort_values(ascending = False)"
   ]
  },
  {
   "cell_type": "markdown",
   "id": "7764fc23",
   "metadata": {},
   "source": [
    "2015 had the highest revenues"
   ]
  },
  {
   "cell_type": "markdown",
   "id": "bade5f9c",
   "metadata": {},
   "source": [
    "#### Question 9: which country had the highest sales"
   ]
  },
  {
   "cell_type": "code",
   "execution_count": 36,
   "id": "296fd8d9",
   "metadata": {},
   "outputs": [
    {
     "data": {
      "text/plain": [
       "United States     35968\n",
       "Australia         22251\n",
       "Canada            13623\n",
       "United Kingdom    12366\n",
       "France            10062\n",
       "Germany            9960\n",
       "Name: Country, dtype: int64"
      ]
     },
     "execution_count": 36,
     "metadata": {},
     "output_type": "execute_result"
    }
   ],
   "source": [
    "df.groupby('Year').Revenue.sum().sort_values(ascending = False)"
   ]
  },
  {
   "cell_type": "markdown",
   "id": "e79e811b",
   "metadata": {},
   "source": [
    "United states had highest number of sales, as germany had the least"
   ]
  },
  {
   "cell_type": "markdown",
   "id": "f2ce689d",
   "metadata": {},
   "source": [
    "#### Question 10: which country had the highest revenue and profits in 2015"
   ]
  },
  {
   "cell_type": "code",
   "execution_count": 37,
   "id": "3d982134",
   "metadata": {},
   "outputs": [
    {
     "name": "stderr",
     "output_type": "stream",
     "text": [
      "C:\\Users\\Tamie\\AppData\\Local\\Temp\\ipykernel_15424\\2857761055.py:2: FutureWarning: Indexing with multiple keys (implicitly converted to a tuple of keys) will be deprecated, use a list instead.\n",
      "  df[filt].groupby('Country')['Revenue', 'Profit'].sum().sort_values(by = 'Revenue', ascending = False)    # sorting by the revenue column\n"
     ]
    },
    {
     "data": {
      "text/html": [
       "<div>\n",
       "<style scoped>\n",
       "    .dataframe tbody tr th:only-of-type {\n",
       "        vertical-align: middle;\n",
       "    }\n",
       "\n",
       "    .dataframe tbody tr th {\n",
       "        vertical-align: top;\n",
       "    }\n",
       "\n",
       "    .dataframe thead th {\n",
       "        text-align: right;\n",
       "    }\n",
       "</style>\n",
       "<table border=\"1\" class=\"dataframe\">\n",
       "  <thead>\n",
       "    <tr style=\"text-align: right;\">\n",
       "      <th></th>\n",
       "      <th>Revenue</th>\n",
       "      <th>Profit</th>\n",
       "    </tr>\n",
       "    <tr>\n",
       "      <th>Country</th>\n",
       "      <th></th>\n",
       "      <th></th>\n",
       "    </tr>\n",
       "  </thead>\n",
       "  <tbody>\n",
       "    <tr>\n",
       "      <th>United States</th>\n",
       "      <td>5502088.0</td>\n",
       "      <td>2226079.0</td>\n",
       "    </tr>\n",
       "    <tr>\n",
       "      <th>Australia</th>\n",
       "      <td>5125553.0</td>\n",
       "      <td>1638175.0</td>\n",
       "    </tr>\n",
       "    <tr>\n",
       "      <th>United Kingdom</th>\n",
       "      <td>2161706.0</td>\n",
       "      <td>897393.0</td>\n",
       "    </tr>\n",
       "    <tr>\n",
       "      <th>Germany</th>\n",
       "      <td>1677864.0</td>\n",
       "      <td>630211.0</td>\n",
       "    </tr>\n",
       "    <tr>\n",
       "      <th>France</th>\n",
       "      <td>1639398.0</td>\n",
       "      <td>574580.0</td>\n",
       "    </tr>\n",
       "    <tr>\n",
       "      <th>Canada</th>\n",
       "      <td>1585599.0</td>\n",
       "      <td>765699.0</td>\n",
       "    </tr>\n",
       "  </tbody>\n",
       "</table>\n",
       "</div>"
      ],
      "text/plain": [
       "                  Revenue     Profit\n",
       "Country                             \n",
       "United States   5502088.0  2226079.0\n",
       "Australia       5125553.0  1638175.0\n",
       "United Kingdom  2161706.0   897393.0\n",
       "Germany         1677864.0   630211.0\n",
       "France          1639398.0   574580.0\n",
       "Canada          1585599.0   765699.0"
      ]
     },
     "execution_count": 37,
     "metadata": {},
     "output_type": "execute_result"
    }
   ],
   "source": [
    "\n",
    "filt = df['Year'] == 2015\n",
    "df[filt].groupby('Country')['Revenue', 'Profit'].sum().sort_values(by = 'Revenue', ascending = False)    # sorting by the revenue column"
   ]
  },
  {
   "cell_type": "markdown",
   "id": "ce856b74",
   "metadata": {},
   "source": [
    "United states produced greater profits and revenue  in 2015"
   ]
  },
  {
   "cell_type": "markdown",
   "id": "55969126",
   "metadata": {},
   "source": [
    "#### Question 11: what was the highest ordered product and the one that produced highest profit in Canada in 2015"
   ]
  },
  {
   "cell_type": "code",
   "execution_count": 38,
   "id": "6a10a051",
   "metadata": {},
   "outputs": [
    {
     "name": "stderr",
     "output_type": "stream",
     "text": [
      "C:\\Users\\Tamie\\AppData\\Local\\Temp\\ipykernel_15424\\3780740163.py:2: FutureWarning: Indexing with multiple keys (implicitly converted to a tuple of keys) will be deprecated, use a list instead.\n",
      "  df[filt].groupby('Product')['Order_Quantity', 'Profit'].sum().sort_values(by = 'Order_Quantity', ascending = False). head(10)\n"
     ]
    },
    {
     "data": {
      "text/html": [
       "<div>\n",
       "<style scoped>\n",
       "    .dataframe tbody tr th:only-of-type {\n",
       "        vertical-align: middle;\n",
       "    }\n",
       "\n",
       "    .dataframe tbody tr th {\n",
       "        vertical-align: top;\n",
       "    }\n",
       "\n",
       "    .dataframe thead th {\n",
       "        text-align: right;\n",
       "    }\n",
       "</style>\n",
       "<table border=\"1\" class=\"dataframe\">\n",
       "  <thead>\n",
       "    <tr style=\"text-align: right;\">\n",
       "      <th></th>\n",
       "      <th>Order_Quantity</th>\n",
       "      <th>Profit</th>\n",
       "    </tr>\n",
       "    <tr>\n",
       "      <th>Product</th>\n",
       "      <th></th>\n",
       "      <th></th>\n",
       "    </tr>\n",
       "  </thead>\n",
       "  <tbody>\n",
       "    <tr>\n",
       "      <th>Mountain Tire Tube</th>\n",
       "      <td>5929.0</td>\n",
       "      <td>17527.0</td>\n",
       "    </tr>\n",
       "    <tr>\n",
       "      <th>Patch Kit/8 Patches</th>\n",
       "      <td>5676.0</td>\n",
       "      <td>5609.0</td>\n",
       "    </tr>\n",
       "    <tr>\n",
       "      <th>Water Bottle - 30 oz.</th>\n",
       "      <td>5042.0</td>\n",
       "      <td>14903.0</td>\n",
       "    </tr>\n",
       "    <tr>\n",
       "      <th>Fender Set - Mountain</th>\n",
       "      <td>2924.0</td>\n",
       "      <td>40246.0</td>\n",
       "    </tr>\n",
       "    <tr>\n",
       "      <th>Sport-100 Helmet, Blue</th>\n",
       "      <td>1892.0</td>\n",
       "      <td>40967.0</td>\n",
       "    </tr>\n",
       "    <tr>\n",
       "      <th>Sport-100 Helmet, Red</th>\n",
       "      <td>1748.0</td>\n",
       "      <td>37866.0</td>\n",
       "    </tr>\n",
       "    <tr>\n",
       "      <th>Road Tire Tube</th>\n",
       "      <td>1449.0</td>\n",
       "      <td>4291.0</td>\n",
       "    </tr>\n",
       "    <tr>\n",
       "      <th>Sport-100 Helmet, Black</th>\n",
       "      <td>1436.0</td>\n",
       "      <td>31091.0</td>\n",
       "    </tr>\n",
       "    <tr>\n",
       "      <th>AWC Logo Cap</th>\n",
       "      <td>1316.0</td>\n",
       "      <td>2517.0</td>\n",
       "    </tr>\n",
       "    <tr>\n",
       "      <th>ML Mountain Tire</th>\n",
       "      <td>1065.0</td>\n",
       "      <td>19916.0</td>\n",
       "    </tr>\n",
       "  </tbody>\n",
       "</table>\n",
       "</div>"
      ],
      "text/plain": [
       "                         Order_Quantity   Profit\n",
       "Product                                         \n",
       "Mountain Tire Tube               5929.0  17527.0\n",
       "Patch Kit/8 Patches              5676.0   5609.0\n",
       "Water Bottle - 30 oz.            5042.0  14903.0\n",
       "Fender Set - Mountain            2924.0  40246.0\n",
       "Sport-100 Helmet, Blue           1892.0  40967.0\n",
       "Sport-100 Helmet, Red            1748.0  37866.0\n",
       "Road Tire Tube                   1449.0   4291.0\n",
       "Sport-100 Helmet, Black          1436.0  31091.0\n",
       "AWC Logo Cap                     1316.0   2517.0\n",
       "ML Mountain Tire                 1065.0  19916.0"
      ]
     },
     "execution_count": 38,
     "metadata": {},
     "output_type": "execute_result"
    }
   ],
   "source": [
    "\n",
    "filt = (df['Country'] == 'Canada') & (df['Year'] == 2015)\n",
    "df[filt].groupby('Product')['Order_Quantity', 'Profit'].sum().sort_values(by = 'Order_Quantity', ascending = False). head(10)\n",
    "#df[filt][['Product''Order_Quantity']].sum()"
   ]
  },
  {
   "cell_type": "markdown",
   "id": "2f7ee617",
   "metadata": {},
   "source": [
    "Mountain-200 Black, 38 had the highest profit thought it was not highly ordered set sort values by profits\n",
    "Mountain Tire Tube was the highest set sort values by Order_quantity"
   ]
  },
  {
   "cell_type": "markdown",
   "id": "6220ef97",
   "metadata": {},
   "source": [
    "#### Question 12: Which Australia states bought highest number of bike rakes\n"
   ]
  },
  {
   "cell_type": "code",
   "execution_count": 39,
   "id": "40c6d401",
   "metadata": {},
   "outputs": [
    {
     "data": {
      "text/plain": [
       "State\n",
       "New South Wales    210.0\n",
       "Victoria           197.0\n",
       "Queensland         146.0\n",
       "South Australia     84.0\n",
       "Name: Order_Quantity, dtype: float64"
      ]
     },
     "execution_count": 39,
     "metadata": {},
     "output_type": "execute_result"
    }
   ],
   "source": [
    "filt = (df['Country'] == 'Australia') & (df['Sub_Category'] == 'Bike Racks')\n",
    "df[filt].groupby('State').Order_Quantity.sum().sort_values(ascending=False)"
   ]
  },
  {
   "cell_type": "markdown",
   "id": "0cfd74fa",
   "metadata": {},
   "source": [
    "New South Wales had the highest order quantities "
   ]
  },
  {
   "cell_type": "code",
   "execution_count": null,
   "id": "a261c3dc",
   "metadata": {},
   "outputs": [],
   "source": []
  },
  {
   "cell_type": "markdown",
   "id": "431af036",
   "metadata": {},
   "source": [
    "#### Question 13: which products were favoured by the different age groups\n"
   ]
  },
  {
   "cell_type": "code",
   "execution_count": 40,
   "id": "d439339a",
   "metadata": {},
   "outputs": [
    {
     "data": {
      "text/html": [
       "<div>\n",
       "<style scoped>\n",
       "    .dataframe tbody tr th:only-of-type {\n",
       "        vertical-align: middle;\n",
       "    }\n",
       "\n",
       "    .dataframe tbody tr th {\n",
       "        vertical-align: top;\n",
       "    }\n",
       "\n",
       "    .dataframe thead th {\n",
       "        text-align: right;\n",
       "    }\n",
       "</style>\n",
       "<table border=\"1\" class=\"dataframe\">\n",
       "  <thead>\n",
       "    <tr style=\"text-align: right;\">\n",
       "      <th></th>\n",
       "      <th>Date</th>\n",
       "      <th>Day</th>\n",
       "      <th>Month</th>\n",
       "      <th>Year</th>\n",
       "      <th>Customer_Age</th>\n",
       "      <th>Age_Group</th>\n",
       "      <th>Customer_Gender</th>\n",
       "      <th>Country</th>\n",
       "      <th>State</th>\n",
       "      <th>Product_Category</th>\n",
       "      <th>Sub_Category</th>\n",
       "      <th>Product</th>\n",
       "      <th>Order_Quantity</th>\n",
       "      <th>Unit_Cost</th>\n",
       "      <th>Unit_Price</th>\n",
       "      <th>Profit</th>\n",
       "      <th>Cost</th>\n",
       "      <th>Revenue</th>\n",
       "      <th>Day_Of_Week</th>\n",
       "    </tr>\n",
       "  </thead>\n",
       "  <tbody>\n",
       "    <tr>\n",
       "      <th>0</th>\n",
       "      <td>2013-11-26</td>\n",
       "      <td>26</td>\n",
       "      <td>November</td>\n",
       "      <td>2013</td>\n",
       "      <td>19</td>\n",
       "      <td>Youth (&lt;25)</td>\n",
       "      <td>Male</td>\n",
       "      <td>Canada</td>\n",
       "      <td>British Columbia</td>\n",
       "      <td>Accessories</td>\n",
       "      <td>Bike Racks</td>\n",
       "      <td>Hitch Rack - 4-Bike</td>\n",
       "      <td>8.0</td>\n",
       "      <td>45.0</td>\n",
       "      <td>120.0</td>\n",
       "      <td>590.0</td>\n",
       "      <td>360.0</td>\n",
       "      <td>950.0</td>\n",
       "      <td>Tuesday</td>\n",
       "    </tr>\n",
       "  </tbody>\n",
       "</table>\n",
       "</div>"
      ],
      "text/plain": [
       "        Date  Day     Month  Year  Customer_Age    Age_Group Customer_Gender  \\\n",
       "0 2013-11-26   26  November  2013            19  Youth (<25)            Male   \n",
       "\n",
       "  Country             State Product_Category Sub_Category  \\\n",
       "0  Canada  British Columbia      Accessories   Bike Racks   \n",
       "\n",
       "               Product  Order_Quantity  Unit_Cost  Unit_Price  Profit   Cost  \\\n",
       "0  Hitch Rack - 4-Bike             8.0       45.0       120.0   590.0  360.0   \n",
       "\n",
       "   Revenue Day_Of_Week  \n",
       "0    950.0     Tuesday  "
      ]
     },
     "execution_count": 40,
     "metadata": {},
     "output_type": "execute_result"
    }
   ],
   "source": [
    "#revist the dataset\n",
    "df.head(1)"
   ]
  },
  {
   "cell_type": "code",
   "execution_count": 41,
   "id": "c61ae1ac",
   "metadata": {},
   "outputs": [
    {
     "data": {
      "text/plain": [
       "Age_Group\n",
       "Adults (35-64)          Women's Mountain Shorts, S\n",
       "Seniors (64+)           Women's Mountain Shorts, S\n",
       "Young Adults (25-34)    Women's Mountain Shorts, S\n",
       "Youth (<25)             Women's Mountain Shorts, S\n",
       "Name: Product, dtype: object"
      ]
     },
     "execution_count": 41,
     "metadata": {},
     "output_type": "execute_result"
    }
   ],
   "source": [
    "df.groupby('Age_Group').Product.max().head(10)"
   ]
  },
  {
   "cell_type": "markdown",
   "id": "77448d3f",
   "metadata": {},
   "source": [
    "Women's Mountain Shorts, S by all the age groups"
   ]
  },
  {
   "cell_type": "markdown",
   "id": "30be6c45",
   "metadata": {},
   "source": [
    "#### question 14: which customer age had highest order quantity\n"
   ]
  },
  {
   "cell_type": "code",
   "execution_count": 42,
   "id": "f0614ed4",
   "metadata": {},
   "outputs": [
    {
     "data": {
      "text/plain": [
       "Customer_Age\n",
       "31    49738.0\n",
       "32    47949.0\n",
       "34    47323.0\n",
       "33    46511.0\n",
       "29    44560.0\n",
       "35    43482.0\n",
       "30    42148.0\n",
       "40    41719.0\n",
       "37    41420.0\n",
       "28    40266.0\n",
       "Name: Order_Quantity, dtype: float64"
      ]
     },
     "execution_count": 42,
     "metadata": {},
     "output_type": "execute_result"
    }
   ],
   "source": [
    "df.groupby('Customer_Age')['Order_Quantity'].sum().sort_values(ascending= False).head(10)"
   ]
  },
  {
   "cell_type": "markdown",
   "id": "f2805705",
   "metadata": {},
   "source": [
    "31 years of age placed more orders"
   ]
  },
  {
   "cell_type": "markdown",
   "id": "d1d113eb",
   "metadata": {},
   "source": [
    "#### Question 15: what was the prodct that made more profit "
   ]
  },
  {
   "cell_type": "code",
   "execution_count": 43,
   "id": "b793a629",
   "metadata": {},
   "outputs": [
    {
     "data": {
      "text/plain": [
       "Product\n",
       "Mountain-200 Black, 38     1302237.0\n",
       "Road-150 Red, 62           1237388.0\n",
       "Mountain-200 Silver, 42    1226878.0\n",
       "Sport-100 Helmet, Red      1191175.0\n",
       "Mountain-200 Silver, 38    1155311.0\n",
       "Sport-100 Helmet, Black    1140795.0\n",
       "Mountain-200 Black, 46     1075401.0\n",
       "Sport-100 Helmet, Blue     1047701.0\n",
       "Road-150 Red, 52           1044569.0\n",
       "Mountain-200 Black, 42     1032061.0\n",
       "Name: Profit, dtype: float64"
      ]
     },
     "execution_count": 43,
     "metadata": {},
     "output_type": "execute_result"
    }
   ],
   "source": [
    "\n",
    "df.groupby('Product').Profit.sum().sort_values(ascending= False).head(10)"
   ]
  },
  {
   "cell_type": "markdown",
   "id": "f94e193a",
   "metadata": {},
   "source": [
    "Mountain-200 Black, 38 made the most profit"
   ]
  },
  {
   "cell_type": "code",
   "execution_count": 45,
   "id": "ba5ff803",
   "metadata": {},
   "outputs": [],
   "source": [
    "#df.to_csv(r\"C:\\Users\\user\\Downloads\\power bi\\cleaned_datasets\\sales dataset.csv\")   #export the dataset as csv for further visualsations in power BI"
   ]
  },
  {
   "cell_type": "code",
   "execution_count": 46,
   "id": "410ec2d2",
   "metadata": {},
   "outputs": [
    {
     "data": {
      "text/html": [
       "<div>\n",
       "<style scoped>\n",
       "    .dataframe tbody tr th:only-of-type {\n",
       "        vertical-align: middle;\n",
       "    }\n",
       "\n",
       "    .dataframe tbody tr th {\n",
       "        vertical-align: top;\n",
       "    }\n",
       "\n",
       "    .dataframe thead th {\n",
       "        text-align: right;\n",
       "    }\n",
       "</style>\n",
       "<table border=\"1\" class=\"dataframe\">\n",
       "  <thead>\n",
       "    <tr style=\"text-align: right;\">\n",
       "      <th></th>\n",
       "      <th>Date</th>\n",
       "      <th>Day</th>\n",
       "      <th>Month</th>\n",
       "      <th>Year</th>\n",
       "      <th>Customer_Age</th>\n",
       "      <th>Age_Group</th>\n",
       "      <th>Customer_Gender</th>\n",
       "      <th>Country</th>\n",
       "      <th>State</th>\n",
       "      <th>Product_Category</th>\n",
       "      <th>Sub_Category</th>\n",
       "      <th>Product</th>\n",
       "      <th>Order_Quantity</th>\n",
       "      <th>Unit_Cost</th>\n",
       "      <th>Unit_Price</th>\n",
       "      <th>Profit</th>\n",
       "      <th>Cost</th>\n",
       "      <th>Revenue</th>\n",
       "      <th>Day_Of_Week</th>\n",
       "    </tr>\n",
       "  </thead>\n",
       "  <tbody>\n",
       "    <tr>\n",
       "      <th>0</th>\n",
       "      <td>2013-11-26</td>\n",
       "      <td>26</td>\n",
       "      <td>November</td>\n",
       "      <td>2013</td>\n",
       "      <td>19</td>\n",
       "      <td>Youth (&lt;25)</td>\n",
       "      <td>Male</td>\n",
       "      <td>Canada</td>\n",
       "      <td>British Columbia</td>\n",
       "      <td>Accessories</td>\n",
       "      <td>Bike Racks</td>\n",
       "      <td>Hitch Rack - 4-Bike</td>\n",
       "      <td>8.0</td>\n",
       "      <td>45.0</td>\n",
       "      <td>120.0</td>\n",
       "      <td>590.0</td>\n",
       "      <td>360.0</td>\n",
       "      <td>950.0</td>\n",
       "      <td>Tuesday</td>\n",
       "    </tr>\n",
       "    <tr>\n",
       "      <th>1</th>\n",
       "      <td>2015-11-26</td>\n",
       "      <td>26</td>\n",
       "      <td>November</td>\n",
       "      <td>2015</td>\n",
       "      <td>19</td>\n",
       "      <td>Youth (&lt;25)</td>\n",
       "      <td>Male</td>\n",
       "      <td>Canada</td>\n",
       "      <td>British Columbia</td>\n",
       "      <td>Accessories</td>\n",
       "      <td>Bike Racks</td>\n",
       "      <td>Hitch Rack - 4-Bike</td>\n",
       "      <td>8.0</td>\n",
       "      <td>45.0</td>\n",
       "      <td>120.0</td>\n",
       "      <td>590.0</td>\n",
       "      <td>360.0</td>\n",
       "      <td>950.0</td>\n",
       "      <td>Thursday</td>\n",
       "    </tr>\n",
       "    <tr>\n",
       "      <th>2</th>\n",
       "      <td>2014-03-23</td>\n",
       "      <td>23</td>\n",
       "      <td>March</td>\n",
       "      <td>2014</td>\n",
       "      <td>49</td>\n",
       "      <td>Adults (35-64)</td>\n",
       "      <td>Male</td>\n",
       "      <td>Australia</td>\n",
       "      <td>New South Wales</td>\n",
       "      <td>Accessories</td>\n",
       "      <td>Bike Racks</td>\n",
       "      <td>Hitch Rack - 4-Bike</td>\n",
       "      <td>23.0</td>\n",
       "      <td>45.0</td>\n",
       "      <td>120.0</td>\n",
       "      <td>1366.0</td>\n",
       "      <td>1035.0</td>\n",
       "      <td>2401.0</td>\n",
       "      <td>Sunday</td>\n",
       "    </tr>\n",
       "    <tr>\n",
       "      <th>3</th>\n",
       "      <td>2016-03-23</td>\n",
       "      <td>23</td>\n",
       "      <td>March</td>\n",
       "      <td>2016</td>\n",
       "      <td>49</td>\n",
       "      <td>Adults (35-64)</td>\n",
       "      <td>Male</td>\n",
       "      <td>Australia</td>\n",
       "      <td>New South Wales</td>\n",
       "      <td>Accessories</td>\n",
       "      <td>Bike Racks</td>\n",
       "      <td>Hitch Rack - 4-Bike</td>\n",
       "      <td>20.0</td>\n",
       "      <td>45.0</td>\n",
       "      <td>120.0</td>\n",
       "      <td>1188.0</td>\n",
       "      <td>900.0</td>\n",
       "      <td>2088.0</td>\n",
       "      <td>Wednesday</td>\n",
       "    </tr>\n",
       "    <tr>\n",
       "      <th>4</th>\n",
       "      <td>2014-05-15</td>\n",
       "      <td>15</td>\n",
       "      <td>May</td>\n",
       "      <td>2014</td>\n",
       "      <td>47</td>\n",
       "      <td>Adults (35-64)</td>\n",
       "      <td>Female</td>\n",
       "      <td>Australia</td>\n",
       "      <td>New South Wales</td>\n",
       "      <td>Accessories</td>\n",
       "      <td>Bike Racks</td>\n",
       "      <td>Hitch Rack - 4-Bike</td>\n",
       "      <td>4.0</td>\n",
       "      <td>45.0</td>\n",
       "      <td>120.0</td>\n",
       "      <td>238.0</td>\n",
       "      <td>180.0</td>\n",
       "      <td>418.0</td>\n",
       "      <td>Thursday</td>\n",
       "    </tr>\n",
       "  </tbody>\n",
       "</table>\n",
       "</div>"
      ],
      "text/plain": [
       "        Date  Day     Month  Year  Customer_Age       Age_Group  \\\n",
       "0 2013-11-26   26  November  2013            19     Youth (<25)   \n",
       "1 2015-11-26   26  November  2015            19     Youth (<25)   \n",
       "2 2014-03-23   23     March  2014            49  Adults (35-64)   \n",
       "3 2016-03-23   23     March  2016            49  Adults (35-64)   \n",
       "4 2014-05-15   15       May  2014            47  Adults (35-64)   \n",
       "\n",
       "  Customer_Gender    Country             State Product_Category Sub_Category  \\\n",
       "0            Male     Canada  British Columbia      Accessories   Bike Racks   \n",
       "1            Male     Canada  British Columbia      Accessories   Bike Racks   \n",
       "2            Male  Australia   New South Wales      Accessories   Bike Racks   \n",
       "3            Male  Australia   New South Wales      Accessories   Bike Racks   \n",
       "4          Female  Australia   New South Wales      Accessories   Bike Racks   \n",
       "\n",
       "               Product  Order_Quantity  Unit_Cost  Unit_Price  Profit    Cost  \\\n",
       "0  Hitch Rack - 4-Bike             8.0       45.0       120.0   590.0   360.0   \n",
       "1  Hitch Rack - 4-Bike             8.0       45.0       120.0   590.0   360.0   \n",
       "2  Hitch Rack - 4-Bike            23.0       45.0       120.0  1366.0  1035.0   \n",
       "3  Hitch Rack - 4-Bike            20.0       45.0       120.0  1188.0   900.0   \n",
       "4  Hitch Rack - 4-Bike             4.0       45.0       120.0   238.0   180.0   \n",
       "\n",
       "   Revenue Day_Of_Week  \n",
       "0    950.0     Tuesday  \n",
       "1    950.0    Thursday  \n",
       "2   2401.0      Sunday  \n",
       "3   2088.0   Wednesday  \n",
       "4    418.0    Thursday  "
      ]
     },
     "execution_count": 46,
     "metadata": {},
     "output_type": "execute_result"
    }
   ],
   "source": [
    "df.head()"
   ]
  },
  {
   "cell_type": "markdown",
   "id": "340153e7",
   "metadata": {},
   "source": [
    "# 3.1 Establishing the relationships between variables"
   ]
  },
  {
   "cell_type": "markdown",
   "id": "05c0a8e5",
   "metadata": {},
   "source": [
    "### step:1 Analyzing Individual Feature Patterns Using Visualization"
   ]
  },
  {
   "cell_type": "code",
   "execution_count": 47,
   "id": "00a362c2",
   "metadata": {},
   "outputs": [
    {
     "data": {
      "text/html": [
       "<div>\n",
       "<style scoped>\n",
       "    .dataframe tbody tr th:only-of-type {\n",
       "        vertical-align: middle;\n",
       "    }\n",
       "\n",
       "    .dataframe tbody tr th {\n",
       "        vertical-align: top;\n",
       "    }\n",
       "\n",
       "    .dataframe thead th {\n",
       "        text-align: right;\n",
       "    }\n",
       "</style>\n",
       "<table border=\"1\" class=\"dataframe\">\n",
       "  <thead>\n",
       "    <tr style=\"text-align: right;\">\n",
       "      <th></th>\n",
       "      <th>Day</th>\n",
       "      <th>Year</th>\n",
       "      <th>Customer_Age</th>\n",
       "      <th>Order_Quantity</th>\n",
       "      <th>Unit_Cost</th>\n",
       "      <th>Unit_Price</th>\n",
       "      <th>Profit</th>\n",
       "      <th>Cost</th>\n",
       "      <th>Revenue</th>\n",
       "    </tr>\n",
       "  </thead>\n",
       "  <tbody>\n",
       "    <tr>\n",
       "      <th>Day</th>\n",
       "      <td>1.000000</td>\n",
       "      <td>-0.007975</td>\n",
       "      <td>-0.016119</td>\n",
       "      <td>-0.004669</td>\n",
       "      <td>0.005286</td>\n",
       "      <td>0.005294</td>\n",
       "      <td>0.006582</td>\n",
       "      <td>0.004509</td>\n",
       "      <td>0.005339</td>\n",
       "    </tr>\n",
       "    <tr>\n",
       "      <th>Year</th>\n",
       "      <td>-0.007975</td>\n",
       "      <td>1.000000</td>\n",
       "      <td>0.040120</td>\n",
       "      <td>0.136265</td>\n",
       "      <td>-0.240370</td>\n",
       "      <td>-0.234457</td>\n",
       "      <td>-0.204326</td>\n",
       "      <td>-0.246457</td>\n",
       "      <td>-0.237325</td>\n",
       "    </tr>\n",
       "    <tr>\n",
       "      <th>Customer_Age</th>\n",
       "      <td>-0.016119</td>\n",
       "      <td>0.040120</td>\n",
       "      <td>1.000000</td>\n",
       "      <td>0.029920</td>\n",
       "      <td>-0.026052</td>\n",
       "      <td>-0.024573</td>\n",
       "      <td>0.000659</td>\n",
       "      <td>-0.021131</td>\n",
       "      <td>-0.013975</td>\n",
       "    </tr>\n",
       "    <tr>\n",
       "      <th>Order_Quantity</th>\n",
       "      <td>-0.004669</td>\n",
       "      <td>0.136265</td>\n",
       "      <td>0.029920</td>\n",
       "      <td>1.000000</td>\n",
       "      <td>-0.501041</td>\n",
       "      <td>-0.501866</td>\n",
       "      <td>-0.237239</td>\n",
       "      <td>-0.336240</td>\n",
       "      <td>-0.309224</td>\n",
       "    </tr>\n",
       "    <tr>\n",
       "      <th>Unit_Cost</th>\n",
       "      <td>0.005286</td>\n",
       "      <td>-0.240370</td>\n",
       "      <td>-0.026052</td>\n",
       "      <td>-0.501041</td>\n",
       "      <td>1.000000</td>\n",
       "      <td>0.997836</td>\n",
       "      <td>0.753268</td>\n",
       "      <td>0.845850</td>\n",
       "      <td>0.832745</td>\n",
       "    </tr>\n",
       "    <tr>\n",
       "      <th>Unit_Price</th>\n",
       "      <td>0.005294</td>\n",
       "      <td>-0.234457</td>\n",
       "      <td>-0.024573</td>\n",
       "      <td>-0.501866</td>\n",
       "      <td>0.997836</td>\n",
       "      <td>1.000000</td>\n",
       "      <td>0.761684</td>\n",
       "      <td>0.841212</td>\n",
       "      <td>0.832578</td>\n",
       "    </tr>\n",
       "    <tr>\n",
       "      <th>Profit</th>\n",
       "      <td>0.006582</td>\n",
       "      <td>-0.204326</td>\n",
       "      <td>0.000659</td>\n",
       "      <td>-0.237239</td>\n",
       "      <td>0.753268</td>\n",
       "      <td>0.761684</td>\n",
       "      <td>1.000000</td>\n",
       "      <td>0.901808</td>\n",
       "      <td>0.956870</td>\n",
       "    </tr>\n",
       "    <tr>\n",
       "      <th>Cost</th>\n",
       "      <td>0.004509</td>\n",
       "      <td>-0.246457</td>\n",
       "      <td>-0.021131</td>\n",
       "      <td>-0.336240</td>\n",
       "      <td>0.845850</td>\n",
       "      <td>0.841212</td>\n",
       "      <td>0.901808</td>\n",
       "      <td>1.000000</td>\n",
       "      <td>0.988456</td>\n",
       "    </tr>\n",
       "    <tr>\n",
       "      <th>Revenue</th>\n",
       "      <td>0.005339</td>\n",
       "      <td>-0.237325</td>\n",
       "      <td>-0.013975</td>\n",
       "      <td>-0.309224</td>\n",
       "      <td>0.832745</td>\n",
       "      <td>0.832578</td>\n",
       "      <td>0.956870</td>\n",
       "      <td>0.988456</td>\n",
       "      <td>1.000000</td>\n",
       "    </tr>\n",
       "  </tbody>\n",
       "</table>\n",
       "</div>"
      ],
      "text/plain": [
       "                     Day      Year  Customer_Age  Order_Quantity  Unit_Cost  \\\n",
       "Day             1.000000 -0.007975     -0.016119       -0.004669   0.005286   \n",
       "Year           -0.007975  1.000000      0.040120        0.136265  -0.240370   \n",
       "Customer_Age   -0.016119  0.040120      1.000000        0.029920  -0.026052   \n",
       "Order_Quantity -0.004669  0.136265      0.029920        1.000000  -0.501041   \n",
       "Unit_Cost       0.005286 -0.240370     -0.026052       -0.501041   1.000000   \n",
       "Unit_Price      0.005294 -0.234457     -0.024573       -0.501866   0.997836   \n",
       "Profit          0.006582 -0.204326      0.000659       -0.237239   0.753268   \n",
       "Cost            0.004509 -0.246457     -0.021131       -0.336240   0.845850   \n",
       "Revenue         0.005339 -0.237325     -0.013975       -0.309224   0.832745   \n",
       "\n",
       "                Unit_Price    Profit      Cost   Revenue  \n",
       "Day               0.005294  0.006582  0.004509  0.005339  \n",
       "Year             -0.234457 -0.204326 -0.246457 -0.237325  \n",
       "Customer_Age     -0.024573  0.000659 -0.021131 -0.013975  \n",
       "Order_Quantity   -0.501866 -0.237239 -0.336240 -0.309224  \n",
       "Unit_Cost         0.997836  0.753268  0.845850  0.832745  \n",
       "Unit_Price        1.000000  0.761684  0.841212  0.832578  \n",
       "Profit            0.761684  1.000000  0.901808  0.956870  \n",
       "Cost              0.841212  0.901808  1.000000  0.988456  \n",
       "Revenue           0.832578  0.956870  0.988456  1.000000  "
      ]
     },
     "execution_count": 47,
     "metadata": {},
     "output_type": "execute_result"
    }
   ],
   "source": [
    "#Checking the correlation of the variables\n",
    "df.corr()"
   ]
  },
  {
   "cell_type": "markdown",
   "id": "c958a2db",
   "metadata": {},
   "source": [
    "* There is a great relationship between the  cost and revenue\n",
    "\n",
    "* there is a strong correlation between Revenue and profit, strong corrrelation between Unit price and cost\n",
    "\n",
    "* good correlation between Profit unit price\n",
    "\n",
    "\n",
    "however more anaylsis needs to be establised to have more relationships between the variables"
   ]
  },
  {
   "cell_type": "code",
   "execution_count": 48,
   "id": "0959f9aa",
   "metadata": {},
   "outputs": [
    {
     "data": {
      "text/html": [
       "<div>\n",
       "<style scoped>\n",
       "    .dataframe tbody tr th:only-of-type {\n",
       "        vertical-align: middle;\n",
       "    }\n",
       "\n",
       "    .dataframe tbody tr th {\n",
       "        vertical-align: top;\n",
       "    }\n",
       "\n",
       "    .dataframe thead th {\n",
       "        text-align: right;\n",
       "    }\n",
       "</style>\n",
       "<table border=\"1\" class=\"dataframe\">\n",
       "  <thead>\n",
       "    <tr style=\"text-align: right;\">\n",
       "      <th></th>\n",
       "      <th>Order_Quantity</th>\n",
       "      <th>Unit_Cost</th>\n",
       "      <th>Unit_Price</th>\n",
       "      <th>Profit</th>\n",
       "      <th>Cost</th>\n",
       "      <th>Revenue</th>\n",
       "    </tr>\n",
       "  </thead>\n",
       "  <tbody>\n",
       "    <tr>\n",
       "      <th>Order_Quantity</th>\n",
       "      <td>1.000000</td>\n",
       "      <td>-0.501041</td>\n",
       "      <td>-0.501866</td>\n",
       "      <td>-0.237239</td>\n",
       "      <td>-0.336240</td>\n",
       "      <td>-0.309224</td>\n",
       "    </tr>\n",
       "    <tr>\n",
       "      <th>Unit_Cost</th>\n",
       "      <td>-0.501041</td>\n",
       "      <td>1.000000</td>\n",
       "      <td>0.997836</td>\n",
       "      <td>0.753268</td>\n",
       "      <td>0.845850</td>\n",
       "      <td>0.832745</td>\n",
       "    </tr>\n",
       "    <tr>\n",
       "      <th>Unit_Price</th>\n",
       "      <td>-0.501866</td>\n",
       "      <td>0.997836</td>\n",
       "      <td>1.000000</td>\n",
       "      <td>0.761684</td>\n",
       "      <td>0.841212</td>\n",
       "      <td>0.832578</td>\n",
       "    </tr>\n",
       "    <tr>\n",
       "      <th>Profit</th>\n",
       "      <td>-0.237239</td>\n",
       "      <td>0.753268</td>\n",
       "      <td>0.761684</td>\n",
       "      <td>1.000000</td>\n",
       "      <td>0.901808</td>\n",
       "      <td>0.956870</td>\n",
       "    </tr>\n",
       "    <tr>\n",
       "      <th>Cost</th>\n",
       "      <td>-0.336240</td>\n",
       "      <td>0.845850</td>\n",
       "      <td>0.841212</td>\n",
       "      <td>0.901808</td>\n",
       "      <td>1.000000</td>\n",
       "      <td>0.988456</td>\n",
       "    </tr>\n",
       "    <tr>\n",
       "      <th>Revenue</th>\n",
       "      <td>-0.309224</td>\n",
       "      <td>0.832745</td>\n",
       "      <td>0.832578</td>\n",
       "      <td>0.956870</td>\n",
       "      <td>0.988456</td>\n",
       "      <td>1.000000</td>\n",
       "    </tr>\n",
       "  </tbody>\n",
       "</table>\n",
       "</div>"
      ],
      "text/plain": [
       "                Order_Quantity  Unit_Cost  Unit_Price    Profit      Cost  \\\n",
       "Order_Quantity        1.000000  -0.501041   -0.501866 -0.237239 -0.336240   \n",
       "Unit_Cost            -0.501041   1.000000    0.997836  0.753268  0.845850   \n",
       "Unit_Price           -0.501866   0.997836    1.000000  0.761684  0.841212   \n",
       "Profit               -0.237239   0.753268    0.761684  1.000000  0.901808   \n",
       "Cost                 -0.336240   0.845850    0.841212  0.901808  1.000000   \n",
       "Revenue              -0.309224   0.832745    0.832578  0.956870  0.988456   \n",
       "\n",
       "                 Revenue  \n",
       "Order_Quantity -0.309224  \n",
       "Unit_Cost       0.832745  \n",
       "Unit_Price      0.832578  \n",
       "Profit          0.956870  \n",
       "Cost            0.988456  \n",
       "Revenue         1.000000  "
      ]
     },
     "execution_count": 48,
     "metadata": {},
     "output_type": "execute_result"
    }
   ],
   "source": [
    "#take in 6 variables and check their correlation\n",
    "df[['Order_Quantity', 'Unit_Cost', 'Unit_Price', 'Profit', 'Cost', 'Revenue']].corr()"
   ]
  },
  {
   "cell_type": "markdown",
   "id": "4b225204",
   "metadata": {},
   "source": [
    "Order quantity shows negative correlation with all the variables"
   ]
  },
  {
   "cell_type": "markdown",
   "id": "de66bbe4",
   "metadata": {},
   "source": [
    "### Plot the relationships"
   ]
  },
  {
   "cell_type": "markdown",
   "id": "874d27d7",
   "metadata": {},
   "source": [
    "#### * Plotting the relationship between the cost and the revenue"
   ]
  },
  {
   "cell_type": "code",
   "execution_count": 49,
   "id": "cbdcf3c7",
   "metadata": {},
   "outputs": [
    {
     "name": "stderr",
     "output_type": "stream",
     "text": [
      "C:\\Users\\Tamie\\anaconda3\\lib\\site-packages\\seaborn\\_decorators.py:36: FutureWarning: Pass the following variables as keyword args: x, y. From version 0.12, the only valid positional argument will be `data`, and passing other arguments without an explicit keyword will result in an error or misinterpretation.\n",
      "  warnings.warn(\n"
     ]
    },
    {
     "data": {
      "text/plain": [
       "<AxesSubplot:xlabel='Cost', ylabel='Revenue'>"
      ]
     },
     "execution_count": 49,
     "metadata": {},
     "output_type": "execute_result"
    },
    {
     "data": {
      "image/png": "[encoded data removed]",
      "text/plain": [
       "<Figure size 640x480 with 1 Axes>"
      ]
     },
     "metadata": {},
     "output_type": "display_data"
    }
   ],
   "source": [
    "sns.regplot(df['Cost'], df['Revenue'], data=df)"
   ]
  },
  {
   "cell_type": "markdown",
   "id": "f02fa93c",
   "metadata": {},
   "source": [
    "* There is a excellent relationship between the  cost and revenue\n"
   ]
  },
  {
   "cell_type": "markdown",
   "id": "0c4f797e",
   "metadata": {},
   "source": [
    "#### * plotting the relationship between revenue and profit"
   ]
  },
  {
   "cell_type": "code",
   "execution_count": 50,
   "id": "96f035d6",
   "metadata": {},
   "outputs": [
    {
     "data": {
      "text/plain": [
       "<AxesSubplot:xlabel='Profit', ylabel='Revenue'>"
      ]
     },
     "execution_count": 50,
     "metadata": {},
     "output_type": "execute_result"
    },
    {
     "data": {
      "image/png": "[encoded data removed]",
      "text/plain": [
       "<Figure size 640x480 with 1 Axes>"
      ]
     },
     "metadata": {},
     "output_type": "display_data"
    }
   ],
   "source": [
    "sns.regplot(df['Profit'], df['Revenue'], data=df)"
   ]
  },
  {
   "cell_type": "markdown",
   "id": "003349ba",
   "metadata": {},
   "source": [
    "* There is a good correlation between the profit and revenue but its not as good as seen by the first comparison"
   ]
  },
  {
   "cell_type": "markdown",
   "id": "5f764dd5",
   "metadata": {},
   "source": [
    "# Phase 4: Data Visualisation"
   ]
  },
  {
   "cell_type": "markdown",
   "id": "0b6b350e",
   "metadata": {},
   "source": [
    "* The purpose of data visualization is to visually represent data in a way that allows people to quickly and easily understand patterns, relationships, and trends in the data. By creating visual representations of data, we can make complex information more accessible and understandable, which can lead to insights and actionable outcomes."
   ]
  },
  {
   "cell_type": "markdown",
   "id": "a31ab46e",
   "metadata": {},
   "source": [
    "### 4.1: Product Category Distribution"
   ]
  },
  {
   "cell_type": "code",
   "execution_count": 51,
   "id": "e0d43f67",
   "metadata": {},
   "outputs": [
    {
     "data": {
      "image/png": "[encoded data removed]",
      "text/plain": [
       "<Figure size 640x480 with 1 Axes>"
      ]
     },
     "metadata": {},
     "output_type": "display_data"
    }
   ],
   "source": [
    "import matplotlib.pyplot as plt\n",
    "\n",
    "category_counts = df['Product_Category'].value_counts()\n",
    "\n",
    "plt.pie(category_counts, labels=category_counts.index, autopct='%1.1f%%')\n",
    "plt.title('Product Category Distribution')\n",
    "plt.show()\n"
   ]
  },
  {
   "cell_type": "markdown",
   "id": "af766c84",
   "metadata": {},
   "source": [
    "##### * **key takeaway:**  accesories had more product category listing"
   ]
  },
  {
   "cell_type": "markdown",
   "id": "d1a391e8",
   "metadata": {},
   "source": [
    "### 4.2: Top 5 Products Purchased by Female Customers"
   ]
  },
  {
   "cell_type": "code",
   "execution_count": 52,
   "id": "dfa38eac",
   "metadata": {},
   "outputs": [
    {
     "data": {
      "image/png": "[encoded data removed]",
      "text/plain": [
       "<Figure size 640x480 with 1 Axes>"
      ]
     },
     "metadata": {},
     "output_type": "display_data"
    }
   ],
   "source": [
    "\n",
    "filt = (df['Customer_Gender'] == 'Female')\n",
    "product_counts = df[filt].Product.value_counts().sort_values(ascending=False).head(5)\n",
    "\n",
    "plt.barh(product_counts.index, product_counts.values)\n",
    "plt.xlabel('Number of Purchases')\n",
    "plt.ylabel('Product')\n",
    "plt.title('Top 5 Products Purchased by Female Customers')\n",
    "plt.show()\n"
   ]
  },
  {
   "cell_type": "markdown",
   "id": "7772d875",
   "metadata": {},
   "source": [
    "##### * **key takeaway:**  more female customers were intrested in water Bottle-30oz. hence had more purchases"
   ]
  },
  {
   "cell_type": "markdown",
   "id": "1a67f5a9",
   "metadata": {},
   "source": [
    "### 4.3: Total Order Quantity and Profit by Product in Canada in 2015"
   ]
  },
  {
   "cell_type": "code",
   "execution_count": 56,
   "id": "f2e3b422",
   "metadata": {},
   "outputs": [
    {
     "name": "stderr",
     "output_type": "stream",
     "text": [
      "C:\\Users\\Tamie\\AppData\\Local\\Temp\\ipykernel_15424\\2702349142.py:2: FutureWarning: Indexing with multiple keys (implicitly converted to a tuple of keys) will be deprecated, use a list instead.\n",
      "  product_data = df[filt].groupby('Product')['Order_Quantity', 'Profit'].sum().sort_values(by='Order_Quantity', ascending=False).head(3)\n"
     ]
    },
    {
     "data": {
      "image/png": "[encoded data removed]",
      "text/plain": [
       "<Figure size 1000x600 with 1 Axes>"
      ]
     },
     "metadata": {},
     "output_type": "display_data"
    }
   ],
   "source": [
    "\n",
    "\n",
    "filt = (df['Country'] == 'Canada') & (df['Year'] == 2015)\n",
    "product_data = df[filt].groupby('Product')['Order_Quantity', 'Profit'].sum().sort_values(by='Order_Quantity', ascending=False).head(3)\n",
    "\n",
    "# Plot the data as a grouped bar chart\n",
    "product_data.plot(kind='bar', y=['Order_Quantity', 'Profit'], figsize=(10,6), rot=0)\n",
    "plt.xlabel('Product')\n",
    "plt.ylabel('Total')\n",
    "plt.title('Total Order Quantity and Profit by Product in Canada in 2015')\n",
    "plt.legend(['Order Quantity', 'Profit'])\n",
    "plt.show()\n"
   ]
  },
  {
   "cell_type": "markdown",
   "id": "dfcd99c8",
   "metadata": {},
   "source": [
    "##### * **key takeaway:**  mountain tire tube had more order quantity and profit"
   ]
  },
  {
   "cell_type": "markdown",
   "id": "a601cc76",
   "metadata": {},
   "source": [
    "### 4.4:Total Revenue Generated by Top 3 Best-Selling Products"
   ]
  },
  {
   "cell_type": "code",
   "execution_count": 58,
   "id": "d019a56b",
   "metadata": {},
   "outputs": [
    {
     "data": {
      "image/png": "[encoded data removed]",
      "text/plain": [
       "<Figure size 640x480 with 1 Axes>"
      ]
     },
     "metadata": {},
     "output_type": "display_data"
    }
   ],
   "source": [
    "\n",
    "\n",
    "revenue_data = df.groupby('Product').Revenue.sum().sort_values(ascending=False).head()\n",
    "\n",
    "# Plot the data as a horizontal bar chart\n",
    "plt.barh(revenue_data.index, revenue_data.values)\n",
    "plt.xlabel('Revenue')\n",
    "plt.ylabel('Product')\n",
    "plt.title('Total Revenue Generated by Top 3 Best-Selling Products')\n",
    "plt.show()\n"
   ]
  },
  {
   "cell_type": "markdown",
   "id": "31a3f732",
   "metadata": {},
   "source": [
    "##### * **key takeaway:** road -150 product has created more revenue"
   ]
  },
  {
   "cell_type": "markdown",
   "id": "5a5b8b42",
   "metadata": {},
   "source": [
    "### 4.5: Total Revenue Generated in Each Year"
   ]
  },
  {
   "cell_type": "code",
   "execution_count": 65,
   "id": "39fc6282",
   "metadata": {},
   "outputs": [
    {
     "data": {
      "image/png": "[encoded data removed]",
      "text/plain": [
       "<Figure size 640x480 with 1 Axes>"
      ]
     },
     "metadata": {},
     "output_type": "display_data"
    }
   ],
   "source": [
    "\n",
    "\n",
    "data = df.groupby('Year').Revenue.sum().sort_values(ascending=False)\n",
    "\n",
    "# Plot the data as a bar chart\n",
    "plt.bar(data.index, data.values)\n",
    "plt.xlabel('Year')\n",
    "plt.ylabel('Revenue')\n",
    "plt.title('Total Revenue Generated in Each Year')\n",
    "\n",
    "plt.show()\n"
   ]
  },
  {
   "cell_type": "markdown",
   "id": "7b3b0b8c",
   "metadata": {},
   "source": [
    "##### * **key takeaway:**  2015 had more years generated"
   ]
  },
  {
   "cell_type": "markdown",
   "id": "91c7e715",
   "metadata": {},
   "source": [
    "### 4.6: Total Order Quantity of Bike Racks Sold in Each State of Australia"
   ]
  },
  {
   "cell_type": "code",
   "execution_count": 60,
   "id": "89866064",
   "metadata": {},
   "outputs": [
    {
     "data": {
      "image/png": "[encoded data removed]",
      "text/plain": [
       "<Figure size 640x480 with 1 Axes>"
      ]
     },
     "metadata": {},
     "output_type": "display_data"
    }
   ],
   "source": [
    "\n",
    "\n",
    "filt = (df['Country'] == 'Australia') & (df['Sub_Category'] == 'Bike Racks')\n",
    "order_data = df[filt].groupby('State').Order_Quantity.sum().sort_values(ascending=False)\n",
    "\n",
    "# Plot the data as a horizontal bar chart\n",
    "plt.barh(order_data.index, order_data.values)\n",
    "plt.xlabel('Order Quantity')\n",
    "plt.ylabel('State')\n",
    "plt.title('Total Order Quantity of Bike Racks Sold in Each State of Australia')\n",
    "plt.show()\n"
   ]
  },
  {
   "cell_type": "markdown",
   "id": "c29cfa3d",
   "metadata": {},
   "source": [
    "##### * **key takeaway:**  more bikes were sold in new south wales, more than 200 quantites"
   ]
  },
  {
   "cell_type": "markdown",
   "id": "45b81568",
   "metadata": {},
   "source": [
    "### 4.7: Total Revenue and Profit Generated by Each Country in 2015"
   ]
  },
  {
   "cell_type": "code",
   "execution_count": 7,
   "id": "7085f5d7",
   "metadata": {},
   "outputs": [
    {
     "name": "stderr",
     "output_type": "stream",
     "text": [
      "C:\\Users\\Tamie\\AppData\\Local\\Temp\\ipykernel_16276\\4033494173.py:2: FutureWarning: Indexing with multiple keys (implicitly converted to a tuple of keys) will be deprecated, use a list instead.\n",
      "  data = df[filt].groupby('Country')['Revenue', 'Profit'].sum().sort_values(by='Revenue', ascending=False)\n"
     ]
    },
    {
     "data": {
      "image/png": "[encoded data removed]",
      "text/plain": [
       "<Figure size 640x480 with 1 Axes>"
      ]
     },
     "metadata": {},
     "output_type": "display_data"
    }
   ],
   "source": [
    "\n",
    "\n",
    "filt = df['Year'] == 2015\n",
    "data = df[filt].groupby('Country')['Revenue', 'Profit'].sum().sort_values(by='Revenue', ascending=False)\n",
    "\n",
    "# Plot the data as a stacked bar chart\n",
    "data.plot(kind='bar', stacked=True)\n",
    "plt.xlabel('Country')\n",
    "plt.ylabel('Amount')\n",
    "plt.title('Total Revenue and Profit Generated by Each Country in 2015')\n",
    "plt.legend()\n",
    "plt.show()\n"
   ]
  },
  {
   "cell_type": "markdown",
   "id": "ffca5af9",
   "metadata": {},
   "source": [
    "##### * **key takeaway:**  more revenue and profit was generated united states"
   ]
  },
  {
   "cell_type": "markdown",
   "id": "64d4e82f",
   "metadata": {},
   "source": [
    "### 4.8: Total Profit Generated in Each Month"
   ]
  },
  {
   "cell_type": "code",
   "execution_count": 64,
   "id": "c276ecde",
   "metadata": {},
   "outputs": [
    {
     "data": {
      "image/png": "[encoded data removed]",
      "text/plain": [
       "<Figure size 1400x600 with 1 Axes>"
      ]
     },
     "metadata": {},
     "output_type": "display_data"
    }
   ],
   "source": [
    "\n",
    "\n",
    "data = df.groupby('Month').Profit.sum().sort_values(ascending=False)\n",
    "\n",
    "# Create a larger figure with 10-inch width and 6-inch height\n",
    "fig, ax = plt.subplots(figsize=(14, 6))\n",
    "\n",
    "# Plot the data as a line chart\n",
    "ax.plot(data.index, data.values)\n",
    "ax.set_xlabel('Month')\n",
    "ax.set_ylabel('Profit')\n",
    "ax.set_title('Total Profit Generated in Each Month')\n",
    "\n",
    "plt.show()\n"
   ]
  },
  {
   "cell_type": "markdown",
   "id": "425b33c7",
   "metadata": {},
   "source": [
    "##### * **key takeaway:**  more profit was generated in june, the least being july"
   ]
  },
  {
   "cell_type": "code",
   "execution_count": 6,
   "id": "866f0846",
   "metadata": {},
   "outputs": [],
   "source": [
    "\n",
    "#saving the dataset for more vizualisation\n",
    "df.to_csv(r\"C:\\Users\\Tamie\\Downloads\\python data science projects\\datasets\\cleaned sales\")"
   ]
  },
  {
   "cell_type": "markdown",
   "id": "f724702c",
   "metadata": {},
   "source": [
    "#### Further data Visualization was done in powerbi:[Power data Viz link](https://app.powerbi.com/view?r=eyJrIjoiZDExZjU5ZDYtYzAwYS00NDIxLWI4YWMtNmY0ZjM3NTE0NWNjIiwidCI6IjQ0ZGJiOWQ3LTM3N2QtNDBkZS1hZGI4LTYzNTlkYWQ4MTBiZiJ9)"
   ]
  },
  {
   "cell_type": "markdown",
   "id": "f9dedc2d",
   "metadata": {},
   "source": [
    "## Author: TamiriraIshe Nyevera\n",
    "\n",
    "## Date: 6 January 2023\n",
    "\n",
    "* #### LinkedIn profile Link: [My LinkedIn Profile](https://www.linkedin.com/in/tamiriraishe-nyevera-2b51671b5/)\n",
    "\n",
    "* #### Github link:[Github profile](https://github.com/Tamie-AI-Tech)\n",
    "\n",
    "* #### Kaggle Link: [Kaggle Profile](https://www.kaggle.com/tamiriraishenyevera)\n",
    "\n",
    "* #### PowerBI visualisation imbedded code:[Power data Viz link](https://app.powerbi.com/view?r=eyJrIjoiZDExZjU5ZDYtYzAwYS00NDIxLWI4YWMtNmY0ZjM3NTE0NWNjIiwidCI6IjQ0ZGJiOWQ3LTM3N2QtNDBkZS1hZGI4LTYzNTlkYWQ4MTBiZiJ9)"
   ]
  },
  {
   "cell_type": "code",
   "execution_count": null,
   "id": "2566c39b",
   "metadata": {},
   "outputs": [],
   "source": []
  }
 ],
 "metadata": {
  "kernelspec": {
   "display_name": "Python 3 (ipykernel)",
   "language": "python",
   "name": "python3"
  },
  "language_info": {
   "codemirror_mode": {
    "name": "ipython",
    "version": 3
   },
   "file_extension": ".py",
   "mimetype": "text/x-python",
   "name": "python",
   "nbconvert_exporter": "python",
   "pygments_lexer": "ipython3",
   "version": "3.9.13"
  },
  "toc": {
   "base_numbering": 1,
   "nav_menu": {},
   "number_sections": true,
   "sideBar": true,
   "skip_h1_title": false,
   "title_cell": "Table of Contents",
   "title_sidebar": "Contents",
   "toc_cell": false,
   "toc_position": {},
   "toc_section_display": true,
   "toc_window_display": false
  }
 },
 "nbformat": 4,
 "nbformat_minor": 5
}
