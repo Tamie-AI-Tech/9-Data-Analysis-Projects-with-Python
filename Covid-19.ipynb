{
 "cells": [
  {
   "cell_type": "markdown",
   "id": "3ba5ea38",
   "metadata": {},
   "source": [
    "### Title: Covid-19 data analysis Real world Project with python\n",
    "\n",
    "\n",
    "\n",
    "\n",
    "* #### LinkedIn profile Link: [My LinkedIn Profile](https://www.linkedin.com/in/tamiriraishe-nyevera-2b51671b5/)\n",
    "\n",
    "* #### Github link: [Github profile](https://github.com/Tamie-AI-Tech)\n",
    "\n",
    "* #### Kaggle Link: [Kaggle Profile](https://www.kaggle.com/tamiriraishenyevera)\n",
    "\n",
    "* #### PowerBI visualisation imbedded code: [Power data Viz link](https://app.powerbi.com/view?r=eyJrIjoiM2Q4ZTc5YmUtNDg2Yi00ZDM4LWIwNjctM2YwODIyYmM2MTE0IiwidCI6IjQ0ZGJiOWQ3LTM3N2QtNDBkZS1hZGI4LTYzNTlkYWQ4MTBiZiJ9)"
   ]
  },
  {
   "cell_type": "markdown",
   "id": "e28d24f2",
   "metadata": {},
   "source": [
    "#### Introduction"
   ]
  },
  {
   "cell_type": "markdown",
   "id": "419e1b03",
   "metadata": {},
   "source": [
    "* Covid is a pandemic that started in 2019, hence the name. It took lives of many people in general and countries lost their economic power in different ways, how it started came with different angles altogether. This data set contains he information about which regions were affected, the deaths, confirmed who had it and how many managed to recover over a specified period.\n",
    "\n",
    "\n",
    "\n",
    "\n",
    "\n",
    "* The data is a csv file and analysis is done using pandas \n",
    "* matplotlib will be used for some data visualisations to get the inisghts of the data"
   ]
  },
  {
   "cell_type": "markdown",
   "id": "ae24c647",
   "metadata": {},
   "source": [
    "#### Questions to answer"
   ]
  },
  {
   "cell_type": "markdown",
   "id": "61d06b99",
   "metadata": {},
   "source": [
    "These Questions will be answered under phase3: of the data analysis\n",
    "\n",
    "\n",
    "* Which regions had high death cause of covid\n",
    "* Which region produced good recoveries\n",
    "* Which day when most people were confirmed to have the virus \n",
    "* Show the number of death, confirmed and recovered in each regions\n",
    "* Take out the information when the recoveries were less than 30\n",
    "* which regions confirmed the minimum number of deaths\n",
    "* how many cases were recorded from Zimbabwe \n",
    "\n",
    "\n",
    "These questions have been developed by the arthor to help analyse the data and tell the story about the data"
   ]
  },
  {
   "cell_type": "markdown",
   "id": "9cfc9e44",
   "metadata": {},
   "source": [
    "# Phase 1: Data Preparation"
   ]
  },
  {
   "cell_type": "markdown",
   "id": "5e6f6725",
   "metadata": {},
   "source": [
    "This step involves data import,it includes import of libraries that facilitate data import, analysis and visualisation."
   ]
  },
  {
   "cell_type": "code",
   "execution_count": null,
   "id": "f348c8fd",
   "metadata": {},
   "outputs": [],
   "source": []
  },
  {
   "cell_type": "code",
   "execution_count": 16,
   "id": "7cfb2843",
   "metadata": {},
   "outputs": [],
   "source": [
    "import pandas as pd               #for data loading and manipulation\n",
    "\n",
    "import numpy as np                #for stastical analysis\n",
    "\n",
    "import matplotlib.pyplot as plt        #for data visualisation\n",
    "import seaborn as sns\n",
    "\n",
    "import matplotlib\n",
    "%matplotlib inline "
   ]
  },
  {
   "cell_type": "code",
   "execution_count": 17,
   "id": "e9684543",
   "metadata": {
    "scrolled": false
   },
   "outputs": [],
   "source": [
    "na_vals = [' ', 'nan', 'Nan', '?', 'missing', 'Missing']      #the list containing all the values that are to be deemed as null values\n",
    "\n",
    "df = pd.read_csv(r\"C:\\Users\\Tamie\\Downloads\\python data science projects\\datasets\\4. covid_19_data.csv\")\n",
    "\n",
    "#take note of the dataset directory, click on the dataset that needs to be imported and copy path or\n",
    "#go to properties >> right click on the dataset >> security >> copy the path that shows beneath\n",
    "#take note, on both cases insert r before the path directory.\n",
    "\n",
    "#The method of inputting r doesnt matter\n",
    "#import the dataset into the jupyter notebook folder you working on and copy the name of the dataset hence insert it in the parentheses"
   ]
  },
  {
   "cell_type": "code",
   "execution_count": 18,
   "id": "60d9f7db",
   "metadata": {},
   "outputs": [
    {
     "data": {
      "text/html": [
       "<div>\n",
       "<style scoped>\n",
       "    .dataframe tbody tr th:only-of-type {\n",
       "        vertical-align: middle;\n",
       "    }\n",
       "\n",
       "    .dataframe tbody tr th {\n",
       "        vertical-align: top;\n",
       "    }\n",
       "\n",
       "    .dataframe thead th {\n",
       "        text-align: right;\n",
       "    }\n",
       "</style>\n",
       "<table border=\"1\" class=\"dataframe\">\n",
       "  <thead>\n",
       "    <tr style=\"text-align: right;\">\n",
       "      <th></th>\n",
       "      <th>Date</th>\n",
       "      <th>State</th>\n",
       "      <th>Region</th>\n",
       "      <th>Confirmed</th>\n",
       "      <th>Deaths</th>\n",
       "      <th>Recovered</th>\n",
       "    </tr>\n",
       "  </thead>\n",
       "  <tbody>\n",
       "    <tr>\n",
       "      <th>0</th>\n",
       "      <td>4/29/2020</td>\n",
       "      <td>NaN</td>\n",
       "      <td>Afghanistan</td>\n",
       "      <td>1939</td>\n",
       "      <td>60</td>\n",
       "      <td>252</td>\n",
       "    </tr>\n",
       "    <tr>\n",
       "      <th>1</th>\n",
       "      <td>4/29/2020</td>\n",
       "      <td>NaN</td>\n",
       "      <td>Albania</td>\n",
       "      <td>766</td>\n",
       "      <td>30</td>\n",
       "      <td>455</td>\n",
       "    </tr>\n",
       "    <tr>\n",
       "      <th>2</th>\n",
       "      <td>4/29/2020</td>\n",
       "      <td>NaN</td>\n",
       "      <td>Algeria</td>\n",
       "      <td>3848</td>\n",
       "      <td>444</td>\n",
       "      <td>1702</td>\n",
       "    </tr>\n",
       "    <tr>\n",
       "      <th>3</th>\n",
       "      <td>4/29/2020</td>\n",
       "      <td>NaN</td>\n",
       "      <td>Andorra</td>\n",
       "      <td>743</td>\n",
       "      <td>42</td>\n",
       "      <td>423</td>\n",
       "    </tr>\n",
       "    <tr>\n",
       "      <th>4</th>\n",
       "      <td>4/29/2020</td>\n",
       "      <td>NaN</td>\n",
       "      <td>Angola</td>\n",
       "      <td>27</td>\n",
       "      <td>2</td>\n",
       "      <td>7</td>\n",
       "    </tr>\n",
       "  </tbody>\n",
       "</table>\n",
       "</div>"
      ],
      "text/plain": [
       "        Date State       Region  Confirmed  Deaths  Recovered\n",
       "0  4/29/2020   NaN  Afghanistan       1939      60        252\n",
       "1  4/29/2020   NaN      Albania        766      30        455\n",
       "2  4/29/2020   NaN      Algeria       3848     444       1702\n",
       "3  4/29/2020   NaN      Andorra        743      42        423\n",
       "4  4/29/2020   NaN       Angola         27       2          7"
      ]
     },
     "execution_count": 18,
     "metadata": {},
     "output_type": "execute_result"
    }
   ],
   "source": [
    "#view first rows of the dataset\n",
    "df.head()"
   ]
  },
  {
   "cell_type": "code",
   "execution_count": 19,
   "id": "dcc3f690",
   "metadata": {},
   "outputs": [
    {
     "data": {
      "text/plain": [
       "(321, 6)"
      ]
     },
     "execution_count": 19,
     "metadata": {},
     "output_type": "execute_result"
    }
   ],
   "source": [
    "#shape of the dataset\n",
    "df.shape"
   ]
  },
  {
   "cell_type": "markdown",
   "id": "640a1ede",
   "metadata": {},
   "source": [
    "The dataset has 321 rows and 6 columns"
   ]
  },
  {
   "cell_type": "code",
   "execution_count": 20,
   "id": "6d3e10ec",
   "metadata": {},
   "outputs": [
    {
     "data": {
      "text/html": [
       "<div>\n",
       "<style scoped>\n",
       "    .dataframe tbody tr th:only-of-type {\n",
       "        vertical-align: middle;\n",
       "    }\n",
       "\n",
       "    .dataframe tbody tr th {\n",
       "        vertical-align: top;\n",
       "    }\n",
       "\n",
       "    .dataframe thead th {\n",
       "        text-align: right;\n",
       "    }\n",
       "</style>\n",
       "<table border=\"1\" class=\"dataframe\">\n",
       "  <thead>\n",
       "    <tr style=\"text-align: right;\">\n",
       "      <th></th>\n",
       "      <th>0</th>\n",
       "    </tr>\n",
       "  </thead>\n",
       "  <tbody>\n",
       "    <tr>\n",
       "      <th>Date</th>\n",
       "      <td>Date</td>\n",
       "    </tr>\n",
       "    <tr>\n",
       "      <th>State</th>\n",
       "      <td>State</td>\n",
       "    </tr>\n",
       "    <tr>\n",
       "      <th>Region</th>\n",
       "      <td>Region</td>\n",
       "    </tr>\n",
       "    <tr>\n",
       "      <th>Confirmed</th>\n",
       "      <td>Confirmed</td>\n",
       "    </tr>\n",
       "    <tr>\n",
       "      <th>Deaths</th>\n",
       "      <td>Deaths</td>\n",
       "    </tr>\n",
       "    <tr>\n",
       "      <th>Recovered</th>\n",
       "      <td>Recovered</td>\n",
       "    </tr>\n",
       "  </tbody>\n",
       "</table>\n",
       "</div>"
      ],
      "text/plain": [
       "                   0\n",
       "Date            Date\n",
       "State          State\n",
       "Region        Region\n",
       "Confirmed  Confirmed\n",
       "Deaths        Deaths\n",
       "Recovered  Recovered"
      ]
     },
     "execution_count": 20,
     "metadata": {},
     "output_type": "execute_result"
    }
   ],
   "source": [
    "df.columns.to_frame()"
   ]
  },
  {
   "cell_type": "code",
   "execution_count": 21,
   "id": "174e01f4",
   "metadata": {},
   "outputs": [
    {
     "data": {
      "text/plain": [
       "Date         321\n",
       "State        140\n",
       "Region       321\n",
       "Confirmed    321\n",
       "Deaths       321\n",
       "Recovered    321\n",
       "dtype: int64"
      ]
     },
     "execution_count": 21,
     "metadata": {},
     "output_type": "execute_result"
    }
   ],
   "source": [
    "#check the total non null values in the dataset\n",
    "df.count()"
   ]
  },
  {
   "cell_type": "markdown",
   "id": "d4209afb",
   "metadata": {},
   "source": [
    "There is one column [state] that has so many missing values, the case shall be dealt with on phase 2 of data cleaning"
   ]
  },
  {
   "cell_type": "markdown",
   "id": "59b2113d",
   "metadata": {},
   "source": [
    "# Phase 2: Data Processing"
   ]
  },
  {
   "cell_type": "markdown",
   "id": "c6c04146",
   "metadata": {},
   "source": [
    "This phase includes all the cleaning, transforming and processing of data"
   ]
  },
  {
   "cell_type": "markdown",
   "id": "12f1a153",
   "metadata": {},
   "source": [
    "#### Step 1: Check for all the the missing or na values in the dataset"
   ]
  },
  {
   "cell_type": "code",
   "execution_count": 22,
   "id": "1a195216",
   "metadata": {},
   "outputs": [
    {
     "data": {
      "text/plain": [
       "Date           0\n",
       "State        181\n",
       "Region         0\n",
       "Confirmed      0\n",
       "Deaths         0\n",
       "Recovered      0\n",
       "dtype: int64"
      ]
     },
     "execution_count": 22,
     "metadata": {},
     "output_type": "execute_result"
    }
   ],
   "source": [
    "df.isnull().sum()"
   ]
  },
  {
   "cell_type": "markdown",
   "id": "81354520",
   "metadata": {},
   "source": [
    "dropping the na values will damage the dataset, for this case since state is only on affected \n",
    "the choice might be to drop the column or just leave it like that since it regions are given\n",
    "The author decided to leave the column with in the dataframe"
   ]
  },
  {
   "cell_type": "markdown",
   "id": "c8c90ef7",
   "metadata": {},
   "source": [
    "#### Step 2: Check for all the data duplicates and remove them"
   ]
  },
  {
   "cell_type": "code",
   "execution_count": 23,
   "id": "d83fec5d",
   "metadata": {},
   "outputs": [
    {
     "data": {
      "text/plain": [
       "0"
      ]
     },
     "execution_count": 23,
     "metadata": {},
     "output_type": "execute_result"
    }
   ],
   "source": [
    "df.duplicated().sum()"
   ]
  },
  {
   "cell_type": "markdown",
   "id": "aaf1c695",
   "metadata": {},
   "source": [
    "There is no duplication of data"
   ]
  },
  {
   "cell_type": "markdown",
   "id": "191b5591",
   "metadata": {},
   "source": [
    "#### Step 2: Check for the datatypes in the dataset to see if there is need to change the datatypes of some columns"
   ]
  },
  {
   "cell_type": "code",
   "execution_count": 24,
   "id": "7a4a4109",
   "metadata": {},
   "outputs": [
    {
     "data": {
      "text/plain": [
       "Date         object\n",
       "State        object\n",
       "Region       object\n",
       "Confirmed     int64\n",
       "Deaths        int64\n",
       "Recovered     int64\n",
       "dtype: object"
      ]
     },
     "execution_count": 24,
     "metadata": {},
     "output_type": "execute_result"
    }
   ],
   "source": [
    "df.dtypes   #checks the datatype of the dataset"
   ]
  },
  {
   "cell_type": "markdown",
   "id": "40f8e06f",
   "metadata": {},
   "source": [
    "change the date datatype from object to datettime"
   ]
  },
  {
   "cell_type": "code",
   "execution_count": 25,
   "id": "82d7731c",
   "metadata": {},
   "outputs": [],
   "source": [
    "df['Date'] = pd.to_datetime(df['Date'])  #converts the date datatype into datetime"
   ]
  },
  {
   "cell_type": "code",
   "execution_count": 26,
   "id": "b5a22ee5",
   "metadata": {},
   "outputs": [
    {
     "data": {
      "text/plain": [
       "Date         datetime64[ns]\n",
       "State                object\n",
       "Region               object\n",
       "Confirmed             int64\n",
       "Deaths                int64\n",
       "Recovered             int64\n",
       "dtype: object"
      ]
     },
     "execution_count": 26,
     "metadata": {},
     "output_type": "execute_result"
    }
   ],
   "source": [
    "#check for the dtypes again\n",
    "df.dtypes"
   ]
  },
  {
   "cell_type": "markdown",
   "id": "d43d75c1",
   "metadata": {},
   "source": [
    "The Date has been converted to the Datetime datatype"
   ]
  },
  {
   "cell_type": "markdown",
   "id": "048b292f",
   "metadata": {},
   "source": [
    "#### Step 2.1: Create a columns containing day names, month and year in the dataset"
   ]
  },
  {
   "cell_type": "code",
   "execution_count": 27,
   "id": "095f2633",
   "metadata": {},
   "outputs": [],
   "source": [
    "#creates the new columns in the dataset\n",
    "df['Day_Name'] = df['Date'].dt.day_name()\n",
    "df['Month'] = df['Date'].dt.month\n",
    "df['Year'] = df['Date'].dt.year\n"
   ]
  },
  {
   "cell_type": "code",
   "execution_count": null,
   "id": "0f67c731",
   "metadata": {},
   "outputs": [],
   "source": []
  },
  {
   "cell_type": "code",
   "execution_count": 28,
   "id": "97366730",
   "metadata": {},
   "outputs": [
    {
     "data": {
      "text/html": [
       "<div>\n",
       "<style scoped>\n",
       "    .dataframe tbody tr th:only-of-type {\n",
       "        vertical-align: middle;\n",
       "    }\n",
       "\n",
       "    .dataframe tbody tr th {\n",
       "        vertical-align: top;\n",
       "    }\n",
       "\n",
       "    .dataframe thead th {\n",
       "        text-align: right;\n",
       "    }\n",
       "</style>\n",
       "<table border=\"1\" class=\"dataframe\">\n",
       "  <thead>\n",
       "    <tr style=\"text-align: right;\">\n",
       "      <th></th>\n",
       "      <th>Date</th>\n",
       "      <th>State</th>\n",
       "      <th>Region</th>\n",
       "      <th>Confirmed</th>\n",
       "      <th>Deaths</th>\n",
       "      <th>Recovered</th>\n",
       "      <th>Day_Name</th>\n",
       "      <th>Month</th>\n",
       "      <th>Year</th>\n",
       "    </tr>\n",
       "  </thead>\n",
       "  <tbody>\n",
       "    <tr>\n",
       "      <th>0</th>\n",
       "      <td>2020-04-29</td>\n",
       "      <td>NaN</td>\n",
       "      <td>Afghanistan</td>\n",
       "      <td>1939</td>\n",
       "      <td>60</td>\n",
       "      <td>252</td>\n",
       "      <td>Wednesday</td>\n",
       "      <td>4</td>\n",
       "      <td>2020</td>\n",
       "    </tr>\n",
       "    <tr>\n",
       "      <th>1</th>\n",
       "      <td>2020-04-29</td>\n",
       "      <td>NaN</td>\n",
       "      <td>Albania</td>\n",
       "      <td>766</td>\n",
       "      <td>30</td>\n",
       "      <td>455</td>\n",
       "      <td>Wednesday</td>\n",
       "      <td>4</td>\n",
       "      <td>2020</td>\n",
       "    </tr>\n",
       "    <tr>\n",
       "      <th>2</th>\n",
       "      <td>2020-04-29</td>\n",
       "      <td>NaN</td>\n",
       "      <td>Algeria</td>\n",
       "      <td>3848</td>\n",
       "      <td>444</td>\n",
       "      <td>1702</td>\n",
       "      <td>Wednesday</td>\n",
       "      <td>4</td>\n",
       "      <td>2020</td>\n",
       "    </tr>\n",
       "    <tr>\n",
       "      <th>3</th>\n",
       "      <td>2020-04-29</td>\n",
       "      <td>NaN</td>\n",
       "      <td>Andorra</td>\n",
       "      <td>743</td>\n",
       "      <td>42</td>\n",
       "      <td>423</td>\n",
       "      <td>Wednesday</td>\n",
       "      <td>4</td>\n",
       "      <td>2020</td>\n",
       "    </tr>\n",
       "    <tr>\n",
       "      <th>4</th>\n",
       "      <td>2020-04-29</td>\n",
       "      <td>NaN</td>\n",
       "      <td>Angola</td>\n",
       "      <td>27</td>\n",
       "      <td>2</td>\n",
       "      <td>7</td>\n",
       "      <td>Wednesday</td>\n",
       "      <td>4</td>\n",
       "      <td>2020</td>\n",
       "    </tr>\n",
       "  </tbody>\n",
       "</table>\n",
       "</div>"
      ],
      "text/plain": [
       "        Date State       Region  Confirmed  Deaths  Recovered   Day_Name  \\\n",
       "0 2020-04-29   NaN  Afghanistan       1939      60        252  Wednesday   \n",
       "1 2020-04-29   NaN      Albania        766      30        455  Wednesday   \n",
       "2 2020-04-29   NaN      Algeria       3848     444       1702  Wednesday   \n",
       "3 2020-04-29   NaN      Andorra        743      42        423  Wednesday   \n",
       "4 2020-04-29   NaN       Angola         27       2          7  Wednesday   \n",
       "\n",
       "   Month  Year  \n",
       "0      4  2020  \n",
       "1      4  2020  \n",
       "2      4  2020  \n",
       "3      4  2020  \n",
       "4      4  2020  "
      ]
     },
     "execution_count": 28,
     "metadata": {},
     "output_type": "execute_result"
    }
   ],
   "source": [
    "#view te first rows of the data\n",
    "df.head()"
   ]
  },
  {
   "cell_type": "markdown",
   "id": "edb41611",
   "metadata": {},
   "source": [
    "New columns have been added, however the month has to be converted to from number to strings by renaming"
   ]
  },
  {
   "cell_type": "markdown",
   "id": "3dd5e31b",
   "metadata": {},
   "source": [
    "### Step 2.2: Create a columns containing day names, month and year in the dataset"
   ]
  },
  {
   "cell_type": "code",
   "execution_count": 29,
   "id": "e0d1acf9",
   "metadata": {},
   "outputs": [],
   "source": [
    "df['Month'] = df['Month'].replace({1:'Jan', 2:'Feb', 3:'Mar', 4:'Apr', 5:'May', 6:'Jun', 7:'Jul', 8:'Aug', 9:'Sep', 10:'Oct',\n",
    "                                  11:'Nov', 12:'Dec'})"
   ]
  },
  {
   "cell_type": "code",
   "execution_count": 30,
   "id": "9569aff0",
   "metadata": {},
   "outputs": [
    {
     "data": {
      "text/html": [
       "<div>\n",
       "<style scoped>\n",
       "    .dataframe tbody tr th:only-of-type {\n",
       "        vertical-align: middle;\n",
       "    }\n",
       "\n",
       "    .dataframe tbody tr th {\n",
       "        vertical-align: top;\n",
       "    }\n",
       "\n",
       "    .dataframe thead th {\n",
       "        text-align: right;\n",
       "    }\n",
       "</style>\n",
       "<table border=\"1\" class=\"dataframe\">\n",
       "  <thead>\n",
       "    <tr style=\"text-align: right;\">\n",
       "      <th></th>\n",
       "      <th>Date</th>\n",
       "      <th>State</th>\n",
       "      <th>Region</th>\n",
       "      <th>Confirmed</th>\n",
       "      <th>Deaths</th>\n",
       "      <th>Recovered</th>\n",
       "      <th>Day_Name</th>\n",
       "      <th>Month</th>\n",
       "      <th>Year</th>\n",
       "    </tr>\n",
       "  </thead>\n",
       "  <tbody>\n",
       "    <tr>\n",
       "      <th>0</th>\n",
       "      <td>2020-04-29</td>\n",
       "      <td>NaN</td>\n",
       "      <td>Afghanistan</td>\n",
       "      <td>1939</td>\n",
       "      <td>60</td>\n",
       "      <td>252</td>\n",
       "      <td>Wednesday</td>\n",
       "      <td>Apr</td>\n",
       "      <td>2020</td>\n",
       "    </tr>\n",
       "    <tr>\n",
       "      <th>1</th>\n",
       "      <td>2020-04-29</td>\n",
       "      <td>NaN</td>\n",
       "      <td>Albania</td>\n",
       "      <td>766</td>\n",
       "      <td>30</td>\n",
       "      <td>455</td>\n",
       "      <td>Wednesday</td>\n",
       "      <td>Apr</td>\n",
       "      <td>2020</td>\n",
       "    </tr>\n",
       "    <tr>\n",
       "      <th>2</th>\n",
       "      <td>2020-04-29</td>\n",
       "      <td>NaN</td>\n",
       "      <td>Algeria</td>\n",
       "      <td>3848</td>\n",
       "      <td>444</td>\n",
       "      <td>1702</td>\n",
       "      <td>Wednesday</td>\n",
       "      <td>Apr</td>\n",
       "      <td>2020</td>\n",
       "    </tr>\n",
       "    <tr>\n",
       "      <th>3</th>\n",
       "      <td>2020-04-29</td>\n",
       "      <td>NaN</td>\n",
       "      <td>Andorra</td>\n",
       "      <td>743</td>\n",
       "      <td>42</td>\n",
       "      <td>423</td>\n",
       "      <td>Wednesday</td>\n",
       "      <td>Apr</td>\n",
       "      <td>2020</td>\n",
       "    </tr>\n",
       "    <tr>\n",
       "      <th>4</th>\n",
       "      <td>2020-04-29</td>\n",
       "      <td>NaN</td>\n",
       "      <td>Angola</td>\n",
       "      <td>27</td>\n",
       "      <td>2</td>\n",
       "      <td>7</td>\n",
       "      <td>Wednesday</td>\n",
       "      <td>Apr</td>\n",
       "      <td>2020</td>\n",
       "    </tr>\n",
       "  </tbody>\n",
       "</table>\n",
       "</div>"
      ],
      "text/plain": [
       "        Date State       Region  Confirmed  Deaths  Recovered   Day_Name  \\\n",
       "0 2020-04-29   NaN  Afghanistan       1939      60        252  Wednesday   \n",
       "1 2020-04-29   NaN      Albania        766      30        455  Wednesday   \n",
       "2 2020-04-29   NaN      Algeria       3848     444       1702  Wednesday   \n",
       "3 2020-04-29   NaN      Andorra        743      42        423  Wednesday   \n",
       "4 2020-04-29   NaN       Angola         27       2          7  Wednesday   \n",
       "\n",
       "  Month  Year  \n",
       "0   Apr  2020  \n",
       "1   Apr  2020  \n",
       "2   Apr  2020  \n",
       "3   Apr  2020  \n",
       "4   Apr  2020  "
      ]
     },
     "execution_count": 30,
     "metadata": {},
     "output_type": "execute_result"
    }
   ],
   "source": [
    "#view the dataset\n",
    "df.head()"
   ]
  },
  {
   "cell_type": "markdown",
   "id": "a9a6611f",
   "metadata": {},
   "source": [
    "# Phase 3: Data Analysis"
   ]
  },
  {
   "cell_type": "markdown",
   "id": "04f5996a",
   "metadata": {},
   "source": [
    "* EDA is an approach to anaylse data inorder to summarize main characteristics of the data\n",
    "* It also helps to gain better understanding of the dataset\n",
    "* helps uncover relationships between different variables \n",
    "* extract the important variables for the problem being solved"
   ]
  },
  {
   "cell_type": "markdown",
   "id": "9c8fb506",
   "metadata": {},
   "source": [
    "#### Q1:Which regions had high death cause of covid"
   ]
  },
  {
   "cell_type": "code",
   "execution_count": 31,
   "id": "3af38b8c",
   "metadata": {},
   "outputs": [
    {
     "data": {
      "text/html": [
       "<div>\n",
       "<style scoped>\n",
       "    .dataframe tbody tr th:only-of-type {\n",
       "        vertical-align: middle;\n",
       "    }\n",
       "\n",
       "    .dataframe tbody tr th {\n",
       "        vertical-align: top;\n",
       "    }\n",
       "\n",
       "    .dataframe thead th {\n",
       "        text-align: right;\n",
       "    }\n",
       "</style>\n",
       "<table border=\"1\" class=\"dataframe\">\n",
       "  <thead>\n",
       "    <tr style=\"text-align: right;\">\n",
       "      <th></th>\n",
       "      <th>Date</th>\n",
       "      <th>State</th>\n",
       "      <th>Region</th>\n",
       "      <th>Confirmed</th>\n",
       "      <th>Deaths</th>\n",
       "      <th>Recovered</th>\n",
       "      <th>Day_Name</th>\n",
       "      <th>Month</th>\n",
       "      <th>Year</th>\n",
       "    </tr>\n",
       "  </thead>\n",
       "  <tbody>\n",
       "    <tr>\n",
       "      <th>0</th>\n",
       "      <td>2020-04-29</td>\n",
       "      <td>NaN</td>\n",
       "      <td>Afghanistan</td>\n",
       "      <td>1939</td>\n",
       "      <td>60</td>\n",
       "      <td>252</td>\n",
       "      <td>Wednesday</td>\n",
       "      <td>Apr</td>\n",
       "      <td>2020</td>\n",
       "    </tr>\n",
       "  </tbody>\n",
       "</table>\n",
       "</div>"
      ],
      "text/plain": [
       "        Date State       Region  Confirmed  Deaths  Recovered   Day_Name  \\\n",
       "0 2020-04-29   NaN  Afghanistan       1939      60        252  Wednesday   \n",
       "\n",
       "  Month  Year  \n",
       "0   Apr  2020  "
      ]
     },
     "execution_count": 31,
     "metadata": {},
     "output_type": "execute_result"
    }
   ],
   "source": [
    "df.head(1)"
   ]
  },
  {
   "cell_type": "code",
   "execution_count": 32,
   "id": "510549d0",
   "metadata": {},
   "outputs": [
    {
     "data": {
      "text/plain": [
       "Region\n",
       "US        60967\n",
       "Italy     27682\n",
       "UK        26166\n",
       "Spain     24275\n",
       "France    24121\n",
       "Name: Deaths, dtype: int64"
      ]
     },
     "execution_count": 32,
     "metadata": {},
     "output_type": "execute_result"
    }
   ],
   "source": [
    "#region is grouped by the deaths that occured in that region in that total, starting from the top\n",
    "df.groupby('Region').Deaths.sum().sort_values(ascending=False).head()"
   ]
  },
  {
   "cell_type": "markdown",
   "id": "d2bc09ca",
   "metadata": {},
   "source": [
    "USA had the highest hit"
   ]
  },
  {
   "cell_type": "markdown",
   "id": "8c496c49",
   "metadata": {},
   "source": [
    "#### Q2:Which region produced good recoveries"
   ]
  },
  {
   "cell_type": "code",
   "execution_count": 37,
   "id": "ef1e54dc",
   "metadata": {},
   "outputs": [
    {
     "data": {
      "text/plain": [
       "Region\n",
       "Spain             132929\n",
       "US                120720\n",
       "Germany           120400\n",
       "Mainland China     77610\n",
       "Iran               73791\n",
       "Name: Recovered, dtype: int64"
      ]
     },
     "execution_count": 37,
     "metadata": {},
     "output_type": "execute_result"
    }
   ],
   "source": [
    "#region is grouped by the recoveries that occured in that region in that total, starting from the top\n",
    "\n",
    "df.groupby('Region').Recovered.sum().sort_values(ascending=False).head()"
   ]
  },
  {
   "cell_type": "markdown",
   "id": "743edef1",
   "metadata": {},
   "source": [
    "Spain had more recoveries"
   ]
  },
  {
   "cell_type": "markdown",
   "id": "ed4f0040",
   "metadata": {},
   "source": [
    "#### Q3:Which day when most people were confirmed to have the virus "
   ]
  },
  {
   "cell_type": "code",
   "execution_count": 38,
   "id": "ba312ab2",
   "metadata": {},
   "outputs": [
    {
     "data": {
      "text/plain": [
       "Day_Name\n",
       "Wednesday    3193886\n",
       "Name: Confirmed, dtype: int64"
      ]
     },
     "execution_count": 38,
     "metadata": {},
     "output_type": "execute_result"
    }
   ],
   "source": [
    "df.groupby('Day_Name').Confirmed.sum().sort_values(ascending=False).head()"
   ]
  },
  {
   "cell_type": "markdown",
   "id": "2926628e",
   "metadata": {},
   "source": [
    "the data was collected mostly for wednsdays"
   ]
  },
  {
   "cell_type": "code",
   "execution_count": 39,
   "id": "4c5efe9e",
   "metadata": {},
   "outputs": [
    {
     "data": {
      "text/html": [
       "<div>\n",
       "<style scoped>\n",
       "    .dataframe tbody tr th:only-of-type {\n",
       "        vertical-align: middle;\n",
       "    }\n",
       "\n",
       "    .dataframe tbody tr th {\n",
       "        vertical-align: top;\n",
       "    }\n",
       "\n",
       "    .dataframe thead th {\n",
       "        text-align: right;\n",
       "    }\n",
       "</style>\n",
       "<table border=\"1\" class=\"dataframe\">\n",
       "  <thead>\n",
       "    <tr style=\"text-align: right;\">\n",
       "      <th></th>\n",
       "      <th>Date</th>\n",
       "      <th>State</th>\n",
       "      <th>Region</th>\n",
       "      <th>Confirmed</th>\n",
       "      <th>Deaths</th>\n",
       "      <th>Recovered</th>\n",
       "      <th>Day_Name</th>\n",
       "      <th>Month</th>\n",
       "      <th>Year</th>\n",
       "    </tr>\n",
       "  </thead>\n",
       "  <tbody>\n",
       "    <tr>\n",
       "      <th>0</th>\n",
       "      <td>2020-04-29</td>\n",
       "      <td>NaN</td>\n",
       "      <td>Afghanistan</td>\n",
       "      <td>1939</td>\n",
       "      <td>60</td>\n",
       "      <td>252</td>\n",
       "      <td>Wednesday</td>\n",
       "      <td>Apr</td>\n",
       "      <td>2020</td>\n",
       "    </tr>\n",
       "  </tbody>\n",
       "</table>\n",
       "</div>"
      ],
      "text/plain": [
       "        Date State       Region  Confirmed  Deaths  Recovered   Day_Name  \\\n",
       "0 2020-04-29   NaN  Afghanistan       1939      60        252  Wednesday   \n",
       "\n",
       "  Month  Year  \n",
       "0   Apr  2020  "
      ]
     },
     "execution_count": 39,
     "metadata": {},
     "output_type": "execute_result"
    }
   ],
   "source": [
    "df.head(1)"
   ]
  },
  {
   "cell_type": "markdown",
   "id": "3f130804",
   "metadata": {},
   "source": [
    "#### Q4:Show the number of death, confirmed and recovered in each regions"
   ]
  },
  {
   "cell_type": "code",
   "execution_count": 40,
   "id": "d4ff533d",
   "metadata": {},
   "outputs": [
    {
     "data": {
      "text/html": [
       "<div>\n",
       "<style scoped>\n",
       "    .dataframe tbody tr th:only-of-type {\n",
       "        vertical-align: middle;\n",
       "    }\n",
       "\n",
       "    .dataframe tbody tr th {\n",
       "        vertical-align: top;\n",
       "    }\n",
       "\n",
       "    .dataframe thead th {\n",
       "        text-align: right;\n",
       "    }\n",
       "</style>\n",
       "<table border=\"1\" class=\"dataframe\">\n",
       "  <thead>\n",
       "    <tr style=\"text-align: right;\">\n",
       "      <th></th>\n",
       "      <th>Deaths</th>\n",
       "      <th>Recovered</th>\n",
       "      <th>Confirmed</th>\n",
       "    </tr>\n",
       "    <tr>\n",
       "      <th>Region</th>\n",
       "      <th></th>\n",
       "      <th></th>\n",
       "      <th></th>\n",
       "    </tr>\n",
       "  </thead>\n",
       "  <tbody>\n",
       "    <tr>\n",
       "      <th>Afghanistan</th>\n",
       "      <td>60</td>\n",
       "      <td>252</td>\n",
       "      <td>1939</td>\n",
       "    </tr>\n",
       "    <tr>\n",
       "      <th>Albania</th>\n",
       "      <td>30</td>\n",
       "      <td>455</td>\n",
       "      <td>766</td>\n",
       "    </tr>\n",
       "    <tr>\n",
       "      <th>Algeria</th>\n",
       "      <td>444</td>\n",
       "      <td>1702</td>\n",
       "      <td>3848</td>\n",
       "    </tr>\n",
       "    <tr>\n",
       "      <th>Andorra</th>\n",
       "      <td>42</td>\n",
       "      <td>423</td>\n",
       "      <td>743</td>\n",
       "    </tr>\n",
       "    <tr>\n",
       "      <th>Angola</th>\n",
       "      <td>2</td>\n",
       "      <td>7</td>\n",
       "      <td>27</td>\n",
       "    </tr>\n",
       "    <tr>\n",
       "      <th>...</th>\n",
       "      <td>...</td>\n",
       "      <td>...</td>\n",
       "      <td>...</td>\n",
       "    </tr>\n",
       "    <tr>\n",
       "      <th>West Bank and Gaza</th>\n",
       "      <td>2</td>\n",
       "      <td>71</td>\n",
       "      <td>344</td>\n",
       "    </tr>\n",
       "    <tr>\n",
       "      <th>Western Sahara</th>\n",
       "      <td>0</td>\n",
       "      <td>5</td>\n",
       "      <td>6</td>\n",
       "    </tr>\n",
       "    <tr>\n",
       "      <th>Yemen</th>\n",
       "      <td>0</td>\n",
       "      <td>1</td>\n",
       "      <td>6</td>\n",
       "    </tr>\n",
       "    <tr>\n",
       "      <th>Zambia</th>\n",
       "      <td>3</td>\n",
       "      <td>54</td>\n",
       "      <td>97</td>\n",
       "    </tr>\n",
       "    <tr>\n",
       "      <th>Zimbabwe</th>\n",
       "      <td>4</td>\n",
       "      <td>5</td>\n",
       "      <td>32</td>\n",
       "    </tr>\n",
       "  </tbody>\n",
       "</table>\n",
       "<p>187 rows × 3 columns</p>\n",
       "</div>"
      ],
      "text/plain": [
       "                    Deaths  Recovered  Confirmed\n",
       "Region                                          \n",
       "Afghanistan             60        252       1939\n",
       "Albania                 30        455        766\n",
       "Algeria                444       1702       3848\n",
       "Andorra                 42        423        743\n",
       "Angola                   2          7         27\n",
       "...                    ...        ...        ...\n",
       "West Bank and Gaza       2         71        344\n",
       "Western Sahara           0          5          6\n",
       "Yemen                    0          1          6\n",
       "Zambia                   3         54         97\n",
       "Zimbabwe                 4          5         32\n",
       "\n",
       "[187 rows x 3 columns]"
      ]
     },
     "execution_count": 40,
     "metadata": {},
     "output_type": "execute_result"
    }
   ],
   "source": [
    "#deaths, recoveries and confirmed is grouped by the region\n",
    "\n",
    "\n",
    "df.groupby('Region')[['Deaths', 'Recovered', 'Confirmed']].max()"
   ]
  },
  {
   "cell_type": "markdown",
   "id": "fd13020f",
   "metadata": {},
   "source": [
    "#### Q5:Take out the information when the recoveries were less than 30"
   ]
  },
  {
   "cell_type": "code",
   "execution_count": 41,
   "id": "52ad494d",
   "metadata": {},
   "outputs": [
    {
     "data": {
      "text/html": [
       "<div>\n",
       "<style scoped>\n",
       "    .dataframe tbody tr th:only-of-type {\n",
       "        vertical-align: middle;\n",
       "    }\n",
       "\n",
       "    .dataframe tbody tr th {\n",
       "        vertical-align: top;\n",
       "    }\n",
       "\n",
       "    .dataframe thead th {\n",
       "        text-align: right;\n",
       "    }\n",
       "</style>\n",
       "<table border=\"1\" class=\"dataframe\">\n",
       "  <thead>\n",
       "    <tr style=\"text-align: right;\">\n",
       "      <th></th>\n",
       "      <th>Date</th>\n",
       "      <th>State</th>\n",
       "      <th>Region</th>\n",
       "      <th>Confirmed</th>\n",
       "      <th>Deaths</th>\n",
       "      <th>Recovered</th>\n",
       "      <th>Day_Name</th>\n",
       "      <th>Month</th>\n",
       "      <th>Year</th>\n",
       "    </tr>\n",
       "  </thead>\n",
       "  <tbody>\n",
       "    <tr>\n",
       "      <th>4</th>\n",
       "      <td>2020-04-29</td>\n",
       "      <td>NaN</td>\n",
       "      <td>Angola</td>\n",
       "      <td>27</td>\n",
       "      <td>2</td>\n",
       "      <td>7</td>\n",
       "      <td>Wednesday</td>\n",
       "      <td>Apr</td>\n",
       "      <td>2020</td>\n",
       "    </tr>\n",
       "    <tr>\n",
       "      <th>5</th>\n",
       "      <td>2020-04-29</td>\n",
       "      <td>NaN</td>\n",
       "      <td>Antigua and Barbuda</td>\n",
       "      <td>24</td>\n",
       "      <td>3</td>\n",
       "      <td>11</td>\n",
       "      <td>Wednesday</td>\n",
       "      <td>Apr</td>\n",
       "      <td>2020</td>\n",
       "    </tr>\n",
       "    <tr>\n",
       "      <th>10</th>\n",
       "      <td>2020-04-29</td>\n",
       "      <td>NaN</td>\n",
       "      <td>Bahamas</td>\n",
       "      <td>80</td>\n",
       "      <td>11</td>\n",
       "      <td>23</td>\n",
       "      <td>Wednesday</td>\n",
       "      <td>Apr</td>\n",
       "      <td>2020</td>\n",
       "    </tr>\n",
       "    <tr>\n",
       "      <th>16</th>\n",
       "      <td>2020-04-29</td>\n",
       "      <td>NaN</td>\n",
       "      <td>Belize</td>\n",
       "      <td>18</td>\n",
       "      <td>2</td>\n",
       "      <td>9</td>\n",
       "      <td>Wednesday</td>\n",
       "      <td>Apr</td>\n",
       "      <td>2020</td>\n",
       "    </tr>\n",
       "    <tr>\n",
       "      <th>18</th>\n",
       "      <td>2020-04-29</td>\n",
       "      <td>NaN</td>\n",
       "      <td>Bhutan</td>\n",
       "      <td>7</td>\n",
       "      <td>0</td>\n",
       "      <td>5</td>\n",
       "      <td>Wednesday</td>\n",
       "      <td>Apr</td>\n",
       "      <td>2020</td>\n",
       "    </tr>\n",
       "  </tbody>\n",
       "</table>\n",
       "</div>"
      ],
      "text/plain": [
       "         Date State               Region  Confirmed  Deaths  Recovered  \\\n",
       "4  2020-04-29   NaN               Angola         27       2          7   \n",
       "5  2020-04-29   NaN  Antigua and Barbuda         24       3         11   \n",
       "10 2020-04-29   NaN              Bahamas         80      11         23   \n",
       "16 2020-04-29   NaN               Belize         18       2          9   \n",
       "18 2020-04-29   NaN               Bhutan          7       0          5   \n",
       "\n",
       "     Day_Name Month  Year  \n",
       "4   Wednesday   Apr  2020  \n",
       "5   Wednesday   Apr  2020  \n",
       "10  Wednesday   Apr  2020  \n",
       "16  Wednesday   Apr  2020  \n",
       "18  Wednesday   Apr  2020  "
      ]
     },
     "execution_count": 41,
     "metadata": {},
     "output_type": "execute_result"
    }
   ],
   "source": [
    "filt = (df['Recovered'] < 30)   #filters the dataset by less than 30\n",
    "df[filt].head()"
   ]
  },
  {
   "cell_type": "markdown",
   "id": "1f52a252",
   "metadata": {},
   "source": [
    "#### Q6:which regions confirmed the minimum number of deaths"
   ]
  },
  {
   "cell_type": "code",
   "execution_count": 42,
   "id": "bb11b239",
   "metadata": {},
   "outputs": [
    {
     "data": {
      "text/plain": [
       "Region\n",
       "Laos                0\n",
       "Rwanda              0\n",
       "Papua New Guinea    0\n",
       "Cambodia            0\n",
       "Canada              0\n",
       "Name: Deaths, dtype: int64"
      ]
     },
     "execution_count": 42,
     "metadata": {},
     "output_type": "execute_result"
    }
   ],
   "source": [
    "#gives out the min deaths per region\n",
    "df.groupby('Region')['Deaths'].min().sort_values(ascending=True).head()"
   ]
  },
  {
   "cell_type": "markdown",
   "id": "347fd721",
   "metadata": {},
   "source": [
    "some regions had zero cases"
   ]
  },
  {
   "cell_type": "markdown",
   "id": "56481509",
   "metadata": {},
   "source": [
    "#### Q7:how many cases were recorded from Zimbabwe "
   ]
  },
  {
   "cell_type": "code",
   "execution_count": 24,
   "id": "7c5717ed",
   "metadata": {},
   "outputs": [
    {
     "data": {
      "text/html": [
       "<div>\n",
       "<style scoped>\n",
       "    .dataframe tbody tr th:only-of-type {\n",
       "        vertical-align: middle;\n",
       "    }\n",
       "\n",
       "    .dataframe tbody tr th {\n",
       "        vertical-align: top;\n",
       "    }\n",
       "\n",
       "    .dataframe thead th {\n",
       "        text-align: right;\n",
       "    }\n",
       "</style>\n",
       "<table border=\"1\" class=\"dataframe\">\n",
       "  <thead>\n",
       "    <tr style=\"text-align: right;\">\n",
       "      <th></th>\n",
       "      <th>Deaths</th>\n",
       "      <th>Recovered</th>\n",
       "      <th>Confirmed</th>\n",
       "    </tr>\n",
       "  </thead>\n",
       "  <tbody>\n",
       "    <tr>\n",
       "      <th>180</th>\n",
       "      <td>4</td>\n",
       "      <td>5</td>\n",
       "      <td>32</td>\n",
       "    </tr>\n",
       "  </tbody>\n",
       "</table>\n",
       "</div>"
      ],
      "text/plain": [
       "     Deaths  Recovered  Confirmed\n",
       "180       4          5         32"
      ]
     },
     "execution_count": 24,
     "metadata": {},
     "output_type": "execute_result"
    }
   ],
   "source": [
    "filt = (df['Region']  == 'Zimbabwe')\n",
    "df[filt][['Deaths', 'Recovered', 'Confirmed']]"
   ]
  },
  {
   "cell_type": "markdown",
   "id": "f6a343b9",
   "metadata": {},
   "source": [
    "# Phase 4: Data Visualisation"
   ]
  },
  {
   "cell_type": "markdown",
   "id": "dce041d2",
   "metadata": {},
   "source": [
    "* The purpose of data visualization is to visually represent data in a way that allows people to quickly and easily understand patterns, relationships, and trends in the data. By creating visual representations of data, we can make complex information more accessible and understandable, which can lead to insights and actionable outcomes."
   ]
  },
  {
   "cell_type": "markdown",
   "id": "ae48a4b7",
   "metadata": {},
   "source": [
    "### 4.1: Top 5 region with highest deaths"
   ]
  },
  {
   "cell_type": "code",
   "execution_count": 43,
   "id": "1be7d5c9",
   "metadata": {},
   "outputs": [
    {
     "data": {
      "image/png": "[encoded data removed]",
      "text/plain": [
       "<Figure size 800x500 with 1 Axes>"
      ]
     },
     "metadata": {},
     "output_type": "display_data"
    }
   ],
   "source": [
    "\n",
    "\n",
    "\n",
    "# Group by region and sum deaths, then sort in descending order and take top 5\n",
    "top_regions = df.groupby('Region').Deaths.sum().sort_values(ascending=False).head()\n",
    "\n",
    "# Create a horizontal bar chart\n",
    "fig, ax = plt.subplots(figsize=(8, 5))\n",
    "ax.barh(top_regions.index, top_regions.values, color='blue')\n",
    "\n",
    "# Set chart title and axis labels\n",
    "ax.set_title('Top 5 regions with highest deaths')\n",
    "ax.set_xlabel('Total Deaths')\n",
    "ax.set_ylabel('Region')\n",
    "\n",
    "# Invert y-axis to show highest value on top\n",
    "ax.invert_yaxis()\n",
    "\n",
    "plt.show()\n"
   ]
  },
  {
   "cell_type": "markdown",
   "id": "1a7a2d09",
   "metadata": {},
   "source": [
    "##### * **key takeaway:** USA had highest deaths and France had the least deaths in the top 5 countriesm"
   ]
  },
  {
   "cell_type": "markdown",
   "id": "36286f43",
   "metadata": {},
   "source": [
    "### 4.2: Top 5 regions with highest recoveries"
   ]
  },
  {
   "cell_type": "code",
   "execution_count": 45,
   "id": "9bfbc493",
   "metadata": {},
   "outputs": [
    {
     "data": {
      "image/png": "[encoded data removed]",
      "text/plain": [
       "<Figure size 800x500 with 1 Axes>"
      ]
     },
     "metadata": {},
     "output_type": "display_data"
    }
   ],
   "source": [
    "\n",
    "\n",
    "# Group by region and sum recovered cases, then sort in descending order and take top 5\n",
    "top_regions = df.groupby('Region').Recovered.sum().sort_values(ascending=False).head()\n",
    "\n",
    "# Create a horizontal bar chart\n",
    "fig, ax = plt.subplots(figsize=(8, 5))\n",
    "ax.barh(top_regions.index, top_regions.values, color='green')\n",
    "\n",
    "# Set chart title and axis labels\n",
    "ax.set_title('Top 5 regions with highest recoveries')\n",
    "ax.set_xlabel('Total Recovered')\n",
    "ax.set_ylabel('Region')\n",
    "\n",
    "# Invert y-axis to show highest value on top\n",
    "ax.invert_yaxis()\n",
    "\n",
    "plt.show()\n"
   ]
  },
  {
   "cell_type": "markdown",
   "id": "4800e6a3",
   "metadata": {},
   "source": [
    "##### * **key takeaway:** Spain had more recoveries and iran had the least in the top 5 least"
   ]
  },
  {
   "cell_type": "markdown",
   "id": "801e2053",
   "metadata": {},
   "source": [
    "### 4.3: Zimbabwe covid-19 Cases"
   ]
  },
  {
   "cell_type": "code",
   "execution_count": 46,
   "id": "dd95a3eb",
   "metadata": {},
   "outputs": [
    {
     "data": {
      "image/png": "[encoded data removed]",
      "text/plain": [
       "<Figure size 800x500 with 1 Axes>"
      ]
     },
     "metadata": {},
     "output_type": "display_data"
    }
   ],
   "source": [
    "\n",
    "# Filter data for Zimbabwe\n",
    "filt = (df['Region'] == 'Zimbabwe')\n",
    "zimbabwe_data = df[filt][['Deaths', 'Recovered', 'Confirmed']]\n",
    "\n",
    "# Create a stacked horizontal bar chart\n",
    "fig, ax = plt.subplots(figsize=(8, 5))\n",
    "zimbabwe_data.plot(kind='barh', stacked=True, ax=ax)\n",
    "\n",
    "# Set chart title and axis labels\n",
    "ax.set_title('Zimbabwe COVID-19 Cases')\n",
    "ax.set_xlabel('Total Cases')\n",
    "ax.set_ylabel('Category')\n",
    "\n",
    "plt.show()\n"
   ]
  },
  {
   "cell_type": "markdown",
   "id": "42dc300f",
   "metadata": {},
   "source": [
    "##### * **key takeaway:** Zimbabwe head more confirmed cases which resulted in less deaths  and more recoveries"
   ]
  },
  {
   "cell_type": "code",
   "execution_count": null,
   "id": "11bfd36c",
   "metadata": {},
   "outputs": [],
   "source": []
  },
  {
   "cell_type": "code",
   "execution_count": 47,
   "id": "ff1f910a",
   "metadata": {},
   "outputs": [],
   "source": [
    "#saving the dataset for more vizualisation\n",
    "df.to_csv(r\"C:\\Users\\Tamie\\Downloads\\python data science projects\\datasets\\cleaned covid 19\")"
   ]
  },
  {
   "cell_type": "markdown",
   "id": "406424d9",
   "metadata": {},
   "source": [
    "#### Further data Visualization was done in powerbi: [Power data Viz link](https://app.powerbi.com/view?r=eyJrIjoiM2Q4ZTc5YmUtNDg2Yi00ZDM4LWIwNjctM2YwODIyYmM2MTE0IiwidCI6IjQ0ZGJiOWQ3LTM3N2QtNDBkZS1hZGI4LTYzNTlkYWQ4MTBiZiJ9)"
   ]
  },
  {
   "cell_type": "markdown",
   "id": "a89c5fcc",
   "metadata": {},
   "source": [
    "## Author: TamiriraIshe Nyevera\n",
    "\n",
    "## Date: 15 January 2023\n",
    "\n",
    "* #### LinkedIn profile Link: [My LinkedIn Profile](https://www.linkedin.com/in/tamiriraishe-nyevera-2b51671b5/)\n",
    "\n",
    "* #### Github link: [Github profile](https://github.com/Tamie-AI-Tech)\n",
    "\n",
    "* #### Kaggle Link: [Kaggle Profile](https://www.kaggle.com/tamiriraishenyevera)\n",
    "\n",
    "* #### PowerBI visualisation imbedded code:[Power data Viz link](https://app.powerbi.com/view?r=eyJrIjoiM2Q4ZTc5YmUtNDg2Yi00ZDM4LWIwNjctM2YwODIyYmM2MTE0IiwidCI6IjQ0ZGJiOWQ3LTM3N2QtNDBkZS1hZGI4LTYzNTlkYWQ4MTBiZiJ9)"
   ]
  },
  {
   "cell_type": "code",
   "execution_count": null,
   "id": "682319f8",
   "metadata": {},
   "outputs": [],
   "source": []
  },
  {
   "cell_type": "code",
   "execution_count": null,
   "id": "4fc6a9cc",
   "metadata": {},
   "outputs": [],
   "source": []
  }
 ],
 "metadata": {
  "kernelspec": {
   "display_name": "Python 3 (ipykernel)",
   "language": "python",
   "name": "python3"
  },
  "language_info": {
   "codemirror_mode": {
    "name": "ipython",
    "version": 3
   },
   "file_extension": ".py",
   "mimetype": "text/x-python",
   "name": "python",
   "nbconvert_exporter": "python",
   "pygments_lexer": "ipython3",
   "version": "3.9.13"
  }
 },
 "nbformat": 4,
 "nbformat_minor": 5
}
